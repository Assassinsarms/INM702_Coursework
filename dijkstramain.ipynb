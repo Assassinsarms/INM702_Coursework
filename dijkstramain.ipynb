{
 "metadata": {
  "language_info": {
   "codemirror_mode": {
    "name": "ipython",
    "version": 3
   },
   "file_extension": ".py",
   "mimetype": "text/x-python",
   "name": "python",
   "nbconvert_exporter": "python",
   "pygments_lexer": "ipython3",
   "version": "3.8.1-final"
  },
  "orig_nbformat": 2,
  "kernelspec": {
   "name": "python38164bit5b68bb558570416495530c691bd9dd00",
   "display_name": "Python 3.8.1 64-bit"
  }
 },
 "nbformat": 4,
 "nbformat_minor": 2,
 "cells": [
  {
   "cell_type": "code",
   "execution_count": 3,
   "metadata": {},
   "outputs": [],
   "source": [
    "import math\n",
    "import matplotlib.pyplot as plt\n",
    "import random\n",
    "import numpy as np\n",
    "from collections import defaultdict\n",
    "np.set_printoptions(threshold=sys.maxsize)"
   ]
  },
  {
   "cell_type": "code",
   "execution_count": 4,
   "metadata": {},
   "outputs": [],
   "source": [
    "height, width = 5, 5\n",
    "maze = np.array(np.random.randint(0, 10, size = (height, width)))"
   ]
  },
  {
   "cell_type": "code",
   "execution_count": 5,
   "metadata": {},
   "outputs": [],
   "source": [
    "end_condition = (height-1, width-1)"
   ]
  },
  {
   "cell_type": "code",
   "execution_count": 278,
   "metadata": {},
   "outputs": [],
   "source": [
    "def get_neighbours(maze, current_loc):                                        # returns a list of accessible cells to the ant\n",
    "        neighbours = []                                                                     # contains the up, down, left, right accessible nodes for the ants\n",
    "        if current_loc[0]-1 >= 0:\n",
    "            neighbours.append(maze[current_loc[0]-1][current_loc[1]])\n",
    "        else: neighbours.append(np.inf)\n",
    "        if current_loc[0]+1 <= height-1:\n",
    "            neighbours.append(maze[current_loc[0]+1][current_loc[1]])\n",
    "        else: neighbours.append(np.inf)\n",
    "        if current_loc[1]-1 >= 0:\n",
    "            neighbours.append(maze[current_loc[0]][current_loc[1]-1])\n",
    "        else: neighbours.append(np.inf)\n",
    "        if current_loc[1]+1 <= width-1:\n",
    "            neighbours.append(maze[current_loc[0]][current_loc[1]+1])\n",
    "        else: neighbours.append(np.inf)\n",
    "        return neighbours"
   ]
  },
  {
   "cell_type": "code",
   "execution_count": 6,
   "metadata": {},
   "outputs": [],
   "source": [
    "def get_neighbours_coords(maze, current_loc):                                       # returns a list of accessible cells to the ant, inaccessible ones are replaced with 'Not Possible'\n",
    "        neighbours_coords = []                                                              # contains the up, down, left, right accessible nodes for the ants\n",
    "        if current_loc[0]-1 >= 0:\n",
    "            neighbours_coords.append((current_loc[0]-1, current_loc[1]))\n",
    "        else: neighbours_coords.append('Not Possible')\n",
    "        if current_loc[0]+1 <= height-1:\n",
    "            neighbours_coords.append((current_loc[0]+1, current_loc[1]))\n",
    "        else: neighbours_coords.append('Not Possible')\n",
    "        if current_loc[1]-1 >= 0:\n",
    "            neighbours_coords.append((current_loc[0], current_loc[1]-1))\n",
    "        else: neighbours_coords.append('Not Possible')\n",
    "        if current_loc[1]+1 <= width-1:\n",
    "            neighbours_coords.append((current_loc[0], current_loc[1]+1))\n",
    "        else: neighbours_coords.append('Not Possible')\n",
    "        return neighbours_coords"
   ]
  },
  {
   "cell_type": "code",
   "execution_count": 280,
   "metadata": {},
   "outputs": [],
   "source": [
    "def move(neighbours, neighbours_coords):\n",
    "    choice_ind = neighbours.index(min(neighbours))\n",
    "    new_loc = neighbours_coords[choice_ind]\n",
    "    return choice_ind, new_loc"
   ]
  },
  {
   "cell_type": "code",
   "execution_count": 35,
   "metadata": {},
   "outputs": [],
   "source": [
    "choice_ind, current_loc = move(neighbours, neighbours_coords)"
   ]
  },
  {
   "cell_type": "code",
   "execution_count": 36,
   "metadata": {},
   "outputs": [
    {
     "output_type": "execute_result",
     "data": {
      "text/plain": [
       "[0, 1]"
      ]
     },
     "metadata": {},
     "execution_count": 36
    }
   ],
   "source": [
    "current_loc"
   ]
  },
  {
   "source": [
    "distances[i] = neighbours[choice_ind]\n",
    "nodes[i] = neighbours_coords[choice_ind]"
   ],
   "cell_type": "code",
   "metadata": {},
   "execution_count": null,
   "outputs": []
  },
  {
   "source": [
    "HAS TO LOOK AT THE GRID AS A WHOLE AND FIND THE PATH BEFORE TAKING IT\n",
    "Can convert the maze to a graph using dictionary\n",
    "Alternatively, each cell in the grid can represents a vertex and neighbor cells adjacent vertices. Thus, not making an explicit graph from these cells instead using the grid as it is in my dijkstra’s algorithm. \n",
    "Will also outline the finishing point and state that the agent shouldn't go to cells it has already visited by using a boolean version of the maze where if a cell has been visited it will show true\n"
   ],
   "cell_type": "markdown",
   "metadata": {}
  },
  {
   "cell_type": "code",
   "execution_count": 18,
   "metadata": {},
   "outputs": [],
   "source": [
    "def isInsideGrid(i, j): \n",
    "    return (i >= 0 and i < height and j >= 0 and j < width)  "
   ]
  },
  {
   "cell_type": "code",
   "execution_count": 11,
   "metadata": {},
   "outputs": [],
   "source": [
    "nodes = {}\n",
    "def graph_maze(maze):\n",
    "    for i in range(height):\n",
    "        for j in range(width):\n",
    "            #print(maze[i][j], i, j)\n",
    "            nodes[(i,j)] = get_neighbours_coords(maze, [i,j])\n",
    "    print(nodes)\n",
    "    return nodes\n",
    "            # we want to get a dictionary with the keys as the current i, j and the values as the neighbours of i, j\n",
    "    #print(nodes)\n",
    "   "
   ]
  },
  {
   "cell_type": "code",
   "execution_count": 12,
   "metadata": {},
   "outputs": [
    {
     "output_type": "stream",
     "name": "stdout",
     "text": [
      "{(0, 0): ['Not Possible', (1, 0), 'Not Possible', (0, 1)], (0, 1): ['Not Possible', (1, 1), (0, 0), (0, 2)], (0, 2): ['Not Possible', (1, 2), (0, 1), (0, 3)], (0, 3): ['Not Possible', (1, 3), (0, 2), (0, 4)], (0, 4): ['Not Possible', (1, 4), (0, 3), 'Not Possible'], (1, 0): [(0, 0), (2, 0), 'Not Possible', (1, 1)], (1, 1): [(0, 1), (2, 1), (1, 0), (1, 2)], (1, 2): [(0, 2), (2, 2), (1, 1), (1, 3)], (1, 3): [(0, 3), (2, 3), (1, 2), (1, 4)], (1, 4): [(0, 4), (2, 4), (1, 3), 'Not Possible'], (2, 0): [(1, 0), (3, 0), 'Not Possible', (2, 1)], (2, 1): [(1, 1), (3, 1), (2, 0), (2, 2)], (2, 2): [(1, 2), (3, 2), (2, 1), (2, 3)], (2, 3): [(1, 3), (3, 3), (2, 2), (2, 4)], (2, 4): [(1, 4), (3, 4), (2, 3), 'Not Possible'], (3, 0): [(2, 0), (4, 0), 'Not Possible', (3, 1)], (3, 1): [(2, 1), (4, 1), (3, 0), (3, 2)], (3, 2): [(2, 2), (4, 2), (3, 1), (3, 3)], (3, 3): [(2, 3), (4, 3), (3, 2), (3, 4)], (3, 4): [(2, 4), (4, 4), (3, 3), 'Not Possible'], (4, 0): [(3, 0), 'Not Possible', 'Not Possible', (4, 1)], (4, 1): [(3, 1), 'Not Possible', (4, 0), (4, 2)], (4, 2): [(3, 2), 'Not Possible', (4, 1), (4, 3)], (4, 3): [(3, 3), 'Not Possible', (4, 2), (4, 4)], (4, 4): [(3, 4), 'Not Possible', (4, 3), 'Not Possible']}\n"
     ]
    }
   ],
   "source": [
    "nodes = graph_maze(maze)"
   ]
  },
  {
   "cell_type": "code",
   "execution_count": 305,
   "metadata": {},
   "outputs": [
    {
     "output_type": "execute_result",
     "data": {
      "text/plain": [
       "0"
      ]
     },
     "metadata": {},
     "execution_count": 305
    }
   ],
   "source": [
    "maze[nodes[(0,0)][1][0], nodes[(0,0)][1][1]]"
   ]
  },
  {
   "cell_type": "code",
   "execution_count": 306,
   "metadata": {},
   "outputs": [
    {
     "output_type": "execute_result",
     "data": {
      "text/plain": [
       "7"
      ]
     },
     "metadata": {},
     "execution_count": 306
    }
   ],
   "source": [
    "maze[nodes[(0,0)][3][0], nodes[(0,0)][3][1]]"
   ]
  },
  {
   "cell_type": "code",
   "execution_count": 10,
   "metadata": {},
   "outputs": [],
   "source": [
    "distances = {}\n",
    "def distance_graph_maze(maze):\n",
    "    for i in range(height):\n",
    "        for j in range(width):\n",
    "            distances[(i,j)] = get_neighbours(maze, [i,j])\n",
    "    print(distances)\n",
    "    return distances"
   ]
  },
  {
   "cell_type": "code",
   "execution_count": 9,
   "metadata": {},
   "outputs": [
    {
     "output_type": "error",
     "ename": "NameError",
     "evalue": "name 'distance_graph_maze' is not defined",
     "traceback": [
      "\u001b[1;31m---------------------------------------------------------------------------\u001b[0m",
      "\u001b[1;31mNameError\u001b[0m                                 Traceback (most recent call last)",
      "\u001b[1;32m<ipython-input-9-d4210cb03952>\u001b[0m in \u001b[0;36m<module>\u001b[1;34m\u001b[0m\n\u001b[1;32m----> 1\u001b[1;33m \u001b[0mdistances\u001b[0m \u001b[1;33m=\u001b[0m \u001b[0mdistance_graph_maze\u001b[0m\u001b[1;33m(\u001b[0m\u001b[0mmaze\u001b[0m\u001b[1;33m)\u001b[0m\u001b[1;33m\u001b[0m\u001b[1;33m\u001b[0m\u001b[0m\n\u001b[0m",
      "\u001b[1;31mNameError\u001b[0m: name 'distance_graph_maze' is not defined"
     ]
    }
   ],
   "source": [
    "distances = distance_graph_maze(maze)"
   ]
  },
  {
   "cell_type": "code",
   "execution_count": 13,
   "metadata": {},
   "outputs": [],
   "source": [
    "nodes_distances = {}\n",
    "def nodes_distances_graph_maze(maze):\n",
    "    for i in range(height):\n",
    "        for j in range(width):\n",
    "            nodes_distances[(i,j)] = maze[i][j]\n",
    "    print(nodes_distances)\n",
    "    return nodes_distances"
   ]
  },
  {
   "cell_type": "code",
   "execution_count": 14,
   "metadata": {},
   "outputs": [
    {
     "output_type": "stream",
     "name": "stdout",
     "text": [
      "{(0, 0): 5, (0, 1): 4, (0, 2): 2, (0, 3): 3, (0, 4): 0, (1, 0): 3, (1, 1): 3, (1, 2): 5, (1, 3): 7, (1, 4): 7, (2, 0): 7, (2, 1): 2, (2, 2): 9, (2, 3): 1, (2, 4): 5, (3, 0): 8, (3, 1): 7, (3, 2): 1, (3, 3): 2, (3, 4): 6, (4, 0): 1, (4, 1): 0, (4, 2): 2, (4, 3): 2, (4, 4): 2}\n"
     ]
    }
   ],
   "source": [
    "nodes_distances = nodes_distances_graph_maze(maze)"
   ]
  },
  {
   "cell_type": "code",
   "execution_count": 15,
   "metadata": {},
   "outputs": [
    {
     "output_type": "execute_result",
     "data": {
      "text/plain": [
       "{(0, 0): ['Not Possible', (1, 0), 'Not Possible', (0, 1)],\n",
       " (0, 1): ['Not Possible', (1, 1), (0, 0), (0, 2)],\n",
       " (0, 2): ['Not Possible', (1, 2), (0, 1), (0, 3)],\n",
       " (0, 3): ['Not Possible', (1, 3), (0, 2), (0, 4)],\n",
       " (0, 4): ['Not Possible', (1, 4), (0, 3), 'Not Possible'],\n",
       " (1, 0): [(0, 0), (2, 0), 'Not Possible', (1, 1)],\n",
       " (1, 1): [(0, 1), (2, 1), (1, 0), (1, 2)],\n",
       " (1, 2): [(0, 2), (2, 2), (1, 1), (1, 3)],\n",
       " (1, 3): [(0, 3), (2, 3), (1, 2), (1, 4)],\n",
       " (1, 4): [(0, 4), (2, 4), (1, 3), 'Not Possible'],\n",
       " (2, 0): [(1, 0), (3, 0), 'Not Possible', (2, 1)],\n",
       " (2, 1): [(1, 1), (3, 1), (2, 0), (2, 2)],\n",
       " (2, 2): [(1, 2), (3, 2), (2, 1), (2, 3)],\n",
       " (2, 3): [(1, 3), (3, 3), (2, 2), (2, 4)],\n",
       " (2, 4): [(1, 4), (3, 4), (2, 3), 'Not Possible'],\n",
       " (3, 0): [(2, 0), (4, 0), 'Not Possible', (3, 1)],\n",
       " (3, 1): [(2, 1), (4, 1), (3, 0), (3, 2)],\n",
       " (3, 2): [(2, 2), (4, 2), (3, 1), (3, 3)],\n",
       " (3, 3): [(2, 3), (4, 3), (3, 2), (3, 4)],\n",
       " (3, 4): [(2, 4), (4, 4), (3, 3), 'Not Possible'],\n",
       " (4, 0): [(3, 0), 'Not Possible', 'Not Possible', (4, 1)],\n",
       " (4, 1): [(3, 1), 'Not Possible', (4, 0), (4, 2)],\n",
       " (4, 2): [(3, 2), 'Not Possible', (4, 1), (4, 3)],\n",
       " (4, 3): [(3, 3), 'Not Possible', (4, 2), (4, 4)],\n",
       " (4, 4): [(3, 4), 'Not Possible', (4, 3), 'Not Possible']}"
      ]
     },
     "metadata": {},
     "execution_count": 15
    }
   ],
   "source": [
    "nodes"
   ]
  },
  {
   "cell_type": "code",
   "execution_count": 17,
   "metadata": {},
   "outputs": [
    {
     "output_type": "execute_result",
     "data": {
      "text/plain": [
       "{(0, 0): 5,\n",
       " (0, 1): 4,\n",
       " (0, 2): 2,\n",
       " (0, 3): 3,\n",
       " (0, 4): 0,\n",
       " (1, 0): 3,\n",
       " (1, 1): 3,\n",
       " (1, 2): 5,\n",
       " (1, 3): 7,\n",
       " (1, 4): 7,\n",
       " (2, 0): 7,\n",
       " (2, 1): 2,\n",
       " (2, 2): 9,\n",
       " (2, 3): 1,\n",
       " (2, 4): 5,\n",
       " (3, 0): 8,\n",
       " (3, 1): 7,\n",
       " (3, 2): 1,\n",
       " (3, 3): 2,\n",
       " (3, 4): 6,\n",
       " (4, 0): 1,\n",
       " (4, 1): 0,\n",
       " (4, 2): 2,\n",
       " (4, 3): 2,\n",
       " (4, 4): 2}"
      ]
     },
     "metadata": {},
     "execution_count": 17
    }
   ],
   "source": [
    "nodes_distances"
   ]
  },
  {
   "cell_type": "code",
   "execution_count": 314,
   "metadata": {},
   "outputs": [
    {
     "output_type": "execute_result",
     "data": {
      "text/plain": [
       "(1, 0)"
      ]
     },
     "metadata": {},
     "execution_count": 314
    }
   ],
   "source": [
    "nodes[(0,0)][1]"
   ]
  },
  {
   "cell_type": "code",
   "execution_count": 18,
   "metadata": {},
   "outputs": [
    {
     "output_type": "execute_result",
     "data": {
      "text/plain": [
       "array([[5, 4, 2, 3, 0],\n",
       "       [3, 3, 5, 7, 7],\n",
       "       [7, 2, 9, 1, 5],\n",
       "       [8, 7, 1, 2, 6],\n",
       "       [1, 0, 2, 2, 2]])"
      ]
     },
     "metadata": {},
     "execution_count": 18
    }
   ],
   "source": [
    "maze"
   ]
  },
  {
   "cell_type": "code",
   "execution_count": 19,
   "metadata": {},
   "outputs": [],
   "source": [
    "def graph(nodes, distances, nodes_distances):\n",
    "    graph = {}\n",
    "    child_nodes = {}\n",
    "    for node in nodes:                  #0,0\n",
    "        for i in nodes[node]:           #['Not Possible', (1, 0), 'Not Possible', (0, 1)],\n",
    "            if isinstance(i, tuple):\n",
    "                child_nodes[i] = nodes_distances[i]               \n",
    "                #print(child_node)\n",
    "        graph[node] = child_nodes\n",
    "        child_nodes = {}\n",
    "    return graph     "
   ]
  },
  {
   "cell_type": "code",
   "execution_count": 20,
   "metadata": {},
   "outputs": [],
   "source": [
    "graph = graph(nodes, distances, nodes_distances)"
   ]
  },
  {
   "cell_type": "code",
   "execution_count": 21,
   "metadata": {},
   "outputs": [
    {
     "output_type": "execute_result",
     "data": {
      "text/plain": [
       "{(0, 0): {(1, 0): 3, (0, 1): 4},\n",
       " (0, 1): {(1, 1): 3, (0, 0): 5, (0, 2): 2},\n",
       " (0, 2): {(1, 2): 5, (0, 1): 4, (0, 3): 3},\n",
       " (0, 3): {(1, 3): 7, (0, 2): 2, (0, 4): 0},\n",
       " (0, 4): {(1, 4): 7, (0, 3): 3},\n",
       " (1, 0): {(0, 0): 5, (2, 0): 7, (1, 1): 3},\n",
       " (1, 1): {(0, 1): 4, (2, 1): 2, (1, 0): 3, (1, 2): 5},\n",
       " (1, 2): {(0, 2): 2, (2, 2): 9, (1, 1): 3, (1, 3): 7},\n",
       " (1, 3): {(0, 3): 3, (2, 3): 1, (1, 2): 5, (1, 4): 7},\n",
       " (1, 4): {(0, 4): 0, (2, 4): 5, (1, 3): 7},\n",
       " (2, 0): {(1, 0): 3, (3, 0): 8, (2, 1): 2},\n",
       " (2, 1): {(1, 1): 3, (3, 1): 7, (2, 0): 7, (2, 2): 9},\n",
       " (2, 2): {(1, 2): 5, (3, 2): 1, (2, 1): 2, (2, 3): 1},\n",
       " (2, 3): {(1, 3): 7, (3, 3): 2, (2, 2): 9, (2, 4): 5},\n",
       " (2, 4): {(1, 4): 7, (3, 4): 6, (2, 3): 1},\n",
       " (3, 0): {(2, 0): 7, (4, 0): 1, (3, 1): 7},\n",
       " (3, 1): {(2, 1): 2, (4, 1): 0, (3, 0): 8, (3, 2): 1},\n",
       " (3, 2): {(2, 2): 9, (4, 2): 2, (3, 1): 7, (3, 3): 2},\n",
       " (3, 3): {(2, 3): 1, (4, 3): 2, (3, 2): 1, (3, 4): 6},\n",
       " (3, 4): {(2, 4): 5, (4, 4): 2, (3, 3): 2},\n",
       " (4, 0): {(3, 0): 8, (4, 1): 0},\n",
       " (4, 1): {(3, 1): 7, (4, 0): 1, (4, 2): 2},\n",
       " (4, 2): {(3, 2): 1, (4, 1): 0, (4, 3): 2},\n",
       " (4, 3): {(3, 3): 2, (4, 2): 2, (4, 4): 2},\n",
       " (4, 4): {(3, 4): 6, (4, 3): 2}}"
      ]
     },
     "metadata": {},
     "execution_count": 21
    }
   ],
   "source": [
    "graph"
   ]
  },
  {
   "source": [
    "maze"
   ],
   "cell_type": "code",
   "metadata": {},
   "execution_count": 320,
   "outputs": [
    {
     "output_type": "execute_result",
     "data": {
      "text/plain": [
       "array([[7, 7, 3, 0, 1],\n",
       "       [0, 3, 7, 5, 9],\n",
       "       [5, 8, 5, 5, 7],\n",
       "       [9, 0, 8, 8, 2],\n",
       "       [8, 9, 4, 7, 1]])"
      ]
     },
     "metadata": {},
     "execution_count": 320
    }
   ]
  },
  {
   "cell_type": "code",
   "execution_count": 321,
   "metadata": {},
   "outputs": [],
   "source": [
    "def dijkstra(graph, start, goal, nodes_distances):\n",
    "    shortest_distance = {}\n",
    "    predecessor = {}\n",
    "    unseenNodes = graph\n",
    "    infinity = np.inf\n",
    "    path = []\n",
    "    for node in unseenNodes:\n",
    "        shortest_distance[node] = infinity\n",
    "    shortest_distance[start] = nodes_distances[start]\n",
    "    #print(shortest_distance)\n",
    "    while unseenNodes:\n",
    "        min_time_node = None\n",
    "        for node in unseenNodes:\n",
    "            if min_time_node is None:\n",
    "                min_time_node = node\n",
    "            elif shortest_distance[node] < shortest_distance[min_time_node]:\n",
    "                min_time_node = node\n",
    " \n",
    "        for childNode, weight in graph[min_time_node].items():\n",
    "            if weight + shortest_distance[min_time_node] < shortest_distance[childNode]:\n",
    "                shortest_distance[childNode] = weight + shortest_distance[min_time_node]\n",
    "                predecessor[childNode] = min_time_node\n",
    "        unseenNodes.pop(min_time_node)\n",
    " \n",
    "    currentNode = goal\n",
    "    while currentNode != start:\n",
    "        try:\n",
    "            path.insert(0,currentNode)\n",
    "            currentNode = predecessor[currentNode]\n",
    "        except KeyError:\n",
    "            print('Path not reachable')\n",
    "            break\n",
    "    path.insert(0,start)\n",
    "    if shortest_distance[goal] != infinity:\n",
    "        print('Shortest distance is ' + str(shortest_distance[goal]))\n",
    "        print('And the path is ' + str(path))\n",
    "        return path"
   ]
  },
  {
   "cell_type": "code",
   "execution_count": 322,
   "metadata": {},
   "outputs": [
    {
     "output_type": "stream",
     "name": "stdout",
     "text": [
      "Shortest distance is 37\nAnd the path is [(0, 0), (0, 1), (0, 2), (0, 3), (0, 4), (1, 4), (2, 4), (3, 4), (4, 4)]\nPath not reachable\n"
     ]
    },
    {
     "output_type": "error",
     "ename": "KeyError",
     "evalue": "(4, 4)",
     "traceback": [
      "\u001b[1;31m---------------------------------------------------------------------------\u001b[0m",
      "\u001b[1;31mKeyError\u001b[0m                                  Traceback (most recent call last)",
      "\u001b[1;32m<ipython-input-322-78d986360954>\u001b[0m in \u001b[0;36m<module>\u001b[1;34m\u001b[0m\n\u001b[1;32m----> 1\u001b[1;33m \u001b[0mget_ipython\u001b[0m\u001b[1;33m(\u001b[0m\u001b[1;33m)\u001b[0m\u001b[1;33m.\u001b[0m\u001b[0mrun_line_magic\u001b[0m\u001b[1;33m(\u001b[0m\u001b[1;34m'timeit'\u001b[0m\u001b[1;33m,\u001b[0m \u001b[1;34m'dijkstra(graph, (0, 0), end_condition, nodes_distances)'\u001b[0m\u001b[1;33m)\u001b[0m\u001b[1;33m\u001b[0m\u001b[1;33m\u001b[0m\u001b[0m\n\u001b[0m",
      "\u001b[1;32m~\\AppData\\Roaming\\Python\\Python38\\site-packages\\IPython\\core\\interactiveshell.py\u001b[0m in \u001b[0;36mrun_line_magic\u001b[1;34m(self, magic_name, line, _stack_depth)\u001b[0m\n\u001b[0;32m   2315\u001b[0m                 \u001b[0mkwargs\u001b[0m\u001b[1;33m[\u001b[0m\u001b[1;34m'local_ns'\u001b[0m\u001b[1;33m]\u001b[0m \u001b[1;33m=\u001b[0m \u001b[0msys\u001b[0m\u001b[1;33m.\u001b[0m\u001b[0m_getframe\u001b[0m\u001b[1;33m(\u001b[0m\u001b[0mstack_depth\u001b[0m\u001b[1;33m)\u001b[0m\u001b[1;33m.\u001b[0m\u001b[0mf_locals\u001b[0m\u001b[1;33m\u001b[0m\u001b[1;33m\u001b[0m\u001b[0m\n\u001b[0;32m   2316\u001b[0m             \u001b[1;32mwith\u001b[0m \u001b[0mself\u001b[0m\u001b[1;33m.\u001b[0m\u001b[0mbuiltin_trap\u001b[0m\u001b[1;33m:\u001b[0m\u001b[1;33m\u001b[0m\u001b[1;33m\u001b[0m\u001b[0m\n\u001b[1;32m-> 2317\u001b[1;33m                 \u001b[0mresult\u001b[0m \u001b[1;33m=\u001b[0m \u001b[0mfn\u001b[0m\u001b[1;33m(\u001b[0m\u001b[1;33m*\u001b[0m\u001b[0margs\u001b[0m\u001b[1;33m,\u001b[0m \u001b[1;33m**\u001b[0m\u001b[0mkwargs\u001b[0m\u001b[1;33m)\u001b[0m\u001b[1;33m\u001b[0m\u001b[1;33m\u001b[0m\u001b[0m\n\u001b[0m\u001b[0;32m   2318\u001b[0m             \u001b[1;32mreturn\u001b[0m \u001b[0mresult\u001b[0m\u001b[1;33m\u001b[0m\u001b[1;33m\u001b[0m\u001b[0m\n\u001b[0;32m   2319\u001b[0m \u001b[1;33m\u001b[0m\u001b[0m\n",
      "\u001b[1;32m<decorator-gen-61>\u001b[0m in \u001b[0;36mtimeit\u001b[1;34m(self, line, cell, local_ns)\u001b[0m\n",
      "\u001b[1;32m~\\AppData\\Roaming\\Python\\Python38\\site-packages\\IPython\\core\\magic.py\u001b[0m in \u001b[0;36m<lambda>\u001b[1;34m(f, *a, **k)\u001b[0m\n\u001b[0;32m    185\u001b[0m     \u001b[1;31m# but it's overkill for just that one bit of state.\u001b[0m\u001b[1;33m\u001b[0m\u001b[1;33m\u001b[0m\u001b[1;33m\u001b[0m\u001b[0m\n\u001b[0;32m    186\u001b[0m     \u001b[1;32mdef\u001b[0m \u001b[0mmagic_deco\u001b[0m\u001b[1;33m(\u001b[0m\u001b[0marg\u001b[0m\u001b[1;33m)\u001b[0m\u001b[1;33m:\u001b[0m\u001b[1;33m\u001b[0m\u001b[1;33m\u001b[0m\u001b[0m\n\u001b[1;32m--> 187\u001b[1;33m         \u001b[0mcall\u001b[0m \u001b[1;33m=\u001b[0m \u001b[1;32mlambda\u001b[0m \u001b[0mf\u001b[0m\u001b[1;33m,\u001b[0m \u001b[1;33m*\u001b[0m\u001b[0ma\u001b[0m\u001b[1;33m,\u001b[0m \u001b[1;33m**\u001b[0m\u001b[0mk\u001b[0m\u001b[1;33m:\u001b[0m \u001b[0mf\u001b[0m\u001b[1;33m(\u001b[0m\u001b[1;33m*\u001b[0m\u001b[0ma\u001b[0m\u001b[1;33m,\u001b[0m \u001b[1;33m**\u001b[0m\u001b[0mk\u001b[0m\u001b[1;33m)\u001b[0m\u001b[1;33m\u001b[0m\u001b[1;33m\u001b[0m\u001b[0m\n\u001b[0m\u001b[0;32m    188\u001b[0m \u001b[1;33m\u001b[0m\u001b[0m\n\u001b[0;32m    189\u001b[0m         \u001b[1;32mif\u001b[0m \u001b[0mcallable\u001b[0m\u001b[1;33m(\u001b[0m\u001b[0marg\u001b[0m\u001b[1;33m)\u001b[0m\u001b[1;33m:\u001b[0m\u001b[1;33m\u001b[0m\u001b[1;33m\u001b[0m\u001b[0m\n",
      "\u001b[1;32m~\\AppData\\Roaming\\Python\\Python38\\site-packages\\IPython\\core\\magics\\execution.py\u001b[0m in \u001b[0;36mtimeit\u001b[1;34m(self, line, cell, local_ns)\u001b[0m\n\u001b[0;32m   1158\u001b[0m             \u001b[1;32mfor\u001b[0m \u001b[0mindex\u001b[0m \u001b[1;32min\u001b[0m \u001b[0mrange\u001b[0m\u001b[1;33m(\u001b[0m\u001b[1;36m0\u001b[0m\u001b[1;33m,\u001b[0m \u001b[1;36m10\u001b[0m\u001b[1;33m)\u001b[0m\u001b[1;33m:\u001b[0m\u001b[1;33m\u001b[0m\u001b[1;33m\u001b[0m\u001b[0m\n\u001b[0;32m   1159\u001b[0m                 \u001b[0mnumber\u001b[0m \u001b[1;33m=\u001b[0m \u001b[1;36m10\u001b[0m \u001b[1;33m**\u001b[0m \u001b[0mindex\u001b[0m\u001b[1;33m\u001b[0m\u001b[1;33m\u001b[0m\u001b[0m\n\u001b[1;32m-> 1160\u001b[1;33m                 \u001b[0mtime_number\u001b[0m \u001b[1;33m=\u001b[0m \u001b[0mtimer\u001b[0m\u001b[1;33m.\u001b[0m\u001b[0mtimeit\u001b[0m\u001b[1;33m(\u001b[0m\u001b[0mnumber\u001b[0m\u001b[1;33m)\u001b[0m\u001b[1;33m\u001b[0m\u001b[1;33m\u001b[0m\u001b[0m\n\u001b[0m\u001b[0;32m   1161\u001b[0m                 \u001b[1;32mif\u001b[0m \u001b[0mtime_number\u001b[0m \u001b[1;33m>=\u001b[0m \u001b[1;36m0.2\u001b[0m\u001b[1;33m:\u001b[0m\u001b[1;33m\u001b[0m\u001b[1;33m\u001b[0m\u001b[0m\n\u001b[0;32m   1162\u001b[0m                     \u001b[1;32mbreak\u001b[0m\u001b[1;33m\u001b[0m\u001b[1;33m\u001b[0m\u001b[0m\n",
      "\u001b[1;32m~\\AppData\\Roaming\\Python\\Python38\\site-packages\\IPython\\core\\magics\\execution.py\u001b[0m in \u001b[0;36mtimeit\u001b[1;34m(self, number)\u001b[0m\n\u001b[0;32m    167\u001b[0m         \u001b[0mgc\u001b[0m\u001b[1;33m.\u001b[0m\u001b[0mdisable\u001b[0m\u001b[1;33m(\u001b[0m\u001b[1;33m)\u001b[0m\u001b[1;33m\u001b[0m\u001b[1;33m\u001b[0m\u001b[0m\n\u001b[0;32m    168\u001b[0m         \u001b[1;32mtry\u001b[0m\u001b[1;33m:\u001b[0m\u001b[1;33m\u001b[0m\u001b[1;33m\u001b[0m\u001b[0m\n\u001b[1;32m--> 169\u001b[1;33m             \u001b[0mtiming\u001b[0m \u001b[1;33m=\u001b[0m \u001b[0mself\u001b[0m\u001b[1;33m.\u001b[0m\u001b[0minner\u001b[0m\u001b[1;33m(\u001b[0m\u001b[0mit\u001b[0m\u001b[1;33m,\u001b[0m \u001b[0mself\u001b[0m\u001b[1;33m.\u001b[0m\u001b[0mtimer\u001b[0m\u001b[1;33m)\u001b[0m\u001b[1;33m\u001b[0m\u001b[1;33m\u001b[0m\u001b[0m\n\u001b[0m\u001b[0;32m    170\u001b[0m         \u001b[1;32mfinally\u001b[0m\u001b[1;33m:\u001b[0m\u001b[1;33m\u001b[0m\u001b[1;33m\u001b[0m\u001b[0m\n\u001b[0;32m    171\u001b[0m             \u001b[1;32mif\u001b[0m \u001b[0mgcold\u001b[0m\u001b[1;33m:\u001b[0m\u001b[1;33m\u001b[0m\u001b[1;33m\u001b[0m\u001b[0m\n",
      "\u001b[1;32m<magic-timeit>\u001b[0m in \u001b[0;36minner\u001b[1;34m(_it, _timer)\u001b[0m\n",
      "\u001b[1;32m<ipython-input-321-456b27643ea8>\u001b[0m in \u001b[0;36mdijkstra\u001b[1;34m(graph, start, goal, nodes_distances)\u001b[0m\n\u001b[0;32m     32\u001b[0m             \u001b[1;32mbreak\u001b[0m\u001b[1;33m\u001b[0m\u001b[1;33m\u001b[0m\u001b[0m\n\u001b[0;32m     33\u001b[0m     \u001b[0mpath\u001b[0m\u001b[1;33m.\u001b[0m\u001b[0minsert\u001b[0m\u001b[1;33m(\u001b[0m\u001b[1;36m0\u001b[0m\u001b[1;33m,\u001b[0m\u001b[0mstart\u001b[0m\u001b[1;33m)\u001b[0m\u001b[1;33m\u001b[0m\u001b[1;33m\u001b[0m\u001b[0m\n\u001b[1;32m---> 34\u001b[1;33m     \u001b[1;32mif\u001b[0m \u001b[0mshortest_distance\u001b[0m\u001b[1;33m[\u001b[0m\u001b[0mgoal\u001b[0m\u001b[1;33m]\u001b[0m \u001b[1;33m!=\u001b[0m \u001b[0minfinity\u001b[0m\u001b[1;33m:\u001b[0m\u001b[1;33m\u001b[0m\u001b[1;33m\u001b[0m\u001b[0m\n\u001b[0m\u001b[0;32m     35\u001b[0m         \u001b[0mprint\u001b[0m\u001b[1;33m(\u001b[0m\u001b[1;34m'Shortest distance is '\u001b[0m \u001b[1;33m+\u001b[0m \u001b[0mstr\u001b[0m\u001b[1;33m(\u001b[0m\u001b[0mshortest_distance\u001b[0m\u001b[1;33m[\u001b[0m\u001b[0mgoal\u001b[0m\u001b[1;33m]\u001b[0m\u001b[1;33m)\u001b[0m\u001b[1;33m)\u001b[0m\u001b[1;33m\u001b[0m\u001b[1;33m\u001b[0m\u001b[0m\n\u001b[0;32m     36\u001b[0m         \u001b[0mprint\u001b[0m\u001b[1;33m(\u001b[0m\u001b[1;34m'And the path is '\u001b[0m \u001b[1;33m+\u001b[0m \u001b[0mstr\u001b[0m\u001b[1;33m(\u001b[0m\u001b[0mpath\u001b[0m\u001b[1;33m)\u001b[0m\u001b[1;33m)\u001b[0m\u001b[1;33m\u001b[0m\u001b[1;33m\u001b[0m\u001b[0m\n",
      "\u001b[1;31mKeyError\u001b[0m: (4, 4)"
     ]
    }
   ],
   "source": [
    "dijkstra(graph, (0, 0), end_condition, nodes_distances)"
   ]
  },
  {
   "cell_type": "code",
   "execution_count": 53,
   "metadata": {},
   "outputs": [],
   "source": [
    "def dijkstra(nodes, nodes_distances, distances, start, end_condition):\n",
    "    shortest_distance = {}\n",
    "    track_previous_nodes = {}\n",
    "    infinity = np.inf\n",
    "    compare_possible_edges = [infinity, infinity, infinity, infinity]                           # used to compare the possible edges from a node - they're all infinity because lowest will be picked\n",
    "    unseenNodes = nodes                                                                         # used to iterate through the nodes\n",
    "    path = []                                                                                   # used to trace the path traversed from start node\n",
    "    path.append(start)\n",
    "    for node in unseenNodes:\n",
    "        shortest_distance[node] = np.inf\n",
    "    shortest_distance[start] = nodes_distances[start]                   #{(0, 0): 6, (0, 1): inf, (0, 2): inf, (1, 0): inf, (1, 1): inf, (1, 2): inf, (2, 0): inf, (2, 1): inf, (2, 2): inf}\n",
    "    \n",
    "    #while unseenNodes:                                                                          # runs until all nodes in unseenNodes is empty\n",
    "        #min_distance_node = None\n",
    "    #for node in unseenNodes:                                                                     # iterates through each node\n",
    "        #if min_distance_node is None:\n",
    "        #    min_distance_node = node\n",
    "        #elif shortest_distance[node] < shortest_distance[min_distance_node]:\n",
    "        #     min_distance_node = node\n",
    "        print(node)\n",
    "        for i in unseenNodes[node]:                                                             #['Not Possible', (1, 0), 'Not Possible', (0, 1)] for first iter                          \n",
    "            if i in path:\n",
    "                continue\n",
    "            if isinstance(i, tuple):\n",
    "                compare_possible_edges = distances[node]\n",
    "        print(compare_possible_edges)\n",
    "        index_of_choice_edge = compare_possible_edges.index(min(compare_possible_edges))\n",
    "        print(index_of_choice_edge)\n",
    "        choice_edge = min(compare_possible_edges)\n",
    "        print(choice_edge)\n",
    "        coordinate_of_choice_node = nodes[node][index_of_choice_edge]    #if coordinate_of_choice_node in path:\n",
    "        print(coordinate_of_choice_node)\n",
    "        path.append(coordinate_of_choice_node)\n",
    "        print(path)                                                                                     # NEED TO GET RID OF BACKTRACKING\n",
    "        shortest_distance[coordinate_of_choice_node] = nodes_distances[coordinate_of_choice_node] + nodes_distances[node]\n",
    "        print(shortest_distance)"
   ]
  },
  {
   "source": [
    "dijkstra(nodes, nodes_distances, distances, (0,0), (height-1, width-1))"
   ],
   "cell_type": "code",
   "metadata": {},
   "execution_count": null,
   "outputs": []
  },
  {
   "cell_type": "code",
   "execution_count": 35,
   "metadata": {},
   "outputs": [
    {
     "output_type": "execute_result",
     "data": {
      "text/plain": [
       "array([[1, 1, 3],\n",
       "       [9, 2, 5],\n",
       "       [5, 5, 6]])"
      ]
     },
     "metadata": {},
     "execution_count": 35
    }
   ],
   "source": [
    "maze"
   ]
  },
  {
   "cell_type": "code",
   "execution_count": 178,
   "metadata": {},
   "outputs": [],
   "source": [
    "child_nodes_distances = {}\n",
    "def child_nodes_distances_graph_maze(maze):\n",
    "    for i in nodes:\n",
    "        for j in nodes[i]:\n",
    "            print(i, j)\n",
    "            #if j == 'Not Possible':\n",
    "            child_nodes_distances[i] += j \n",
    "            #else  \n",
    "    print(child_nodes_distances)\n",
    "child_nodes_distances_graph_maze(maze)"
   ]
  },
  {
   "cell_type": "code",
   "execution_count": null,
   "metadata": {},
   "outputs": [],
   "source": [
    "nodes_distances2 = {}\n",
    "def nodes_distances_graph_maze(maze):\n",
    "    for i in range(height):\n",
    "        for j in range(width):\n",
    "            nodes_distances2[(i,j)] = child_nodes_distances\n",
    "    print(nodes_distances2)\n",
    "    return nodes_distances2"
   ]
  },
  {
   "cell_type": "code",
   "execution_count": null,
   "metadata": {},
   "outputs": [],
   "source": [
    " \n",
    " \n",
    " if not isInsideGrid(i-1, j) and isInsideGrid(i+1, j) and isInsideGrid(i, j-1) and isInsideGrid(i, j+1):\n",
    "                nodes[(i,j)] = {(i+1, j), (i, j-1), (i, j+1)}\n",
    "            if isInsideGrid(i-1, j) and not isInsideGrid(i+1, j) and isInsideGrid(i, j-1) and isInsideGrid(i, j+1):\n",
    "                nodes[(i,j)] = {(i-1, j), (i, j-1), (i, j+1)}\n",
    "            if isInsideGrid(i-1, j) and isInsideGrid(i+1, j) and not isInsideGrid(i, j-1) and isInsideGrid(i, j+1):\n",
    "                nodes[(i,j)] = {(i-1, j), (i+1, j), (i, j+1)}\n",
    "            if isInsideGrid(i-1, j) and isInsideGrid(i+1, j) and isInsideGrid(i, j-1) and not isInsideGrid(i, j+1):\n",
    "                nodes[(i,j)] = {(i-1, j), (i+1, j), (i, j-1)}\n",
    " \n",
    " if i-1 >= 0 and j >= 0:\n",
    "                nodes[(i,j)] = {(i-1, j), (i+1, j), (i, j-1), (i, j+1)}\n",
    "            else: nodes[(i,j)] = {(i+1, j), (i, j-1), (i, j+1)}\n",
    "            if i+1 <= height-1:\n",
    "                nodes[(i,j)] = {(i-1, j), (i+1, j), (i, j-1), (i, j+1)}\n",
    "            else: nodes[(i,j)] = {(i+1, j), (i, j-1), (i, j+1)}\n",
    "            if j-1 >= 0:\n",
    "                nodes[(i,j)] = {(i-1, j), (i+1, j), (i, j-1), (i, j+1)}\n",
    "            else: nodes[(i,j)] = {(i+1, j), (i, j-1), (i, j+1)}\n",
    "            if j+1 <= width-1:\n",
    "                nodes[(i,j)] = {(i-1, j), (i+1, j), (i, j-1), (i, j+1)}\n",
    "            else: nodes[(i,j)] = {(i+1, j), (i, j-1), (i, j+1)}"
   ]
  }
 ]
}