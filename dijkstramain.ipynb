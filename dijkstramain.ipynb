{
 "metadata": {
  "language_info": {
   "codemirror_mode": {
    "name": "ipython",
    "version": 3
   },
   "file_extension": ".py",
   "mimetype": "text/x-python",
   "name": "python",
   "nbconvert_exporter": "python",
   "pygments_lexer": "ipython3",
   "version": "3.8.1-final"
  },
  "orig_nbformat": 2,
  "kernelspec": {
   "name": "python38164bit5b68bb558570416495530c691bd9dd00",
   "display_name": "Python 3.8.1 64-bit"
  }
 },
 "nbformat": 4,
 "nbformat_minor": 2,
 "cells": [
  {
   "cell_type": "code",
   "execution_count": null,
   "metadata": {},
   "outputs": [],
   "source": []
  },
  {
   "cell_type": "code",
   "execution_count": 2,
   "metadata": {},
   "outputs": [],
   "source": [
    "import math\n",
    "import matplotlib.pyplot as plt\n",
    "import random\n",
    "import numpy as np\n",
    "from collections import defaultdict\n",
    "np.set_printoptions(threshold=sys.maxsize)"
   ]
  },
  {
   "cell_type": "code",
   "execution_count": null,
   "metadata": {},
   "outputs": [],
   "source": []
  },
  {
   "cell_type": "code",
   "execution_count": 65,
   "metadata": {},
   "outputs": [],
   "source": [
    "height, width = 3, 3\n",
    "maze = np.array(np.random.randint(0, 10, size = (height, width)))"
   ]
  },
  {
   "cell_type": "code",
   "execution_count": null,
   "metadata": {},
   "outputs": [],
   "source": [
    "end_condition = [height-1, width-1]"
   ]
  },
  {
   "cell_type": "code",
   "execution_count": 19,
   "metadata": {},
   "outputs": [],
   "source": [
    "def get_neighbours(maze, current_loc):                                        # returns a list of accessible cells to the ant\n",
    "        neighbours = []                                                                     # contains the up, down, left, right accessible nodes for the ants\n",
    "        if current_loc[0]-1 >= 0:\n",
    "            neighbours.append(maze[current_loc[0]-1][current_loc[1]])\n",
    "        else: neighbours.append(np.inf)\n",
    "        if current_loc[0]+1 <= height-1:\n",
    "            neighbours.append(maze[current_loc[0]+1][current_loc[1]])\n",
    "        else: neighbours.append(np.inf)\n",
    "        if current_loc[1]-1 >= 0:\n",
    "            neighbours.append(maze[current_loc[0]][current_loc[1]-1])\n",
    "        else: neighbours.append(np.inf)\n",
    "        if current_loc[1]+1 <= width-1:\n",
    "            neighbours.append(maze[current_loc[0]][current_loc[1]+1])\n",
    "        else: neighbours.append(np.inf)\n",
    "        return neighbours"
   ]
  },
  {
   "cell_type": "code",
   "execution_count": 182,
   "metadata": {},
   "outputs": [],
   "source": [
    "def get_neighbours_coords(maze, current_loc):                                       # returns a list of accessible cells to the ant, inaccessible ones are replaced with 'Not Possible'\n",
    "        neighbours_coords = []                                                              # contains the up, down, left, right accessible nodes for the ants\n",
    "        if current_loc[0]-1 >= 0:\n",
    "            neighbours_coords.append((current_loc[0]-1, current_loc[1]))\n",
    "        else: neighbours_coords.append('Not Possible')\n",
    "        if current_loc[0]+1 <= height-1:\n",
    "            neighbours_coords.append((current_loc[0]+1, current_loc[1]))\n",
    "        else: neighbours_coords.append('Not Possible')\n",
    "        if current_loc[1]-1 >= 0:\n",
    "            neighbours_coords.append((current_loc[0], current_loc[1]-1))\n",
    "        else: neighbours_coords.append('Not Possible')\n",
    "        if current_loc[1]+1 <= width-1:\n",
    "            neighbours_coords.append((current_loc[0], current_loc[1]+1))\n",
    "        else: neighbours_coords.append('Not Possible')\n",
    "        return neighbours_coords"
   ]
  },
  {
   "cell_type": "code",
   "execution_count": 34,
   "metadata": {},
   "outputs": [],
   "source": [
    "def move(neighbours, neighbours_coords):\n",
    "    choice_ind = neighbours.index(min(neighbours))\n",
    "    new_loc = neighbours_coords[choice_ind]\n",
    "    return choice_ind, new_loc"
   ]
  },
  {
   "cell_type": "code",
   "execution_count": 35,
   "metadata": {},
   "outputs": [],
   "source": [
    "choice_ind, current_loc = move(neighbours, neighbours_coords)"
   ]
  },
  {
   "cell_type": "code",
   "execution_count": 36,
   "metadata": {},
   "outputs": [
    {
     "output_type": "execute_result",
     "data": {
      "text/plain": [
       "[0, 1]"
      ]
     },
     "metadata": {},
     "execution_count": 36
    }
   ],
   "source": [
    "current_loc"
   ]
  },
  {
   "cell_type": "code",
   "execution_count": null,
   "metadata": {},
   "outputs": [],
   "source": [
    "distances[i] = neighbours[choice_ind]\n",
    "nodes[i] = neighbours_coords[choice_ind]"
   ]
  },
  {
   "source": [
    "HAS TO LOOK AT THE GRID AS A WHOLE AND FIND THE PATH BEFORE TAKING IT\n",
    "Can convert the maze to a graph using dictionary\n",
    "Alternatively, each cell in the grid can represents a vertex and neighbor cells adjacent vertices. Thus, not making an explicit graph from these cells instead using the grid as it is in my dijkstra’s algorithm. \n",
    "Will also outline the finishing point and state that the agent shouldn't go to cells it has already visited by using a boolean version of the maze where if a cell has been visited it will show true\n"
   ],
   "cell_type": "markdown",
   "metadata": {}
  },
  {
   "cell_type": "code",
   "execution_count": 110,
   "metadata": {},
   "outputs": [],
   "source": [
    "def isInsideGrid(i, j): \n",
    "    return (i >= 0 and i < height and j >= 0 and j < width)  "
   ]
  },
  {
   "cell_type": "code",
   "execution_count": 183,
   "metadata": {},
   "outputs": [],
   "source": [
    "nodes = {}\n",
    "def graph_maze(maze):\n",
    "    for i in range(height):\n",
    "        for j in range(width):\n",
    "            #print(maze[i][j], i, j)\n",
    "            nodes[(i,j)] = get_neighbours_coords(maze, [i,j])\n",
    "    print(nodes)\n",
    "    return nodes\n",
    "            # we want to get a dictionary with the keys as the current i, j and the values as the neighbours of i, j\n",
    "    #print(nodes)\n",
    "   "
   ]
  },
  {
   "cell_type": "code",
   "execution_count": 184,
   "metadata": {},
   "outputs": [
    {
     "output_type": "stream",
     "name": "stdout",
     "text": [
      "{(0, 0): ['Not Possible', (1, 0), 'Not Possible', (0, 1)], (0, 1): ['Not Possible', (1, 1), (0, 0), (0, 2)], (0, 2): ['Not Possible', (1, 2), (0, 1), 'Not Possible'], (1, 0): [(0, 0), (2, 0), 'Not Possible', (1, 1)], (1, 1): [(0, 1), (2, 1), (1, 0), (1, 2)], (1, 2): [(0, 2), (2, 2), (1, 1), 'Not Possible'], (2, 0): [(1, 0), 'Not Possible', 'Not Possible', (2, 1)], (2, 1): [(1, 1), 'Not Possible', (2, 0), (2, 2)], (2, 2): [(1, 2), 'Not Possible', (2, 1), 'Not Possible']}\n"
     ]
    }
   ],
   "source": [
    "nodes = graph_maze(maze)"
   ]
  },
  {
   "cell_type": "code",
   "execution_count": 127,
   "metadata": {},
   "outputs": [
    {
     "output_type": "execute_result",
     "data": {
      "text/plain": [
       "7"
      ]
     },
     "metadata": {},
     "execution_count": 127
    }
   ],
   "source": [
    "maze[nodes[(0,0)][1][0], nodes[(0,0)][1][1]]"
   ]
  },
  {
   "cell_type": "code",
   "execution_count": 129,
   "metadata": {},
   "outputs": [
    {
     "output_type": "execute_result",
     "data": {
      "text/plain": [
       "3"
      ]
     },
     "metadata": {},
     "execution_count": 129
    }
   ],
   "source": [
    "maze[nodes[(0,0)][3][0], nodes[(0,0)][3][1]]"
   ]
  },
  {
   "cell_type": "code",
   "execution_count": 141,
   "metadata": {},
   "outputs": [],
   "source": [
    "distances = {}\n",
    "def distance_graph_maze(maze):\n",
    "    for i in range(height):\n",
    "        for j in range(width):\n",
    "            distances[(i,j)] = get_neighbours(maze, [i,j])\n",
    "    print(distances)\n",
    "    return distances"
   ]
  },
  {
   "cell_type": "code",
   "execution_count": 144,
   "metadata": {},
   "outputs": [
    {
     "output_type": "stream",
     "name": "stdout",
     "text": [
      "{(0, 0): [inf, 7, inf, 3], (0, 1): [inf, 8, 6, 3], (0, 2): [inf, 6, 3, inf], (1, 0): [6, 9, inf, 8], (1, 1): [3, 8, 7, 6], (1, 2): [3, 6, 8, inf], (2, 0): [7, inf, inf, 8], (2, 1): [8, inf, 9, 6], (2, 2): [6, inf, 8, inf]}\n"
     ]
    }
   ],
   "source": [
    "distances = distance_graph_maze(maze)"
   ]
  },
  {
   "cell_type": "code",
   "execution_count": 155,
   "metadata": {},
   "outputs": [],
   "source": [
    "nodes_distances = {}\n",
    "def nodes_distances_graph_maze(maze):\n",
    "    for i in range(height):\n",
    "        for j in range(width):\n",
    "            nodes_distances[(i,j)] = maze[i][j]\n",
    "    print(nodes_distances)\n",
    "    return nodes_distances"
   ]
  },
  {
   "cell_type": "code",
   "execution_count": 156,
   "metadata": {},
   "outputs": [
    {
     "output_type": "stream",
     "name": "stdout",
     "text": [
      "{(0, 0): 6, (0, 1): 3, (0, 2): 3, (1, 0): 7, (1, 1): 8, (1, 2): 6, (2, 0): 9, (2, 1): 8, (2, 2): 6}\n"
     ]
    }
   ],
   "source": [
    "nodes_distances = nodes_distances_graph_maze(maze)"
   ]
  },
  {
   "cell_type": "code",
   "execution_count": null,
   "metadata": {},
   "outputs": [],
   "source": [
    "graph = {'a':{'b':10,'c':3},'b':{'c':1,'d':2},'c':{'b':4,'d':8,'e':2},'d':{'e':7},'e':{'d':9}}"
   ]
  },
  {
   "cell_type": "code",
   "execution_count": 178,
   "metadata": {},
   "outputs": [],
   "source": [
    "child_nodes_distances = {}\n",
    "def child_nodes_distances_graph_maze(maze):\n",
    "    for i in nodes:\n",
    "        for j in nodes[i]:\n",
    "            print(i, j)\n",
    "            #if j == 'Not Possible':\n",
    "            child_nodes_distances[i] += j \n",
    "            #else  \n",
    "    print(child_nodes_distances)"
   ]
  },
  {
   "source": [
    "child_nodes_distances_graph_maze(maze)"
   ],
   "cell_type": "code",
   "metadata": {},
   "execution_count": null,
   "outputs": []
  },
  {
   "cell_type": "code",
   "execution_count": null,
   "metadata": {},
   "outputs": [],
   "source": [
    "nodes_distances2 = {}\n",
    "def nodes_distances_graph_maze(maze):\n",
    "    for i in range(height):\n",
    "        for j in range(width):\n",
    "            nodes_distances2[(i,j)] = child_nodes_distances\n",
    "    print(nodes_distances2)\n",
    "    return nodes_distances2"
   ]
  },
  {
   "cell_type": "code",
   "execution_count": 185,
   "metadata": {},
   "outputs": [
    {
     "output_type": "execute_result",
     "data": {
      "text/plain": [
       "{(0, 0): ['Not Possible', (1, 0), 'Not Possible', (0, 1)],\n",
       " (0, 1): ['Not Possible', (1, 1), (0, 0), (0, 2)],\n",
       " (0, 2): ['Not Possible', (1, 2), (0, 1), 'Not Possible'],\n",
       " (1, 0): [(0, 0), (2, 0), 'Not Possible', (1, 1)],\n",
       " (1, 1): [(0, 1), (2, 1), (1, 0), (1, 2)],\n",
       " (1, 2): [(0, 2), (2, 2), (1, 1), 'Not Possible'],\n",
       " (2, 0): [(1, 0), 'Not Possible', 'Not Possible', (2, 1)],\n",
       " (2, 1): [(1, 1), 'Not Possible', (2, 0), (2, 2)],\n",
       " (2, 2): [(1, 2), 'Not Possible', (2, 1), 'Not Possible']}"
      ]
     },
     "metadata": {},
     "execution_count": 185
    }
   ],
   "source": [
    "nodes"
   ]
  },
  {
   "cell_type": "code",
   "execution_count": 151,
   "metadata": {},
   "outputs": [
    {
     "output_type": "execute_result",
     "data": {
      "text/plain": [
       "{(0, 0): [inf, 7, inf, 3],\n",
       " (0, 1): [inf, 8, 6, 3],\n",
       " (0, 2): [inf, 6, 3, inf],\n",
       " (1, 0): [6, 9, inf, 8],\n",
       " (1, 1): [3, 8, 7, 6],\n",
       " (1, 2): [3, 6, 8, inf],\n",
       " (2, 0): [7, inf, inf, 8],\n",
       " (2, 1): [8, inf, 9, 6],\n",
       " (2, 2): [6, inf, 8, inf]}"
      ]
     },
     "metadata": {},
     "execution_count": 151
    }
   ],
   "source": [
    "distances"
   ]
  },
  {
   "cell_type": "code",
   "execution_count": 157,
   "metadata": {},
   "outputs": [
    {
     "output_type": "execute_result",
     "data": {
      "text/plain": [
       "{(0, 0): 6,\n",
       " (0, 1): 3,\n",
       " (0, 2): 3,\n",
       " (1, 0): 7,\n",
       " (1, 1): 8,\n",
       " (1, 2): 6,\n",
       " (2, 0): 9,\n",
       " (2, 1): 8,\n",
       " (2, 2): 6}"
      ]
     },
     "metadata": {},
     "execution_count": 157
    }
   ],
   "source": [
    "nodes_distances"
   ]
  },
  {
   "cell_type": "code",
   "execution_count": 186,
   "metadata": {},
   "outputs": [
    {
     "output_type": "execute_result",
     "data": {
      "text/plain": [
       "(1, 0)"
      ]
     },
     "metadata": {},
     "execution_count": 186
    }
   ],
   "source": [
    "nodes[(0,0)][1]"
   ]
  },
  {
   "cell_type": "code",
   "execution_count": 187,
   "metadata": {},
   "outputs": [
    {
     "output_type": "execute_result",
     "data": {
      "text/plain": [
       "array([[6, 3, 3],\n",
       "       [7, 8, 6],\n",
       "       [9, 8, 6]])"
      ]
     },
     "metadata": {},
     "execution_count": 187
    }
   ],
   "source": [
    "maze"
   ]
  },
  {
   "cell_type": "code",
   "execution_count": 223,
   "metadata": {},
   "outputs": [],
   "source": [
    "def dijkstra(nodes, nodes_distances, distances, start, end_condition):\n",
    "    shortest_distance = {}\n",
    "    infinity = np.inf\n",
    "    compare_possible_edges = [infinity, infinity, infinity, infinity]\n",
    "    unseenNodes = nodes\n",
    "    for node in unseenNodes:\n",
    "        shortest_distance[node] = np.inf\n",
    "    shortest_distance[start] = nodes_distances[start]\n",
    "                                    #{(0, 0): 6, (0, 1): inf, (0, 2): inf, (1, 0): inf, (1, 1): inf, (1, 2): inf, (2, 0): inf, (2, 1): inf, (2, 2): inf}\n",
    "\n",
    "    for i in range(len(nodes[start])):      #['Not Possible', (1, 0), 'Not Possible', (0, 1)]\n",
    "        if isinstance(nodes[start][i], tuple):\n",
    "            compare_possible_edges[i] = distances[start][i]\n",
    "    index_of_choice_edge = compare_possible_edges.index(min(compare_possible_edges))\n",
    "    print(index_of_choice_edge)\n",
    "    choice_edge = min(compare_possible_edges)\n",
    "    print(choice_edge)\n",
    "    coordinate_of_choice_node = nodes[start][index_of_choice_edge]\n",
    "    print(coordinate_of_choice_node)\n",
    "    \n"
   ]
  },
  {
   "cell_type": "code",
   "execution_count": 224,
   "metadata": {},
   "outputs": [
    {
     "output_type": "stream",
     "name": "stdout",
     "text": [
      "{(0, 0): 6, (0, 1): inf, (0, 2): inf, (1, 0): inf, (1, 1): inf, (1, 2): inf, (2, 0): inf, (2, 1): inf, (2, 2): inf}\n3\n3\n(0, 1)\n"
     ]
    }
   ],
   "source": [
    "dijkstra(nodes, nodes_distances, distances, (0,0), (height-1, width-1))"
   ]
  },
  {
   "cell_type": "code",
   "execution_count": 188,
   "metadata": {},
   "outputs": [
    {
     "output_type": "execute_result",
     "data": {
      "text/plain": [
       "{(0, 0): ['Not Possible', (1, 0), 'Not Possible', (0, 1)],\n",
       " (0, 1): ['Not Possible', (1, 1), (0, 0), (0, 2)],\n",
       " (0, 2): ['Not Possible', (1, 2), (0, 1), 'Not Possible'],\n",
       " (1, 0): [(0, 0), (2, 0), 'Not Possible', (1, 1)],\n",
       " (1, 1): [(0, 1), (2, 1), (1, 0), (1, 2)],\n",
       " (1, 2): [(0, 2), (2, 2), (1, 1), 'Not Possible'],\n",
       " (2, 0): [(1, 0), 'Not Possible', 'Not Possible', (2, 1)],\n",
       " (2, 1): [(1, 1), 'Not Possible', (2, 0), (2, 2)],\n",
       " (2, 2): [(1, 2), 'Not Possible', (2, 1), 'Not Possible']}"
      ]
     },
     "metadata": {},
     "execution_count": 188
    }
   ],
   "source": [
    "nodes"
   ]
  },
  {
   "cell_type": "code",
   "execution_count": null,
   "metadata": {},
   "outputs": [],
   "source": []
  },
  {
   "cell_type": "code",
   "execution_count": null,
   "metadata": {},
   "outputs": [],
   "source": []
  },
  {
   "cell_type": "code",
   "execution_count": null,
   "metadata": {},
   "outputs": [],
   "source": []
  },
  {
   "cell_type": "code",
   "execution_count": null,
   "metadata": {},
   "outputs": [],
   "source": []
  },
  {
   "cell_type": "code",
   "execution_count": null,
   "metadata": {},
   "outputs": [],
   "source": []
  },
  {
   "cell_type": "code",
   "execution_count": 158,
   "metadata": {},
   "outputs": [],
   "source": [
    "def dijkstra(maze, nodes, distances, nodes_distances, start, end_condition):\n",
    "    shortest_distance = {}\n",
    "    predecessor = {}\n",
    "    unseenNodes = nodes\n",
    "    infinity = np.inf\n",
    "    path = []\n",
    "\n",
    "    for node in unseenNodes:\n",
    "        shortest_distance[node] = infinity\n",
    "    shortest_distance[start] = 0\n",
    "\n",
    "    while unseenNodes:\n",
    "        minNode = None\n",
    "        for node in unseenNodes:\n",
    "            if minNode is None:\n",
    "                minNode = node\n",
    "            elif shortest_distance[node] < shortest_distance[minNode]:\n",
    "                minNode = node\n",
    "        \n",
    "        for childNode, weight in nodes_distances[minNode].items(): # child node is what it is connected to, weight is the distance to it\n",
    "            if weight + shortest_distance[minNode] < shortest_distance[childNode]:\n",
    "                shortest_distance[childNode] = weight + shortest_distance[minNode]\n",
    "                predecessor[childNode] = minNode\n",
    "        unseenNodes.pop(minNode)\n",
    "    print(shortest_distance)   "
   ]
  },
  {
   "source": [
    "dijkstra(maze, nodes, distances, nodes_distances, (0,0), (height-1, width-1))"
   ],
   "cell_type": "code",
   "metadata": {},
   "execution_count": 159,
   "outputs": [
    {
     "output_type": "error",
     "ename": "AttributeError",
     "evalue": "'numpy.int32' object has no attribute 'items'",
     "traceback": [
      "\u001b[1;31m---------------------------------------------------------------------------\u001b[0m",
      "\u001b[1;31mAttributeError\u001b[0m                            Traceback (most recent call last)",
      "\u001b[1;32m<ipython-input-159-9bb1f1345333>\u001b[0m in \u001b[0;36m<module>\u001b[1;34m\u001b[0m\n\u001b[1;32m----> 1\u001b[1;33m \u001b[0mdijkstra\u001b[0m\u001b[1;33m(\u001b[0m\u001b[0mmaze\u001b[0m\u001b[1;33m,\u001b[0m \u001b[0mnodes\u001b[0m\u001b[1;33m,\u001b[0m \u001b[0mdistances\u001b[0m\u001b[1;33m,\u001b[0m \u001b[0mnodes_distances\u001b[0m\u001b[1;33m,\u001b[0m \u001b[1;33m(\u001b[0m\u001b[1;36m0\u001b[0m\u001b[1;33m,\u001b[0m\u001b[1;36m0\u001b[0m\u001b[1;33m)\u001b[0m\u001b[1;33m,\u001b[0m \u001b[1;33m(\u001b[0m\u001b[0mheight\u001b[0m\u001b[1;33m-\u001b[0m\u001b[1;36m1\u001b[0m\u001b[1;33m,\u001b[0m \u001b[0mwidth\u001b[0m\u001b[1;33m-\u001b[0m\u001b[1;36m1\u001b[0m\u001b[1;33m)\u001b[0m\u001b[1;33m)\u001b[0m\u001b[1;33m\u001b[0m\u001b[1;33m\u001b[0m\u001b[0m\n\u001b[0m",
      "\u001b[1;32m<ipython-input-158-cab80e78543f>\u001b[0m in \u001b[0;36mdijkstra\u001b[1;34m(maze, nodes, distances, nodes_distances, start, end_condition)\u001b[0m\n\u001b[0;32m     18\u001b[0m                 \u001b[0mminNode\u001b[0m \u001b[1;33m=\u001b[0m \u001b[0mnode\u001b[0m\u001b[1;33m\u001b[0m\u001b[1;33m\u001b[0m\u001b[0m\n\u001b[0;32m     19\u001b[0m \u001b[1;33m\u001b[0m\u001b[0m\n\u001b[1;32m---> 20\u001b[1;33m         \u001b[1;32mfor\u001b[0m \u001b[0mchildNode\u001b[0m\u001b[1;33m,\u001b[0m \u001b[0mweight\u001b[0m \u001b[1;32min\u001b[0m \u001b[0mnodes_distances\u001b[0m\u001b[1;33m[\u001b[0m\u001b[0mminNode\u001b[0m\u001b[1;33m]\u001b[0m\u001b[1;33m.\u001b[0m\u001b[0mitems\u001b[0m\u001b[1;33m(\u001b[0m\u001b[1;33m)\u001b[0m\u001b[1;33m:\u001b[0m \u001b[1;31m# child node is what it is connected to, weight is the distance to it\u001b[0m\u001b[1;33m\u001b[0m\u001b[1;33m\u001b[0m\u001b[0m\n\u001b[0m\u001b[0;32m     21\u001b[0m             \u001b[1;32mif\u001b[0m \u001b[0mweight\u001b[0m \u001b[1;33m+\u001b[0m \u001b[0mshortest_distance\u001b[0m\u001b[1;33m[\u001b[0m\u001b[0mminNode\u001b[0m\u001b[1;33m]\u001b[0m \u001b[1;33m<\u001b[0m \u001b[0mshortest_distance\u001b[0m\u001b[1;33m[\u001b[0m\u001b[0mchildNode\u001b[0m\u001b[1;33m]\u001b[0m\u001b[1;33m:\u001b[0m\u001b[1;33m\u001b[0m\u001b[1;33m\u001b[0m\u001b[0m\n\u001b[0;32m     22\u001b[0m                 \u001b[0mshortest_distance\u001b[0m\u001b[1;33m[\u001b[0m\u001b[0mchildNode\u001b[0m\u001b[1;33m]\u001b[0m \u001b[1;33m=\u001b[0m \u001b[0mweight\u001b[0m \u001b[1;33m+\u001b[0m \u001b[0mshortest_distance\u001b[0m\u001b[1;33m[\u001b[0m\u001b[0mminNode\u001b[0m\u001b[1;33m]\u001b[0m\u001b[1;33m\u001b[0m\u001b[1;33m\u001b[0m\u001b[0m\n",
      "\u001b[1;31mAttributeError\u001b[0m: 'numpy.int32' object has no attribute 'items'"
     ]
    }
   ]
  },
  {
   "cell_type": "code",
   "execution_count": null,
   "metadata": {},
   "outputs": [],
   "source": [
    " \n",
    " \n",
    " if not isInsideGrid(i-1, j) and isInsideGrid(i+1, j) and isInsideGrid(i, j-1) and isInsideGrid(i, j+1):\n",
    "                nodes[(i,j)] = {(i+1, j), (i, j-1), (i, j+1)}\n",
    "            if isInsideGrid(i-1, j) and not isInsideGrid(i+1, j) and isInsideGrid(i, j-1) and isInsideGrid(i, j+1):\n",
    "                nodes[(i,j)] = {(i-1, j), (i, j-1), (i, j+1)}\n",
    "            if isInsideGrid(i-1, j) and isInsideGrid(i+1, j) and not isInsideGrid(i, j-1) and isInsideGrid(i, j+1):\n",
    "                nodes[(i,j)] = {(i-1, j), (i+1, j), (i, j+1)}\n",
    "            if isInsideGrid(i-1, j) and isInsideGrid(i+1, j) and isInsideGrid(i, j-1) and not isInsideGrid(i, j+1):\n",
    "                nodes[(i,j)] = {(i-1, j), (i+1, j), (i, j-1)}\n",
    " \n",
    " if i-1 >= 0 and j >= 0:\n",
    "                nodes[(i,j)] = {(i-1, j), (i+1, j), (i, j-1), (i, j+1)}\n",
    "            else: nodes[(i,j)] = {(i+1, j), (i, j-1), (i, j+1)}\n",
    "            if i+1 <= height-1:\n",
    "                nodes[(i,j)] = {(i-1, j), (i+1, j), (i, j-1), (i, j+1)}\n",
    "            else: nodes[(i,j)] = {(i+1, j), (i, j-1), (i, j+1)}\n",
    "            if j-1 >= 0:\n",
    "                nodes[(i,j)] = {(i-1, j), (i+1, j), (i, j-1), (i, j+1)}\n",
    "            else: nodes[(i,j)] = {(i+1, j), (i, j-1), (i, j+1)}\n",
    "            if j+1 <= width-1:\n",
    "                nodes[(i,j)] = {(i-1, j), (i+1, j), (i, j-1), (i, j+1)}\n",
    "            else: nodes[(i,j)] = {(i+1, j), (i, j-1), (i, j+1)}"
   ]
  }
 ]
}