{
 "metadata": {
  "language_info": {
   "codemirror_mode": {
    "name": "ipython",
    "version": 3
   },
   "file_extension": ".py",
   "mimetype": "text/x-python",
   "name": "python",
   "nbconvert_exporter": "python",
   "pygments_lexer": "ipython3",
   "version": "3.8.1-final"
  },
  "orig_nbformat": 2,
  "kernelspec": {
   "name": "python38164bit5b68bb558570416495530c691bd9dd00",
   "display_name": "Python 3.8.1 64-bit"
  }
 },
 "nbformat": 4,
 "nbformat_minor": 2,
 "cells": [
  {
   "cell_type": "code",
   "execution_count": 76,
   "metadata": {},
   "outputs": [
    {
     "output_type": "execute_result",
     "data": {
      "text/plain": [
       "array([nan, list([1, 0]), nan, list([0, 1])], dtype=object)"
      ]
     },
     "metadata": {},
     "execution_count": 76
    }
   ],
   "source": [
    "pheromone_neighbours_coords"
   ]
  },
  {
   "cell_type": "code",
   "execution_count": 77,
   "metadata": {},
   "outputs": [
    {
     "output_type": "execute_result",
     "data": {
      "text/plain": [
       "array([nan, list([1, 0]), nan, list([0, 1])], dtype=object)"
      ]
     },
     "metadata": {},
     "execution_count": 77
    }
   ],
   "source": [
    "attractiveness_neighbours_coords"
   ]
  },
  {
   "cell_type": "code",
   "execution_count": 1,
   "metadata": {},
   "outputs": [],
   "source": [
    "import math\n",
    "import matplotlib.pyplot as plt\n",
    "import random\n",
    "import numpy as np\n",
    "np.set_printoptions(threshold=sys.maxsize)"
   ]
  },
  {
   "cell_type": "code",
   "execution_count": 2,
   "metadata": {},
   "outputs": [],
   "source": [
    "height, width = 4, 4\n",
    "maze = np.array(np.random.randint(0, 10, size = (height, width)))"
   ]
  },
  {
   "source": [
    "'''Ant colony optimisation. The choice of the cell to move to will depend on the distance between cells (attractivity) and pheromone level. Ants only decide on cells that are reachable. This gives a probability of moving from one cell to each neighbouring cell. And based on this the agent can sample and select one.\n",
    "Each cell has a probability of the ant transitioning to it and it needs to randomly select which one it goes to using a  weighted random.choice = doesn't have to be the optimal path, just a path using ant colony'''"
   ],
   "cell_type": "markdown",
   "metadata": {}
  },
  {
   "source": [
    "'''It should be stressed that the Ant Colony Optimization has been constructed to seek solutions of NP-hardproblems. As such, there is thus no guarantee that the most optimumsolution will be always found. Therefore, the obtained results may be bothoptimal (accurate) and approximations that depend on the degree of fitnessof the algorithm itself for each individual problem to be solved.\n",
    "Thanks to a construction ofthe shortest path tree it is not necessary to find the shortest paths from thesource to all of the nodes one by one, but only to such nodes that have notyet been included in the tree.\n",
    "\n",
    "The number of ants influences considerably the accuracy of a solution obtained as a result of the operation of the algorithm. At the same time, it increases time of its operation.\n",
    "\n",
    "Ant  colony  optimization  is  an  iterative  algorithm.  At  eachiteration,  a  number  of  artificial  ants  are  considered.  Each  ofthem builds a solution by walking from vertex to vertex on thegraph with the constraint of not visiting any vertex that she hasalready  visited  in  her  walk.  At  each  step  of  the  solution  con-struction,  an  ant  selects  the  following  vertex  to  be  visitedaccording  to  a  stochastic  mechanism  that  is  biased  by  thepheromone: when in vertex i, the following vertex is selectedstochastically  among  the  previously  unvisited  ones  (see  Figure2). In particular, if jhas not been previously visited, it can beselected with a probability that is proportional to thepheromone associated with edge (i,j).\n",
    "\n",
    "VERTICES ARE NODES, EDGES ARE TIME VALUES/DISTANCE BETWEEN NODES, COORDINATES OF CELLS ARE NODES\n",
    "MEW REPRESENTS ATTRACTIVENESS OF A CELL WHICH IS 1/TIMEVALUES SO 1/MAZE\n",
    "'''"
   ],
   "cell_type": "code",
   "metadata": {},
   "execution_count": null,
   "outputs": []
  },
  {
   "cell_type": "code",
   "execution_count": 6,
   "metadata": {},
   "outputs": [
    {
     "output_type": "display_data",
     "data": {
      "text/plain": "<Figure size 288x288 with 1 Axes>",
      "image/svg+xml": "<?xml version=\"1.0\" encoding=\"utf-8\" standalone=\"no\"?>\r\n<!DOCTYPE svg PUBLIC \"-//W3C//DTD SVG 1.1//EN\"\r\n  \"http://www.w3.org/Graphics/SVG/1.1/DTD/svg11.dtd\">\r\n<!-- Created with matplotlib (https://matplotlib.org/) -->\r\n<svg height=\"237.883113pt\" version=\"1.1\" viewBox=\"0 0 237.651729 237.883113\" width=\"237.651729pt\" xmlns=\"http://www.w3.org/2000/svg\" xmlns:xlink=\"http://www.w3.org/1999/xlink\">\r\n <defs>\r\n  <style type=\"text/css\">\r\n*{stroke-linecap:butt;stroke-linejoin:round;}\r\n  </style>\r\n </defs>\r\n <g id=\"figure_1\">\r\n  <g id=\"patch_1\">\r\n   <path d=\"M 0 237.883113 \r\nL 237.651729 237.883113 \r\nL 237.651729 0 \r\nL 0 0 \r\nz\r\n\" style=\"fill:none;\"/>\r\n  </g>\r\n  <g id=\"axes_1\">\r\n   <g id=\"PathCollection_1\">\r\n    <defs>\r\n     <path d=\"M 0 3.535534 \r\nC 0.937635 3.535534 1.836992 3.163008 2.5 2.5 \r\nC 3.163008 1.836992 3.535534 0.937635 3.535534 0 \r\nC 3.535534 -0.937635 3.163008 -1.836992 2.5 -2.5 \r\nC 1.836992 -3.163008 0.937635 -3.535534 0 -3.535534 \r\nC -0.937635 -3.535534 -1.836992 -3.163008 -2.5 -2.5 \r\nC -3.163008 -1.836992 -3.535534 -0.937635 -3.535534 0 \r\nC -3.535534 0.937635 -3.163008 1.836992 -2.5 2.5 \r\nC -1.836992 3.163008 -0.937635 3.535534 0 3.535534 \r\nz\r\n\" id=\"mccfde4ec9f\" style=\"stroke:#008000;\"/>\r\n    </defs>\r\n    <g clip-path=\"url(#p114d0a9f79)\">\r\n     <use style=\"fill:#008000;stroke:#008000;\" x=\"18.1944\" xlink:href=\"#mccfde4ec9f\" y=\"23.9238\"/>\r\n     <use style=\"fill:#008000;stroke:#008000;\" x=\"85.299286\" xlink:href=\"#mccfde4ec9f\" y=\"23.9238\"/>\r\n     <use style=\"fill:#008000;stroke:#008000;\" x=\"152.404172\" xlink:href=\"#mccfde4ec9f\" y=\"23.9238\"/>\r\n     <use style=\"fill:#008000;stroke:#008000;\" x=\"219.509058\" xlink:href=\"#mccfde4ec9f\" y=\"23.9238\"/>\r\n     <use style=\"fill:#008000;stroke:#008000;\" x=\"18.1944\" xlink:href=\"#mccfde4ec9f\" y=\"89.283342\"/>\r\n     <use style=\"fill:#008000;stroke:#008000;\" x=\"85.299286\" xlink:href=\"#mccfde4ec9f\" y=\"89.283342\"/>\r\n     <use style=\"fill:#008000;stroke:#008000;\" x=\"152.404172\" xlink:href=\"#mccfde4ec9f\" y=\"89.283342\"/>\r\n     <use style=\"fill:#008000;stroke:#008000;\" x=\"219.509058\" xlink:href=\"#mccfde4ec9f\" y=\"89.283342\"/>\r\n     <use style=\"fill:#008000;stroke:#008000;\" x=\"18.1944\" xlink:href=\"#mccfde4ec9f\" y=\"154.642884\"/>\r\n     <use style=\"fill:#008000;stroke:#008000;\" x=\"85.299286\" xlink:href=\"#mccfde4ec9f\" y=\"154.642884\"/>\r\n     <use style=\"fill:#008000;stroke:#008000;\" x=\"152.404172\" xlink:href=\"#mccfde4ec9f\" y=\"154.642884\"/>\r\n     <use style=\"fill:#008000;stroke:#008000;\" x=\"219.509058\" xlink:href=\"#mccfde4ec9f\" y=\"154.642884\"/>\r\n     <use style=\"fill:#008000;stroke:#008000;\" x=\"18.1944\" xlink:href=\"#mccfde4ec9f\" y=\"220.002426\"/>\r\n     <use style=\"fill:#008000;stroke:#008000;\" x=\"85.299286\" xlink:href=\"#mccfde4ec9f\" y=\"220.002426\"/>\r\n     <use style=\"fill:#008000;stroke:#008000;\" x=\"152.404172\" xlink:href=\"#mccfde4ec9f\" y=\"220.002426\"/>\r\n     <use style=\"fill:#008000;stroke:#008000;\" x=\"219.509058\" xlink:href=\"#mccfde4ec9f\" y=\"220.002426\"/>\r\n    </g>\r\n   </g>\r\n   <g id=\"line2d_1\">\r\n    <path clip-path=\"url(#p114d0a9f79)\" d=\"M 18.1944 23.9238 \r\nL 18.1944 89.283342 \r\nL 18.1944 154.642884 \r\nL 18.1944 220.002426 \r\n\" style=\"fill:none;stroke:#000000;stroke-linecap:square;stroke-opacity:0.2;stroke-width:2;\"/>\r\n   </g>\r\n   <g id=\"line2d_2\">\r\n    <path clip-path=\"url(#p114d0a9f79)\" d=\"M 85.299286 23.9238 \r\nL 85.299286 89.283342 \r\nL 85.299286 154.642884 \r\nL 85.299286 220.002426 \r\n\" style=\"fill:none;stroke:#000000;stroke-linecap:square;stroke-opacity:0.2;stroke-width:2;\"/>\r\n   </g>\r\n   <g id=\"line2d_3\">\r\n    <path clip-path=\"url(#p114d0a9f79)\" d=\"M 152.404172 23.9238 \r\nL 152.404172 89.283342 \r\nL 152.404172 154.642884 \r\nL 152.404172 220.002426 \r\n\" style=\"fill:none;stroke:#000000;stroke-linecap:square;stroke-opacity:0.2;stroke-width:2;\"/>\r\n   </g>\r\n   <g id=\"line2d_4\">\r\n    <path clip-path=\"url(#p114d0a9f79)\" d=\"M 219.509058 23.9238 \r\nL 219.509058 89.283342 \r\nL 219.509058 154.642884 \r\nL 219.509058 220.002426 \r\n\" style=\"fill:none;stroke:#000000;stroke-linecap:square;stroke-opacity:0.2;stroke-width:2;\"/>\r\n   </g>\r\n   <g id=\"line2d_5\">\r\n    <path clip-path=\"url(#p114d0a9f79)\" d=\"M 219.509058 220.002426 \r\nL 152.404172 220.002426 \r\nL 85.299286 220.002426 \r\nL 18.1944 220.002426 \r\n\" style=\"fill:none;stroke:#000000;stroke-linecap:square;stroke-opacity:0.2;stroke-width:2;\"/>\r\n   </g>\r\n   <g id=\"line2d_6\">\r\n    <path clip-path=\"url(#p114d0a9f79)\" d=\"M 219.509058 154.642884 \r\nL 152.404172 154.642884 \r\nL 85.299286 154.642884 \r\nL 18.1944 154.642884 \r\n\" style=\"fill:none;stroke:#000000;stroke-linecap:square;stroke-opacity:0.2;stroke-width:2;\"/>\r\n   </g>\r\n   <g id=\"line2d_7\">\r\n    <path clip-path=\"url(#p114d0a9f79)\" d=\"M 219.509058 89.283342 \r\nL 152.404172 89.283342 \r\nL 85.299286 89.283342 \r\nL 18.1944 89.283342 \r\n\" style=\"fill:none;stroke:#000000;stroke-linecap:square;stroke-opacity:0.2;stroke-width:2;\"/>\r\n   </g>\r\n   <g id=\"line2d_8\">\r\n    <path clip-path=\"url(#p114d0a9f79)\" d=\"M 219.509058 23.9238 \r\nL 152.404172 23.9238 \r\nL 85.299286 23.9238 \r\nL 18.1944 23.9238 \r\n\" style=\"fill:none;stroke:#000000;stroke-linecap:square;stroke-opacity:0.2;stroke-width:2;\"/>\r\n   </g>\r\n   <g id=\"text_1\">\r\n    <!-- 3 -->\r\n    <defs>\r\n     <path d=\"M 40.578125 39.3125 \r\nQ 47.65625 37.796875 51.625 33 \r\nQ 55.609375 28.21875 55.609375 21.1875 \r\nQ 55.609375 10.40625 48.1875 4.484375 \r\nQ 40.765625 -1.421875 27.09375 -1.421875 \r\nQ 22.515625 -1.421875 17.65625 -0.515625 \r\nQ 12.796875 0.390625 7.625 2.203125 \r\nL 7.625 11.71875 \r\nQ 11.71875 9.328125 16.59375 8.109375 \r\nQ 21.484375 6.890625 26.8125 6.890625 \r\nQ 36.078125 6.890625 40.9375 10.546875 \r\nQ 45.796875 14.203125 45.796875 21.1875 \r\nQ 45.796875 27.640625 41.28125 31.265625 \r\nQ 36.765625 34.90625 28.71875 34.90625 \r\nL 20.21875 34.90625 \r\nL 20.21875 43.015625 \r\nL 29.109375 43.015625 \r\nQ 36.375 43.015625 40.234375 45.921875 \r\nQ 44.09375 48.828125 44.09375 54.296875 \r\nQ 44.09375 59.90625 40.109375 62.90625 \r\nQ 36.140625 65.921875 28.71875 65.921875 \r\nQ 24.65625 65.921875 20.015625 65.03125 \r\nQ 15.375 64.15625 9.8125 62.3125 \r\nL 9.8125 71.09375 \r\nQ 15.4375 72.65625 20.34375 73.4375 \r\nQ 25.25 74.21875 29.59375 74.21875 \r\nQ 40.828125 74.21875 47.359375 69.109375 \r\nQ 53.90625 64.015625 53.90625 55.328125 \r\nQ 53.90625 49.265625 50.4375 45.09375 \r\nQ 46.96875 40.921875 40.578125 39.3125 \r\nz\r\n\" id=\"DejaVuSans-51\"/>\r\n    </defs>\r\n    <g transform=\"translate(7.2 20.3301)scale(0.1728 -0.1728)\">\r\n     <use xlink:href=\"#DejaVuSans-51\"/>\r\n    </g>\r\n   </g>\r\n   <g id=\"text_2\">\r\n    <!-- 6 -->\r\n    <defs>\r\n     <path d=\"M 33.015625 40.375 \r\nQ 26.375 40.375 22.484375 35.828125 \r\nQ 18.609375 31.296875 18.609375 23.390625 \r\nQ 18.609375 15.53125 22.484375 10.953125 \r\nQ 26.375 6.390625 33.015625 6.390625 \r\nQ 39.65625 6.390625 43.53125 10.953125 \r\nQ 47.40625 15.53125 47.40625 23.390625 \r\nQ 47.40625 31.296875 43.53125 35.828125 \r\nQ 39.65625 40.375 33.015625 40.375 \r\nz\r\nM 52.59375 71.296875 \r\nL 52.59375 62.3125 \r\nQ 48.875 64.0625 45.09375 64.984375 \r\nQ 41.3125 65.921875 37.59375 65.921875 \r\nQ 27.828125 65.921875 22.671875 59.328125 \r\nQ 17.53125 52.734375 16.796875 39.40625 \r\nQ 19.671875 43.65625 24.015625 45.921875 \r\nQ 28.375 48.1875 33.59375 48.1875 \r\nQ 44.578125 48.1875 50.953125 41.515625 \r\nQ 57.328125 34.859375 57.328125 23.390625 \r\nQ 57.328125 12.15625 50.6875 5.359375 \r\nQ 44.046875 -1.421875 33.015625 -1.421875 \r\nQ 20.359375 -1.421875 13.671875 8.265625 \r\nQ 6.984375 17.96875 6.984375 36.375 \r\nQ 6.984375 53.65625 15.1875 63.9375 \r\nQ 23.390625 74.21875 37.203125 74.21875 \r\nQ 40.921875 74.21875 44.703125 73.484375 \r\nQ 48.484375 72.75 52.59375 71.296875 \r\nz\r\n\" id=\"DejaVuSans-54\"/>\r\n    </defs>\r\n    <g transform=\"translate(74.304886 20.3301)scale(0.1728 -0.1728)\">\r\n     <use xlink:href=\"#DejaVuSans-54\"/>\r\n    </g>\r\n   </g>\r\n   <g id=\"text_3\">\r\n    <!-- 3 -->\r\n    <g transform=\"translate(141.409772 20.3301)scale(0.1728 -0.1728)\">\r\n     <use xlink:href=\"#DejaVuSans-51\"/>\r\n    </g>\r\n   </g>\r\n   <g id=\"text_4\">\r\n    <!-- 8 -->\r\n    <defs>\r\n     <path d=\"M 31.78125 34.625 \r\nQ 24.75 34.625 20.71875 30.859375 \r\nQ 16.703125 27.09375 16.703125 20.515625 \r\nQ 16.703125 13.921875 20.71875 10.15625 \r\nQ 24.75 6.390625 31.78125 6.390625 \r\nQ 38.8125 6.390625 42.859375 10.171875 \r\nQ 46.921875 13.96875 46.921875 20.515625 \r\nQ 46.921875 27.09375 42.890625 30.859375 \r\nQ 38.875 34.625 31.78125 34.625 \r\nz\r\nM 21.921875 38.8125 \r\nQ 15.578125 40.375 12.03125 44.71875 \r\nQ 8.5 49.078125 8.5 55.328125 \r\nQ 8.5 64.0625 14.71875 69.140625 \r\nQ 20.953125 74.21875 31.78125 74.21875 \r\nQ 42.671875 74.21875 48.875 69.140625 \r\nQ 55.078125 64.0625 55.078125 55.328125 \r\nQ 55.078125 49.078125 51.53125 44.71875 \r\nQ 48 40.375 41.703125 38.8125 \r\nQ 48.828125 37.15625 52.796875 32.3125 \r\nQ 56.78125 27.484375 56.78125 20.515625 \r\nQ 56.78125 9.90625 50.3125 4.234375 \r\nQ 43.84375 -1.421875 31.78125 -1.421875 \r\nQ 19.734375 -1.421875 13.25 4.234375 \r\nQ 6.78125 9.90625 6.78125 20.515625 \r\nQ 6.78125 27.484375 10.78125 32.3125 \r\nQ 14.796875 37.15625 21.921875 38.8125 \r\nz\r\nM 18.3125 54.390625 \r\nQ 18.3125 48.734375 21.84375 45.5625 \r\nQ 25.390625 42.390625 31.78125 42.390625 \r\nQ 38.140625 42.390625 41.71875 45.5625 \r\nQ 45.3125 48.734375 45.3125 54.390625 \r\nQ 45.3125 60.0625 41.71875 63.234375 \r\nQ 38.140625 66.40625 31.78125 66.40625 \r\nQ 25.390625 66.40625 21.84375 63.234375 \r\nQ 18.3125 60.0625 18.3125 54.390625 \r\nz\r\n\" id=\"DejaVuSans-56\"/>\r\n    </defs>\r\n    <g transform=\"translate(208.514658 20.3301)scale(0.1728 -0.1728)\">\r\n     <use xlink:href=\"#DejaVuSans-56\"/>\r\n    </g>\r\n   </g>\r\n   <g id=\"text_5\">\r\n    <!-- 3 -->\r\n    <g transform=\"translate(7.2 85.689642)scale(0.1728 -0.1728)\">\r\n     <use xlink:href=\"#DejaVuSans-51\"/>\r\n    </g>\r\n   </g>\r\n   <g id=\"text_6\">\r\n    <!-- 4 -->\r\n    <defs>\r\n     <path d=\"M 37.796875 64.3125 \r\nL 12.890625 25.390625 \r\nL 37.796875 25.390625 \r\nz\r\nM 35.203125 72.90625 \r\nL 47.609375 72.90625 \r\nL 47.609375 25.390625 \r\nL 58.015625 25.390625 \r\nL 58.015625 17.1875 \r\nL 47.609375 17.1875 \r\nL 47.609375 0 \r\nL 37.796875 0 \r\nL 37.796875 17.1875 \r\nL 4.890625 17.1875 \r\nL 4.890625 26.703125 \r\nz\r\n\" id=\"DejaVuSans-52\"/>\r\n    </defs>\r\n    <g transform=\"translate(74.304886 85.689642)scale(0.1728 -0.1728)\">\r\n     <use xlink:href=\"#DejaVuSans-52\"/>\r\n    </g>\r\n   </g>\r\n   <g id=\"text_7\">\r\n    <!-- 9 -->\r\n    <defs>\r\n     <path d=\"M 10.984375 1.515625 \r\nL 10.984375 10.5 \r\nQ 14.703125 8.734375 18.5 7.8125 \r\nQ 22.3125 6.890625 25.984375 6.890625 \r\nQ 35.75 6.890625 40.890625 13.453125 \r\nQ 46.046875 20.015625 46.78125 33.40625 \r\nQ 43.953125 29.203125 39.59375 26.953125 \r\nQ 35.25 24.703125 29.984375 24.703125 \r\nQ 19.046875 24.703125 12.671875 31.3125 \r\nQ 6.296875 37.9375 6.296875 49.421875 \r\nQ 6.296875 60.640625 12.9375 67.421875 \r\nQ 19.578125 74.21875 30.609375 74.21875 \r\nQ 43.265625 74.21875 49.921875 64.515625 \r\nQ 56.59375 54.828125 56.59375 36.375 \r\nQ 56.59375 19.140625 48.40625 8.859375 \r\nQ 40.234375 -1.421875 26.421875 -1.421875 \r\nQ 22.703125 -1.421875 18.890625 -0.6875 \r\nQ 15.09375 0.046875 10.984375 1.515625 \r\nz\r\nM 30.609375 32.421875 \r\nQ 37.25 32.421875 41.125 36.953125 \r\nQ 45.015625 41.5 45.015625 49.421875 \r\nQ 45.015625 57.28125 41.125 61.84375 \r\nQ 37.25 66.40625 30.609375 66.40625 \r\nQ 23.96875 66.40625 20.09375 61.84375 \r\nQ 16.21875 57.28125 16.21875 49.421875 \r\nQ 16.21875 41.5 20.09375 36.953125 \r\nQ 23.96875 32.421875 30.609375 32.421875 \r\nz\r\n\" id=\"DejaVuSans-57\"/>\r\n    </defs>\r\n    <g transform=\"translate(141.409772 85.689642)scale(0.1728 -0.1728)\">\r\n     <use xlink:href=\"#DejaVuSans-57\"/>\r\n    </g>\r\n   </g>\r\n   <g id=\"text_8\">\r\n    <!-- 4 -->\r\n    <g transform=\"translate(208.514658 85.689642)scale(0.1728 -0.1728)\">\r\n     <use xlink:href=\"#DejaVuSans-52\"/>\r\n    </g>\r\n   </g>\r\n   <g id=\"text_9\">\r\n    <!-- 9 -->\r\n    <g transform=\"translate(7.2 151.049184)scale(0.1728 -0.1728)\">\r\n     <use xlink:href=\"#DejaVuSans-57\"/>\r\n    </g>\r\n   </g>\r\n   <g id=\"text_10\">\r\n    <!-- 1 -->\r\n    <defs>\r\n     <path d=\"M 12.40625 8.296875 \r\nL 28.515625 8.296875 \r\nL 28.515625 63.921875 \r\nL 10.984375 60.40625 \r\nL 10.984375 69.390625 \r\nL 28.421875 72.90625 \r\nL 38.28125 72.90625 \r\nL 38.28125 8.296875 \r\nL 54.390625 8.296875 \r\nL 54.390625 0 \r\nL 12.40625 0 \r\nz\r\n\" id=\"DejaVuSans-49\"/>\r\n    </defs>\r\n    <g transform=\"translate(74.304886 151.049184)scale(0.1728 -0.1728)\">\r\n     <use xlink:href=\"#DejaVuSans-49\"/>\r\n    </g>\r\n   </g>\r\n   <g id=\"text_11\">\r\n    <!-- 1 -->\r\n    <g transform=\"translate(141.409772 151.049184)scale(0.1728 -0.1728)\">\r\n     <use xlink:href=\"#DejaVuSans-49\"/>\r\n    </g>\r\n   </g>\r\n   <g id=\"text_12\">\r\n    <!-- 3 -->\r\n    <g transform=\"translate(208.514658 151.049184)scale(0.1728 -0.1728)\">\r\n     <use xlink:href=\"#DejaVuSans-51\"/>\r\n    </g>\r\n   </g>\r\n   <g id=\"text_13\">\r\n    <!-- 3 -->\r\n    <g transform=\"translate(7.2 216.408726)scale(0.1728 -0.1728)\">\r\n     <use xlink:href=\"#DejaVuSans-51\"/>\r\n    </g>\r\n   </g>\r\n   <g id=\"text_14\">\r\n    <!-- 0 -->\r\n    <defs>\r\n     <path d=\"M 31.78125 66.40625 \r\nQ 24.171875 66.40625 20.328125 58.90625 \r\nQ 16.5 51.421875 16.5 36.375 \r\nQ 16.5 21.390625 20.328125 13.890625 \r\nQ 24.171875 6.390625 31.78125 6.390625 \r\nQ 39.453125 6.390625 43.28125 13.890625 \r\nQ 47.125 21.390625 47.125 36.375 \r\nQ 47.125 51.421875 43.28125 58.90625 \r\nQ 39.453125 66.40625 31.78125 66.40625 \r\nz\r\nM 31.78125 74.21875 \r\nQ 44.046875 74.21875 50.515625 64.515625 \r\nQ 56.984375 54.828125 56.984375 36.375 \r\nQ 56.984375 17.96875 50.515625 8.265625 \r\nQ 44.046875 -1.421875 31.78125 -1.421875 \r\nQ 19.53125 -1.421875 13.0625 8.265625 \r\nQ 6.59375 17.96875 6.59375 36.375 \r\nQ 6.59375 54.828125 13.0625 64.515625 \r\nQ 19.53125 74.21875 31.78125 74.21875 \r\nz\r\n\" id=\"DejaVuSans-48\"/>\r\n    </defs>\r\n    <g transform=\"translate(74.304886 216.408726)scale(0.1728 -0.1728)\">\r\n     <use xlink:href=\"#DejaVuSans-48\"/>\r\n    </g>\r\n   </g>\r\n   <g id=\"text_15\">\r\n    <!-- 4 -->\r\n    <g transform=\"translate(141.409772 216.408726)scale(0.1728 -0.1728)\">\r\n     <use xlink:href=\"#DejaVuSans-52\"/>\r\n    </g>\r\n   </g>\r\n   <g id=\"text_16\">\r\n    <!-- 2 -->\r\n    <defs>\r\n     <path d=\"M 19.1875 8.296875 \r\nL 53.609375 8.296875 \r\nL 53.609375 0 \r\nL 7.328125 0 \r\nL 7.328125 8.296875 \r\nQ 12.9375 14.109375 22.625 23.890625 \r\nQ 32.328125 33.6875 34.8125 36.53125 \r\nQ 39.546875 41.84375 41.421875 45.53125 \r\nQ 43.3125 49.21875 43.3125 52.78125 \r\nQ 43.3125 58.59375 39.234375 62.25 \r\nQ 35.15625 65.921875 28.609375 65.921875 \r\nQ 23.96875 65.921875 18.8125 64.3125 \r\nQ 13.671875 62.703125 7.8125 59.421875 \r\nL 7.8125 69.390625 \r\nQ 13.765625 71.78125 18.9375 73 \r\nQ 24.125 74.21875 28.421875 74.21875 \r\nQ 39.75 74.21875 46.484375 68.546875 \r\nQ 53.21875 62.890625 53.21875 53.421875 \r\nQ 53.21875 48.921875 51.53125 44.890625 \r\nQ 49.859375 40.875 45.40625 35.40625 \r\nQ 44.1875 33.984375 37.640625 27.21875 \r\nQ 31.109375 20.453125 19.1875 8.296875 \r\nz\r\n\" id=\"DejaVuSans-50\"/>\r\n    </defs>\r\n    <g transform=\"translate(208.514658 216.408726)scale(0.1728 -0.1728)\">\r\n     <use xlink:href=\"#DejaVuSans-50\"/>\r\n    </g>\r\n   </g>\r\n  </g>\r\n </g>\r\n <defs>\r\n  <clipPath id=\"p114d0a9f79\">\r\n   <rect height=\"217.44\" width=\"223.2\" x=\"7.251729\" y=\"13.243113\"/>\r\n  </clipPath>\r\n </defs>\r\n</svg>\r\n",
      "image/png": "[encoded data removed]"
     },
     "metadata": {
      "needs_background": "light"
     }
    }
   ],
   "source": [
    "nodes_array, nodes_maze, connectivity  = plot_maze_path(annotate=True, chosen_path=True)"
   ]
  },
  {
   "cell_type": "code",
   "execution_count": 7,
   "metadata": {},
   "outputs": [
    {
     "output_type": "execute_result",
     "data": {
      "text/plain": [
       "array([[3, 6, 3, 8],\n",
       "       [3, 4, 9, 4],\n",
       "       [9, 1, 1, 3],\n",
       "       [3, 0, 4, 2]])"
      ]
     },
     "metadata": {},
     "execution_count": 7
    }
   ],
   "source": [
    "maze"
   ]
  },
  {
   "cell_type": "code",
   "execution_count": 64,
   "metadata": {},
   "outputs": [
    {
     "output_type": "execute_result",
     "data": {
      "text/plain": [
       "3"
      ]
     },
     "metadata": {},
     "execution_count": 64
    }
   ],
   "source": [
    "maze[0][0] "
   ]
  },
  {
   "cell_type": "code",
   "execution_count": 65,
   "metadata": {},
   "outputs": [],
   "source": [
    "def fill_initial_pheromones(Lij): # creates a 2D pheromone array where Lij is the original maze with time values. This sets the pheromones to be equal to the attractiveness/desirability of the vertex\n",
    "    pheromones = 1/Lij\n",
    "    pheromones[pheromones==1] = 0.65 \n",
    "    pheromones[pheromones>1] = 0.9999 # 1/0 becomes infinity so we replace these with 1s and to scale it, if a cell has distance 1 then it has 0.75\n",
    "    return pheromones"
   ]
  },
  {
   "cell_type": "code",
   "execution_count": 66,
   "metadata": {},
   "outputs": [],
   "source": [
    "initial_pheromones = fill_initial_pheromones(maze)\n",
    "pheromones = fill_initial_pheromones(maze) # initial pheromone concentration resembles the attractivity of each cell, use this for attractiveness and use nodes for distances\n",
    "move_attractiveness = fill_initial_pheromones(maze)"
   ]
  },
  {
   "cell_type": "code",
   "execution_count": 67,
   "metadata": {},
   "outputs": [
    {
     "output_type": "execute_result",
     "data": {
      "text/plain": [
       "array([[0.33333333, 0.16666667, 0.33333333, 0.125     ],\n",
       "       [0.33333333, 0.25      , 0.11111111, 0.25      ],\n",
       "       [0.11111111, 0.65      , 0.65      , 0.33333333],\n",
       "       [0.33333333, 0.9999    , 0.25      , 0.5       ]])"
      ]
     },
     "metadata": {},
     "execution_count": 67
    }
   ],
   "source": [
    "initial_pheromones"
   ]
  },
  {
   "cell_type": "code",
   "execution_count": 68,
   "metadata": {},
   "outputs": [
    {
     "output_type": "execute_result",
     "data": {
      "text/plain": [
       "array([[0.33333333, 0.16666667, 0.33333333, 0.125     ],\n",
       "       [0.33333333, 0.25      , 0.11111111, 0.25      ],\n",
       "       [0.11111111, 0.65      , 0.65      , 0.33333333],\n",
       "       [0.33333333, 0.9999    , 0.25      , 0.5       ]])"
      ]
     },
     "metadata": {},
     "execution_count": 68
    }
   ],
   "source": [
    "pheromones"
   ]
  },
  {
   "cell_type": "code",
   "execution_count": 69,
   "metadata": {},
   "outputs": [
    {
     "output_type": "execute_result",
     "data": {
      "text/plain": [
       "array([[0.33333333, 0.16666667, 0.33333333, 0.125     ],\n",
       "       [0.33333333, 0.25      , 0.11111111, 0.25      ],\n",
       "       [0.11111111, 0.65      , 0.65      , 0.33333333],\n",
       "       [0.33333333, 0.9999    , 0.25      , 0.5       ]])"
      ]
     },
     "metadata": {},
     "execution_count": 69
    }
   ],
   "source": [
    "move_attractiveness"
   ]
  },
  {
   "cell_type": "code",
   "execution_count": 70,
   "metadata": {},
   "outputs": [],
   "source": [
    "current_ant_loc = [0,0]"
   ]
  },
  {
   "cell_type": "code",
   "execution_count": 71,
   "metadata": {},
   "outputs": [],
   "source": [
    "def get_neighbours(maze, current_ant_loc): # returns a list of accessible nodes to the ant, THIS VERSION USES maze with nodes as vertices\n",
    "    neighbours = [] # contains the up, down, left, right accessible nodes for the ants\n",
    "   #if current_node_location contains 0 or positive numbers then append to neighbours else append None?\n",
    "    if current_ant_loc[0]-1 >= 0:\n",
    "        neighbours.append(maze[current_ant_loc[0]-1][current_ant_loc[1]])\n",
    "    else: neighbours.append(np.NaN)\n",
    "    if current_ant_loc[0]+1 <= height-1:\n",
    "        neighbours.append(maze[current_ant_loc[0]+1][current_ant_loc[1]])\n",
    "    else: neighbours.append(np.NaN)\n",
    "    if current_ant_loc[1]-1 >= 0:\n",
    "        neighbours.append(maze[current_ant_loc[0]][current_ant_loc[1]-1])\n",
    "    else: neighbours.append(np.NaN)\n",
    "    if current_ant_loc[1]+1 <= width-1:\n",
    "        neighbours.append(maze[current_ant_loc[0]][current_ant_loc[1]+1])\n",
    "    else: neighbours.append(np.NaN)\n",
    "    return neighbours"
   ]
  },
  {
   "cell_type": "code",
   "execution_count": 72,
   "metadata": {},
   "outputs": [
    {
     "output_type": "execute_result",
     "data": {
      "text/plain": [
       "array([nan,  3., nan,  6.])"
      ]
     },
     "metadata": {},
     "execution_count": 72
    }
   ],
   "source": [
    "neighbours = np.array(get_neighbours(maze, current_ant_loc))\n",
    "neighbours"
   ]
  },
  {
   "cell_type": "code",
   "execution_count": 73,
   "metadata": {},
   "outputs": [],
   "source": [
    "def get_neighbours_coords(maze, current_ant_loc): # returns a list of accessible cells to the ant, THIS VERSION USES maze with time values and their coordinates in the 2D array as vertices - NEEDED FOR GRAPH\n",
    "    neighbours_coords = [] # contains the up, down, left, right accessible nodes for the ants\n",
    "   #if current_node_location contains 0 or positive numbers then append to neighbours else append None?\n",
    "    if current_ant_loc[0]-1 >= 0:\n",
    "        neighbours_coords.append([current_ant_loc[0]-1, current_ant_loc[1]])\n",
    "    else: neighbours_coords.append(np.NaN)\n",
    "    if current_ant_loc[0]+1 <= height-1:\n",
    "        neighbours_coords.append([current_ant_loc[0]+1, current_ant_loc[1]])\n",
    "    else: neighbours_coords.append(np.NaN)\n",
    "    if current_ant_loc[1]-1 >= 0:\n",
    "        neighbours_coords.append([current_ant_loc[0], current_ant_loc[1]-1])\n",
    "    else: neighbours_coords.append(np.NaN)\n",
    "    if current_ant_loc[1]+1 <= width-1:\n",
    "        neighbours_coords.append([current_ant_loc[0], current_ant_loc[1]+1])\n",
    "    else: neighbours_coords.append(np.NaN)\n",
    "    return neighbours_coords"
   ]
  },
  {
   "cell_type": "code",
   "execution_count": 94,
   "metadata": {},
   "outputs": [
    {
     "output_type": "execute_result",
     "data": {
      "text/plain": [
       "array([nan, list([1, 0]), nan, list([0, 1])], dtype=object)"
      ]
     },
     "metadata": {},
     "execution_count": 94
    }
   ],
   "source": [
    "pheromone_neighbours_coords = np.array(get_neighbours_coords(pheromones, current_ant_loc))\n",
    "attractiveness_neighbours_coords = np.array(get_neighbours_coords(move_attractiveness, current_ant_loc))\n",
    "pheromone_neighbours_coords"
   ]
  },
  {
   "cell_type": "code",
   "execution_count": 111,
   "metadata": {},
   "outputs": [
    {
     "output_type": "execute_result",
     "data": {
      "text/plain": [
       "4"
      ]
     },
     "metadata": {},
     "execution_count": 111
    }
   ],
   "source": [
    "len(pheromone_neighbours_coords)"
   ]
  },
  {
   "cell_type": "code",
   "execution_count": 129,
   "metadata": {},
   "outputs": [],
   "source": [
    "def determine_Pij_neighbours(pheromones, move_attractiveness, current_ant_loc, path_of_selected_ant_coords, alpha, beta):\n",
    "    pheromone_neighbours = np.array(get_neighbours(pheromones, current_ant_loc))\n",
    "    attractiveness_neighbours = np.array(get_neighbours(move_attractiveness, current_ant_loc))\n",
    "    \n",
    "    pheromone_neighbours_coords = np.array(get_neighbours_coords(pheromones, current_ant_loc))\n",
    "    attractiveness_neighbours_coords = np.array(get_neighbours_coords(move_attractiveness, current_ant_loc))\n",
    "\n",
    "    if len(path_of_selected_ant_coords) >= 1:\n",
    "        for i in range(len(pheromone_neighbours_coords)):\n",
    "            bool_ = path_of_selected_ant_coords[-1] == pheromone_neighbours_coords[i]\n",
    "            if bool_ == True:\n",
    "                index_of_previous_ant_location = i \n",
    "        pheromone_neighbours[index_of_previous_ant_location] = 0.0           # set the probability of moving to the previous ant location = 0\n",
    "\n",
    "    pheromone_times_attractiveness = np.multiply(np.power(pheromone_neighbours, alpha), np.power(attractiveness_neighbours, beta))\n",
    "    \n",
    "    np.nan_to_num(pheromone_times_attractiveness,copy=False, nan=0)                # makes the probability of inaccessible nodes 0\n",
    "    \n",
    "    sum_pheromone_times_attractiveness = np.sum(pheromone_times_attractiveness)\n",
    "    \n",
    "    return pheromone_times_attractiveness/sum_pheromone_times_attractiveness # gives probabilities of choosing a cell to move to"
   ]
  },
  {
   "cell_type": "code",
   "execution_count": 130,
   "metadata": {},
   "outputs": [
    {
     "output_type": "execute_result",
     "data": {
      "text/plain": [
       "array([0.        , 0.08070618, 0.        , 0.91929382])"
      ]
     },
     "metadata": {},
     "execution_count": 130
    }
   ],
   "source": [
    "path_of_selected_ant_coords = [[0,0]]\n",
    "neighbour_Pij = determine_Pij_neighbours(pheromones, move_attractiveness, current_ant_loc, path_of_selected_ant_coords, alpha=1, beta=2)\n",
    "neighbour_Pij"
   ]
  },
  {
   "cell_type": "code",
   "execution_count": 120,
   "metadata": {},
   "outputs": [],
   "source": [
    "neighbours_nodes = get_neighbours(nodes_maze, current_ant_loc)"
   ]
  },
  {
   "cell_type": "code",
   "execution_count": 121,
   "metadata": {},
   "outputs": [
    {
     "output_type": "execute_result",
     "data": {
      "text/plain": [
       "[nan, array([0.        , 2.66666667]), nan, array([1.33333333, 4.        ])]"
      ]
     },
     "metadata": {},
     "execution_count": 121
    }
   ],
   "source": [
    "neighbours_nodes"
   ]
  },
  {
   "cell_type": "code",
   "execution_count": 122,
   "metadata": {},
   "outputs": [],
   "source": [
    "  ''' In ACS, the choice of the next node to visit is based on random choice but with the priority of better Pij values for this reason transition probability calculation is changed a bit to get value in the range 0-100%.'''\n",
    "  def ant_move(current_ant_loc, neighbour_Pij):\n",
    "    choice_cell_coords = list(np.random.choice(neighbours_coords, 1, True, neighbour_Pij))[0] # returns the coords of the chosen cell - CAN BE USED WITH NODE_MAZE AND MAZE TO IDENTIFY LOCATION\n",
    "    current_ant_loc[0] = choice_cell_index[0] #update current ant location\n",
    "    current_ant_loc[1] = choice_cell_index[1]\n",
    "    return choice_cell_coords, current_ant_loc\n",
    "#choice_cell = np.random.choice(neighbours, 1, True, neighbour_Pij)\n",
    "#choice_node = list(np.random.choice(neighbours_nodes, 1, True, neighbour_Pij))"
   ]
  },
  {
   "cell_type": "code",
   "execution_count": 123,
   "metadata": {},
   "outputs": [
    {
     "output_type": "stream",
     "name": "stdout",
     "text": [
      "[1, 0]\n[1, 0]\n"
     ]
    }
   ],
   "source": [
    "choice_cell_index, current_ant_loc = ant_move(current_ant_loc, neighbour_Pij)\n",
    "print(choice_cell_index)\n",
    "print(current_ant_loc)"
   ]
  },
  {
   "cell_type": "code",
   "execution_count": 273,
   "metadata": {},
   "outputs": [],
   "source": [
    "rho = 0.2 # evaporation factor\n",
    "def local_pheromone_update(pheromones, initial_pheromones, choice_cell_coords, rho): #new pheromone value at chosen cell/node\n",
    "    pheromones[choice_cell_coords[0]][choice_cell_coords[1]] = (1.0-rho) * (pheromones[choice_cell_coords[0]][choice_cell_coords[1]]) + (rho * initial_pheromones[choice_cell_coords[0]][choice_cell_coords[1]])\n",
    "    return pheromones"
   ]
  },
  {
   "cell_type": "code",
   "execution_count": 251,
   "metadata": {},
   "outputs": [
    {
     "output_type": "execute_result",
     "data": {
      "text/plain": [
       "array([[0.25      , 0.25      , 0.33333333, 0.65      ],\n",
       "       [0.14285714, 0.11111111, 0.9999    , 0.125     ],\n",
       "       [0.125     , 0.2       , 0.33333333, 0.5       ],\n",
       "       [0.5       , 0.65      , 0.65      , 0.9999    ]])"
      ]
     },
     "metadata": {},
     "execution_count": 251
    }
   ],
   "source": [
    "initial_pheromones"
   ]
  },
  {
   "cell_type": "code",
   "execution_count": 252,
   "metadata": {},
   "outputs": [
    {
     "output_type": "execute_result",
     "data": {
      "text/plain": [
       "array([[0.25      , 0.25      , 0.33333333, 0.65      ],\n",
       "       [0.14285714, 0.11111111, 0.9999    , 0.125     ],\n",
       "       [0.125     , 0.2       , 0.33333333, 0.5       ],\n",
       "       [0.5       , 0.65      , 0.65      , 0.9999    ]])"
      ]
     },
     "metadata": {},
     "execution_count": 252
    }
   ],
   "source": [
    "pheromones = local_pheromone_update(pheromones, choice_cell_coords, rho)\n",
    "pheromones"
   ]
  },
  {
   "cell_type": "code",
   "execution_count": null,
   "metadata": {},
   "outputs": [],
   "source": [
    "def global_pheromone_update(pheromones, path_of_selected_ant_coords, rho): #new pheromone value at chosen cell/node\n",
    "    for i, j in path_of_selected_ant_coords:\n",
    "        pheromones[choice_cell_coords[i]][choice_cell_coords[j]] = (1.0-rho) * (pheromones[choice_cell_coords[0]][choice_cell_coords[1]]) + (rho * initial_pheromones[choice_cell_coords[0]][choice_cell_coords[1]])\n",
    "    return pheromones"
   ]
  },
  {
   "source": [
    "## Main Loops"
   ],
   "cell_type": "markdown",
   "metadata": {}
  },
  {
   "cell_type": "code",
   "execution_count": null,
   "metadata": {},
   "outputs": [],
   "source": [
    "#First ant starts at [0,0] and then randomly walks, locally changing the pheromone content of the board. Once it has found a path to [height-1, width-1] i.e. the bottom right of the board, the pheromone content of cells on this path are updated globally by a small amount\n",
    "#Second ant then finds a path by picking the next cell to travel to in such a way that the cell with high pheromone value are more likely to be chosen than the cell with lower pheromone. Due to the random factor, the ant may sometimes pick the path with lower pheromone which can occasionally produce better/shorter path. If the ant succeeds, then increase the pheromone value on that path so the cells on the path are more likely to be chosen. If the ant doesn't succeed, then abort the ant and start again.\n",
    "#Occasionally, reduce the pheromone on the whole board so less successful cells would get picked less and less.\n",
    "#repeat sending ants\n",
    "#constraints -> ends when ant finds path to bottom right cell, ants cannot go to previously visited cells\n",
    "initial_pheromones = fill_initial_pheromones(maze) # initial pheromone concentration resembles the attractivity of each cell - this is a parameter used in the calculation of local pheromone update\n",
    "pheromones = fill_initial_pheromones(maze) # the 2D array of pheromones at each edge that is changed by ants\n",
    "move_attractiveness = fill_initial_pheromones(maze) # the attractivity of each node - stays the same\n",
    "num_ants = 10 \n",
    "paths_taken_by_all_ants = {} # dictionary to hold all the paths each ant takes in the loop\n",
    "paths_coords_taken_by_all_ants = {} # dictionary to hold all the indices of the path each ant takes in the loop\n",
    "total_distance_by_all_ants = {} \n",
    "for i in range(num_ants):\n",
    "    current_ant_loc = [0,0] \n",
    "    path_of_selected_ant = []\n",
    "    path_of_selected_ant.append(maze[current_ant_loc[0]][current_ant_loc[1]])\n",
    "    path_of_selected_ant_coords = []\n",
    "    path_of_selected_ant.append(current_ant_loc) # adds the starting location to the path\n",
    "    while current_ant_loc != [height-1, width-1]:\n",
    "        neighbours = np.array(get_neighbours(maze, current_ant_loc)) # returns array of neighbouring cells (up, down, left, right)\n",
    "        neighbours_coords = np.array(get_neighbours_coords(maze, current_ant_loc)) # returns array of the indices of the neighbouring cells(up, down, left, right)\n",
    "        neighbour_Pij = determine_Pij_neighbours(pheromones, move_attractiveness, current_ant_loc, path_of_selected_ant_coords, alpha=1, beta=2) #returns array of all the probabilities of moving to a neighbour - MAKE PROBABILITY OF MOVING TO PREVIOUS CELL 0\n",
    "        choice_cell_index, current_ant_loc = ant_move(current_ant_loc, neighbour_Pij) #chooses a neighbour to move to using a weighted random choice and updates the current ant location\n",
    "        pheromones = local_pheromone_update(pheromones, initial_pheromones, choice_cell_coords, rho=0.2) #updates the pheromone level of the cell the and has moved to.\n",
    "        path_of_selected_ant.append(maze[choice_cell_coords[0]][choice_cell_coords[1]]) # contains the time values of the path the ant takes in this loop\n",
    "        path_of_selected_ant_coords.append(choice_cell_coords) # contains the indices of the path the ant takes in this loop\n",
    "    distance_of_path_of_selected_ant = np.sum(path_of_selected_ant)\n",
    "    total_distance_by_all_ants[i] = distance_of_path_of_selected_ant\n",
    "    #then do global pheromone update check\n",
    "    global_pheromones = global_pheromone_update(pheromones, path_of_selected_ant_coords, rho)\n",
    "    paths_taken_by_all_ants[i] = path_of_selected_ant #iterates over a dictionary to add the path of each ant\n",
    "    paths_coords_taken_by_all_ants[i] = path_of_selected_ant_coords #iterates over a dictionary to add the path indices of each ant\n"
   ]
  },
  {
   "source": [
    "'''\n",
    "If alpha=0, probability of moving to a cell is based purely on heuristics. Cells close to each other are chosen. Behaves similar to a greedy algorithm.\n",
    "If beta=0, probability based on pheromone concentration. Sometimes can lead to localised search space."
   ],
   "cell_type": "code",
   "metadata": {},
   "execution_count": null,
   "outputs": []
  },
  {
   "source": [
    "## NODE PLOT "
   ],
   "cell_type": "markdown",
   "metadata": {}
  },
  {
   "cell_type": "code",
   "execution_count": 4,
   "metadata": {},
   "outputs": [],
   "source": [
    "def plot_maze_path(annotate=True, chosen_path=True): \n",
    "        c1 = np.array([0, width])\n",
    "        c2 = np.array([height, 0]) \n",
    "        dim = len(c1) \n",
    "        x_pts = np.linspace(c1[0], c2[0], width)\n",
    "        y_pts = np.linspace(c1[1], c2[1], height)\n",
    "        Xv, Yv = np.meshgrid(x_pts, y_pts)\n",
    "        numpts = width*height      \n",
    "        node_array = np.zeros((numpts, 2), dtype=float)\n",
    "        node_array[:,0] = np.reshape(Xv, numpts)\n",
    "        node_array[:,1] = np.reshape(Yv, numpts)\n",
    "        num_cells = int(width-1)*(height-1)\n",
    "        connectivity = np.zeros((num_cells, int(2**dim)), dtype=int)\n",
    "        rows, cols = height-1, width-1 \n",
    "        for row in range(rows):\n",
    "            for col in range(cols):\n",
    "                num = width*row + col\n",
    "                connectivity[cols*row + col] = [num+0, num+1, num+width, num+width+1]\n",
    "\n",
    "        annotations = maze.flatten()\n",
    "        X,Y = node_array.T\n",
    "        fig = plt.figure(figsize=(width,height)) \n",
    "        ax = fig.add_subplot(111)\n",
    "        ax.set_aspect('auto')\n",
    "        plt.axis('off')\n",
    "        plt.scatter(X,Y, marker='o', s=50, color='g', alpha=1.0)\n",
    "        if height == width:\n",
    "            plt.plot(Xv,Yv, linewidth=2, color='k', alpha=0.2)\n",
    "            plt.plot(Yv,Xv, linewidth=2, color='k', alpha=0.2)\n",
    "        if annotate:                    \n",
    "            for i, pos in enumerate(node_array):\n",
    "                plt.text(pos[0], pos[1],  str(annotations[i]), color='k', verticalalignment='bottom', horizontalalignment='right', fontsize='xx-large')\n",
    "            \n",
    "        nodes_coords = np.split(node_array, height)\n",
    "        '''\n",
    "        path_coords_grid = []\n",
    "        for x, y in option_coords[chosen_path]: # this needs to convert a path to coordinates on the graph\n",
    "            path_coords_grid.append(nodes_coords[x][y])\n",
    "        head_length = 0.1\n",
    "        if chosen_path:\n",
    "            for i in range(len(path_coords_grid)-1): # plots vectors for the shortest path\n",
    "                dx = path_coords_grid[i+1][0] - path_coords_grid[i][0]\n",
    "                dy = path_coords_grid[i+1][1] - path_coords_grid[i][1]\n",
    "                vec_ab = [dx,dy]\n",
    "                vec_ab_magnitude = np.sqrt(dx**2+dy**2)\n",
    "                dx = dx / vec_ab_magnitude\n",
    "                dy = dy / vec_ab_magnitude\n",
    "                vec_ab_magnitude = vec_ab_magnitude - head_length\n",
    "                plt.arrow(path_coords_grid[i][0], path_coords_grid[i][1], vec_ab_magnitude*dx, vec_ab_magnitude*dy, head_width=0.1, head_length=0.2, color='red')'''\n",
    "        plt.show(block=False)\n",
    "        return node_array, nodes_coords, connectivity"
   ]
  },
  {
   "source": [
    "## NOT USED"
   ],
   "cell_type": "markdown",
   "metadata": {}
  },
  {
   "cell_type": "code",
   "execution_count": 68,
   "metadata": {},
   "outputs": [],
   "source": [
    "def shortest_path_aco(graph, maze, start_node, end_node, n_ants, alpha, beta, rho, tau_min, tau_max, iteration_limit):\n",
    "    #d = np.ones((height,width), dtype=float)*np.inf\n",
    "    #pred = np.zeros((height,width), dtype=float)\n",
    "    #return d, pred\n",
    "#d, pred = shortest_path_aco(nodes_maze, maze, nodes_maze[0][0], nodes_maze[height-1][width-1], n_ants, alpha, beta, rho, tau_min, tau_max, iteration_limit)\n",
    "\n",
    "def euclidean(nodes): # use node array/coords for distances\n",
    "    distance = math.sqrt(pow(nodes[1] - nodes[1], 2) + pow(nodes[0] - nodes[0], 2))\n",
    "    return distance"
   ]
  },
  {
   "cell_type": "code",
   "execution_count": 55,
   "metadata": {},
   "outputs": [
    {
     "output_type": "execute_result",
     "data": {
      "text/plain": [
       "4.242640687119285"
      ]
     },
     "metadata": {},
     "execution_count": 55
    }
   ],
   "source": [
    "euclidean(node_coords[0][0], node_coords[2][2])"
   ]
  },
  {
   "source": [
    "fill_initial_pheromones(start_position=(0,0))"
   ],
   "cell_type": "code",
   "metadata": {},
   "execution_count": null,
   "outputs": []
  },
  {
   "cell_type": "code",
   "execution_count": null,
   "metadata": {},
   "outputs": [],
   "source": [
    "def fill_initial_pheromones(start_position): # creates a 2D phreromone array\n",
    "    pheromones = np.zeros((height,width), dtype=float)\n",
    "    Lij = euclidean(node_coords[start_position[0],[0]]) #returns array with distances for each node \n",
    "    for i in pheromones:\n",
    "        for j in i:\n",
    "            pheromones[j] = 1/Lij\n",
    "    return pheromones"
   ]
  },
  {
   "cell_type": "code",
   "execution_count": null,
   "metadata": {},
   "outputs": [],
   "source": [
    "'''city_to_city_score = pheromone ** alpha * (1.0 / distance) ** beta\n",
    "prob_of_going_to_city(i) = city_to_city_score(i) / sum_of_all_available_city_to_city_scores'''"
   ]
  }
 ]
}