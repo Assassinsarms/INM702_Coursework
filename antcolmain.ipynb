{
 "metadata": {
  "language_info": {
   "codemirror_mode": {
    "name": "ipython",
    "version": 3
   },
   "file_extension": ".py",
   "mimetype": "text/x-python",
   "name": "python",
   "nbconvert_exporter": "python",
   "pygments_lexer": "ipython3",
   "version": "3.8.1-final"
  },
  "orig_nbformat": 2,
  "kernelspec": {
   "name": "python38164bit5b68bb558570416495530c691bd9dd00",
   "display_name": "Python 3.8.1 64-bit"
  }
 },
 "nbformat": 4,
 "nbformat_minor": 2,
 "cells": [
  {
   "cell_type": "code",
   "execution_count": 2,
   "metadata": {},
   "outputs": [],
   "source": [
    "import math\n",
    "import matplotlib.pyplot as plt\n",
    "import random\n",
    "import numpy as np\n",
    "np.set_printoptions(threshold=sys.maxsize)"
   ]
  },
  {
   "cell_type": "code",
   "execution_count": 3,
   "metadata": {},
   "outputs": [],
   "source": [
    "height, width = 3, 3\n",
    "maze = np.array(np.random.randint(0, 10, size = (height, width)))\n"
   ]
  },
  {
   "cell_type": "code",
   "execution_count": null,
   "metadata": {},
   "outputs": [],
   "source": [
    "'''Ant colony optimisation. The choice of the cell to move to will depend on the distance between cells (attractivity) and pheromone level. Ants only decide on cells that are reachable. This gives a probability of moving from one cell to each neighbouring cell. And based on this the agent can sample and select one.\n",
    "Each cell has a probability of the ant transitioning to it and it needs to randomly select which one it goes to using a  weighted random.choice = doesn't have to be the optimal path, just a path using ant colony'''"
   ]
  },
  {
   "cell_type": "code",
   "execution_count": null,
   "metadata": {},
   "outputs": [],
   "source": [
    "'''It should be stressed that the Ant Colony Optimization has been constructed to seek solutions of NP-hardproblems. As such, there is thus no guarantee that the most optimumsolution will be always found. Therefore, the obtained results may be bothoptimal (accurate) and approximations that depend on the degree of fitnessof the algorithm itself for each individual problem to be solved.\n",
    "Thanks to a construction ofthe shortest path tree it is not necessary to find the shortest paths from thesource to all of the nodes one by one, but only to such nodes that have notyet been included in the tree.\n",
    "\n",
    "The number of ants influences considerably the accuracy of a solution obtained as a result of the operation of the algorithm. At the same time, it increases time of its operation.\n",
    "\n",
    "Ant  colony  optimization  is  an  iterative  algorithm.  At  eachiteration,  a  number  of  artificial  ants  are  considered.  Each  ofthem builds a solution by walking from vertex to vertex on thegraph with the constraint of not visiting any vertex that she hasalready  visited  in  her  walk.  At  each  step  of  the  solution  con-struction,  an  ant  selects  the  following  vertex  to  be  visitedaccording  to  a  stochastic  mechanism  that  is  biased  by  thepheromone: when in vertex i, the following vertex is selectedstochastically  among  the  previously  unvisited  ones  (see  Figure2). In particular, if jhas not been previously visited, it can beselected with a probability that is proportional to thepheromone associated with edge (i,j).\n",
    "\n",
    "VERTICES ARE NODES, EDGES ARE TIME VALUES/DISTANCE BETWEEN NODES, COORDINATES OF CELLS ARE NODES\n",
    "MEW REPRESENTS ATTRACTIVENESS OF A CELL WHICH IS 1/TIMEVALUES SO 1/MAZE\n",
    "'''"
   ]
  },
  {
   "cell_type": "code",
   "execution_count": 4,
   "metadata": {},
   "outputs": [
    {
     "output_type": "display_data",
     "data": {
      "text/plain": "<Figure size 216x216 with 1 Axes>",
      "image/svg+xml": "<?xml version=\"1.0\" encoding=\"utf-8\" standalone=\"no\"?>\r\n<!DOCTYPE svg PUBLIC \"-//W3C//DTD SVG 1.1//EN\"\r\n  \"http://www.w3.org/Graphics/SVG/1.1/DTD/svg11.dtd\">\r\n<!-- Created with matplotlib (https://matplotlib.org/) -->\r\n<svg height=\"185.734963pt\" version=\"1.1\" viewBox=\"0 0 184.128811 185.734963\" width=\"184.128811pt\" xmlns=\"http://www.w3.org/2000/svg\" xmlns:xlink=\"http://www.w3.org/1999/xlink\">\r\n <defs>\r\n  <style type=\"text/css\">\r\n*{stroke-linecap:butt;stroke-linejoin:round;}\r\n  </style>\r\n </defs>\r\n <g id=\"figure_1\">\r\n  <g id=\"patch_1\">\r\n   <path d=\"M 0 185.734963 \r\nL 184.128811 185.734963 \r\nL 184.128811 0 \r\nL 0 0 \r\nz\r\n\" style=\"fill:none;\"/>\r\n  </g>\r\n  <g id=\"axes_1\">\r\n   <g id=\"PathCollection_1\">\r\n    <defs>\r\n     <path d=\"M 0 3.535534 \r\nC 0.937635 3.535534 1.836992 3.163008 2.5 2.5 \r\nC 3.163008 1.836992 3.535534 0.937635 3.535534 0 \r\nC 3.535534 -0.937635 3.163008 -1.836992 2.5 -2.5 \r\nC 1.836992 -3.163008 0.937635 -3.535534 0 -3.535534 \r\nC -0.937635 -3.535534 -1.836992 -3.163008 -2.5 -2.5 \r\nC -3.163008 -1.836992 -3.535534 -0.937635 -3.535534 0 \r\nC -3.535534 0.937635 -3.163008 1.836992 -2.5 2.5 \r\nC -1.836992 3.163008 -0.937635 3.535534 0 3.535534 \r\nz\r\n\" id=\"md1a9a8041a\" style=\"stroke:#008000;\"/>\r\n    </defs>\r\n    <g clip-path=\"url(#pf5266c918b)\">\r\n     <use style=\"fill:#008000;stroke:#008000;\" x=\"18.1944\" xlink:href=\"#md1a9a8041a\" y=\"23.9238\"/>\r\n     <use style=\"fill:#008000;stroke:#008000;\" x=\"93.228811\" xlink:href=\"#md1a9a8041a\" y=\"23.9238\"/>\r\n     <use style=\"fill:#008000;stroke:#008000;\" x=\"168.263222\" xlink:href=\"#md1a9a8041a\" y=\"23.9238\"/>\r\n     <use style=\"fill:#008000;stroke:#008000;\" x=\"18.1944\" xlink:href=\"#md1a9a8041a\" y=\"96.994963\"/>\r\n     <use style=\"fill:#008000;stroke:#008000;\" x=\"93.228811\" xlink:href=\"#md1a9a8041a\" y=\"96.994963\"/>\r\n     <use style=\"fill:#008000;stroke:#008000;\" x=\"168.263222\" xlink:href=\"#md1a9a8041a\" y=\"96.994963\"/>\r\n     <use style=\"fill:#008000;stroke:#008000;\" x=\"18.1944\" xlink:href=\"#md1a9a8041a\" y=\"170.066126\"/>\r\n     <use style=\"fill:#008000;stroke:#008000;\" x=\"93.228811\" xlink:href=\"#md1a9a8041a\" y=\"170.066126\"/>\r\n     <use style=\"fill:#008000;stroke:#008000;\" x=\"168.263222\" xlink:href=\"#md1a9a8041a\" y=\"170.066126\"/>\r\n    </g>\r\n   </g>\r\n   <g id=\"line2d_1\">\r\n    <path clip-path=\"url(#pf5266c918b)\" d=\"M 18.1944 23.9238 \r\nL 18.1944 96.994963 \r\nL 18.1944 170.066126 \r\n\" style=\"fill:none;stroke:#000000;stroke-linecap:square;stroke-opacity:0.2;stroke-width:2;\"/>\r\n   </g>\r\n   <g id=\"line2d_2\">\r\n    <path clip-path=\"url(#pf5266c918b)\" d=\"M 93.228811 23.9238 \r\nL 93.228811 96.994963 \r\nL 93.228811 170.066126 \r\n\" style=\"fill:none;stroke:#000000;stroke-linecap:square;stroke-opacity:0.2;stroke-width:2;\"/>\r\n   </g>\r\n   <g id=\"line2d_3\">\r\n    <path clip-path=\"url(#pf5266c918b)\" d=\"M 168.263222 23.9238 \r\nL 168.263222 96.994963 \r\nL 168.263222 170.066126 \r\n\" style=\"fill:none;stroke:#000000;stroke-linecap:square;stroke-opacity:0.2;stroke-width:2;\"/>\r\n   </g>\r\n   <g id=\"line2d_4\">\r\n    <path clip-path=\"url(#pf5266c918b)\" d=\"M 168.263222 170.066126 \r\nL 93.228811 170.066126 \r\nL 18.1944 170.066126 \r\n\" style=\"fill:none;stroke:#000000;stroke-linecap:square;stroke-opacity:0.2;stroke-width:2;\"/>\r\n   </g>\r\n   <g id=\"line2d_5\">\r\n    <path clip-path=\"url(#pf5266c918b)\" d=\"M 168.263222 96.994963 \r\nL 93.228811 96.994963 \r\nL 18.1944 96.994963 \r\n\" style=\"fill:none;stroke:#000000;stroke-linecap:square;stroke-opacity:0.2;stroke-width:2;\"/>\r\n   </g>\r\n   <g id=\"line2d_6\">\r\n    <path clip-path=\"url(#pf5266c918b)\" d=\"M 168.263222 23.9238 \r\nL 93.228811 23.9238 \r\nL 18.1944 23.9238 \r\n\" style=\"fill:none;stroke:#000000;stroke-linecap:square;stroke-opacity:0.2;stroke-width:2;\"/>\r\n   </g>\r\n   <g id=\"text_1\">\r\n    <!-- 6 -->\r\n    <defs>\r\n     <path d=\"M 33.015625 40.375 \r\nQ 26.375 40.375 22.484375 35.828125 \r\nQ 18.609375 31.296875 18.609375 23.390625 \r\nQ 18.609375 15.53125 22.484375 10.953125 \r\nQ 26.375 6.390625 33.015625 6.390625 \r\nQ 39.65625 6.390625 43.53125 10.953125 \r\nQ 47.40625 15.53125 47.40625 23.390625 \r\nQ 47.40625 31.296875 43.53125 35.828125 \r\nQ 39.65625 40.375 33.015625 40.375 \r\nz\r\nM 52.59375 71.296875 \r\nL 52.59375 62.3125 \r\nQ 48.875 64.0625 45.09375 64.984375 \r\nQ 41.3125 65.921875 37.59375 65.921875 \r\nQ 27.828125 65.921875 22.671875 59.328125 \r\nQ 17.53125 52.734375 16.796875 39.40625 \r\nQ 19.671875 43.65625 24.015625 45.921875 \r\nQ 28.375 48.1875 33.59375 48.1875 \r\nQ 44.578125 48.1875 50.953125 41.515625 \r\nQ 57.328125 34.859375 57.328125 23.390625 \r\nQ 57.328125 12.15625 50.6875 5.359375 \r\nQ 44.046875 -1.421875 33.015625 -1.421875 \r\nQ 20.359375 -1.421875 13.671875 8.265625 \r\nQ 6.984375 17.96875 6.984375 36.375 \r\nQ 6.984375 53.65625 15.1875 63.9375 \r\nQ 23.390625 74.21875 37.203125 74.21875 \r\nQ 40.921875 74.21875 44.703125 73.484375 \r\nQ 48.484375 72.75 52.59375 71.296875 \r\nz\r\n\" id=\"DejaVuSans-54\"/>\r\n    </defs>\r\n    <g transform=\"translate(7.2 20.3301)scale(0.1728 -0.1728)\">\r\n     <use xlink:href=\"#DejaVuSans-54\"/>\r\n    </g>\r\n   </g>\r\n   <g id=\"text_2\">\r\n    <!-- 8 -->\r\n    <defs>\r\n     <path d=\"M 31.78125 34.625 \r\nQ 24.75 34.625 20.71875 30.859375 \r\nQ 16.703125 27.09375 16.703125 20.515625 \r\nQ 16.703125 13.921875 20.71875 10.15625 \r\nQ 24.75 6.390625 31.78125 6.390625 \r\nQ 38.8125 6.390625 42.859375 10.171875 \r\nQ 46.921875 13.96875 46.921875 20.515625 \r\nQ 46.921875 27.09375 42.890625 30.859375 \r\nQ 38.875 34.625 31.78125 34.625 \r\nz\r\nM 21.921875 38.8125 \r\nQ 15.578125 40.375 12.03125 44.71875 \r\nQ 8.5 49.078125 8.5 55.328125 \r\nQ 8.5 64.0625 14.71875 69.140625 \r\nQ 20.953125 74.21875 31.78125 74.21875 \r\nQ 42.671875 74.21875 48.875 69.140625 \r\nQ 55.078125 64.0625 55.078125 55.328125 \r\nQ 55.078125 49.078125 51.53125 44.71875 \r\nQ 48 40.375 41.703125 38.8125 \r\nQ 48.828125 37.15625 52.796875 32.3125 \r\nQ 56.78125 27.484375 56.78125 20.515625 \r\nQ 56.78125 9.90625 50.3125 4.234375 \r\nQ 43.84375 -1.421875 31.78125 -1.421875 \r\nQ 19.734375 -1.421875 13.25 4.234375 \r\nQ 6.78125 9.90625 6.78125 20.515625 \r\nQ 6.78125 27.484375 10.78125 32.3125 \r\nQ 14.796875 37.15625 21.921875 38.8125 \r\nz\r\nM 18.3125 54.390625 \r\nQ 18.3125 48.734375 21.84375 45.5625 \r\nQ 25.390625 42.390625 31.78125 42.390625 \r\nQ 38.140625 42.390625 41.71875 45.5625 \r\nQ 45.3125 48.734375 45.3125 54.390625 \r\nQ 45.3125 60.0625 41.71875 63.234375 \r\nQ 38.140625 66.40625 31.78125 66.40625 \r\nQ 25.390625 66.40625 21.84375 63.234375 \r\nQ 18.3125 60.0625 18.3125 54.390625 \r\nz\r\n\" id=\"DejaVuSans-56\"/>\r\n    </defs>\r\n    <g transform=\"translate(82.234411 20.3301)scale(0.1728 -0.1728)\">\r\n     <use xlink:href=\"#DejaVuSans-56\"/>\r\n    </g>\r\n   </g>\r\n   <g id=\"text_3\">\r\n    <!-- 8 -->\r\n    <g transform=\"translate(157.268822 20.3301)scale(0.1728 -0.1728)\">\r\n     <use xlink:href=\"#DejaVuSans-56\"/>\r\n    </g>\r\n   </g>\r\n   <g id=\"text_4\">\r\n    <!-- 7 -->\r\n    <defs>\r\n     <path d=\"M 8.203125 72.90625 \r\nL 55.078125 72.90625 \r\nL 55.078125 68.703125 \r\nL 28.609375 0 \r\nL 18.3125 0 \r\nL 43.21875 64.59375 \r\nL 8.203125 64.59375 \r\nz\r\n\" id=\"DejaVuSans-55\"/>\r\n    </defs>\r\n    <g transform=\"translate(7.2 93.401263)scale(0.1728 -0.1728)\">\r\n     <use xlink:href=\"#DejaVuSans-55\"/>\r\n    </g>\r\n   </g>\r\n   <g id=\"text_5\">\r\n    <!-- 6 -->\r\n    <g transform=\"translate(82.234411 93.401263)scale(0.1728 -0.1728)\">\r\n     <use xlink:href=\"#DejaVuSans-54\"/>\r\n    </g>\r\n   </g>\r\n   <g id=\"text_6\">\r\n    <!-- 3 -->\r\n    <defs>\r\n     <path d=\"M 40.578125 39.3125 \r\nQ 47.65625 37.796875 51.625 33 \r\nQ 55.609375 28.21875 55.609375 21.1875 \r\nQ 55.609375 10.40625 48.1875 4.484375 \r\nQ 40.765625 -1.421875 27.09375 -1.421875 \r\nQ 22.515625 -1.421875 17.65625 -0.515625 \r\nQ 12.796875 0.390625 7.625 2.203125 \r\nL 7.625 11.71875 \r\nQ 11.71875 9.328125 16.59375 8.109375 \r\nQ 21.484375 6.890625 26.8125 6.890625 \r\nQ 36.078125 6.890625 40.9375 10.546875 \r\nQ 45.796875 14.203125 45.796875 21.1875 \r\nQ 45.796875 27.640625 41.28125 31.265625 \r\nQ 36.765625 34.90625 28.71875 34.90625 \r\nL 20.21875 34.90625 \r\nL 20.21875 43.015625 \r\nL 29.109375 43.015625 \r\nQ 36.375 43.015625 40.234375 45.921875 \r\nQ 44.09375 48.828125 44.09375 54.296875 \r\nQ 44.09375 59.90625 40.109375 62.90625 \r\nQ 36.140625 65.921875 28.71875 65.921875 \r\nQ 24.65625 65.921875 20.015625 65.03125 \r\nQ 15.375 64.15625 9.8125 62.3125 \r\nL 9.8125 71.09375 \r\nQ 15.4375 72.65625 20.34375 73.4375 \r\nQ 25.25 74.21875 29.59375 74.21875 \r\nQ 40.828125 74.21875 47.359375 69.109375 \r\nQ 53.90625 64.015625 53.90625 55.328125 \r\nQ 53.90625 49.265625 50.4375 45.09375 \r\nQ 46.96875 40.921875 40.578125 39.3125 \r\nz\r\n\" id=\"DejaVuSans-51\"/>\r\n    </defs>\r\n    <g transform=\"translate(157.268822 93.401263)scale(0.1728 -0.1728)\">\r\n     <use xlink:href=\"#DejaVuSans-51\"/>\r\n    </g>\r\n   </g>\r\n   <g id=\"text_7\">\r\n    <!-- 0 -->\r\n    <defs>\r\n     <path d=\"M 31.78125 66.40625 \r\nQ 24.171875 66.40625 20.328125 58.90625 \r\nQ 16.5 51.421875 16.5 36.375 \r\nQ 16.5 21.390625 20.328125 13.890625 \r\nQ 24.171875 6.390625 31.78125 6.390625 \r\nQ 39.453125 6.390625 43.28125 13.890625 \r\nQ 47.125 21.390625 47.125 36.375 \r\nQ 47.125 51.421875 43.28125 58.90625 \r\nQ 39.453125 66.40625 31.78125 66.40625 \r\nz\r\nM 31.78125 74.21875 \r\nQ 44.046875 74.21875 50.515625 64.515625 \r\nQ 56.984375 54.828125 56.984375 36.375 \r\nQ 56.984375 17.96875 50.515625 8.265625 \r\nQ 44.046875 -1.421875 31.78125 -1.421875 \r\nQ 19.53125 -1.421875 13.0625 8.265625 \r\nQ 6.59375 17.96875 6.59375 36.375 \r\nQ 6.59375 54.828125 13.0625 64.515625 \r\nQ 19.53125 74.21875 31.78125 74.21875 \r\nz\r\n\" id=\"DejaVuSans-48\"/>\r\n    </defs>\r\n    <g transform=\"translate(7.2 166.472426)scale(0.1728 -0.1728)\">\r\n     <use xlink:href=\"#DejaVuSans-48\"/>\r\n    </g>\r\n   </g>\r\n   <g id=\"text_8\">\r\n    <!-- 0 -->\r\n    <g transform=\"translate(82.234411 166.472426)scale(0.1728 -0.1728)\">\r\n     <use xlink:href=\"#DejaVuSans-48\"/>\r\n    </g>\r\n   </g>\r\n   <g id=\"text_9\">\r\n    <!-- 5 -->\r\n    <defs>\r\n     <path d=\"M 10.796875 72.90625 \r\nL 49.515625 72.90625 \r\nL 49.515625 64.59375 \r\nL 19.828125 64.59375 \r\nL 19.828125 46.734375 \r\nQ 21.96875 47.46875 24.109375 47.828125 \r\nQ 26.265625 48.1875 28.421875 48.1875 \r\nQ 40.625 48.1875 47.75 41.5 \r\nQ 54.890625 34.8125 54.890625 23.390625 \r\nQ 54.890625 11.625 47.5625 5.09375 \r\nQ 40.234375 -1.421875 26.90625 -1.421875 \r\nQ 22.3125 -1.421875 17.546875 -0.640625 \r\nQ 12.796875 0.140625 7.71875 1.703125 \r\nL 7.71875 11.625 \r\nQ 12.109375 9.234375 16.796875 8.0625 \r\nQ 21.484375 6.890625 26.703125 6.890625 \r\nQ 35.15625 6.890625 40.078125 11.328125 \r\nQ 45.015625 15.765625 45.015625 23.390625 \r\nQ 45.015625 31 40.078125 35.4375 \r\nQ 35.15625 39.890625 26.703125 39.890625 \r\nQ 22.75 39.890625 18.8125 39.015625 \r\nQ 14.890625 38.140625 10.796875 36.28125 \r\nz\r\n\" id=\"DejaVuSans-53\"/>\r\n    </defs>\r\n    <g transform=\"translate(157.268822 166.472426)scale(0.1728 -0.1728)\">\r\n     <use xlink:href=\"#DejaVuSans-53\"/>\r\n    </g>\r\n   </g>\r\n  </g>\r\n </g>\r\n <defs>\r\n  <clipPath id=\"pf5266c918b\">\r\n   <rect height=\"163.08\" width=\"167.4\" x=\"9.528811\" y=\"15.454963\"/>\r\n  </clipPath>\r\n </defs>\r\n</svg>\r\n",
      "image/png": "[encoded data removed]"
     },
     "metadata": {
      "needs_background": "light"
     }
    }
   ],
   "source": [
    "nodes_array, nodes_maze, connectivity  = plot_nodes(annotate=True, chosen_path=True)"
   ]
  },
  {
   "cell_type": "code",
   "execution_count": 32,
   "metadata": {},
   "outputs": [
    {
     "output_type": "execute_result",
     "data": {
      "text/plain": [
       "array([[6, 8, 8],\n",
       "       [7, 6, 3],\n",
       "       [0, 0, 5]])"
      ]
     },
     "metadata": {},
     "execution_count": 32
    }
   ],
   "source": [
    "maze"
   ]
  },
  {
   "cell_type": "code",
   "execution_count": 9,
   "metadata": {},
   "outputs": [
    {
     "output_type": "execute_result",
     "data": {
      "text/plain": [
       "8"
      ]
     },
     "metadata": {},
     "execution_count": 9
    }
   ],
   "source": [
    "maze[0][2] # edge between vertex 0,1 and 0,2, 1,2 and 0, 2"
   ]
  },
  {
   "cell_type": "code",
   "execution_count": 186,
   "metadata": {},
   "outputs": [],
   "source": [
    "def fill_initial_pheromones(Lij): # creates a 2D pheromone array where Lij is the original maze with time values. This sets the pheromones to be equal to the attractiveness/desirability of the vertex\n",
    "    pheromones = 1/Lij\n",
    "    pheromones[pheromones==1] = 0.75 \n",
    "    pheromones[pheromones>1] = 0.9999 # 1/0 becomes infinity so we replace these with 1s and to scale it, if a cell has distance 1 then it has 0.75\n",
    "    return pheromones"
   ]
  },
  {
   "cell_type": "code",
   "execution_count": 187,
   "metadata": {},
   "outputs": [],
   "source": [
    "pheromones = fill_initial_pheromones(maze) # initial pheromone concentration resembles the attractivity of each cell, use this for attractiveness and use nodes for distances\n",
    "move_attractiveness = fill_initial_pheromones(maze)"
   ]
  },
  {
   "cell_type": "code",
   "execution_count": 188,
   "metadata": {},
   "outputs": [
    {
     "output_type": "execute_result",
     "data": {
      "text/plain": [
       "array([[0.16666667, 0.125     , 0.125     ],\n",
       "       [0.14285714, 0.16666667, 0.33333333],\n",
       "       [0.9999    , 0.9999    , 0.2       ]])"
      ]
     },
     "metadata": {},
     "execution_count": 188
    }
   ],
   "source": [
    "pheromones"
   ]
  },
  {
   "cell_type": "code",
   "execution_count": 189,
   "metadata": {},
   "outputs": [
    {
     "output_type": "execute_result",
     "data": {
      "text/plain": [
       "array([[0.16666667, 0.125     , 0.125     ],\n",
       "       [0.14285714, 0.16666667, 0.33333333],\n",
       "       [0.9999    , 0.9999    , 0.2       ]])"
      ]
     },
     "metadata": {},
     "execution_count": 189
    }
   ],
   "source": [
    "move_attractiveness"
   ]
  },
  {
   "cell_type": "code",
   "execution_count": 190,
   "metadata": {},
   "outputs": [
    {
     "output_type": "execute_result",
     "data": {
      "text/plain": [
       "[array([[0. , 3. ],\n",
       "        [1.5, 3. ],\n",
       "        [3. , 3. ]]),\n",
       " array([[0. , 1.5],\n",
       "        [1.5, 1.5],\n",
       "        [3. , 1.5]]),\n",
       " array([[0. , 0. ],\n",
       "        [1.5, 0. ],\n",
       "        [3. , 0. ]])]"
      ]
     },
     "metadata": {},
     "execution_count": 190
    }
   ],
   "source": [
    "nodes_maze"
   ]
  },
  {
   "cell_type": "code",
   "execution_count": 23,
   "metadata": {},
   "outputs": [
    {
     "output_type": "execute_result",
     "data": {
      "text/plain": [
       "array([1.5, 1.5])"
      ]
     },
     "metadata": {},
     "execution_count": 23
    }
   ],
   "source": [
    "nodes_maze[1][1]"
   ]
  },
  {
   "cell_type": "code",
   "execution_count": 205,
   "metadata": {},
   "outputs": [
    {
     "output_type": "execute_result",
     "data": {
      "text/plain": [
       "array([nan,  7., nan,  8.])"
      ]
     },
     "metadata": {},
     "execution_count": 205
    }
   ],
   "source": [
    "def get_neighbours(maze, current_ant_loc): # returns a list of accessible nodes to the ant, THIS VERSION USES maze with nodes as vertices\n",
    "    neighbours = [] # contains the up, down, left, right accessible nodes for the ants\n",
    "   #if current_node_location contains 0 or positive numbers then append to neighbours else append None?\n",
    "    if current_ant_loc[0]-1 >= 0:\n",
    "        neighbours.append(maze[current_ant_loc[0]-1][current_ant_loc[1]])\n",
    "    else: neighbours.append(np.NaN)\n",
    "    if current_ant_loc[0]+1 <= height-1:\n",
    "        neighbours.append(maze[current_ant_loc[0]+1][current_ant_loc[1]])\n",
    "    else: neighbours.append(np.NaN)\n",
    "    if current_ant_loc[1]-1 >= 0:\n",
    "        neighbours.append(maze[current_ant_loc[0]][current_ant_loc[1]-1])\n",
    "    else: neighbours.append(np.NaN)\n",
    "    if current_ant_loc[1]+1 <= width-1:\n",
    "        neighbours.append(maze[current_ant_loc[0]][current_ant_loc[1]+1])\n",
    "    else: neighbours.append(np.NaN)\n",
    "    return neighbours\n",
    "neighbours = np.array(get_neighbours(maze, [0, 0]))\n",
    "neighbours"
   ]
  },
  {
   "cell_type": "code",
   "execution_count": 226,
   "metadata": {},
   "outputs": [],
   "source": [
    "def determine_Pij_neighbours():\n",
    "    alpha, beta = 1.0, 2.0\n",
    "    pheromone_neighbours = np.array(get_neighbours(pheromones, [0,0]))\n",
    "    attractiveness_neighbours = np.array(get_neighbours(move_attractiveness, [0,0]))\n",
    "    pheromone_times_attractiveness = np.multiply( np.power(pheromone_neighbours, alpha), np.power(attractiveness_neighbours, beta ))\n",
    "    np.nan_to_num(pheromone_times_attractiveness,copy=False, nan=0) # makes the probability of inaccessible nodes 0\n",
    "    sum_pheromone_times_attractiveness = np.sum(pheromone_times_attractiveness)\n",
    "    return pheromone_times_attractiveness/sum_pheromone_times_attractiveness # gives probabilities of choosing a cell to move to"
   ]
  },
  {
   "cell_type": "code",
   "execution_count": 227,
   "metadata": {},
   "outputs": [
    {
     "output_type": "execute_result",
     "data": {
      "text/plain": [
       "array([0.        , 0.59883041, 0.        , 0.40116959])"
      ]
     },
     "metadata": {},
     "execution_count": 227
    }
   ],
   "source": [
    "determine_Pij_neighbours()"
   ]
  },
  {
   "cell_type": "code",
   "execution_count": null,
   "metadata": {},
   "outputs": [],
   "source": [
    "def choose_neighbours(Pij): #takes an input of the array of probabilities\n",
    "    ''' In ACS, the choice of the next node to visit is based on random choice but with the priority of better Pij values for this reason transition probability calculation is changed a bit to get value in the range 0-100%.'''\n",
    "    \n",
    "    return "
   ]
  },
  {
   "cell_type": "code",
   "execution_count": null,
   "metadata": {},
   "outputs": [],
   "source": [
    "while curr_position != [height-1, width-1]:\n",
    "    #find path\n",
    "    "
   ]
  },
  {
   "cell_type": "code",
   "execution_count": null,
   "metadata": {},
   "outputs": [],
   "source": [
    "def get_neighbours_coords(maze, current_ant_loc): # returns a list of accessible cells to the ant, THIS VERSION USES maze with time values and their coordinates in the 2D array as vertices - NEEDED FOR GRAPH\n",
    "    neighbours_coords = [] # contains the up, down, left, right accessible nodes for the ants\n",
    "   #if current_node_location contains 0 or positive numbers then append to neighbours else append None?\n",
    "    if current_ant_loc[0]-1 >= 0:\n",
    "        neighbours_coords.append([current_ant_loc[0]-1, current_ant_loc[1]])\n",
    "    else: neighbours_coords.append(np.NaN)\n",
    "    if current_ant_loc[0]+1 <= height-1:\n",
    "        neighbours_coords.append([current_ant_loc[0]+1, current_ant_loc[1]])\n",
    "    else: neighbours_coords.append(np.NaN)\n",
    "    if current_ant_loc[1]-1 >= 0:\n",
    "        neighbours_coords.append([current_ant_loc[0], current_ant_loc[1]-1])\n",
    "    else: neighbours_coords.append(np.NaN)\n",
    "    if current_ant_loc[1]+1 <= width-1:\n",
    "        neighbours_coords.append([current_ant_loc[0], current_ant_loc[1]+1])\n",
    "    else: neighbours_coords.append(np.NaN)\n",
    "    return neighbours_coords\n",
    "neighbours_coords = get_neighbours_coords(maze, [0, 0])\n",
    "neighbours_coords"
   ]
  },
  {
   "source": [
    "## NODE PLOT "
   ],
   "cell_type": "markdown",
   "metadata": {}
  },
  {
   "cell_type": "code",
   "execution_count": null,
   "metadata": {},
   "outputs": [],
   "source": [
    "def plot_maze_path(annotate=True, chosen_path=True): \n",
    "        c1 = np.array([0, width])\n",
    "        c2 = np.array([height, 0]) \n",
    "        dim = len(c1) \n",
    "        x_pts = np.linspace(c1[0], c2[0], width)\n",
    "        y_pts = np.linspace(c1[1], c2[1], height)\n",
    "        Xv, Yv = np.meshgrid(x_pts, y_pts)\n",
    "        numpts = width*height      \n",
    "        node_array = np.zeros((numpts, 2), dtype=float)\n",
    "        node_array[:,0] = np.reshape(Xv, numpts)\n",
    "        node_array[:,1] = np.reshape(Yv, numpts)\n",
    "        num_cells = int(width-1)*(height-1)\n",
    "        connectivity = np.zeros((num_cells, int(2**dim)), dtype=int)\n",
    "        rows, cols = height-1, width-1 \n",
    "        for row in range(rows):\n",
    "            for col in range(cols):\n",
    "                num = width*row + col\n",
    "                connectivity[cols*row + col] = [num+0, num+1, num+width, num+width+1]\n",
    "\n",
    "        annotations = maze.flatten()\n",
    "        X,Y = node_array.T\n",
    "        fig = plt.figure(figsize=(width,height)) \n",
    "        ax = fig.add_subplot(111)\n",
    "        ax.set_aspect('auto')\n",
    "        plt.axis('off')\n",
    "        plt.scatter(X,Y, marker='o', s=50, color='g', alpha=1.0)\n",
    "        if height == width:\n",
    "            plt.plot(Xv,Yv, linewidth=2, color='k', alpha=0.2)\n",
    "            plt.plot(Yv,Xv, linewidth=2, color='k', alpha=0.2)\n",
    "        if annotate:                    \n",
    "            for i, pos in enumerate(node_array):\n",
    "                plt.text(pos[0], pos[1],  str(annotations[i]), color='k', verticalalignment='bottom', horizontalalignment='right', fontsize='xx-large')\n",
    "            \n",
    "        nodes_coords = np.split(node_array, height)\n",
    "\n",
    "        path_coords_grid = []\n",
    "        for x, y in option_coords[chosen_path]: # this needs to convert a path to coordinates on the graph\n",
    "            path_coords_grid.append(nodes_coords[x][y])\n",
    "        head_length = 0.1\n",
    "        if chosen_path:\n",
    "            for i in range(len(path_coords_grid)-1): # plots vectors for the shortest path\n",
    "                dx = path_coords_grid[i+1][0] - path_coords_grid[i][0]\n",
    "                dy = path_coords_grid[i+1][1] - path_coords_grid[i][1]\n",
    "                vec_ab = [dx,dy]\n",
    "                vec_ab_magnitude = np.sqrt(dx**2+dy**2)\n",
    "                dx = dx / vec_ab_magnitude\n",
    "                dy = dy / vec_ab_magnitude\n",
    "                vec_ab_magnitude = vec_ab_magnitude - head_length\n",
    "                plt.arrow(path_coords_grid[i][0], path_coords_grid[i][1], vec_ab_magnitude*dx, vec_ab_magnitude*dy, head_width=0.1, head_length=0.2, color='red')\n",
    "        plt.show(block=False)\n",
    "        return node_array, nodes_coords, connectivity"
   ]
  },
  {
   "source": [
    "## NOT USED"
   ],
   "cell_type": "markdown",
   "metadata": {}
  },
  {
   "cell_type": "code",
   "execution_count": 68,
   "metadata": {},
   "outputs": [],
   "source": [
    "def shortest_path_aco(graph, maze, start_node, end_node, n_ants, alpha, beta, rho, tau_min, tau_max, iteration_limit):\n",
    "    #d = np.ones((height,width), dtype=float)*np.inf\n",
    "    #pred = np.zeros((height,width), dtype=float)\n",
    "    #return d, pred\n",
    "#d, pred = shortest_path_aco(nodes_maze, maze, nodes_maze[0][0], nodes_maze[height-1][width-1], n_ants, alpha, beta, rho, tau_min, tau_max, iteration_limit)\n",
    "\n",
    "def euclidean(nodes): # use node array/coords for distances\n",
    "    distance = math.sqrt(pow(nodes[1] - nodes[1], 2) + pow(nodes[0] - nodes[0], 2))\n",
    "    return distance"
   ]
  },
  {
   "cell_type": "code",
   "execution_count": 55,
   "metadata": {},
   "outputs": [
    {
     "output_type": "execute_result",
     "data": {
      "text/plain": [
       "4.242640687119285"
      ]
     },
     "metadata": {},
     "execution_count": 55
    }
   ],
   "source": [
    "euclidean(node_coords[0][0], node_coords[2][2])"
   ]
  },
  {
   "source": [
    "fill_initial_pheromones(start_position=(0,0))"
   ],
   "cell_type": "code",
   "metadata": {},
   "execution_count": null,
   "outputs": []
  },
  {
   "cell_type": "code",
   "execution_count": null,
   "metadata": {},
   "outputs": [],
   "source": [
    "def fill_initial_pheromones(start_position): # creates a 2D phreromone array\n",
    "    pheromones = np.zeros((height,width), dtype=float)\n",
    "    Lij = euclidean(node_coords[start_position[0],[0]]) #returns array with distances for each node \n",
    "    for i in pheromones:\n",
    "        for j in i:\n",
    "            pheromones[j] = 1/Lij\n",
    "    return pheromones"
   ]
  },
  {
   "cell_type": "code",
   "execution_count": null,
   "metadata": {},
   "outputs": [],
   "source": [
    "'''city_to_city_score = pheromone ** alpha * (1.0 / distance) ** beta\n",
    "prob_of_going_to_city(i) = city_to_city_score(i) / sum_of_all_available_city_to_city_scores'''"
   ]
  }
 ]
}