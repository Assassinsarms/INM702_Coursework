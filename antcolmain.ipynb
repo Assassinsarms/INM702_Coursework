{
 "metadata": {
  "language_info": {
   "codemirror_mode": {
    "name": "ipython",
    "version": 3
   },
   "file_extension": ".py",
   "mimetype": "text/x-python",
   "name": "python",
   "nbconvert_exporter": "python",
   "pygments_lexer": "ipython3",
   "version": "3.8.1-final"
  },
  "orig_nbformat": 2,
  "kernelspec": {
   "name": "python38164bit5b68bb558570416495530c691bd9dd00",
   "display_name": "Python 3.8.1 64-bit"
  }
 },
 "nbformat": 4,
 "nbformat_minor": 2,
 "cells": [
  {
   "source": [
    "'''Ant colony optimisation. The choice of the cell to move to will depend on the distance between cells (attractivity) and pheromone level. Ants only decide on cells that are reachable. This gives a probability of moving from one cell to each neighbouring cell. And based on this the agent can sample and select one.\n",
    "Each cell has a probability of the ant transitioning to it and it needs to randomly select which one it goes to using a  weighted random.choice = doesn't have to be the optimal path, just a path using ant colony'''"
   ],
   "cell_type": "code",
   "metadata": {},
   "execution_count": null,
   "outputs": []
  },
  {
   "source": [
    "'''It should be stressed that the Ant Colony Optimization has been constructed to seek solutions of NP-hardproblems. As such, there is thus no guarantee that the most optimumsolution will be always found. Therefore, the obtained results may be bothoptimal (accurate) and approximations that depend on the degree of fitnessof the algorithm itself for each individual problem to be solved.\n",
    "Thanks to a construction ofthe shortest path tree it is not necessary to find the shortest paths from thesource to all of the nodes one by one, but only to such nodes that have notyet been included in the tree.\n",
    "\n",
    "The number of ants influences considerably the accuracy of a solution obtained as a result of the operation of the algorithm. At the same time, it increases time of its operation.\n",
    "\n",
    "Ant  colony  optimization  is  an  iterative  algorithm.  At  eachiteration,  a  number  of  artificial  ants  are  considered.  Each  ofthem builds a solution by walking from vertex to vertex on thegraph with the constraint of not visiting any vertex that she hasalready  visited  in  her  walk.  At  each  step  of  the  solution  con-struction,  an  ant  selects  the  following  vertex  to  be  visitedaccording  to  a  stochastic  mechanism  that  is  biased  by  thepheromone: when in vertex i, the following vertex is selectedstochastically  among  the  previously  unvisited  ones  (see  Figure2). In particular, if jhas not been previously visited, it can beselected with a probability that is proportional to thepheromone associated with edge (i,j).\n",
    "\n",
    "VERTICES ARE NODES, EDGES ARE TIME VALUES/DISTANCE BETWEEN NODES, COORDINATES OF CELLS ARE NODES\n",
    "MEW REPRESENTS ATTRACTIVENESS OF A CELL WHICH IS 1/TIMEVALUES SO 1/MAZE\n",
    "'''"
   ],
   "cell_type": "code",
   "metadata": {},
   "execution_count": null,
   "outputs": []
  },
  {
   "cell_type": "code",
   "execution_count": 1,
   "metadata": {},
   "outputs": [],
   "source": [
    "import math\n",
    "import matplotlib.pyplot as plt\n",
    "import random\n",
    "import numpy as np\n",
    "np.set_printoptions(threshold=sys.maxsize)"
   ]
  },
  {
   "cell_type": "code",
   "execution_count": 2,
   "metadata": {},
   "outputs": [],
   "source": [
    "height, width = 3, 3\n",
    "maze = np.array(np.random.randint(0, 10, size = (height, width)))"
   ]
  },
  {
   "cell_type": "code",
   "execution_count": 3,
   "metadata": {},
   "outputs": [
    {
     "output_type": "execute_result",
     "data": {
      "text/plain": [
       "array([[4, 0, 9],\n",
       "       [5, 9, 6],\n",
       "       [2, 8, 8]])"
      ]
     },
     "metadata": {},
     "execution_count": 3
    }
   ],
   "source": [
    "maze"
   ]
  },
  {
   "cell_type": "code",
   "execution_count": 4,
   "metadata": {},
   "outputs": [
    {
     "output_type": "execute_result",
     "data": {
      "text/plain": [
       "4"
      ]
     },
     "metadata": {},
     "execution_count": 4
    }
   ],
   "source": [
    "maze[0][0] "
   ]
  },
  {
   "cell_type": "code",
   "execution_count": 24,
   "metadata": {},
   "outputs": [],
   "source": [
    "def fill_initial_pheromones(Lij): # creates a 2D pheromone array where Lij is the original maze with time values. This sets the pheromones to be equal to the attractiveness/desirability of the vertex\n",
    "    pheromones = 1/Lij\n",
    "    pheromones[pheromones==1] = 0.65 \n",
    "    pheromones[pheromones>1] = 0.70 # 1/0 becomes infinity so we replace these with 1s and to scale it, if a cell has distance 1 then it has 0.75\n",
    "    return pheromones"
   ]
  },
  {
   "cell_type": "code",
   "execution_count": 25,
   "metadata": {},
   "outputs": [],
   "source": [
    "initial_pheromones = fill_initial_pheromones(maze)\n",
    "pheromones = fill_initial_pheromones(maze) # initial pheromone concentration resembles the attractivity of each cell, use this for attractiveness and use nodes for distances\n",
    "move_attractiveness = fill_initial_pheromones(maze)"
   ]
  },
  {
   "cell_type": "code",
   "execution_count": 26,
   "metadata": {},
   "outputs": [
    {
     "output_type": "execute_result",
     "data": {
      "text/plain": [
       "array([[0.25      , 0.7       , 0.11111111],\n",
       "       [0.2       , 0.11111111, 0.16666667],\n",
       "       [0.5       , 0.125     , 0.125     ]])"
      ]
     },
     "metadata": {},
     "execution_count": 26
    }
   ],
   "source": [
    "initial_pheromones"
   ]
  },
  {
   "cell_type": "code",
   "execution_count": 27,
   "metadata": {},
   "outputs": [
    {
     "output_type": "execute_result",
     "data": {
      "text/plain": [
       "array([[0.25      , 0.7       , 0.11111111],\n",
       "       [0.2       , 0.11111111, 0.16666667],\n",
       "       [0.5       , 0.125     , 0.125     ]])"
      ]
     },
     "metadata": {},
     "execution_count": 27
    }
   ],
   "source": [
    "pheromones"
   ]
  },
  {
   "cell_type": "code",
   "execution_count": 28,
   "metadata": {},
   "outputs": [
    {
     "output_type": "execute_result",
     "data": {
      "text/plain": [
       "array([[0.25      , 0.7       , 0.11111111],\n",
       "       [0.2       , 0.11111111, 0.16666667],\n",
       "       [0.5       , 0.125     , 0.125     ]])"
      ]
     },
     "metadata": {},
     "execution_count": 28
    }
   ],
   "source": [
    "move_attractiveness"
   ]
  },
  {
   "cell_type": "code",
   "execution_count": 29,
   "metadata": {},
   "outputs": [],
   "source": [
    "current_ant_loc = [0,0]"
   ]
  },
  {
   "cell_type": "code",
   "execution_count": 30,
   "metadata": {},
   "outputs": [],
   "source": [
    "path_of_selected_ant = []"
   ]
  },
  {
   "cell_type": "code",
   "execution_count": 31,
   "metadata": {},
   "outputs": [],
   "source": [
    "path_of_selected_ant.append(maze[current_ant_loc[0]][current_ant_loc[1]])"
   ]
  },
  {
   "cell_type": "code",
   "execution_count": 32,
   "metadata": {},
   "outputs": [
    {
     "output_type": "execute_result",
     "data": {
      "text/plain": [
       "[4]"
      ]
     },
     "metadata": {},
     "execution_count": 32
    }
   ],
   "source": [
    "path_of_selected_ant"
   ]
  },
  {
   "cell_type": "code",
   "execution_count": 33,
   "metadata": {},
   "outputs": [],
   "source": [
    "path_of_selected_ant_coords = []"
   ]
  },
  {
   "cell_type": "code",
   "execution_count": 34,
   "metadata": {},
   "outputs": [],
   "source": [
    "path_of_selected_ant_coords.append(current_ant_loc) "
   ]
  },
  {
   "cell_type": "code",
   "execution_count": 35,
   "metadata": {},
   "outputs": [
    {
     "output_type": "execute_result",
     "data": {
      "text/plain": [
       "[[0, 0]]"
      ]
     },
     "metadata": {},
     "execution_count": 35
    }
   ],
   "source": [
    "path_of_selected_ant_coords"
   ]
  },
  {
   "cell_type": "code",
   "execution_count": 36,
   "metadata": {},
   "outputs": [],
   "source": [
    "def get_neighbours(maze, current_ant_loc): # returns a list of accessible nodes to the ant, THIS VERSION USES maze with nodes as vertices\n",
    "    neighbours = [] # contains the up, down, left, right accessible nodes for the ants\n",
    "   #if current_node_location contains 0 or positive numbers then append to neighbours else append None?\n",
    "    if current_ant_loc[0]-1 >= 0:\n",
    "        neighbours.append(maze[current_ant_loc[0]-1][current_ant_loc[1]])\n",
    "    else: neighbours.append(np.NaN)\n",
    "    if current_ant_loc[0]+1 <= height-1:\n",
    "        neighbours.append(maze[current_ant_loc[0]+1][current_ant_loc[1]])\n",
    "    else: neighbours.append(np.NaN)\n",
    "    if current_ant_loc[1]-1 >= 0:\n",
    "        neighbours.append(maze[current_ant_loc[0]][current_ant_loc[1]-1])\n",
    "    else: neighbours.append(np.NaN)\n",
    "    if current_ant_loc[1]+1 <= width-1:\n",
    "        neighbours.append(maze[current_ant_loc[0]][current_ant_loc[1]+1])\n",
    "    else: neighbours.append(np.NaN)\n",
    "    return neighbours"
   ]
  },
  {
   "cell_type": "code",
   "execution_count": 37,
   "metadata": {},
   "outputs": [
    {
     "output_type": "execute_result",
     "data": {
      "text/plain": [
       "array([nan,  5., nan,  0.])"
      ]
     },
     "metadata": {},
     "execution_count": 37
    }
   ],
   "source": [
    "neighbours = np.array(get_neighbours(maze, current_ant_loc))\n",
    "neighbours"
   ]
  },
  {
   "cell_type": "code",
   "execution_count": 38,
   "metadata": {},
   "outputs": [],
   "source": [
    "def get_neighbours_coords(maze, current_ant_loc): # returns a list of accessible cells to the ant, THIS VERSION USES maze with time values and their coordinates in the 2D array as vertices - NEEDED FOR GRAPH\n",
    "    neighbours_coords = [] # contains the up, down, left, right accessible nodes for the ants\n",
    "   #if current_node_location contains 0 or positive numbers then append to neighbours else append None?\n",
    "    if current_ant_loc[0]-1 >= 0:\n",
    "        neighbours_coords.append([current_ant_loc[0]-1, current_ant_loc[1]])\n",
    "    else: neighbours_coords.append('Not Possible')\n",
    "    if current_ant_loc[0]+1 <= height-1:\n",
    "        neighbours_coords.append([current_ant_loc[0]+1, current_ant_loc[1]])\n",
    "    else: neighbours_coords.append('Not Possible')\n",
    "    if current_ant_loc[1]-1 >= 0:\n",
    "        neighbours_coords.append([current_ant_loc[0], current_ant_loc[1]-1])\n",
    "    else: neighbours_coords.append('Not Possible')\n",
    "    if current_ant_loc[1]+1 <= width-1:\n",
    "        neighbours_coords.append([current_ant_loc[0], current_ant_loc[1]+1])\n",
    "    else: neighbours_coords.append('Not Possible')\n",
    "    return neighbours_coords"
   ]
  },
  {
   "cell_type": "code",
   "execution_count": 39,
   "metadata": {},
   "outputs": [
    {
     "output_type": "execute_result",
     "data": {
      "text/plain": [
       "array(['Not Possible', list([1, 0]), 'Not Possible', list([0, 1])],\n",
       "      dtype=object)"
      ]
     },
     "metadata": {},
     "execution_count": 39
    }
   ],
   "source": [
    "neighbours_coords = np.array(get_neighbours_coords(maze, current_ant_loc))\n",
    "neighbours_coords"
   ]
  },
  {
   "cell_type": "code",
   "execution_count": 40,
   "metadata": {},
   "outputs": [
    {
     "output_type": "execute_result",
     "data": {
      "text/plain": [
       "array([nan, 0.2, nan, 0.7])"
      ]
     },
     "metadata": {},
     "execution_count": 40
    }
   ],
   "source": [
    "pheromone_neighbours = np.array(get_neighbours(pheromones, current_ant_loc))\n",
    "pheromone_neighbours"
   ]
  },
  {
   "source": [
    "        '''\n",
    "        for i in path_of_selected_ant_coords:\n",
    "            if i == np.any(pheromone_neighbours_coords):\n",
    "                index_of_previous_ant_location = \n",
    "                pheromone_neighbours[index_of_previous_ant_location] = 0.0\n",
    "        for i in range(len(pheromone_neighbours_coords)):\n",
    "            if pheromone_neighbours_coords[i][0] == path_of_selected_ant_coords[-1][0] and pheromone_neighbours_coords[i][1] == path_of_selected_ant_coords[-1][1]:\n",
    "                index_of_previous_ant_location = i\n",
    "                pheromone_neighbours[index_of_previous_ant_location] = 0.0                                 # set the probability of moving to the previous ant location = 0\n",
    "        '''"
   ],
   "cell_type": "code",
   "metadata": {},
   "execution_count": null,
   "outputs": []
  },
  {
   "cell_type": "code",
   "execution_count": 42,
   "metadata": {},
   "outputs": [
    {
     "output_type": "execute_result",
     "data": {
      "text/plain": [
       "array([[4, 0, 9],\n",
       "       [5, 9, 6],\n",
       "       [2, 8, 8]])"
      ]
     },
     "metadata": {},
     "execution_count": 42
    }
   ],
   "source": [
    "maze"
   ]
  },
  {
   "cell_type": "code",
   "execution_count": 43,
   "metadata": {},
   "outputs": [],
   "source": [
    "def determine_Pij_neighbours(pheromones, move_attractiveness, current_ant_loc, path_of_selected_ant_coords, alpha, beta):\n",
    "    pheromone_neighbours = np.array(get_neighbours(pheromones, current_ant_loc))\n",
    "    attractiveness_neighbours = np.array(get_neighbours(move_attractiveness, current_ant_loc))\n",
    "    \n",
    "    pheromone_neighbours_coords = np.array(get_neighbours_coords(pheromones, current_ant_loc))\n",
    "    attractiveness_neighbours_coords = np.array(get_neighbours_coords(move_attractiveness, current_ant_loc))\n",
    "    '''\n",
    "    if len(path_of_selected_ant_coords) > 1:\n",
    "        for i in range(len(pheromone_neighbours_coords)):\n",
    "            if pheromone_neighbours_coords[i][0] == path_of_selected_ant_coords[-1][0] and pheromone_neighbours_coords[i][1] == path_of_selected_ant_coords[-1][1]:\n",
    "                index_of_previous_ant_location = i\n",
    "                pheromone_neighbours[index_of_previous_ant_location] = 0.0                                 # set the probability of moving to the previous ant location = 0\n",
    "        #for i in range(len(pheromone_neighbours_coords)):\n",
    "        #    for j in range(len(path_of_selected_ant_coords)):\n",
    "        #        if pheromone_neighbours_coords[i][0] == path_of_selected_ant_coords[j][0] and pheromone_neighbours_coords[i][1] == path_of_selected_ant_coords[j][1]:\n",
    "        #            pheromone_neighbours[i] = 0.0        \n",
    "    '''\n",
    "    pheromone_times_attractiveness = np.multiply(np.power(pheromone_neighbours, alpha), np.power(attractiveness_neighbours, beta))\n",
    "\n",
    "    np.nan_to_num(pheromone_times_attractiveness, copy=False, nan=0)                # makes the probability of inaccessible nodes 0\n",
    "    for i in range(len(pheromone_neighbours_coords)):\n",
    "        for j in range(len(path_of_selected_ant_coords)):\n",
    "            if pheromone_neighbours_coords[i][0] == path_of_selected_ant_coords[j][0] and pheromone_neighbours_coords[i][1] == path_of_selected_ant_coords[j][1]:\n",
    "                pheromone_times_attractiveness[i] = 0                                                                           # if the chosen cell is in the path already traversed, probability = 0\n",
    "    Pij = pheromone_times_attractiveness/np.sum(pheromone_times_attractiveness)                                                 # gives probabilities of choosing a cell to move to\n",
    "    return Pij"
   ]
  },
  {
   "source": [
    "neighbour_Pij = determine_Pij_neighbours(pheromones, move_attractiveness, current_ant_loc, path_of_selected_ant_coords, alpha=1, beta=2)\n",
    "neighbour_Pij"
   ],
   "cell_type": "code",
   "metadata": {},
   "execution_count": 44,
   "outputs": [
    {
     "output_type": "execute_result",
     "data": {
      "text/plain": [
       "array([0.        , 0.02279202, 0.        , 0.97720798])"
      ]
     },
     "metadata": {},
     "execution_count": 44
    }
   ]
  },
  {
   "cell_type": "code",
   "execution_count": 545,
   "metadata": {},
   "outputs": [
    {
     "output_type": "stream",
     "name": "stdout",
     "text": [
      "0\n3\n"
     ]
    }
   ],
   "source": [
    "p = [[0, 0], [1, 0], [1, 1], [2, 1], [2, 0]]\n",
    "n = [[1, 0], 'Not Possible', 'Not Possible', [2,1]]\n",
    "for i in range(len(n)):\n",
    "    for j in range(len(p)):\n",
    "        if n[i][0] == p[j][0] and n[i][1] == p[j][1]:\n",
    "            print(i)"
   ]
  },
  {
   "cell_type": "code",
   "execution_count": 46,
   "metadata": {},
   "outputs": [
    {
     "output_type": "execute_result",
     "data": {
      "text/plain": [
       "[0, 0]"
      ]
     },
     "metadata": {},
     "execution_count": 46
    }
   ],
   "source": [
    "current_ant_loc"
   ]
  },
  {
   "cell_type": "code",
   "execution_count": 47,
   "metadata": {},
   "outputs": [
    {
     "output_type": "execute_result",
     "data": {
      "text/plain": [
       "[[0, 0]]"
      ]
     },
     "metadata": {},
     "execution_count": 47
    }
   ],
   "source": [
    "path_of_selected_ant_coords"
   ]
  },
  {
   "cell_type": "code",
   "execution_count": 48,
   "metadata": {},
   "outputs": [
    {
     "output_type": "execute_result",
     "data": {
      "text/plain": [
       "array(['Not Possible', list([1, 0]), 'Not Possible', list([0, 1])],\n",
       "      dtype=object)"
      ]
     },
     "metadata": {},
     "execution_count": 48
    }
   ],
   "source": [
    "np.array(get_neighbours_coords(pheromones, current_ant_loc))"
   ]
  },
  {
   "cell_type": "code",
   "execution_count": 49,
   "metadata": {},
   "outputs": [
    {
     "output_type": "execute_result",
     "data": {
      "text/plain": [
       "array([[4, 0, 9],\n",
       "       [5, 9, 6],\n",
       "       [2, 8, 8]])"
      ]
     },
     "metadata": {},
     "execution_count": 49
    }
   ],
   "source": [
    "maze"
   ]
  },
  {
   "cell_type": "code",
   "execution_count": 53,
   "metadata": {},
   "outputs": [
    {
     "output_type": "execute_result",
     "data": {
      "text/plain": [
       "2"
      ]
     },
     "metadata": {},
     "execution_count": 53
    }
   ],
   "source": [
    "np.count_nonzero(neighbour_Pij)\n"
   ]
  },
  {
   "cell_type": "code",
   "execution_count": null,
   "metadata": {},
   "outputs": [],
   "source": [
    "p = [0, 1, 2 ,3\n",
    "a = "
   ]
  },
  {
   "cell_type": "code",
   "execution_count": null,
   "metadata": {},
   "outputs": [],
   "source": [
    "neighbours_coords[np.random.choice(neighbours_coords.shape[0], np.count_nonzero(neighbour_Pij), False, neighbour_Pij)]"
   ]
  },
  {
   "cell_type": "code",
   "execution_count": null,
   "metadata": {},
   "outputs": [],
   "source": [
    "neighbours_coords[np.random.choice(neighbours_coords.shape[0], np.count_nonzero(neighbour_Pij), False, neighbour_Pij)]"
   ]
  },
  {
   "cell_type": "code",
   "execution_count": 68,
   "metadata": {},
   "outputs": [
    {
     "output_type": "execute_result",
     "data": {
      "text/plain": [
       "array([[0, 1],\n",
       "       [2, 1],\n",
       "       [1, 0],\n",
       "       [1, 2]])"
      ]
     },
     "metadata": {},
     "execution_count": 68
    }
   ],
   "source": [
    "neighbours_coords"
   ]
  },
  {
   "cell_type": "code",
   "execution_count": 77,
   "metadata": {},
   "outputs": [
    {
     "output_type": "stream",
     "name": "stdout",
     "text": [
      "[0 1]\n"
     ]
    },
    {
     "output_type": "error",
     "ename": "IndexError",
     "evalue": "invalid index to scalar variable.",
     "traceback": [
      "\u001b[1;31m---------------------------------------------------------------------------\u001b[0m",
      "\u001b[1;31mIndexError\u001b[0m                                Traceback (most recent call last)",
      "\u001b[1;32m<ipython-input-77-e10ec48bbf13>\u001b[0m in \u001b[0;36m<module>\u001b[1;34m\u001b[0m\n\u001b[0;32m      4\u001b[0m \u001b[0mrnd_indices2\u001b[0m \u001b[1;33m=\u001b[0m \u001b[0mnp\u001b[0m\u001b[1;33m.\u001b[0m\u001b[0mrandom\u001b[0m\u001b[1;33m.\u001b[0m\u001b[0mchoice\u001b[0m\u001b[1;33m(\u001b[0m\u001b[0mpossible_choice_cell_coords\u001b[0m\u001b[1;33m.\u001b[0m\u001b[0mshape\u001b[0m\u001b[1;33m[\u001b[0m\u001b[1;36m0\u001b[0m\u001b[1;33m]\u001b[0m\u001b[1;33m,\u001b[0m \u001b[1;36m1\u001b[0m\u001b[1;33m,\u001b[0m \u001b[1;32mFalse\u001b[0m\u001b[1;33m)\u001b[0m\u001b[1;33m\u001b[0m\u001b[1;33m\u001b[0m\u001b[0m\n\u001b[0;32m      5\u001b[0m \u001b[0mchoice_cell_coords\u001b[0m \u001b[1;33m=\u001b[0m \u001b[0mpossible_choice_cell_coords\u001b[0m\u001b[1;33m[\u001b[0m\u001b[0mrnd_indices2\u001b[0m\u001b[1;33m]\u001b[0m\u001b[1;33m[\u001b[0m\u001b[1;36m0\u001b[0m\u001b[1;33m]\u001b[0m\u001b[1;33m\u001b[0m\u001b[1;33m\u001b[0m\u001b[0m\n\u001b[1;32m----> 6\u001b[1;33m \u001b[0mprint\u001b[0m\u001b[1;33m(\u001b[0m\u001b[0mchoice_cell_coords\u001b[0m\u001b[1;33m[\u001b[0m\u001b[1;36m0\u001b[0m\u001b[1;33m]\u001b[0m\u001b[1;33m)\u001b[0m\u001b[1;33m\u001b[0m\u001b[1;33m\u001b[0m\u001b[0m\n\u001b[0m",
      "\u001b[1;31mIndexError\u001b[0m: invalid index to scalar variable."
     ]
    }
   ],
   "source": [
    "rnd_indices = np.random.choice(neighbours_coords.shape[0], np.count_nonzero(neighbour_Pij), False, neighbour_Pij)\n",
    "possible_choice_cell_coords = neighbours_coords[rnd_indices][0]\n",
    "print(possible_choice_cell_coords)\n",
    "rnd_indices2 = np.random.choice(possible_choice_cell_coords.shape[0], 1, False)\n",
    "choice_cell_coords = possible_choice_cell_coords[rnd_indices2][0]\n",
    "print(choice_cell_coords[0])"
   ]
  },
  {
   "cell_type": "code",
   "execution_count": 64,
   "metadata": {},
   "outputs": [],
   "source": [
    "''' In ACS, the choice of the next node to visit is based on random choice but with the priority of better Pij values for this reason transition probability calculation is changed a bit to get value in the range 0-100%.'''\n",
    "def ant_move(neighbour_Pij, neighbours_coords):\n",
    "  possible_choice_cell_coords = neighbours_coords[np.random.choice(neighbours_coords.shape[0], np.count_nonzero(neighbour_Pij), False, neighbour_Pij)]\n",
    "  choice_cell_coords = np.random.choice(possible_choice_cell_coords, 1, False)[0]\n",
    "  for i in range(len(path_of_selected_ant_coords)):\n",
    "    if choice_cell_coords[0] == path_of_selected_ant_coords[i][0] and choice_cell_coords[1] == path_of_selected_ant_coords[i][1]:\n",
    "      while choice_cell_coords[0] == path_of_selected_ant_coords[i][0] and choice_cell_coords[1] == path_of_selected_ant_coords[i][1]:\n",
    "          choice_cell_coords = np.random.choice(possible_choice_cell_coords, 1, False)[0]  \n",
    "  new_ant_loc = choice_cell_coords\n",
    "  return choice_cell_coords, new_ant_loc\n",
    "\n",
    "  #if choice_cell_coords in path_of_selected_ant_coords:\n",
    "  #  while choice_cell_coords in path_of_selected_ant_coords:\n",
    "  #    choice_cell_coords = neighbours_coords[np.random.choice(neighbours_coords.shape[0], 1, False, neighbour_Pij)][0]\n",
    "  #new_ant_loc = choice_cell_coords\n",
    "  #choice_cell_coords = neighbours_coords[np.random.choice(neighbours_coords.shape[0], 1, False, neighbour_Pij)][0] # returns the coords of the chosen cell - CAN BE USED WITH NODE_MAZE AND MAZE TO IDENTIFY LOCATION\n",
    "  #new_ant_loc = choice_cell_coords # update current ant location\n",
    "  \n",
    "#choice_cell = np.random.choice(neighbours, 1, True, neighbour_Pij)\n",
    "#choice_node = list(np.random.choice(neighbours_nodes, 1, True, neighbour_Pij))"
   ]
  },
  {
   "source": [
    "p = [[0, 0], [0, 1], [0, 2], [1, 2], [1, 1]]\n",
    "n = [1,1]\n",
    "pij = [0.1, 0.2, 0.6, 0.1]\n",
    "n_coords = np.array([1,2,3,4])\n",
    "choice_coord_ind = np.random.choice(n_coords.shape[0], 1, False, pij)\n",
    "print(choice_coord_ind)\n",
    "choice = n_coords[choice_coord_ind][0]\n",
    "print(choice) # we don't like this choice for some reason\n",
    "pij[choice_coord_ind[0]] = 0\n",
    "choice_coord_ind2 = np.random.choice(n_coords.shape[0], 1, False, pij) #sorted(pij, reverse=True)[1]# choose second highest instead?\n",
    "print(choice_coord_ind2)\n",
    "choice2 = n_coords[choice_coord_ind2][0]\n",
    "print(choice2)\n",
    "#for i in range(len(p)):\n",
    " #   if n[0] == p[i][0] and n[1] == p[i][1]:\n",
    " #       while n[0] == p[i][0] and n[1] == p[i][1]:\n",
    " #           n = [1,3]\n",
    " #           print('no')\n",
    "            "
   ],
   "cell_type": "code",
   "metadata": {},
   "execution_count": null,
   "outputs": []
  },
  {
   "cell_type": "code",
   "execution_count": 554,
   "metadata": {},
   "outputs": [
    {
     "output_type": "execute_result",
     "data": {
      "text/plain": [
       "[[0, 0]]"
      ]
     },
     "metadata": {},
     "execution_count": 554
    }
   ],
   "source": [
    "path_of_selected_ant_coords"
   ]
  },
  {
   "cell_type": "code",
   "execution_count": 556,
   "metadata": {},
   "outputs": [
    {
     "output_type": "execute_result",
     "data": {
      "text/plain": [
       "[0, 1]"
      ]
     },
     "metadata": {},
     "execution_count": 556
    }
   ],
   "source": [
    "choice_cell_coords, current_ant_loc = ant_move(neighbour_Pij, neighbours_coords)\n",
    "choice_cell_coords"
   ]
  },
  {
   "cell_type": "code",
   "execution_count": 557,
   "metadata": {},
   "outputs": [
    {
     "output_type": "execute_result",
     "data": {
      "text/plain": [
       "[0, 1]"
      ]
     },
     "metadata": {},
     "execution_count": 557
    }
   ],
   "source": [
    "current_ant_loc"
   ]
  },
  {
   "cell_type": "code",
   "execution_count": 558,
   "metadata": {},
   "outputs": [
    {
     "output_type": "execute_result",
     "data": {
      "text/plain": [
       "[[0, 0]]"
      ]
     },
     "metadata": {},
     "execution_count": 558
    }
   ],
   "source": [
    "path_of_selected_ant_coords"
   ]
  },
  {
   "cell_type": "code",
   "execution_count": 58,
   "metadata": {},
   "outputs": [],
   "source": [
    "rho = 0.2 # evaporation factor\n",
    "def local_pheromone_update(pheromones, initial_pheromones, choice_cell_coords, rho): #new pheromone value at chosen cell/node\n",
    "    pheromones[choice_cell_coords[0]][choice_cell_coords[1]] = (1.0-rho) * (pheromones[choice_cell_coords[0]][choice_cell_coords[1]]) + (rho * initial_pheromones[choice_cell_coords[0]][choice_cell_coords[1]])\n",
    "    return pheromones"
   ]
  },
  {
   "cell_type": "code",
   "execution_count": 560,
   "metadata": {},
   "outputs": [
    {
     "output_type": "execute_result",
     "data": {
      "text/plain": [
       "array([[0.16666667, 0.8       , 0.125     ],\n",
       "       [0.16666667, 0.65      , 0.16666667],\n",
       "       [0.16666667, 0.14285714, 0.2       ]])"
      ]
     },
     "metadata": {},
     "execution_count": 560
    }
   ],
   "source": [
    "initial_pheromones"
   ]
  },
  {
   "cell_type": "code",
   "execution_count": 561,
   "metadata": {},
   "outputs": [
    {
     "output_type": "execute_result",
     "data": {
      "text/plain": [
       "array([[0.16666667, 0.8       , 0.125     ],\n",
       "       [0.16666667, 0.65      , 0.16666667],\n",
       "       [0.16666667, 0.14285714, 0.2       ]])"
      ]
     },
     "metadata": {},
     "execution_count": 561
    }
   ],
   "source": [
    "pheromones = local_pheromone_update(pheromones, initial_pheromones, choice_cell_coords, rho)\n",
    "pheromones"
   ]
  },
  {
   "cell_type": "code",
   "execution_count": 562,
   "metadata": {},
   "outputs": [],
   "source": [
    "path_of_selected_ant.append(maze[choice_cell_coords[0]][choice_cell_coords[1]])                         # contains the time values of the path the ant takes in this loop"
   ]
  },
  {
   "cell_type": "code",
   "execution_count": 563,
   "metadata": {},
   "outputs": [
    {
     "output_type": "execute_result",
     "data": {
      "text/plain": [
       "[6, 0]"
      ]
     },
     "metadata": {},
     "execution_count": 563
    }
   ],
   "source": [
    "path_of_selected_ant"
   ]
  },
  {
   "cell_type": "code",
   "execution_count": 564,
   "metadata": {},
   "outputs": [],
   "source": [
    "path_of_selected_ant_coords.append(current_ant_loc)                                                  # contains the indices of the path the ant takes in this loop"
   ]
  },
  {
   "cell_type": "code",
   "execution_count": 565,
   "metadata": {},
   "outputs": [
    {
     "output_type": "execute_result",
     "data": {
      "text/plain": [
       "[[0, 0], [0, 1]]"
      ]
     },
     "metadata": {},
     "execution_count": 565
    }
   ],
   "source": [
    "path_of_selected_ant_coords"
   ]
  },
  {
   "cell_type": "code",
   "execution_count": 59,
   "metadata": {},
   "outputs": [],
   "source": [
    "def global_pheromone_update(pheromones, shortest_path_coords_iter, shortest_path_iter, rho): # (1-rho)*tij + rho*delta(tij) where delta tij is the 1/(total distance travelled of best path)\n",
    "    for i, j in shortest_path_coords_iter:\n",
    "        pheromones[i][j] = (1.0-rho) * (pheromones[i][j]) + (rho * (1/(shortest_path_iter)))\n",
    "    return pheromones"
   ]
  },
  {
   "source": [
    "## Main Loops"
   ],
   "cell_type": "markdown",
   "metadata": {}
  },
  {
   "source": [
    "'''First ant starts at [0,0] and then randomly walks, locally changing the pheromone content of the board. Once it has found a path to [height-1, width-1] i.e. the bottom right of the board, the pheromone content of cells on this path are updated globally by a small amount\n",
    "Second ant then finds a path by picking the next cell to travel to in such a way that the cell with high pheromone value are more likely to be chosen than the cell with lower pheromone. Due to the random factor, the ant may sometimes pick the path with lower pheromone which can occasionally produce better/shorter path. If the ant succeeds, then increase the pheromone value on that path so the cells on the path are more likely to be chosen. If the ant doesn't succeed, then abort the ant and start again.\n",
    "Occasionally, reduce the pheromone on the whole board so less successful cells would get picked less and less.\n",
    "repeat sending ants\n",
    "constraints -> ends when ant finds path to bottom right cell, ants cannot go to previously visited cells'''"
   ],
   "cell_type": "code",
   "metadata": {},
   "execution_count": null,
   "outputs": []
  },
  {
   "source": [
    "'''Need to change Pij_neighbour to change eliminate all cells travelled, not just the last visited one'''"
   ],
   "cell_type": "code",
   "metadata": {},
   "execution_count": null,
   "outputs": []
  },
  {
   "cell_type": "code",
   "execution_count": 65,
   "metadata": {},
   "outputs": [
    {
     "output_type": "error",
     "ename": "ValueError",
     "evalue": "a must be 1-dimensional",
     "traceback": [
      "\u001b[1;31m---------------------------------------------------------------------------\u001b[0m",
      "\u001b[1;31mValueError\u001b[0m                                Traceback (most recent call last)",
      "\u001b[1;32m<ipython-input-65-3266f87e3d8a>\u001b[0m in \u001b[0;36m<module>\u001b[1;34m\u001b[0m\n\u001b[0;32m     25\u001b[0m                                 path_of_selected_ant_coords, alpha, beta)                                           # returns array of all the probabilities of moving to a neighbour\n\u001b[0;32m     26\u001b[0m \u001b[1;33m\u001b[0m\u001b[0m\n\u001b[1;32m---> 27\u001b[1;33m             \u001b[0mchoice_cell_coords\u001b[0m\u001b[1;33m,\u001b[0m \u001b[0mcurrent_ant_loc\u001b[0m \u001b[1;33m=\u001b[0m \u001b[0mant_move\u001b[0m\u001b[1;33m(\u001b[0m\u001b[0mneighbour_Pij\u001b[0m\u001b[1;33m,\u001b[0m \u001b[0mneighbours_coords\u001b[0m\u001b[1;33m)\u001b[0m                        \u001b[1;31m# chooses a neighbour to move to using a weighted random choice and updates the current ant location\u001b[0m\u001b[1;33m\u001b[0m\u001b[1;33m\u001b[0m\u001b[0m\n\u001b[0m\u001b[0;32m     28\u001b[0m             \u001b[0mpheromones\u001b[0m \u001b[1;33m=\u001b[0m \u001b[0mlocal_pheromone_update\u001b[0m\u001b[1;33m(\u001b[0m\u001b[0mpheromones\u001b[0m\u001b[1;33m,\u001b[0m \u001b[0minitial_pheromones\u001b[0m\u001b[1;33m,\u001b[0m \u001b[0mchoice_cell_coords\u001b[0m\u001b[1;33m,\u001b[0m \u001b[0mrho\u001b[0m\u001b[1;33m)\u001b[0m            \u001b[1;31m# updates the pheromone level of the cell the ant has moved to.\u001b[0m\u001b[1;33m\u001b[0m\u001b[1;33m\u001b[0m\u001b[0m\n\u001b[0;32m     29\u001b[0m             \u001b[0mpath_of_selected_ant\u001b[0m\u001b[1;33m.\u001b[0m\u001b[0mappend\u001b[0m\u001b[1;33m(\u001b[0m\u001b[0mmaze\u001b[0m\u001b[1;33m[\u001b[0m\u001b[0mchoice_cell_coords\u001b[0m\u001b[1;33m[\u001b[0m\u001b[1;36m0\u001b[0m\u001b[1;33m]\u001b[0m\u001b[1;33m]\u001b[0m\u001b[1;33m[\u001b[0m\u001b[0mchoice_cell_coords\u001b[0m\u001b[1;33m[\u001b[0m\u001b[1;36m1\u001b[0m\u001b[1;33m]\u001b[0m\u001b[1;33m]\u001b[0m\u001b[1;33m)\u001b[0m                         \u001b[1;31m# contains the time values of the path the ant takes in this loop\u001b[0m\u001b[1;33m\u001b[0m\u001b[1;33m\u001b[0m\u001b[0m\n",
      "\u001b[1;32m<ipython-input-64-37c04c5755c8>\u001b[0m in \u001b[0;36mant_move\u001b[1;34m(neighbour_Pij, neighbours_coords)\u001b[0m\n\u001b[0;32m      2\u001b[0m \u001b[1;32mdef\u001b[0m \u001b[0mant_move\u001b[0m\u001b[1;33m(\u001b[0m\u001b[0mneighbour_Pij\u001b[0m\u001b[1;33m,\u001b[0m \u001b[0mneighbours_coords\u001b[0m\u001b[1;33m)\u001b[0m\u001b[1;33m:\u001b[0m\u001b[1;33m\u001b[0m\u001b[1;33m\u001b[0m\u001b[0m\n\u001b[0;32m      3\u001b[0m   \u001b[0mpossible_choice_cell_coords\u001b[0m \u001b[1;33m=\u001b[0m \u001b[0mneighbours_coords\u001b[0m\u001b[1;33m[\u001b[0m\u001b[0mnp\u001b[0m\u001b[1;33m.\u001b[0m\u001b[0mrandom\u001b[0m\u001b[1;33m.\u001b[0m\u001b[0mchoice\u001b[0m\u001b[1;33m(\u001b[0m\u001b[0mneighbours_coords\u001b[0m\u001b[1;33m.\u001b[0m\u001b[0mshape\u001b[0m\u001b[1;33m[\u001b[0m\u001b[1;36m0\u001b[0m\u001b[1;33m]\u001b[0m\u001b[1;33m,\u001b[0m \u001b[0mnp\u001b[0m\u001b[1;33m.\u001b[0m\u001b[0mcount_nonzero\u001b[0m\u001b[1;33m(\u001b[0m\u001b[0mneighbour_Pij\u001b[0m\u001b[1;33m)\u001b[0m\u001b[1;33m,\u001b[0m \u001b[1;32mFalse\u001b[0m\u001b[1;33m,\u001b[0m \u001b[0mneighbour_Pij\u001b[0m\u001b[1;33m)\u001b[0m\u001b[1;33m]\u001b[0m\u001b[1;33m\u001b[0m\u001b[1;33m\u001b[0m\u001b[0m\n\u001b[1;32m----> 4\u001b[1;33m   \u001b[0mchoice_cell_coords\u001b[0m \u001b[1;33m=\u001b[0m \u001b[0mnp\u001b[0m\u001b[1;33m.\u001b[0m\u001b[0mrandom\u001b[0m\u001b[1;33m.\u001b[0m\u001b[0mchoice\u001b[0m\u001b[1;33m(\u001b[0m\u001b[0mpossible_choice_cell_coords\u001b[0m\u001b[1;33m,\u001b[0m \u001b[1;36m1\u001b[0m\u001b[1;33m,\u001b[0m \u001b[1;32mFalse\u001b[0m\u001b[1;33m)\u001b[0m\u001b[1;33m[\u001b[0m\u001b[1;36m0\u001b[0m\u001b[1;33m]\u001b[0m\u001b[1;33m\u001b[0m\u001b[1;33m\u001b[0m\u001b[0m\n\u001b[0m\u001b[0;32m      5\u001b[0m   \u001b[1;32mfor\u001b[0m \u001b[0mi\u001b[0m \u001b[1;32min\u001b[0m \u001b[0mrange\u001b[0m\u001b[1;33m(\u001b[0m\u001b[0mlen\u001b[0m\u001b[1;33m(\u001b[0m\u001b[0mpath_of_selected_ant_coords\u001b[0m\u001b[1;33m)\u001b[0m\u001b[1;33m)\u001b[0m\u001b[1;33m:\u001b[0m\u001b[1;33m\u001b[0m\u001b[1;33m\u001b[0m\u001b[0m\n\u001b[0;32m      6\u001b[0m     \u001b[1;32mif\u001b[0m \u001b[0mchoice_cell_coords\u001b[0m\u001b[1;33m[\u001b[0m\u001b[1;36m0\u001b[0m\u001b[1;33m]\u001b[0m \u001b[1;33m==\u001b[0m \u001b[0mpath_of_selected_ant_coords\u001b[0m\u001b[1;33m[\u001b[0m\u001b[0mi\u001b[0m\u001b[1;33m]\u001b[0m\u001b[1;33m[\u001b[0m\u001b[1;36m0\u001b[0m\u001b[1;33m]\u001b[0m \u001b[1;32mand\u001b[0m \u001b[0mchoice_cell_coords\u001b[0m\u001b[1;33m[\u001b[0m\u001b[1;36m1\u001b[0m\u001b[1;33m]\u001b[0m \u001b[1;33m==\u001b[0m \u001b[0mpath_of_selected_ant_coords\u001b[0m\u001b[1;33m[\u001b[0m\u001b[0mi\u001b[0m\u001b[1;33m]\u001b[0m\u001b[1;33m[\u001b[0m\u001b[1;36m1\u001b[0m\u001b[1;33m]\u001b[0m\u001b[1;33m:\u001b[0m\u001b[1;33m\u001b[0m\u001b[1;33m\u001b[0m\u001b[0m\n",
      "\u001b[1;32mmtrand.pyx\u001b[0m in \u001b[0;36mnumpy.random.mtrand.RandomState.choice\u001b[1;34m()\u001b[0m\n",
      "\u001b[1;31mValueError\u001b[0m: a must be 1-dimensional"
     ]
    }
   ],
   "source": [
    "initial_pheromones = fill_initial_pheromones(maze)                      # initial pheromone concentration resembles the attractivity of each cell - this is a parameter used in the calculation of local pheromone update\n",
    "pheromones = fill_initial_pheromones(maze)                              # the 2D array of pheromones at each edge that is changed by ants\n",
    "move_attractiveness = fill_initial_pheromones(maze)                     # the attractivity of each node - stays the same\n",
    "num_iterations = 2                                                      # number of iterations                    \n",
    "num_ants = 5                                                            # number of ants running per iteration\n",
    "alpha, beta = 1, 2                                                                          # alpha and beta control the relative importance of the pheromone vs move attractiveness\n",
    "rho = 0.3                                                                                   # evaporation rate\n",
    "end_condition = [height-1, width-1]                                                         # ant stops at the bottom-right cell\n",
    "paths_taken_by_all_ants = {}                                                                # dictionary to hold all the paths each ant takes in the loop\n",
    "paths_coords_taken_by_all_ants = {}                                                         # dictionary to hold all the indices of the path each ant takes in the loop\n",
    "total_distance_by_all_ants = {}                                                             # dictionary to hold all the total times each ant takes    \n",
    "for i in range(num_iterations):\n",
    "    for i in range(num_ants):\n",
    "        current_ant_loc = [0,0]\n",
    "        path_of_selected_ant_coords = []                                                     \n",
    "        path_of_selected_ant_coords.append(current_ant_loc)                                 # adds the starting location to the path\n",
    "        path_of_selected_ant = []\n",
    "        path_of_selected_ant.append(maze[current_ant_loc[0]][current_ant_loc[1]])           # adds the starting time value to the path\n",
    "        \n",
    "        while np.any(current_ant_loc != end_condition):                                                             # runs loop until ant reaches bottom right cell\n",
    "            neighbours_coords = np.array(get_neighbours_coords(maze, current_ant_loc))                              # returns array of the indices of the neighbouring cells (up, down, left, right)\n",
    "            pheromone_neighbours = np.array(get_neighbours(pheromones, current_ant_loc))\n",
    "            attractiveness_neighbours = np.array(get_neighbours(move_attractiveness, current_ant_loc))\n",
    "            neighbour_Pij = determine_Pij_neighbours(pheromones, move_attractiveness, current_ant_loc, \n",
    "                                path_of_selected_ant_coords, alpha, beta)                                           # returns array of all the probabilities of moving to a neighbour\n",
    "            \n",
    "            choice_cell_coords, current_ant_loc = ant_move(neighbour_Pij, neighbours_coords)                        # chooses a neighbour to move to using a weighted random choice and updates the current ant location\n",
    "            pheromones = local_pheromone_update(pheromones, initial_pheromones, choice_cell_coords, rho)            # updates the pheromone level of the cell the ant has moved to.\n",
    "            path_of_selected_ant.append(maze[choice_cell_coords[0]][choice_cell_coords[1]])                         # contains the time values of the path the ant takes in this loop\n",
    "            path_of_selected_ant_coords.append(current_ant_loc)                                                     # contains the indices of the path the ant takes in this loop\n",
    "        \n",
    "        #current_ant_loc = [height-1, width-1]                                                                       # if loop exits then end condition is satisfied and current ant location is at end\n",
    "        #path_of_selected_ant.append(maze[current_ant_loc[0]][current_ant_loc[1]])                                   # adding the time value of last cell\n",
    "        #path_of_selected_ant_coords.append(current_ant_loc)\n",
    "        distance_of_path_of_selected_ant = np.sum(path_of_selected_ant)\n",
    "        total_distance_by_all_ants[i] = distance_of_path_of_selected_ant                                            # iterates over a dictionary to add the time each ant takes to get to bottom right cell\n",
    "        paths_taken_by_all_ants[i] = path_of_selected_ant                                                           # iterates over a dictionary to add the path of each ant\n",
    "        paths_coords_taken_by_all_ants[i] = path_of_selected_ant_coords                                             # iterates over a dictionary to add the path indices of each ant\n",
    "    shortest_path_ind = min(total_distance_by_all_ants, key=total_distance_by_all_ants.get)                         # returns the index (key value) of the shortest path in the dictionary of all paths traversed\n",
    "    shortest_path_iter = total_distance_by_all_ants[shortest_path_ind]                                              # returns the time of the shortest path for the iteration\n",
    "    shortest_path_coords_iter = paths_coords_taken_by_all_ants[shortest_path_ind]                                   # returns the coords for the shortest path in the dictionary for the iteration                               \n",
    "    pheromones = global_pheromone_update(pheromones, shortest_path_coords_iter, shortest_path_iter, rho)            # then do global pheromone update using iteration-best path \n",
    "#shortest_path_ind_overall = min(total_distance_by_all_ants, key=total_distance_by_all_ants.get)\n",
    "##shortest_path = paths_coords_taken_by_all_ants[shortest_path_ind_overall]\n",
    "#print(shortest_path)\n",
    "    #print(pheromones)\n",
    "    #print(shortest_path_coords_iter)\n",
    "    #print(shortest_path_iter)\n",
    "shortest_path = paths_coords_taken_by_all_ants[shortest_path_ind]\n",
    "print(shortest_path)"
   ]
  },
  {
   "cell_type": "code",
   "execution_count": 86,
   "metadata": {},
   "outputs": [
    {
     "output_type": "stream",
     "name": "stdout",
     "text": [
      "0 0\n0 1\n1 1\n0 1\n0 0\n0 1\n0 0\n1 0\n2 0\n2 1\n2 2\n2 2\n"
     ]
    }
   ],
   "source": [
    "path_coords_grid = []\n",
    "for x, y in paths_coords_taken_by_all_ants[shortest_path_ind]: # this needs to convert a path to coordinates on the graph\n",
    "    print(x, y)"
   ]
  },
  {
   "cell_type": "code",
   "execution_count": 85,
   "metadata": {},
   "outputs": [
    {
     "output_type": "execute_result",
     "data": {
      "text/plain": [
       "array([[2, 2, 7],\n",
       "       [4, 3, 9],\n",
       "       [2, 7, 2]])"
      ]
     },
     "metadata": {},
     "execution_count": 85
    }
   ],
   "source": [
    "maze"
   ]
  },
  {
   "source": [
    "'''\n",
    "If alpha=0, probability of moving to a cell is based purely on heuristics. Cells close to each other are chosen. Behaves similar to a greedy algorithm.\n",
    "If beta=0, probability based on pheromone concentration. Sometimes can lead to localised search space."
   ],
   "cell_type": "code",
   "metadata": {},
   "execution_count": null,
   "outputs": []
  },
  {
   "source": [
    "## NODE PLOT "
   ],
   "cell_type": "markdown",
   "metadata": {}
  },
  {
   "cell_type": "code",
   "execution_count": 4,
   "metadata": {},
   "outputs": [],
   "source": [
    "def plot_maze_path(annotate=True, chosen_path=True): \n",
    "        c1 = np.array([0, width])\n",
    "        c2 = np.array([height, 0]) \n",
    "        dim = len(c1) \n",
    "        x_pts = np.linspace(c1[0], c2[0], width)\n",
    "        y_pts = np.linspace(c1[1], c2[1], height)\n",
    "        Xv, Yv = np.meshgrid(x_pts, y_pts)\n",
    "        numpts = width*height      \n",
    "        node_array = np.zeros((numpts, 2), dtype=float)\n",
    "        node_array[:,0] = np.reshape(Xv, numpts)\n",
    "        node_array[:,1] = np.reshape(Yv, numpts)\n",
    "        num_cells = int(width-1)*(height-1)\n",
    "        connectivity = np.zeros((num_cells, int(2**dim)), dtype=int)\n",
    "        rows, cols = height-1, width-1 \n",
    "        for row in range(rows):\n",
    "            for col in range(cols):\n",
    "                num = width*row + col\n",
    "                connectivity[cols*row + col] = [num+0, num+1, num+width, num+width+1]\n",
    "\n",
    "        annotations = maze.flatten()\n",
    "        X,Y = node_array.T\n",
    "        fig = plt.figure(figsize=(width,height)) \n",
    "        ax = fig.add_subplot(111)\n",
    "        ax.set_aspect('auto')\n",
    "        plt.axis('off')\n",
    "        plt.scatter(X,Y, marker='o', s=50, color='g', alpha=1.0)\n",
    "        if height == width:\n",
    "            plt.plot(Xv,Yv, linewidth=2, color='k', alpha=0.2)\n",
    "            plt.plot(Yv,Xv, linewidth=2, color='k', alpha=0.2)\n",
    "        if annotate:                    \n",
    "            for i, pos in enumerate(node_array):\n",
    "                plt.text(pos[0], pos[1],  str(annotations[i]), color='k', verticalalignment='bottom', horizontalalignment='right', fontsize='xx-large')\n",
    "            \n",
    "        nodes_coords = np.split(node_array, height)\n",
    "        '''\n",
    "        path_coords_grid = []\n",
    "        for x, y in option_coords[chosen_path]: # this needs to convert a path to coordinates on the graph\n",
    "            path_coords_grid.append(nodes_coords[x][y])\n",
    "        head_length = 0.1\n",
    "        if chosen_path:\n",
    "            for i in range(len(path_coords_grid)-1): # plots vectors for the shortest path\n",
    "                dx = path_coords_grid[i+1][0] - path_coords_grid[i][0]\n",
    "                dy = path_coords_grid[i+1][1] - path_coords_grid[i][1]\n",
    "                vec_ab = [dx,dy]\n",
    "                vec_ab_magnitude = np.sqrt(dx**2+dy**2)\n",
    "                dx = dx / vec_ab_magnitude\n",
    "                dy = dy / vec_ab_magnitude\n",
    "                vec_ab_magnitude = vec_ab_magnitude - head_length\n",
    "                plt.arrow(path_coords_grid[i][0], path_coords_grid[i][1], vec_ab_magnitude*dx, vec_ab_magnitude*dy, head_width=0.1, head_length=0.2, color='red')'''\n",
    "        plt.show(block=False)\n",
    "        return node_array, nodes_coords, connectivity"
   ]
  },
  {
   "cell_type": "code",
   "execution_count": null,
   "metadata": {},
   "outputs": [],
   "source": [
    "nodes_array, nodes_maze, connectivity  = plot_maze_path(annotate=True, chosen_path=True)"
   ]
  },
  {
   "source": [
    "## NOT USED"
   ],
   "cell_type": "markdown",
   "metadata": {}
  },
  {
   "source": [
    "if len(path_of_selected_ant_coords) >= 1:\n",
    "    checks = np.zeros(len(pheromone_neighbours_coords))\n",
    "    for i in range(len(pheromone_neighbours_coords)):\n",
    "        checks[i] = list(np.where(pheromone_neighbours_coords[i] == path_of_selected_ant_coords[-1]))[0]\n",
    "        if checks[i] == path_of_selected_ant_coords[-1]:\n",
    "            print(checks[i])\n",
    "            index_of_previous_ant_location = i\n",
    "        pheromone_neighbours[index_of_previous_ant_location] = 0.0           # set the probability of moving to the previous ant location = 0\n",
    "        '''\n",
    "        if pheromone_neighbours_coords[i] == path_of_selected_ant_coords[-1]: #and pheromone_neighbours_coords[i] == path_of_selected_ant_coords[-1]:\n",
    "            #index_of_previous_ant_location = i \n",
    "    pheromone_neighbours[index_of_previous_ant_location] = 0.0           # set the probability of moving to the previous ant location = 0\n",
    "    '''"
   ],
   "cell_type": "code",
   "metadata": {},
   "execution_count": null,
   "outputs": []
  },
  {
   "cell_type": "code",
   "execution_count": 68,
   "metadata": {},
   "outputs": [],
   "source": [
    "def shortest_path_aco(graph, maze, start_node, end_node, n_ants, alpha, beta, rho, tau_min, tau_max, iteration_limit):\n",
    "    #d = np.ones((height,width), dtype=float)*np.inf\n",
    "    #pred = np.zeros((height,width), dtype=float)\n",
    "    #return d, pred\n",
    "#d, pred = shortest_path_aco(nodes_maze, maze, nodes_maze[0][0], nodes_maze[height-1][width-1], n_ants, alpha, beta, rho, tau_min, tau_max, iteration_limit)\n",
    "\n",
    "def euclidean(nodes): # use node array/coords for distances\n",
    "    distance = math.sqrt(pow(nodes[1] - nodes[1], 2) + pow(nodes[0] - nodes[0], 2))\n",
    "    return distance"
   ]
  },
  {
   "cell_type": "code",
   "execution_count": 55,
   "metadata": {},
   "outputs": [
    {
     "output_type": "execute_result",
     "data": {
      "text/plain": [
       "4.242640687119285"
      ]
     },
     "metadata": {},
     "execution_count": 55
    }
   ],
   "source": [
    "euclidean(node_coords[0][0], node_coords[2][2])"
   ]
  },
  {
   "source": [
    "fill_initial_pheromones(start_position=(0,0))"
   ],
   "cell_type": "code",
   "metadata": {},
   "execution_count": null,
   "outputs": []
  },
  {
   "cell_type": "code",
   "execution_count": null,
   "metadata": {},
   "outputs": [],
   "source": [
    "def fill_initial_pheromones(start_position): # creates a 2D phreromone array\n",
    "    pheromones = np.zeros((height,width), dtype=float)\n",
    "    Lij = euclidean(node_coords[start_position[0],[0]]) #returns array with distances for each node \n",
    "    for i in pheromones:\n",
    "        for j in i:\n",
    "            pheromones[j] = 1/Lij\n",
    "    return pheromones"
   ]
  },
  {
   "cell_type": "code",
   "execution_count": null,
   "metadata": {},
   "outputs": [],
   "source": [
    "'''city_to_city_score = pheromone ** alpha * (1.0 / distance) ** beta\n",
    "prob_of_going_to_city(i) = city_to_city_score(i) / sum_of_all_available_city_to_city_scores'''"
   ]
  },
  {
   "cell_type": "code",
   "execution_count": null,
   "metadata": {},
   "outputs": [],
   "source": [
    " def ant_move(self, neighbour_Pij, neighbours_coords, path_of_selected_ant_coords):\n",
    "        #choice_cell_coords_ind = np.random.choice(neighbours_coords.shape[0], 1, False, neighbour_Pij)\n",
    "        choice_cell_coords = neighbours_coords[np.random.choice(neighbours_coords.shape[0], 1, False, neighbour_Pij)][0]                      # returns the coords of the chosen cell\n",
    "        for i in range(len(path_of_selected_ant_coords)):\n",
    "            if choice_cell_coords[0] == path_of_selected_ant_coords[i][0] and choice_cell_coords[1] == path_of_selected_ant_coords[i][1]:     # checks to see if the chosen cell is in the path already traversed\n",
    "        ##        #choice_cell_coords = neighbours_coords[choice_cell_coords_ind[1]]\n",
    "                while choice_cell_coords[0] == path_of_selected_ant_coords[i][0] and choice_cell_coords[1] == path_of_selected_ant_coords[i][1]:\n",
    "                   choice_cell_coords = neighbours_coords[np.random.choice(neighbours_coords.shape[0], 1, False, neighbour_Pij)][0]                    # if it is, then choose another move\n",
    "        #        choice_cell_coords = neighbours_coords[np.random.choice(neighbours_coords.shape[0], 1, False, neighbour_Pij)][0]\n",
    "        new_ant_loc = choice_cell_coords                                                                                                                # update ant location\n",
    "        return choice_cell_coords, new_ant_loc\n"
   ]
  }
 ]
}