{
 "metadata": {
  "language_info": {
   "codemirror_mode": {
    "name": "ipython",
    "version": 3
   },
   "file_extension": ".py",
   "mimetype": "text/x-python",
   "name": "python",
   "nbconvert_exporter": "python",
   "pygments_lexer": "ipython3",
   "version": "3.8.1-final"
  },
  "orig_nbformat": 2,
  "kernelspec": {
   "name": "python3",
   "display_name": "Python 3.8.1 64-bit",
   "metadata": {
    "interpreter": {
     "hash": "2db524e06e9f5f4ffedc911c917cb75e12dbc923643829bf417064a77eb14d37"
    }
   }
  }
 },
 "nbformat": 4,
 "nbformat_minor": 2,
 "cells": [
  {
   "source": [
    "# INM702 Coursework Task 1 \n",
    "### Aaron Mir (Student Number: 160001207)\n",
    "#### 20/12/20"
   ],
   "cell_type": "markdown",
   "metadata": {}
  },
  {
   "source": [
    "<img src=\"Task1(1).jpg\" alt=\"Task1(1)\" width=\"700\"/>\n",
    "<img src=\"Task1(2).jpg\" alt=\"Task1(2)\" width=\"700\"/>\n",
    "<img src=\"Task1(3).jpg\" alt=\"Task1(3)\" width=\"700\"/>\n",
    "<img src=\"Task1(4).jpg\" alt=\"Task1(4)\" width=\"700\"/>\n"
   ],
   "cell_type": "markdown",
   "metadata": {}
  },
  {
   "source": [
    "The first task tests your Python skills. You need to develop a simple game consisting of a rectangular grid (of size height x width) where each cell has a random integer value between 0 and 9. An agent starts at the upper-left corner of the grid and must  reach the lower-right corner of the grid as fast as possible. You can implement one of the two (or both, for no extra point) game modes:\n",
    "\n",
    "    • The time spent on a cell is the number on this cell\n",
    "    • The time spent on a cell is the absolute of the difference between the previous cell the agent was on and the current cell it is on\n",
    "\n",
    "In order to solve this problem, you will provide 3 algorithms:\n",
    "\n",
    "    • A first baseline of your choosing. E.g. it can be any search algorithm, or an algorithm using heuristics. \n",
    "    It doesn’t have to perform fast or well, but  should be better than random movements.\n",
    "    • Dijkstra's algorithm\n",
    "    • Ant colony optimization algorithm\n",
    "\n",
    "You should describe the algorithms and compare them. Are they always solving the problem? How long do they take depending on the size of the maze?\n"
   ],
   "cell_type": "markdown",
   "metadata": {}
  },
  {
   "cell_type": "code",
   "execution_count": 1,
   "metadata": {},
   "outputs": [
    {
     "output_type": "stream",
     "name": "stdout",
     "text": [
      "Python: 3.8.1 (tags/v3.8.1:1b293b6, Dec 18 2019, 23:11:46) [MSC v.1916 64 bit (AMD64)]\nNumpy Version: 1.18.1\nPyTorch Version: 1.6.0+cu101\nTorchvision Version: 0.7.0+cu101\n"
     ]
    }
   ],
   "source": [
    "import matplotlib.pyplot as plt\n",
    "import numpy as np\n",
    "import torch \n",
    "import torchvision as tv\n",
    "import random\n",
    "import sys\n",
    "np.set_printoptions(threshold=sys.maxsize)\n",
    "np.random.seed(1)\n",
    "\n",
    "print(f\"Python: {sys.version}\")\n",
    "print(f\"Numpy Version: {np.__version__}\")\n",
    "print(f\"PyTorch Version: {torch.__version__}\")\n",
    "print(f\"Torchvision Version: {tv.__version__}\")"
   ]
  },
  {
   "source": [
    "class Agent():\n",
    "    '''A class to represent an agent. The goal of the agent is to move along the grid from the upper left corner to the lower right corner using the shortest path possible.'''\n",
    "    def __init__ (self, name, maze = None):\n",
    "        self.name = name\n",
    "        self.maze = maze\n",
    "        self.curr_position = [0, 0]                                         # this changes according to the current position of the agent after choosing a path and initialises at 0,0 - REDUNDANT RIGHT NOW\n",
    "        self.position_history = []                                          # holds the history of agent positions, helps verify\n",
    "        self.options = []                                                   # holds the time values of paths found\n",
    "        self.option_coords = []                                             # holds the coordinates of each cell in those paths\n",
    "        self.isFinished = False                                             # changes if agent reaches position bottom right cell, helps verify\n",
    "        self.chosen_path = 0\n",
    "        self.paths_taken_by_all_ants = {}                                                                # dictionary to hold all the paths each ant takes in the loop\n",
    "        self.paths_coords_taken_by_all_ants = {}                                                         # dictionary to hold all the indices of the path each ant takes in the loop\n",
    "        self.total_distance_by_all_ants = {}                                                             # dictionary to hold all the total times each ant takes\n",
    "        #self.shortest_path_ants_iter = {}                                                                # dictionary to hold all the best paths of an ant per iteration\n",
    "\n",
    "#-------------------------------------------------------- NAIVE PATH/SIMPLE RECURSIVE ALGORITHM -----------------------------------------------#\n",
    "    def recursive_path(self, row, col, paths, coords): \n",
    "        '''Uses recursion finds all the possible paths the agent can take to get to the bottom right cell by exploring all paths by moving down and right in the array. Then adds the times spent on each cell for each path and will traverse the path that has the lowest overall time. The current position of the agent is then changed after the comparison is made between different paths.'''                  \n",
    "        if row == len(self.maze.maze) - 1:                          # if the current row is equal to the height of the maze - 1 \n",
    "            for i in range(col, len(self.maze.maze[0])):            # for every column from the current column to the edge of the grid going across\n",
    "                paths.append(self.maze.maze[row][i])                # append all the time values into the path list depending on which row it is currently on\n",
    "                coords.append((row, i))                             # append all the indexes of those times into the coordinate list of tuples depending on which row it is currently on\n",
    "            self.options.append(paths)                              # append the possible options to the agent attribute 'options'\n",
    "            self.option_coords.append(coords)                       # append the coordinates of those possible options to the agent attribute 'option_coords'\n",
    "            return \n",
    "\n",
    "        if col == len(self.maze.maze[0]) - 1:                       # if the current column is equal to the width of the maze - 1 eg. 3 - 1 = 2\n",
    "            for i in range(row, len(self.maze.maze)):               # for every row from the current row to the edge of the grid going down\n",
    "                paths.append(self.maze.maze[i][col])                # put all the time values into the path list depending on which column it is currently on\n",
    "                coords.append((i, col))                             # put all the indexes of those times into the coordinate list of tuples depending on which column it is currently on\n",
    "            self.options.append(paths)\n",
    "            self.option_coords.append(coords)\n",
    "            return\n",
    "        paths.append(self.maze.maze[row][col])                      # append the time value of the starting cell to path list\n",
    "        coords.append((row, col))                                   # append the the indexes of that time value coords list\n",
    "        self.recursive_path(row + 1, col, paths[:], coords[:])      # recursion for each row \n",
    "        self.recursive_path(row, col + 1, paths[:], coords[:])      # recursion for each column       \n",
    "        \n",
    "        sum_time_vals = np.zeros(len(self.options), dtype=int)      # initialising an array of all the total times for each path\n",
    "        for i in range(0, len(self.options)):                  \n",
    "            sum_time_vals[i] = sum(self.options[i])\n",
    "        self.chosen_path = list(sum_time_vals).index(np.min(sum_time_vals)) # returns index of the shortest path in 'options' \n",
    "\n",
    "#-------------------------------------------------------- ANT COLONY OPTIMISATION ALGORITHM (MAIN LOOP IS IN antcol_path METHOD)-----------------------------------------------#\n",
    "    def fill_initial_pheromones(self, Lij):                    # creates a 2D pheromone array where Lij is the original maze with time values. This sets the pheromones to be equal to the attractiveness/desirability of the vertex\n",
    "        pheromones = 1/Lij\n",
    "        pheromones[pheromones==1] = 0.65 \n",
    "        pheromones[pheromones>1] = 0.70                      # 1/0 becomes infinity so we replace these with 1s and to scale it, if a cell has distance 1 then it has 0.75\n",
    "        return pheromones\n",
    "\n",
    "    def get_neighbours(self, maze, current_ant_loc):                                        # returns a list of accessible cells to the ant\n",
    "        neighbours = []                                                                     # contains the up, down, left, right accessible nodes for the ants\n",
    "        if current_ant_loc[0]-1 >= 0:\n",
    "            neighbours.append(maze[current_ant_loc[0]-1][current_ant_loc[1]])\n",
    "        else: neighbours.append(np.NaN)\n",
    "        if current_ant_loc[0]+1 <= height-1:\n",
    "            neighbours.append(maze[current_ant_loc[0]+1][current_ant_loc[1]])\n",
    "        else: neighbours.append(np.NaN)\n",
    "        if current_ant_loc[1]-1 >= 0:\n",
    "            neighbours.append(maze[current_ant_loc[0]][current_ant_loc[1]-1])\n",
    "        else: neighbours.append(np.NaN)\n",
    "        if current_ant_loc[1]+1 <= width-1:\n",
    "            neighbours.append(maze[current_ant_loc[0]][current_ant_loc[1]+1])\n",
    "        else: neighbours.append(np.NaN)\n",
    "        return neighbours\n",
    "\n",
    "    def get_neighbours_coords(self, maze, current_ant_loc):                                       # returns a list of accessible cells to the ant, inaccessible ones are replaced with 'Not Possible'\n",
    "        neighbours_coords = []                                                              # contains the up, down, left, right accessible nodes for the ants\n",
    "        if current_ant_loc[0]-1 >= 0:\n",
    "            neighbours_coords.append([current_ant_loc[0]-1, current_ant_loc[1]])\n",
    "        else: neighbours_coords.append('Not Possible')\n",
    "        if current_ant_loc[0]+1 <= height-1:\n",
    "            neighbours_coords.append([current_ant_loc[0]+1, current_ant_loc[1]])\n",
    "        else: neighbours_coords.append('Not Possible')\n",
    "        if current_ant_loc[1]-1 >= 0:\n",
    "            neighbours_coords.append([current_ant_loc[0], current_ant_loc[1]-1])\n",
    "        else: neighbours_coords.append('Not Possible')\n",
    "        if current_ant_loc[1]+1 <= width-1:\n",
    "            neighbours_coords.append([current_ant_loc[0], current_ant_loc[1]+1])\n",
    "        else: neighbours_coords.append('Not Possible')\n",
    "        return neighbours_coords\n",
    "\n",
    "    def determine_Pij_neighbours(self, pheromones, move_attractiveness, current_ant_loc, path_of_selected_ant_coords, alpha, beta):\n",
    "        pheromone_neighbours = np.array(self.get_neighbours(pheromones, current_ant_loc))\n",
    "        attractiveness_neighbours = np.array(self.get_neighbours(move_attractiveness, current_ant_loc))\n",
    "        pheromone_neighbours_coords = np.array(self.get_neighbours_coords(pheromones, current_ant_loc))\n",
    "        attractiveness_neighbours_coords = np.array(self.get_neighbours_coords(move_attractiveness, current_ant_loc)) \n",
    "        pheromone_times_attractiveness = np.multiply(np.power(pheromone_neighbours, alpha), np.power(attractiveness_neighbours, beta))\n",
    "        np.nan_to_num(pheromone_times_attractiveness, copy=False, nan=0)                # makes the probability of inaccessible nodes 0\n",
    "        Pij = pheromone_times_attractiveness/np.sum(pheromone_times_attractiveness)                                                 # gives probabilities of choosing a cell to move to\n",
    "        return Pij                                                     \n",
    "\n",
    "    def ant_move(self, neighbour_Pij, neighbours_coords, path_of_selected_ant_coords):\n",
    "        #choice_cell_coords_ind = np.random.choice(neighbours_coords.shape[0], 1, False, neighbour_Pij)\n",
    "        choice_cell_coords = neighbours_coords[np.random.choice(neighbours_coords.shape[0], 1, False, neighbour_Pij)][0]                      # returns the coords of the chosen cell\n",
    "        for i in range(len(path_of_selected_ant_coords)):\n",
    "            if choice_cell_coords[0] == path_of_selected_ant_coords[i][0] and choice_cell_coords[1] == path_of_selected_ant_coords[i][1]:     # checks to see if the chosen cell is in the path already traversed\n",
    "        ##        #choice_cell_coords = neighbours_coords[choice_cell_coords_ind[1]]\n",
    "                while choice_cell_coords[0] == path_of_selected_ant_coords[i][0] and choice_cell_coords[1] == path_of_selected_ant_coords[i][1]:\n",
    "                   choice_cell_coords = neighbours_coords[np.random.choice(neighbours_coords.shape[0], 1, False, neighbour_Pij)][0]                    # if it is, then choose another move\n",
    "        #        choice_cell_coords = neighbours_coords[np.random.choice(neighbours_coords.shape[0], 1, False, neighbour_Pij)][0]\n",
    "        new_ant_loc = choice_cell_coords                                                                                                                # update ant location\n",
    "        return choice_cell_coords, new_ant_loc\n",
    "\n",
    "    def local_pheromone_update(self, pheromones, initial_pheromones, choice_cell_coords, rho): #new pheromone value at chosen cell/node\n",
    "        pheromones[choice_cell_coords[0]][choice_cell_coords[1]] = (1.0-rho) * (pheromones[choice_cell_coords[0]][choice_cell_coords[1]]) + (rho * initial_pheromones[choice_cell_coords[0]][choice_cell_coords[1]])\n",
    "        return pheromones\n",
    "    \n",
    "    def global_pheromone_update(self, pheromones, shortest_path_coords_iter, shortest_path_iter, rho): # (1-rho)*tij + rho*delta(tij) where delta tij is the 1/(total distance travelled of best path)\n",
    "        for i, j in shortest_path_coords_iter:\n",
    "            pheromones[i][j] = (1.0-rho) * (pheromones[i][j]) + (rho * (1/(shortest_path_iter)))\n",
    "        return pheromones\n",
    "\n",
    "    def antcol_path(self, num_iterations=5, num_ants=30, alpha=1, beta=1, rho=0.1): \n",
    "        initial_pheromones = self.fill_initial_pheromones(self.maze.maze)                                               # initial pheromone = the attractivity of each cell - used in the calculation of local pheromone update\n",
    "        pheromones = initial_pheromones                                                                                 # the 2D array of pheromones at each edge that is changed by ants after local and global updates\n",
    "        move_attractiveness = initial_pheromones                                                                        # the attractivity of each node - stays the same\n",
    "        end_condition = [self.maze.height-1, self.maze.width-1]                                                         # ant stops at the bottom-right cell\n",
    "        for i in range(num_iterations):\n",
    "            print(\"The current iteration is\", i, \"out of\", num_iterations-1)\n",
    "            for j in range(num_ants):\n",
    "                current_ant_loc = [0,0]\n",
    "                path_of_selected_ant_coords = []                                                     \n",
    "                path_of_selected_ant_coords.append(current_ant_loc)                                                             # adds the starting location to the path\n",
    "                path_of_selected_ant = []\n",
    "                path_of_selected_ant.append(self.maze.maze[current_ant_loc[0]][current_ant_loc[1]])                             # adds the starting time value to the path\n",
    "                while np.any(current_ant_loc != end_condition):                                                                 # runs loop until ant reaches bottom right cell\n",
    "                    neighbours_coords = np.array(self.get_neighbours_coords(self.maze.maze, current_ant_loc))                   # returns array of the indices of the neighbouring cells (up, down, left, right)\n",
    "                    neighbour_Pij = self.determine_Pij_neighbours(pheromones, move_attractiveness, current_ant_loc, \n",
    "                                        path_of_selected_ant_coords, alpha, beta)                                                # returns array of all the probabilities of moving to a neighbour\n",
    "                    choice_cell_coords, current_ant_loc = self.ant_move(neighbour_Pij, \n",
    "                                        neighbours_coords, path_of_selected_ant_coords)                                         # chooses a neighbour using a weighted random choice and updates the current ant location\n",
    "                    pheromones = self.local_pheromone_update(pheromones, initial_pheromones, choice_cell_coords, rho)            # updates the pheromone level of the cell the ant has moved to.\n",
    "                    path_of_selected_ant.append(self.maze.maze[choice_cell_coords[0]][choice_cell_coords[1]])                    # contains the time values of the path the ant takes in this loop\n",
    "                    path_of_selected_ant_coords.append(list(current_ant_loc))                                                          # contains the indices of the path the ant takes in this loop\n",
    "                                \n",
    "                distance_of_path_of_selected_ant = np.sum(path_of_selected_ant)\n",
    "                self.total_distance_by_all_ants[j] = distance_of_path_of_selected_ant                                            # iterates over a dictionary to add the time each ant takes to get to bottom right cell\n",
    "                self.paths_taken_by_all_ants[j] = path_of_selected_ant                                                           # iterates over a dictionary to add the path of each ant\n",
    "                self.paths_coords_taken_by_all_ants[j] = path_of_selected_ant_coords                                             # iterates over a dictionary to add the path indices of each ant\n",
    "            shortest_path_ind_iter = min(self.total_distance_by_all_ants, key=self.total_distance_by_all_ants.get)               # returns the index (key value) of the shortest path in the dictionary of all paths traversed\n",
    "            shortest_path_iter = self.total_distance_by_all_ants[shortest_path_ind_iter]                                         # returns the time of the shortest path for the iteration\n",
    "            shortest_path_coords_iter = self.paths_coords_taken_by_all_ants[shortest_path_ind_iter]                              # returns the coords for the shortest path in the dictionary for the iteration\n",
    "            pheromones = self.global_pheromone_update(pheromones, shortest_path_coords_iter, shortest_path_iter, rho)            # then do global pheromone update using iteration-best path\n",
    "        self.chosen_path = shortest_path_ind_iter                                                                             # used for plotting the shortest path found over all iterations\n",
    "\n",
    "#-------------------------------------------------------- DIJKSTRA'S ALGORITHM -----------------------------------------------#    \n",
    "    def dijkstra_path(self): \n",
    "        \n",
    "        pass\n",
    "        '''\n",
    "        HAS TO LOOK AT THE GRID AS A WHOLE AND FIND THE PATH BEFORE TAKING IT\n",
    "        Can convert the maze to a graph using dictionary\n",
    "        Alternatively, each cell in the grid can represents a vertex and neighbor cells adjacent vertices. Thus, not making an explicit graph from these cells instead using the grid as it is in my dijkstra’s algorithm. \n",
    "        Will also outline the finishing point and state that the agent shouldn't go to cells it has already visited by using a boolean version of the maze where if a cell has been visited it will show true\n",
    "        \n",
    "    '''"
   ],
   "cell_type": "code",
   "metadata": {},
   "execution_count": 46,
   "outputs": []
  },
  {
   "cell_type": "code",
   "execution_count": 47,
   "metadata": {},
   "outputs": [],
   "source": [
    "class IntMaze():\n",
    "    '''A class to represent a maze. A maze in this scenario is a 2D (height x width) grid where each cell has a number associated to it. This cell number indicates the time an agent spends on a cell. There are 2 game modes. Game mode 1 is where the time spent on a cell is the number on this cell. Game mode 2 is where the time spent on a cell is the absolute of the difference between the previous cell the agent was on and the current cell it is on. \n",
    "    Only game mode 1 has been implemented.'''\n",
    "    def __init__ (self, height, width, mode, alg, agent):  \n",
    "        self.height = height\n",
    "        self.width = width\n",
    "        self.mode = mode\n",
    "        self.agent = agent\n",
    "        self.alg = alg\n",
    "        self.path_find_type = {'Recursive': 0, 'Dijkstra': 1, 'Ant Colony': 2}\n",
    "    \n",
    "    def create_maze(self): # generates the grid/map\n",
    "        return np.array(np.random.randint(0, 10, size = (self.height, self.width)))\n",
    "\n",
    "    def start_game(self):\n",
    "        self.maze = self.create_maze()                      # create the grid/maze\n",
    "        self.agent.maze = self                              # add agent to the maze/environment\n",
    "        if self.mode == 1:\n",
    "            if self.path_find_type[self.alg] == 0:          # Recursive approach\n",
    "                self.agent.recursive_path(self.agent.curr_position[0], self.agent.curr_position[1], [], []) \n",
    "                self.plot_maze_path(annotate=True, chosen_path=True)\n",
    "            elif self.path_find_type[self.alg] == 1:        # Dijkstra \n",
    "                self.agent.dijkstra_path()\n",
    "                self.plot_maze_path(annotate=True, chosen_path=True)\n",
    "            elif self.path_find_type[self.alg] == 2:        # Antcolony \n",
    "                self.agent.antcol_path()\n",
    "                self.plot_maze_path(annotate=True, chosen_path=True)\n",
    "\n",
    "    def plot_maze_path(self, annotate, chosen_path): \n",
    "        c1 = np.array([0, self.width])\n",
    "        c2 = np.array([self.height, 0]) \n",
    "        dim = len(c1) \n",
    "        x_pts = np.linspace(c1[0], c2[0], self.width)\n",
    "        y_pts = np.linspace(c1[1], c2[1], self.height)\n",
    "        Xv, Yv = np.meshgrid(x_pts, y_pts)\n",
    "        numpts = self.width*self.height      \n",
    "        node_array = np.zeros((numpts, 2), dtype=float)\n",
    "        node_array[:,0] = np.reshape(Xv, numpts)\n",
    "        node_array[:,1] = np.reshape(Yv, numpts)\n",
    "        num_cells = int(self.width-1)*(self.height-1)\n",
    "        connectivity = np.zeros((num_cells, int(2**dim)), dtype=int)\n",
    "        rows, cols = self.height-1, self.width-1 \n",
    "        for row in range(rows):\n",
    "            for col in range(cols):\n",
    "                num = self.width*row + col\n",
    "                connectivity[cols*row + col] = [num+0, num+1, num+self.width, num+self.width+1]\n",
    "\n",
    "        annotations = self.maze.flatten()\n",
    "        X,Y = node_array.T\n",
    "        fig = plt.figure(figsize=(self.width,self.height)) \n",
    "        ax = fig.add_subplot(111)\n",
    "        ax.set_aspect('auto')\n",
    "        plt.axis('off')\n",
    "        plt.scatter(X,Y, marker='o', s=50, color='g', alpha=1.0)\n",
    "        if height == width:\n",
    "            plt.plot(Xv,Yv, linewidth=2, color='k', alpha=0.2)\n",
    "            plt.plot(Yv,Xv, linewidth=2, color='k', alpha=0.2)\n",
    "        if annotate:                    \n",
    "            for i, pos in enumerate(node_array):\n",
    "                plt.text(pos[0], pos[1],  str(annotations[i]), color='k', verticalalignment='bottom', horizontalalignment='right', fontsize='xx-large')\n",
    "            \n",
    "        nodes_coords = np.split(node_array, self.height)\n",
    "        \n",
    "        path_coords_grid = []\n",
    "        if self.alg == 'Recursive':\n",
    "            for x, y in self.agent.option_coords[self.agent.chosen_path]:                        # this converts a path to coordinates on the graph depending on what algorithm is chosen\n",
    "                path_coords_grid.append(nodes_coords[x][y])\n",
    "        \n",
    "        if self.alg == 'Ant Colony':\n",
    "            for x, y in self.agent.paths_coords_taken_by_all_ants[self.agent.chosen_path]: \n",
    "                path_coords_grid.append(nodes_coords[x][y])\n",
    "        '''\n",
    "        if self.alg == 'Dijkstra':\n",
    "            for x, y in self.agent.paths_coords_taken_by_all_ants[self.agent.chosen_path]: \n",
    "                path_coords_grid.append(nodes_coords[x][y])\n",
    "        '''\n",
    "        head_length = 0.1\n",
    "\n",
    "        if chosen_path:\n",
    "            for i in range(len(path_coords_grid)-1): # plots vectors for the shortest path\n",
    "                dx = path_coords_grid[i+1][0] - path_coords_grid[i][0]\n",
    "                dy = path_coords_grid[i+1][1] - path_coords_grid[i][1]\n",
    "                vec_ab = [dx,dy]\n",
    "                vec_ab_magnitude = np.sqrt(dx**2+dy**2)\n",
    "                dx = dx / vec_ab_magnitude\n",
    "                dy = dy / vec_ab_magnitude\n",
    "                vec_ab_magnitude = vec_ab_magnitude - head_length\n",
    "                plt.arrow(path_coords_grid[i][0], path_coords_grid[i][1], vec_ab_magnitude*dx, vec_ab_magnitude*dy, head_width=0.1, head_length=0.2, color='red')\n",
    "        plt.show(block=False)\n",
    "        return node_array, connectivity"
   ]
  },
  {
   "cell_type": "code",
   "execution_count": 23,
   "metadata": {},
   "outputs": [
    {
     "output_type": "display_data",
     "data": {
      "text/plain": "<Figure size 360x360 with 1 Axes>",
      "image/svg+xml": "<?xml version=\"1.0\" encoding=\"utf-8\" standalone=\"no\"?>\r\n<!DOCTYPE svg PUBLIC \"-//W3C//DTD SVG 1.1//EN\"\r\n  \"http://www.w3.org/Graphics/SVG/1.1/DTD/svg11.dtd\">\r\n<!-- Created with matplotlib (https://matplotlib.org/) -->\r\n<svg height=\"289.929758pt\" version=\"1.1\" viewBox=\"0 0 293.4 289.929758\" width=\"293.4pt\" xmlns=\"http://www.w3.org/2000/svg\" xmlns:xlink=\"http://www.w3.org/1999/xlink\">\r\n <defs>\r\n  <style type=\"text/css\">\r\n*{stroke-linecap:butt;stroke-linejoin:round;}\r\n  </style>\r\n </defs>\r\n <g id=\"figure_1\">\r\n  <g id=\"patch_1\">\r\n   <path d=\"M 0 289.929758 \r\nL 293.4 289.929758 \r\nL 293.4 0 \r\nL 0 0 \r\nz\r\n\" style=\"fill:none;\"/>\r\n  </g>\r\n  <g id=\"axes_1\">\r\n   <g id=\"PathCollection_1\">\r\n    <defs>\r\n     <path d=\"M 0 3.535534 \r\nC 0.937635 3.535534 1.836992 3.163008 2.5 2.5 \r\nC 3.163008 1.836992 3.535534 0.937635 3.535534 0 \r\nC 3.535534 -0.937635 3.163008 -1.836992 2.5 -2.5 \r\nC 1.836992 -3.163008 0.937635 -3.535534 0 -3.535534 \r\nC -0.937635 -3.535534 -1.836992 -3.163008 -2.5 -2.5 \r\nC -3.163008 -1.836992 -3.535534 -0.937635 -3.535534 0 \r\nC -3.535534 0.937635 -3.163008 1.836992 -2.5 2.5 \r\nC -1.836992 3.163008 -0.937635 3.535534 0 3.535534 \r\nz\r\n\" id=\"mc8b7642bcd\" style=\"stroke:#008000;\"/>\r\n    </defs>\r\n    <g clip-path=\"url(#pc9b797e492)\">\r\n     <use style=\"fill:#008000;stroke:#008000;\" x=\"20.521401\" xlink:href=\"#mc8b7642bcd\" y=\"23.9238\"/>\r\n     <use style=\"fill:#008000;stroke:#008000;\" x=\"83.6107\" xlink:href=\"#mc8b7642bcd\" y=\"23.9238\"/>\r\n     <use style=\"fill:#008000;stroke:#008000;\" x=\"146.7\" xlink:href=\"#mc8b7642bcd\" y=\"23.9238\"/>\r\n     <use style=\"fill:#008000;stroke:#008000;\" x=\"209.7893\" xlink:href=\"#mc8b7642bcd\" y=\"23.9238\"/>\r\n     <use style=\"fill:#008000;stroke:#008000;\" x=\"272.878599\" xlink:href=\"#mc8b7642bcd\" y=\"23.9238\"/>\r\n     <use style=\"fill:#008000;stroke:#008000;\" x=\"20.521401\" xlink:href=\"#mc8b7642bcd\" y=\"85.376779\"/>\r\n     <use style=\"fill:#008000;stroke:#008000;\" x=\"83.6107\" xlink:href=\"#mc8b7642bcd\" y=\"85.376779\"/>\r\n     <use style=\"fill:#008000;stroke:#008000;\" x=\"146.7\" xlink:href=\"#mc8b7642bcd\" y=\"85.376779\"/>\r\n     <use style=\"fill:#008000;stroke:#008000;\" x=\"209.7893\" xlink:href=\"#mc8b7642bcd\" y=\"85.376779\"/>\r\n     <use style=\"fill:#008000;stroke:#008000;\" x=\"272.878599\" xlink:href=\"#mc8b7642bcd\" y=\"85.376779\"/>\r\n     <use style=\"fill:#008000;stroke:#008000;\" x=\"20.521401\" xlink:href=\"#mc8b7642bcd\" y=\"146.829758\"/>\r\n     <use style=\"fill:#008000;stroke:#008000;\" x=\"83.6107\" xlink:href=\"#mc8b7642bcd\" y=\"146.829758\"/>\r\n     <use style=\"fill:#008000;stroke:#008000;\" x=\"146.7\" xlink:href=\"#mc8b7642bcd\" y=\"146.829758\"/>\r\n     <use style=\"fill:#008000;stroke:#008000;\" x=\"209.7893\" xlink:href=\"#mc8b7642bcd\" y=\"146.829758\"/>\r\n     <use style=\"fill:#008000;stroke:#008000;\" x=\"272.878599\" xlink:href=\"#mc8b7642bcd\" y=\"146.829758\"/>\r\n     <use style=\"fill:#008000;stroke:#008000;\" x=\"20.521401\" xlink:href=\"#mc8b7642bcd\" y=\"208.282736\"/>\r\n     <use style=\"fill:#008000;stroke:#008000;\" x=\"83.6107\" xlink:href=\"#mc8b7642bcd\" y=\"208.282736\"/>\r\n     <use style=\"fill:#008000;stroke:#008000;\" x=\"146.7\" xlink:href=\"#mc8b7642bcd\" y=\"208.282736\"/>\r\n     <use style=\"fill:#008000;stroke:#008000;\" x=\"209.7893\" xlink:href=\"#mc8b7642bcd\" y=\"208.282736\"/>\r\n     <use style=\"fill:#008000;stroke:#008000;\" x=\"272.878599\" xlink:href=\"#mc8b7642bcd\" y=\"208.282736\"/>\r\n     <use style=\"fill:#008000;stroke:#008000;\" x=\"20.521401\" xlink:href=\"#mc8b7642bcd\" y=\"269.735715\"/>\r\n     <use style=\"fill:#008000;stroke:#008000;\" x=\"83.6107\" xlink:href=\"#mc8b7642bcd\" y=\"269.735715\"/>\r\n     <use style=\"fill:#008000;stroke:#008000;\" x=\"146.7\" xlink:href=\"#mc8b7642bcd\" y=\"269.735715\"/>\r\n     <use style=\"fill:#008000;stroke:#008000;\" x=\"209.7893\" xlink:href=\"#mc8b7642bcd\" y=\"269.735715\"/>\r\n     <use style=\"fill:#008000;stroke:#008000;\" x=\"272.878599\" xlink:href=\"#mc8b7642bcd\" y=\"269.735715\"/>\r\n    </g>\r\n   </g>\r\n   <g id=\"patch_2\">\r\n    <path clip-path=\"url(#pc9b797e492)\" d=\"M 20.521401 90.293017 \r\nL 17.997829 80.46054 \r\nL 20.496165 80.46054 \r\nL 20.496165 23.9238 \r\nL 20.546636 23.9238 \r\nL 20.546636 80.46054 \r\nL 23.044973 80.46054 \r\nz\r\n\" style=\"fill:#ff0000;stroke:#ff0000;stroke-linejoin:miter;\"/>\r\n   </g>\r\n   <g id=\"patch_3\">\r\n    <path clip-path=\"url(#pc9b797e492)\" d=\"M 88.657844 85.376779 \r\nL 78.563556 87.834898 \r\nL 78.563556 85.40136 \r\nL 20.521401 85.40136 \r\nL 20.521401 85.352198 \r\nL 78.563556 85.352198 \r\nL 78.563556 82.91866 \r\nz\r\n\" style=\"fill:#ff0000;stroke:#ff0000;stroke-linejoin:miter;\"/>\r\n   </g>\r\n   <g id=\"patch_4\">\r\n    <path clip-path=\"url(#pc9b797e492)\" d=\"M 83.6107 151.745996 \r\nL 81.087128 141.913519 \r\nL 83.585465 141.913519 \r\nL 83.585465 85.376779 \r\nL 83.635936 85.376779 \r\nL 83.635936 141.913519 \r\nL 86.134272 141.913519 \r\nz\r\n\" style=\"fill:#ff0000;stroke:#ff0000;stroke-linejoin:miter;\"/>\r\n   </g>\r\n   <g id=\"patch_5\">\r\n    <path clip-path=\"url(#pc9b797e492)\" d=\"M 83.6107 213.198975 \r\nL 81.087128 203.366498 \r\nL 83.585465 203.366498 \r\nL 83.585465 146.829758 \r\nL 83.635936 146.829758 \r\nL 83.635936 203.366498 \r\nL 86.134272 203.366498 \r\nz\r\n\" style=\"fill:#ff0000;stroke:#ff0000;stroke-linejoin:miter;\"/>\r\n   </g>\r\n   <g id=\"patch_6\">\r\n    <path clip-path=\"url(#pc9b797e492)\" d=\"M 83.6107 274.651953 \r\nL 81.087128 264.819477 \r\nL 83.585465 264.819477 \r\nL 83.585465 208.282736 \r\nL 83.635936 208.282736 \r\nL 83.635936 264.819477 \r\nL 86.134272 264.819477 \r\nz\r\n\" style=\"fill:#ff0000;stroke:#ff0000;stroke-linejoin:miter;\"/>\r\n   </g>\r\n   <g id=\"patch_7\">\r\n    <path clip-path=\"url(#pc9b797e492)\" d=\"M 151.747144 269.735715 \r\nL 141.652856 272.193834 \r\nL 141.652856 269.760296 \r\nL 83.6107 269.760296 \r\nL 83.6107 269.711134 \r\nL 141.652856 269.711134 \r\nL 141.652856 267.277596 \r\nz\r\n\" style=\"fill:#ff0000;stroke:#ff0000;stroke-linejoin:miter;\"/>\r\n   </g>\r\n   <g id=\"patch_8\">\r\n    <path clip-path=\"url(#pc9b797e492)\" d=\"M 214.836444 269.735715 \r\nL 204.742156 272.193834 \r\nL 204.742156 269.760296 \r\nL 146.7 269.760296 \r\nL 146.7 269.711134 \r\nL 204.742156 269.711134 \r\nL 204.742156 267.277596 \r\nz\r\n\" style=\"fill:#ff0000;stroke:#ff0000;stroke-linejoin:miter;\"/>\r\n   </g>\r\n   <g id=\"patch_9\">\r\n    <path clip-path=\"url(#pc9b797e492)\" d=\"M 277.925743 269.735715 \r\nL 267.831455 272.193834 \r\nL 267.831455 269.760296 \r\nL 209.7893 269.760296 \r\nL 209.7893 269.711134 \r\nL 267.831455 269.711134 \r\nL 267.831455 267.277596 \r\nz\r\n\" style=\"fill:#ff0000;stroke:#ff0000;stroke-linejoin:miter;\"/>\r\n   </g>\r\n   <g id=\"line2d_1\">\r\n    <path clip-path=\"url(#pc9b797e492)\" d=\"M 20.521401 23.9238 \r\nL 20.521401 85.376779 \r\nL 20.521401 146.829758 \r\nL 20.521401 208.282736 \r\nL 20.521401 269.735715 \r\n\" style=\"fill:none;stroke:#000000;stroke-linecap:square;stroke-opacity:0.2;stroke-width:2;\"/>\r\n   </g>\r\n   <g id=\"line2d_2\">\r\n    <path clip-path=\"url(#pc9b797e492)\" d=\"M 83.6107 23.9238 \r\nL 83.6107 85.376779 \r\nL 83.6107 146.829758 \r\nL 83.6107 208.282736 \r\nL 83.6107 269.735715 \r\n\" style=\"fill:none;stroke:#000000;stroke-linecap:square;stroke-opacity:0.2;stroke-width:2;\"/>\r\n   </g>\r\n   <g id=\"line2d_3\">\r\n    <path clip-path=\"url(#pc9b797e492)\" d=\"M 146.7 23.9238 \r\nL 146.7 85.376779 \r\nL 146.7 146.829758 \r\nL 146.7 208.282736 \r\nL 146.7 269.735715 \r\n\" style=\"fill:none;stroke:#000000;stroke-linecap:square;stroke-opacity:0.2;stroke-width:2;\"/>\r\n   </g>\r\n   <g id=\"line2d_4\">\r\n    <path clip-path=\"url(#pc9b797e492)\" d=\"M 209.7893 23.9238 \r\nL 209.7893 85.376779 \r\nL 209.7893 146.829758 \r\nL 209.7893 208.282736 \r\nL 209.7893 269.735715 \r\n\" style=\"fill:none;stroke:#000000;stroke-linecap:square;stroke-opacity:0.2;stroke-width:2;\"/>\r\n   </g>\r\n   <g id=\"line2d_5\">\r\n    <path clip-path=\"url(#pc9b797e492)\" d=\"M 272.878599 23.9238 \r\nL 272.878599 85.376779 \r\nL 272.878599 146.829758 \r\nL 272.878599 208.282736 \r\nL 272.878599 269.735715 \r\n\" style=\"fill:none;stroke:#000000;stroke-linecap:square;stroke-opacity:0.2;stroke-width:2;\"/>\r\n   </g>\r\n   <g id=\"line2d_6\">\r\n    <path clip-path=\"url(#pc9b797e492)\" d=\"M 272.878599 269.735715 \r\nL 209.7893 269.735715 \r\nL 146.7 269.735715 \r\nL 83.6107 269.735715 \r\nL 20.521401 269.735715 \r\n\" style=\"fill:none;stroke:#000000;stroke-linecap:square;stroke-opacity:0.2;stroke-width:2;\"/>\r\n   </g>\r\n   <g id=\"line2d_7\">\r\n    <path clip-path=\"url(#pc9b797e492)\" d=\"M 272.878599 208.282736 \r\nL 209.7893 208.282736 \r\nL 146.7 208.282736 \r\nL 83.6107 208.282736 \r\nL 20.521401 208.282736 \r\n\" style=\"fill:none;stroke:#000000;stroke-linecap:square;stroke-opacity:0.2;stroke-width:2;\"/>\r\n   </g>\r\n   <g id=\"line2d_8\">\r\n    <path clip-path=\"url(#pc9b797e492)\" d=\"M 272.878599 146.829758 \r\nL 209.7893 146.829758 \r\nL 146.7 146.829758 \r\nL 83.6107 146.829758 \r\nL 20.521401 146.829758 \r\n\" style=\"fill:none;stroke:#000000;stroke-linecap:square;stroke-opacity:0.2;stroke-width:2;\"/>\r\n   </g>\r\n   <g id=\"line2d_9\">\r\n    <path clip-path=\"url(#pc9b797e492)\" d=\"M 272.878599 85.376779 \r\nL 209.7893 85.376779 \r\nL 146.7 85.376779 \r\nL 83.6107 85.376779 \r\nL 20.521401 85.376779 \r\n\" style=\"fill:none;stroke:#000000;stroke-linecap:square;stroke-opacity:0.2;stroke-width:2;\"/>\r\n   </g>\r\n   <g id=\"line2d_10\">\r\n    <path clip-path=\"url(#pc9b797e492)\" d=\"M 272.878599 23.9238 \r\nL 209.7893 23.9238 \r\nL 146.7 23.9238 \r\nL 83.6107 23.9238 \r\nL 20.521401 23.9238 \r\n\" style=\"fill:none;stroke:#000000;stroke-linecap:square;stroke-opacity:0.2;stroke-width:2;\"/>\r\n   </g>\r\n   <g id=\"text_1\">\r\n    <!-- 9 -->\r\n    <defs>\r\n     <path d=\"M 10.984375 1.515625 \r\nL 10.984375 10.5 \r\nQ 14.703125 8.734375 18.5 7.8125 \r\nQ 22.3125 6.890625 25.984375 6.890625 \r\nQ 35.75 6.890625 40.890625 13.453125 \r\nQ 46.046875 20.015625 46.78125 33.40625 \r\nQ 43.953125 29.203125 39.59375 26.953125 \r\nQ 35.25 24.703125 29.984375 24.703125 \r\nQ 19.046875 24.703125 12.671875 31.3125 \r\nQ 6.296875 37.9375 6.296875 49.421875 \r\nQ 6.296875 60.640625 12.9375 67.421875 \r\nQ 19.578125 74.21875 30.609375 74.21875 \r\nQ 43.265625 74.21875 49.921875 64.515625 \r\nQ 56.59375 54.828125 56.59375 36.375 \r\nQ 56.59375 19.140625 48.40625 8.859375 \r\nQ 40.234375 -1.421875 26.421875 -1.421875 \r\nQ 22.703125 -1.421875 18.890625 -0.6875 \r\nQ 15.09375 0.046875 10.984375 1.515625 \r\nz\r\nM 30.609375 32.421875 \r\nQ 37.25 32.421875 41.125 36.953125 \r\nQ 45.015625 41.5 45.015625 49.421875 \r\nQ 45.015625 57.28125 41.125 61.84375 \r\nQ 37.25 66.40625 30.609375 66.40625 \r\nQ 23.96875 66.40625 20.09375 61.84375 \r\nQ 16.21875 57.28125 16.21875 49.421875 \r\nQ 16.21875 41.5 20.09375 36.953125 \r\nQ 23.96875 32.421875 30.609375 32.421875 \r\nz\r\n\" id=\"DejaVuSans-57\"/>\r\n    </defs>\r\n    <g transform=\"translate(9.527001 20.3301)scale(0.1728 -0.1728)\">\r\n     <use xlink:href=\"#DejaVuSans-57\"/>\r\n    </g>\r\n   </g>\r\n   <g id=\"text_2\">\r\n    <!-- 8 -->\r\n    <defs>\r\n     <path d=\"M 31.78125 34.625 \r\nQ 24.75 34.625 20.71875 30.859375 \r\nQ 16.703125 27.09375 16.703125 20.515625 \r\nQ 16.703125 13.921875 20.71875 10.15625 \r\nQ 24.75 6.390625 31.78125 6.390625 \r\nQ 38.8125 6.390625 42.859375 10.171875 \r\nQ 46.921875 13.96875 46.921875 20.515625 \r\nQ 46.921875 27.09375 42.890625 30.859375 \r\nQ 38.875 34.625 31.78125 34.625 \r\nz\r\nM 21.921875 38.8125 \r\nQ 15.578125 40.375 12.03125 44.71875 \r\nQ 8.5 49.078125 8.5 55.328125 \r\nQ 8.5 64.0625 14.71875 69.140625 \r\nQ 20.953125 74.21875 31.78125 74.21875 \r\nQ 42.671875 74.21875 48.875 69.140625 \r\nQ 55.078125 64.0625 55.078125 55.328125 \r\nQ 55.078125 49.078125 51.53125 44.71875 \r\nQ 48 40.375 41.703125 38.8125 \r\nQ 48.828125 37.15625 52.796875 32.3125 \r\nQ 56.78125 27.484375 56.78125 20.515625 \r\nQ 56.78125 9.90625 50.3125 4.234375 \r\nQ 43.84375 -1.421875 31.78125 -1.421875 \r\nQ 19.734375 -1.421875 13.25 4.234375 \r\nQ 6.78125 9.90625 6.78125 20.515625 \r\nQ 6.78125 27.484375 10.78125 32.3125 \r\nQ 14.796875 37.15625 21.921875 38.8125 \r\nz\r\nM 18.3125 54.390625 \r\nQ 18.3125 48.734375 21.84375 45.5625 \r\nQ 25.390625 42.390625 31.78125 42.390625 \r\nQ 38.140625 42.390625 41.71875 45.5625 \r\nQ 45.3125 48.734375 45.3125 54.390625 \r\nQ 45.3125 60.0625 41.71875 63.234375 \r\nQ 38.140625 66.40625 31.78125 66.40625 \r\nQ 25.390625 66.40625 21.84375 63.234375 \r\nQ 18.3125 60.0625 18.3125 54.390625 \r\nz\r\n\" id=\"DejaVuSans-56\"/>\r\n    </defs>\r\n    <g transform=\"translate(72.6163 20.3301)scale(0.1728 -0.1728)\">\r\n     <use xlink:href=\"#DejaVuSans-56\"/>\r\n    </g>\r\n   </g>\r\n   <g id=\"text_3\">\r\n    <!-- 9 -->\r\n    <g transform=\"translate(135.7056 20.3301)scale(0.1728 -0.1728)\">\r\n     <use xlink:href=\"#DejaVuSans-57\"/>\r\n    </g>\r\n   </g>\r\n   <g id=\"text_4\">\r\n    <!-- 9 -->\r\n    <g transform=\"translate(198.7949 20.3301)scale(0.1728 -0.1728)\">\r\n     <use xlink:href=\"#DejaVuSans-57\"/>\r\n    </g>\r\n   </g>\r\n   <g id=\"text_5\">\r\n    <!-- 2 -->\r\n    <defs>\r\n     <path d=\"M 19.1875 8.296875 \r\nL 53.609375 8.296875 \r\nL 53.609375 0 \r\nL 7.328125 0 \r\nL 7.328125 8.296875 \r\nQ 12.9375 14.109375 22.625 23.890625 \r\nQ 32.328125 33.6875 34.8125 36.53125 \r\nQ 39.546875 41.84375 41.421875 45.53125 \r\nQ 43.3125 49.21875 43.3125 52.78125 \r\nQ 43.3125 58.59375 39.234375 62.25 \r\nQ 35.15625 65.921875 28.609375 65.921875 \r\nQ 23.96875 65.921875 18.8125 64.3125 \r\nQ 13.671875 62.703125 7.8125 59.421875 \r\nL 7.8125 69.390625 \r\nQ 13.765625 71.78125 18.9375 73 \r\nQ 24.125 74.21875 28.421875 74.21875 \r\nQ 39.75 74.21875 46.484375 68.546875 \r\nQ 53.21875 62.890625 53.21875 53.421875 \r\nQ 53.21875 48.921875 51.53125 44.890625 \r\nQ 49.859375 40.875 45.40625 35.40625 \r\nQ 44.1875 33.984375 37.640625 27.21875 \r\nQ 31.109375 20.453125 19.1875 8.296875 \r\nz\r\n\" id=\"DejaVuSans-50\"/>\r\n    </defs>\r\n    <g transform=\"translate(261.884199 20.3301)scale(0.1728 -0.1728)\">\r\n     <use xlink:href=\"#DejaVuSans-50\"/>\r\n    </g>\r\n   </g>\r\n   <g id=\"text_6\">\r\n    <!-- 0 -->\r\n    <defs>\r\n     <path d=\"M 31.78125 66.40625 \r\nQ 24.171875 66.40625 20.328125 58.90625 \r\nQ 16.5 51.421875 16.5 36.375 \r\nQ 16.5 21.390625 20.328125 13.890625 \r\nQ 24.171875 6.390625 31.78125 6.390625 \r\nQ 39.453125 6.390625 43.28125 13.890625 \r\nQ 47.125 21.390625 47.125 36.375 \r\nQ 47.125 51.421875 43.28125 58.90625 \r\nQ 39.453125 66.40625 31.78125 66.40625 \r\nz\r\nM 31.78125 74.21875 \r\nQ 44.046875 74.21875 50.515625 64.515625 \r\nQ 56.984375 54.828125 56.984375 36.375 \r\nQ 56.984375 17.96875 50.515625 8.265625 \r\nQ 44.046875 -1.421875 31.78125 -1.421875 \r\nQ 19.53125 -1.421875 13.0625 8.265625 \r\nQ 6.59375 17.96875 6.59375 36.375 \r\nQ 6.59375 54.828125 13.0625 64.515625 \r\nQ 19.53125 74.21875 31.78125 74.21875 \r\nz\r\n\" id=\"DejaVuSans-48\"/>\r\n    </defs>\r\n    <g transform=\"translate(9.527001 81.783079)scale(0.1728 -0.1728)\">\r\n     <use xlink:href=\"#DejaVuSans-48\"/>\r\n    </g>\r\n   </g>\r\n   <g id=\"text_7\">\r\n    <!-- 3 -->\r\n    <defs>\r\n     <path d=\"M 40.578125 39.3125 \r\nQ 47.65625 37.796875 51.625 33 \r\nQ 55.609375 28.21875 55.609375 21.1875 \r\nQ 55.609375 10.40625 48.1875 4.484375 \r\nQ 40.765625 -1.421875 27.09375 -1.421875 \r\nQ 22.515625 -1.421875 17.65625 -0.515625 \r\nQ 12.796875 0.390625 7.625 2.203125 \r\nL 7.625 11.71875 \r\nQ 11.71875 9.328125 16.59375 8.109375 \r\nQ 21.484375 6.890625 26.8125 6.890625 \r\nQ 36.078125 6.890625 40.9375 10.546875 \r\nQ 45.796875 14.203125 45.796875 21.1875 \r\nQ 45.796875 27.640625 41.28125 31.265625 \r\nQ 36.765625 34.90625 28.71875 34.90625 \r\nL 20.21875 34.90625 \r\nL 20.21875 43.015625 \r\nL 29.109375 43.015625 \r\nQ 36.375 43.015625 40.234375 45.921875 \r\nQ 44.09375 48.828125 44.09375 54.296875 \r\nQ 44.09375 59.90625 40.109375 62.90625 \r\nQ 36.140625 65.921875 28.71875 65.921875 \r\nQ 24.65625 65.921875 20.015625 65.03125 \r\nQ 15.375 64.15625 9.8125 62.3125 \r\nL 9.8125 71.09375 \r\nQ 15.4375 72.65625 20.34375 73.4375 \r\nQ 25.25 74.21875 29.59375 74.21875 \r\nQ 40.828125 74.21875 47.359375 69.109375 \r\nQ 53.90625 64.015625 53.90625 55.328125 \r\nQ 53.90625 49.265625 50.4375 45.09375 \r\nQ 46.96875 40.921875 40.578125 39.3125 \r\nz\r\n\" id=\"DejaVuSans-51\"/>\r\n    </defs>\r\n    <g transform=\"translate(72.6163 81.783079)scale(0.1728 -0.1728)\">\r\n     <use xlink:href=\"#DejaVuSans-51\"/>\r\n    </g>\r\n   </g>\r\n   <g id=\"text_8\">\r\n    <!-- 5 -->\r\n    <defs>\r\n     <path d=\"M 10.796875 72.90625 \r\nL 49.515625 72.90625 \r\nL 49.515625 64.59375 \r\nL 19.828125 64.59375 \r\nL 19.828125 46.734375 \r\nQ 21.96875 47.46875 24.109375 47.828125 \r\nQ 26.265625 48.1875 28.421875 48.1875 \r\nQ 40.625 48.1875 47.75 41.5 \r\nQ 54.890625 34.8125 54.890625 23.390625 \r\nQ 54.890625 11.625 47.5625 5.09375 \r\nQ 40.234375 -1.421875 26.90625 -1.421875 \r\nQ 22.3125 -1.421875 17.546875 -0.640625 \r\nQ 12.796875 0.140625 7.71875 1.703125 \r\nL 7.71875 11.625 \r\nQ 12.109375 9.234375 16.796875 8.0625 \r\nQ 21.484375 6.890625 26.703125 6.890625 \r\nQ 35.15625 6.890625 40.078125 11.328125 \r\nQ 45.015625 15.765625 45.015625 23.390625 \r\nQ 45.015625 31 40.078125 35.4375 \r\nQ 35.15625 39.890625 26.703125 39.890625 \r\nQ 22.75 39.890625 18.8125 39.015625 \r\nQ 14.890625 38.140625 10.796875 36.28125 \r\nz\r\n\" id=\"DejaVuSans-53\"/>\r\n    </defs>\r\n    <g transform=\"translate(135.7056 81.783079)scale(0.1728 -0.1728)\">\r\n     <use xlink:href=\"#DejaVuSans-53\"/>\r\n    </g>\r\n   </g>\r\n   <g id=\"text_9\">\r\n    <!-- 2 -->\r\n    <g transform=\"translate(198.7949 81.783079)scale(0.1728 -0.1728)\">\r\n     <use xlink:href=\"#DejaVuSans-50\"/>\r\n    </g>\r\n   </g>\r\n   <g id=\"text_10\">\r\n    <!-- 5 -->\r\n    <g transform=\"translate(261.884199 81.783079)scale(0.1728 -0.1728)\">\r\n     <use xlink:href=\"#DejaVuSans-53\"/>\r\n    </g>\r\n   </g>\r\n   <g id=\"text_11\">\r\n    <!-- 7 -->\r\n    <defs>\r\n     <path d=\"M 8.203125 72.90625 \r\nL 55.078125 72.90625 \r\nL 55.078125 68.703125 \r\nL 28.609375 0 \r\nL 18.3125 0 \r\nL 43.21875 64.59375 \r\nL 8.203125 64.59375 \r\nz\r\n\" id=\"DejaVuSans-55\"/>\r\n    </defs>\r\n    <g transform=\"translate(9.527001 143.236058)scale(0.1728 -0.1728)\">\r\n     <use xlink:href=\"#DejaVuSans-55\"/>\r\n    </g>\r\n   </g>\r\n   <g id=\"text_12\">\r\n    <!-- 3 -->\r\n    <g transform=\"translate(72.6163 143.236058)scale(0.1728 -0.1728)\">\r\n     <use xlink:href=\"#DejaVuSans-51\"/>\r\n    </g>\r\n   </g>\r\n   <g id=\"text_13\">\r\n    <!-- 2 -->\r\n    <g transform=\"translate(135.7056 143.236058)scale(0.1728 -0.1728)\">\r\n     <use xlink:href=\"#DejaVuSans-50\"/>\r\n    </g>\r\n   </g>\r\n   <g id=\"text_14\">\r\n    <!-- 7 -->\r\n    <g transform=\"translate(198.7949 143.236058)scale(0.1728 -0.1728)\">\r\n     <use xlink:href=\"#DejaVuSans-55\"/>\r\n    </g>\r\n   </g>\r\n   <g id=\"text_15\">\r\n    <!-- 5 -->\r\n    <g transform=\"translate(261.884199 143.236058)scale(0.1728 -0.1728)\">\r\n     <use xlink:href=\"#DejaVuSans-53\"/>\r\n    </g>\r\n   </g>\r\n   <g id=\"text_16\">\r\n    <!-- 2 -->\r\n    <g transform=\"translate(9.527001 204.689036)scale(0.1728 -0.1728)\">\r\n     <use xlink:href=\"#DejaVuSans-50\"/>\r\n    </g>\r\n   </g>\r\n   <g id=\"text_17\">\r\n    <!-- 1 -->\r\n    <defs>\r\n     <path d=\"M 12.40625 8.296875 \r\nL 28.515625 8.296875 \r\nL 28.515625 63.921875 \r\nL 10.984375 60.40625 \r\nL 10.984375 69.390625 \r\nL 28.421875 72.90625 \r\nL 38.28125 72.90625 \r\nL 38.28125 8.296875 \r\nL 54.390625 8.296875 \r\nL 54.390625 0 \r\nL 12.40625 0 \r\nz\r\n\" id=\"DejaVuSans-49\"/>\r\n    </defs>\r\n    <g transform=\"translate(72.6163 204.689036)scale(0.1728 -0.1728)\">\r\n     <use xlink:href=\"#DejaVuSans-49\"/>\r\n    </g>\r\n   </g>\r\n   <g id=\"text_18\">\r\n    <!-- 6 -->\r\n    <defs>\r\n     <path d=\"M 33.015625 40.375 \r\nQ 26.375 40.375 22.484375 35.828125 \r\nQ 18.609375 31.296875 18.609375 23.390625 \r\nQ 18.609375 15.53125 22.484375 10.953125 \r\nQ 26.375 6.390625 33.015625 6.390625 \r\nQ 39.65625 6.390625 43.53125 10.953125 \r\nQ 47.40625 15.53125 47.40625 23.390625 \r\nQ 47.40625 31.296875 43.53125 35.828125 \r\nQ 39.65625 40.375 33.015625 40.375 \r\nz\r\nM 52.59375 71.296875 \r\nL 52.59375 62.3125 \r\nQ 48.875 64.0625 45.09375 64.984375 \r\nQ 41.3125 65.921875 37.59375 65.921875 \r\nQ 27.828125 65.921875 22.671875 59.328125 \r\nQ 17.53125 52.734375 16.796875 39.40625 \r\nQ 19.671875 43.65625 24.015625 45.921875 \r\nQ 28.375 48.1875 33.59375 48.1875 \r\nQ 44.578125 48.1875 50.953125 41.515625 \r\nQ 57.328125 34.859375 57.328125 23.390625 \r\nQ 57.328125 12.15625 50.6875 5.359375 \r\nQ 44.046875 -1.421875 33.015625 -1.421875 \r\nQ 20.359375 -1.421875 13.671875 8.265625 \r\nQ 6.984375 17.96875 6.984375 36.375 \r\nQ 6.984375 53.65625 15.1875 63.9375 \r\nQ 23.390625 74.21875 37.203125 74.21875 \r\nQ 40.921875 74.21875 44.703125 73.484375 \r\nQ 48.484375 72.75 52.59375 71.296875 \r\nz\r\n\" id=\"DejaVuSans-54\"/>\r\n    </defs>\r\n    <g transform=\"translate(135.7056 204.689036)scale(0.1728 -0.1728)\">\r\n     <use xlink:href=\"#DejaVuSans-54\"/>\r\n    </g>\r\n   </g>\r\n   <g id=\"text_19\">\r\n    <!-- 7 -->\r\n    <g transform=\"translate(198.7949 204.689036)scale(0.1728 -0.1728)\">\r\n     <use xlink:href=\"#DejaVuSans-55\"/>\r\n    </g>\r\n   </g>\r\n   <g id=\"text_20\">\r\n    <!-- 6 -->\r\n    <g transform=\"translate(261.884199 204.689036)scale(0.1728 -0.1728)\">\r\n     <use xlink:href=\"#DejaVuSans-54\"/>\r\n    </g>\r\n   </g>\r\n   <g id=\"text_21\">\r\n    <!-- 1 -->\r\n    <g transform=\"translate(9.527001 266.142015)scale(0.1728 -0.1728)\">\r\n     <use xlink:href=\"#DejaVuSans-49\"/>\r\n    </g>\r\n   </g>\r\n   <g id=\"text_22\">\r\n    <!-- 4 -->\r\n    <defs>\r\n     <path d=\"M 37.796875 64.3125 \r\nL 12.890625 25.390625 \r\nL 37.796875 25.390625 \r\nz\r\nM 35.203125 72.90625 \r\nL 47.609375 72.90625 \r\nL 47.609375 25.390625 \r\nL 58.015625 25.390625 \r\nL 58.015625 17.1875 \r\nL 47.609375 17.1875 \r\nL 47.609375 0 \r\nL 37.796875 0 \r\nL 37.796875 17.1875 \r\nL 4.890625 17.1875 \r\nL 4.890625 26.703125 \r\nz\r\n\" id=\"DejaVuSans-52\"/>\r\n    </defs>\r\n    <g transform=\"translate(72.6163 266.142015)scale(0.1728 -0.1728)\">\r\n     <use xlink:href=\"#DejaVuSans-52\"/>\r\n    </g>\r\n   </g>\r\n   <g id=\"text_23\">\r\n    <!-- 7 -->\r\n    <g transform=\"translate(135.7056 266.142015)scale(0.1728 -0.1728)\">\r\n     <use xlink:href=\"#DejaVuSans-55\"/>\r\n    </g>\r\n   </g>\r\n   <g id=\"text_24\">\r\n    <!-- 1 -->\r\n    <g transform=\"translate(198.7949 266.142015)scale(0.1728 -0.1728)\">\r\n     <use xlink:href=\"#DejaVuSans-49\"/>\r\n    </g>\r\n   </g>\r\n   <g id=\"text_25\">\r\n    <!-- 1 -->\r\n    <g transform=\"translate(261.884199 266.142015)scale(0.1728 -0.1728)\">\r\n     <use xlink:href=\"#DejaVuSans-49\"/>\r\n    </g>\r\n   </g>\r\n  </g>\r\n </g>\r\n <defs>\r\n  <clipPath id=\"pc9b797e492\">\r\n   <rect height=\"271.8\" width=\"279\" x=\"7.2\" y=\"10.929758\"/>\r\n  </clipPath>\r\n </defs>\r\n</svg>\r\n",
      "image/png": "[encoded data removed]"
     },
     "metadata": {
      "needs_background": "light"
     }
    }
   ],
   "source": [
    "#-------------------------------------------------------- START GAME (NAIVE) -----------------------------------------------#    \n",
    "height, width = 5,5                                                      # Maze has to be NxN in order for visualisation to work properly\n",
    "agent_cortez = Agent('Cortez')                                             # Initialise the agent\n",
    "game = IntMaze(height, width, 1, 'Recursive', agent_cortez)               # Initialise the game with maze of height and width and a particular agent in that game\n",
    "game.start_game()"
   ]
  },
  {
   "source": [
    "agent_cortez.options[agent_cortez.chosen_path]      # To see the shortest path found by recursion"
   ],
   "cell_type": "code",
   "metadata": {},
   "execution_count": 24,
   "outputs": [
    {
     "output_type": "execute_result",
     "data": {
      "text/plain": [
       "[9, 0, 3, 3, 1, 4, 7, 1, 1]"
      ]
     },
     "metadata": {},
     "execution_count": 24
    }
   ]
  },
  {
   "source": [
    "#-------------------------------------------------------- START GAME (ANT-COLONY) -----------------------------------------------#    \n",
    "# Default num_iterations=5, num_ants=30, alpha=1, beta=1, rho=0.1 - can be changed in Agent Class\n",
    "height, width = 8,8                                                      # Maze has to be NxN in order for visualisation to work properly\n",
    "agent_cortez = Agent('Cortez')                                             # Initialise the agent\n",
    "game = IntMaze(height, width, 1, 'Ant Colony', agent_cortez)               # Initialise the game with maze of height and width and a particular agent in that game\n",
    "game.start_game()"
   ],
   "cell_type": "code",
   "metadata": {},
   "execution_count": 48,
   "outputs": [
    {
     "output_type": "stream",
     "name": "stdout",
     "text": [
      "The current iteration is 0 out of 4\n",
      "The current iteration is 1 out of 4\n",
      "The current iteration is 2 out of 4\n",
      "The current iteration is 3 out of 4\n",
      "The current iteration is 4 out of 4\n"
     ]
    },
    {
     "output_type": "display_data",
     "data": {
      "text/plain": "<Figure size 576x576 with 1 Axes>",
      "image/svg+xml": "<?xml version=\"1.0\" encoding=\"utf-8\" standalone=\"no\"?>\r\n<!DOCTYPE svg PUBLIC \"-//W3C//DTD SVG 1.1//EN\"\r\n  \"http://www.w3.org/Graphics/SVG/1.1/DTD/svg11.dtd\">\r\n<!-- Created with matplotlib (https://matplotlib.org/) -->\r\n<svg height=\"449.28pt\" version=\"1.1\" viewBox=\"0 0 460.8 449.28\" width=\"460.8pt\" xmlns=\"http://www.w3.org/2000/svg\" xmlns:xlink=\"http://www.w3.org/1999/xlink\">\r\n <defs>\r\n  <style type=\"text/css\">\r\n*{stroke-linecap:butt;stroke-linejoin:round;}\r\n  </style>\r\n </defs>\r\n <g id=\"figure_1\">\r\n  <g id=\"patch_1\">\r\n   <path d=\"M 0 449.28 \r\nL 460.8 449.28 \r\nL 460.8 0 \r\nL 0 0 \r\nz\r\n\" style=\"fill:none;\"/>\r\n  </g>\r\n  <g id=\"axes_1\">\r\n   <g id=\"PathCollection_1\">\r\n    <defs>\r\n     <path d=\"M 0 3.535534 \r\nC 0.937635 3.535534 1.836992 3.163008 2.5 2.5 \r\nC 3.163008 1.836992 3.535534 0.937635 3.535534 0 \r\nC 3.535534 -0.937635 3.163008 -1.836992 2.5 -2.5 \r\nC 1.836992 -3.163008 0.937635 -3.535534 0 -3.535534 \r\nC -0.937635 -3.535534 -1.836992 -3.163008 -2.5 -2.5 \r\nC -3.163008 -1.836992 -3.535534 -0.937635 -3.535534 0 \r\nC -3.535534 0.937635 -3.163008 1.836992 -2.5 2.5 \r\nC -1.836992 3.163008 -0.937635 3.535534 0 3.535534 \r\nz\r\n\" id=\"m003815ebf5\" style=\"stroke:#008000;\"/>\r\n    </defs>\r\n    <g clip-path=\"url(#p2efe2d0930)\">\r\n     <use style=\"fill:#008000;stroke:#008000;\" x=\"27.89188\" xlink:href=\"#m003815ebf5\" y=\"27.368223\"/>\r\n     <use style=\"fill:#008000;stroke:#008000;\" x=\"85.751343\" xlink:href=\"#m003815ebf5\" y=\"27.368223\"/>\r\n     <use style=\"fill:#008000;stroke:#008000;\" x=\"143.610806\" xlink:href=\"#m003815ebf5\" y=\"27.368223\"/>\r\n     <use style=\"fill:#008000;stroke:#008000;\" x=\"201.470269\" xlink:href=\"#m003815ebf5\" y=\"27.368223\"/>\r\n     <use style=\"fill:#008000;stroke:#008000;\" x=\"259.329731\" xlink:href=\"#m003815ebf5\" y=\"27.368223\"/>\r\n     <use style=\"fill:#008000;stroke:#008000;\" x=\"317.189194\" xlink:href=\"#m003815ebf5\" y=\"27.368223\"/>\r\n     <use style=\"fill:#008000;stroke:#008000;\" x=\"375.048657\" xlink:href=\"#m003815ebf5\" y=\"27.368223\"/>\r\n     <use style=\"fill:#008000;stroke:#008000;\" x=\"432.90812\" xlink:href=\"#m003815ebf5\" y=\"27.368223\"/>\r\n     <use style=\"fill:#008000;stroke:#008000;\" x=\"27.89188\" xlink:href=\"#m003815ebf5\" y=\"83.731588\"/>\r\n     <use style=\"fill:#008000;stroke:#008000;\" x=\"85.751343\" xlink:href=\"#m003815ebf5\" y=\"83.731588\"/>\r\n     <use style=\"fill:#008000;stroke:#008000;\" x=\"143.610806\" xlink:href=\"#m003815ebf5\" y=\"83.731588\"/>\r\n     <use style=\"fill:#008000;stroke:#008000;\" x=\"201.470269\" xlink:href=\"#m003815ebf5\" y=\"83.731588\"/>\r\n     <use style=\"fill:#008000;stroke:#008000;\" x=\"259.329731\" xlink:href=\"#m003815ebf5\" y=\"83.731588\"/>\r\n     <use style=\"fill:#008000;stroke:#008000;\" x=\"317.189194\" xlink:href=\"#m003815ebf5\" y=\"83.731588\"/>\r\n     <use style=\"fill:#008000;stroke:#008000;\" x=\"375.048657\" xlink:href=\"#m003815ebf5\" y=\"83.731588\"/>\r\n     <use style=\"fill:#008000;stroke:#008000;\" x=\"432.90812\" xlink:href=\"#m003815ebf5\" y=\"83.731588\"/>\r\n     <use style=\"fill:#008000;stroke:#008000;\" x=\"27.89188\" xlink:href=\"#m003815ebf5\" y=\"140.094953\"/>\r\n     <use style=\"fill:#008000;stroke:#008000;\" x=\"85.751343\" xlink:href=\"#m003815ebf5\" y=\"140.094953\"/>\r\n     <use style=\"fill:#008000;stroke:#008000;\" x=\"143.610806\" xlink:href=\"#m003815ebf5\" y=\"140.094953\"/>\r\n     <use style=\"fill:#008000;stroke:#008000;\" x=\"201.470269\" xlink:href=\"#m003815ebf5\" y=\"140.094953\"/>\r\n     <use style=\"fill:#008000;stroke:#008000;\" x=\"259.329731\" xlink:href=\"#m003815ebf5\" y=\"140.094953\"/>\r\n     <use style=\"fill:#008000;stroke:#008000;\" x=\"317.189194\" xlink:href=\"#m003815ebf5\" y=\"140.094953\"/>\r\n     <use style=\"fill:#008000;stroke:#008000;\" x=\"375.048657\" xlink:href=\"#m003815ebf5\" y=\"140.094953\"/>\r\n     <use style=\"fill:#008000;stroke:#008000;\" x=\"432.90812\" xlink:href=\"#m003815ebf5\" y=\"140.094953\"/>\r\n     <use style=\"fill:#008000;stroke:#008000;\" x=\"27.89188\" xlink:href=\"#m003815ebf5\" y=\"196.458318\"/>\r\n     <use style=\"fill:#008000;stroke:#008000;\" x=\"85.751343\" xlink:href=\"#m003815ebf5\" y=\"196.458318\"/>\r\n     <use style=\"fill:#008000;stroke:#008000;\" x=\"143.610806\" xlink:href=\"#m003815ebf5\" y=\"196.458318\"/>\r\n     <use style=\"fill:#008000;stroke:#008000;\" x=\"201.470269\" xlink:href=\"#m003815ebf5\" y=\"196.458318\"/>\r\n     <use style=\"fill:#008000;stroke:#008000;\" x=\"259.329731\" xlink:href=\"#m003815ebf5\" y=\"196.458318\"/>\r\n     <use style=\"fill:#008000;stroke:#008000;\" x=\"317.189194\" xlink:href=\"#m003815ebf5\" y=\"196.458318\"/>\r\n     <use style=\"fill:#008000;stroke:#008000;\" x=\"375.048657\" xlink:href=\"#m003815ebf5\" y=\"196.458318\"/>\r\n     <use style=\"fill:#008000;stroke:#008000;\" x=\"432.90812\" xlink:href=\"#m003815ebf5\" y=\"196.458318\"/>\r\n     <use style=\"fill:#008000;stroke:#008000;\" x=\"27.89188\" xlink:href=\"#m003815ebf5\" y=\"252.821682\"/>\r\n     <use style=\"fill:#008000;stroke:#008000;\" x=\"85.751343\" xlink:href=\"#m003815ebf5\" y=\"252.821682\"/>\r\n     <use style=\"fill:#008000;stroke:#008000;\" x=\"143.610806\" xlink:href=\"#m003815ebf5\" y=\"252.821682\"/>\r\n     <use style=\"fill:#008000;stroke:#008000;\" x=\"201.470269\" xlink:href=\"#m003815ebf5\" y=\"252.821682\"/>\r\n     <use style=\"fill:#008000;stroke:#008000;\" x=\"259.329731\" xlink:href=\"#m003815ebf5\" y=\"252.821682\"/>\r\n     <use style=\"fill:#008000;stroke:#008000;\" x=\"317.189194\" xlink:href=\"#m003815ebf5\" y=\"252.821682\"/>\r\n     <use style=\"fill:#008000;stroke:#008000;\" x=\"375.048657\" xlink:href=\"#m003815ebf5\" y=\"252.821682\"/>\r\n     <use style=\"fill:#008000;stroke:#008000;\" x=\"432.90812\" xlink:href=\"#m003815ebf5\" y=\"252.821682\"/>\r\n     <use style=\"fill:#008000;stroke:#008000;\" x=\"27.89188\" xlink:href=\"#m003815ebf5\" y=\"309.185047\"/>\r\n     <use style=\"fill:#008000;stroke:#008000;\" x=\"85.751343\" xlink:href=\"#m003815ebf5\" y=\"309.185047\"/>\r\n     <use style=\"fill:#008000;stroke:#008000;\" x=\"143.610806\" xlink:href=\"#m003815ebf5\" y=\"309.185047\"/>\r\n     <use style=\"fill:#008000;stroke:#008000;\" x=\"201.470269\" xlink:href=\"#m003815ebf5\" y=\"309.185047\"/>\r\n     <use style=\"fill:#008000;stroke:#008000;\" x=\"259.329731\" xlink:href=\"#m003815ebf5\" y=\"309.185047\"/>\r\n     <use style=\"fill:#008000;stroke:#008000;\" x=\"317.189194\" xlink:href=\"#m003815ebf5\" y=\"309.185047\"/>\r\n     <use style=\"fill:#008000;stroke:#008000;\" x=\"375.048657\" xlink:href=\"#m003815ebf5\" y=\"309.185047\"/>\r\n     <use style=\"fill:#008000;stroke:#008000;\" x=\"432.90812\" xlink:href=\"#m003815ebf5\" y=\"309.185047\"/>\r\n     <use style=\"fill:#008000;stroke:#008000;\" x=\"27.89188\" xlink:href=\"#m003815ebf5\" y=\"365.548412\"/>\r\n     <use style=\"fill:#008000;stroke:#008000;\" x=\"85.751343\" xlink:href=\"#m003815ebf5\" y=\"365.548412\"/>\r\n     <use style=\"fill:#008000;stroke:#008000;\" x=\"143.610806\" xlink:href=\"#m003815ebf5\" y=\"365.548412\"/>\r\n     <use style=\"fill:#008000;stroke:#008000;\" x=\"201.470269\" xlink:href=\"#m003815ebf5\" y=\"365.548412\"/>\r\n     <use style=\"fill:#008000;stroke:#008000;\" x=\"259.329731\" xlink:href=\"#m003815ebf5\" y=\"365.548412\"/>\r\n     <use style=\"fill:#008000;stroke:#008000;\" x=\"317.189194\" xlink:href=\"#m003815ebf5\" y=\"365.548412\"/>\r\n     <use style=\"fill:#008000;stroke:#008000;\" x=\"375.048657\" xlink:href=\"#m003815ebf5\" y=\"365.548412\"/>\r\n     <use style=\"fill:#008000;stroke:#008000;\" x=\"432.90812\" xlink:href=\"#m003815ebf5\" y=\"365.548412\"/>\r\n     <use style=\"fill:#008000;stroke:#008000;\" x=\"27.89188\" xlink:href=\"#m003815ebf5\" y=\"421.911777\"/>\r\n     <use style=\"fill:#008000;stroke:#008000;\" x=\"85.751343\" xlink:href=\"#m003815ebf5\" y=\"421.911777\"/>\r\n     <use style=\"fill:#008000;stroke:#008000;\" x=\"143.610806\" xlink:href=\"#m003815ebf5\" y=\"421.911777\"/>\r\n     <use style=\"fill:#008000;stroke:#008000;\" x=\"201.470269\" xlink:href=\"#m003815ebf5\" y=\"421.911777\"/>\r\n     <use style=\"fill:#008000;stroke:#008000;\" x=\"259.329731\" xlink:href=\"#m003815ebf5\" y=\"421.911777\"/>\r\n     <use style=\"fill:#008000;stroke:#008000;\" x=\"317.189194\" xlink:href=\"#m003815ebf5\" y=\"421.911777\"/>\r\n     <use style=\"fill:#008000;stroke:#008000;\" x=\"375.048657\" xlink:href=\"#m003815ebf5\" y=\"421.911777\"/>\r\n     <use style=\"fill:#008000;stroke:#008000;\" x=\"432.90812\" xlink:href=\"#m003815ebf5\" y=\"421.911777\"/>\r\n    </g>\r\n   </g>\r\n   <g id=\"patch_2\">\r\n    <path clip-path=\"url(#p2efe2d0930)\" d=\"M 27.89188 88.663382 \r\nL 25.360529 78.799793 \r\nL 27.866567 78.799793 \r\nL 27.866567 27.368223 \r\nL 27.917194 27.368223 \r\nL 27.917194 78.799793 \r\nL 30.423232 78.799793 \r\nz\r\n\" style=\"fill:#ff0000;stroke:#ff0000;stroke-linejoin:miter;\"/>\r\n   </g>\r\n   <g id=\"patch_3\">\r\n    <path clip-path=\"url(#p2efe2d0930)\" d=\"M 27.89188 145.026747 \r\nL 25.360529 135.163158 \r\nL 27.866567 135.163158 \r\nL 27.866567 83.731588 \r\nL 27.917194 83.731588 \r\nL 27.917194 135.163158 \r\nL 30.423232 135.163158 \r\nz\r\n\" style=\"fill:#ff0000;stroke:#ff0000;stroke-linejoin:miter;\"/>\r\n   </g>\r\n   <g id=\"patch_4\">\r\n    <path clip-path=\"url(#p2efe2d0930)\" d=\"M 90.814046 140.094953 \r\nL 80.68864 142.56085 \r\nL 80.68864 140.119612 \r\nL 27.89188 140.119612 \r\nL 27.89188 140.070294 \r\nL 80.68864 140.070294 \r\nL 80.68864 137.629056 \r\nz\r\n\" style=\"fill:#ff0000;stroke:#ff0000;stroke-linejoin:miter;\"/>\r\n   </g>\r\n   <g id=\"patch_5\">\r\n    <path clip-path=\"url(#p2efe2d0930)\" d=\"M 85.751343 201.390112 \r\nL 83.219992 191.526523 \r\nL 85.72603 191.526523 \r\nL 85.72603 140.094953 \r\nL 85.776657 140.094953 \r\nL 85.776657 191.526523 \r\nL 88.282695 191.526523 \r\nz\r\n\" style=\"fill:#ff0000;stroke:#ff0000;stroke-linejoin:miter;\"/>\r\n   </g>\r\n   <g id=\"patch_6\">\r\n    <path clip-path=\"url(#p2efe2d0930)\" d=\"M 85.751343 257.753477 \r\nL 83.219992 247.889888 \r\nL 85.72603 247.889888 \r\nL 85.72603 196.458318 \r\nL 85.776657 196.458318 \r\nL 85.776657 247.889888 \r\nL 88.282695 247.889888 \r\nz\r\n\" style=\"fill:#ff0000;stroke:#ff0000;stroke-linejoin:miter;\"/>\r\n   </g>\r\n   <g id=\"patch_7\">\r\n    <path clip-path=\"url(#p2efe2d0930)\" d=\"M 22.829177 252.821682 \r\nL 32.954583 250.355785 \r\nL 32.954583 252.797023 \r\nL 85.751343 252.797023 \r\nL 85.751343 252.846341 \r\nL 32.954583 252.846341 \r\nL 32.954583 255.28758 \r\nz\r\n\" style=\"fill:#ff0000;stroke:#ff0000;stroke-linejoin:miter;\"/>\r\n   </g>\r\n   <g id=\"patch_8\">\r\n    <path clip-path=\"url(#p2efe2d0930)\" d=\"M 27.89188 314.116842 \r\nL 25.360529 304.253253 \r\nL 27.866567 304.253253 \r\nL 27.866567 252.821682 \r\nL 27.917194 252.821682 \r\nL 27.917194 304.253253 \r\nL 30.423232 304.253253 \r\nz\r\n\" style=\"fill:#ff0000;stroke:#ff0000;stroke-linejoin:miter;\"/>\r\n   </g>\r\n   <g id=\"patch_9\">\r\n    <path clip-path=\"url(#p2efe2d0930)\" d=\"M 90.814046 309.185047 \r\nL 80.68864 311.650944 \r\nL 80.68864 309.209706 \r\nL 27.89188 309.209706 \r\nL 27.89188 309.160388 \r\nL 80.68864 309.160388 \r\nL 80.68864 306.71915 \r\nz\r\n\" style=\"fill:#ff0000;stroke:#ff0000;stroke-linejoin:miter;\"/>\r\n   </g>\r\n   <g id=\"patch_10\">\r\n    <path clip-path=\"url(#p2efe2d0930)\" d=\"M 85.751343 370.480207 \r\nL 83.219992 360.616618 \r\nL 85.72603 360.616618 \r\nL 85.72603 309.185047 \r\nL 85.776657 309.185047 \r\nL 85.776657 360.616618 \r\nL 88.282695 360.616618 \r\nz\r\n\" style=\"fill:#ff0000;stroke:#ff0000;stroke-linejoin:miter;\"/>\r\n   </g>\r\n   <g id=\"patch_11\">\r\n    <path clip-path=\"url(#p2efe2d0930)\" d=\"M 148.673509 365.548412 \r\nL 138.548103 368.014309 \r\nL 138.548103 365.573071 \r\nL 85.751343 365.573071 \r\nL 85.751343 365.523753 \r\nL 138.548103 365.523753 \r\nL 138.548103 363.082515 \r\nz\r\n\" style=\"fill:#ff0000;stroke:#ff0000;stroke-linejoin:miter;\"/>\r\n   </g>\r\n   <g id=\"patch_12\">\r\n    <path clip-path=\"url(#p2efe2d0930)\" d=\"M 143.610806 426.843571 \r\nL 141.079454 416.979983 \r\nL 143.585492 416.979983 \r\nL 143.585492 365.548412 \r\nL 143.636119 365.548412 \r\nL 143.636119 416.979983 \r\nL 146.142157 416.979983 \r\nz\r\n\" style=\"fill:#ff0000;stroke:#ff0000;stroke-linejoin:miter;\"/>\r\n   </g>\r\n   <g id=\"patch_13\">\r\n    <path clip-path=\"url(#p2efe2d0930)\" d=\"M 206.532972 421.911777 \r\nL 196.407566 424.377674 \r\nL 196.407566 421.936436 \r\nL 143.610806 421.936436 \r\nL 143.610806 421.887118 \r\nL 196.407566 421.887118 \r\nL 196.407566 419.44588 \r\nz\r\n\" style=\"fill:#ff0000;stroke:#ff0000;stroke-linejoin:miter;\"/>\r\n   </g>\r\n   <g id=\"patch_14\">\r\n    <path clip-path=\"url(#p2efe2d0930)\" d=\"M 264.392434 421.911777 \r\nL 254.267028 424.377674 \r\nL 254.267028 421.936436 \r\nL 201.470269 421.936436 \r\nL 201.470269 421.887118 \r\nL 254.267028 421.887118 \r\nL 254.267028 419.44588 \r\nz\r\n\" style=\"fill:#ff0000;stroke:#ff0000;stroke-linejoin:miter;\"/>\r\n   </g>\r\n   <g id=\"patch_15\">\r\n    <path clip-path=\"url(#p2efe2d0930)\" d=\"M 322.251897 421.911777 \r\nL 312.126491 424.377674 \r\nL 312.126491 421.936436 \r\nL 259.329731 421.936436 \r\nL 259.329731 421.887118 \r\nL 312.126491 421.887118 \r\nL 312.126491 419.44588 \r\nz\r\n\" style=\"fill:#ff0000;stroke:#ff0000;stroke-linejoin:miter;\"/>\r\n   </g>\r\n   <g id=\"patch_16\">\r\n    <path clip-path=\"url(#p2efe2d0930)\" d=\"M 317.189194 360.616618 \r\nL 319.720546 370.480207 \r\nL 317.214508 370.480207 \r\nL 317.214508 421.911777 \r\nL 317.163881 421.911777 \r\nL 317.163881 370.480207 \r\nL 314.657843 370.480207 \r\nz\r\n\" style=\"fill:#ff0000;stroke:#ff0000;stroke-linejoin:miter;\"/>\r\n   </g>\r\n   <g id=\"patch_17\">\r\n    <path clip-path=\"url(#p2efe2d0930)\" d=\"M 380.11136 365.548412 \r\nL 369.985954 368.014309 \r\nL 369.985954 365.573071 \r\nL 317.189194 365.573071 \r\nL 317.189194 365.523753 \r\nL 369.985954 365.523753 \r\nL 369.985954 363.082515 \r\nz\r\n\" style=\"fill:#ff0000;stroke:#ff0000;stroke-linejoin:miter;\"/>\r\n   </g>\r\n   <g id=\"patch_18\">\r\n    <path clip-path=\"url(#p2efe2d0930)\" d=\"M 437.970823 365.548412 \r\nL 427.845417 368.014309 \r\nL 427.845417 365.573071 \r\nL 375.048657 365.573071 \r\nL 375.048657 365.523753 \r\nL 427.845417 365.523753 \r\nL 427.845417 363.082515 \r\nz\r\n\" style=\"fill:#ff0000;stroke:#ff0000;stroke-linejoin:miter;\"/>\r\n   </g>\r\n   <g id=\"patch_19\">\r\n    <path clip-path=\"url(#p2efe2d0930)\" d=\"M 432.90812 426.843571 \r\nL 430.376768 416.979983 \r\nL 432.882806 416.979983 \r\nL 432.882806 365.548412 \r\nL 432.933433 365.548412 \r\nL 432.933433 416.979983 \r\nL 435.439471 416.979983 \r\nz\r\n\" style=\"fill:#ff0000;stroke:#ff0000;stroke-linejoin:miter;\"/>\r\n   </g>\r\n   <g id=\"line2d_1\">\r\n    <path clip-path=\"url(#p2efe2d0930)\" d=\"M 27.89188 27.368223 \r\nL 27.89188 83.731588 \r\nL 27.89188 140.094953 \r\nL 27.89188 196.458318 \r\nL 27.89188 252.821682 \r\nL 27.89188 309.185047 \r\nL 27.89188 365.548412 \r\nL 27.89188 421.911777 \r\n\" style=\"fill:none;stroke:#000000;stroke-linecap:square;stroke-opacity:0.2;stroke-width:2;\"/>\r\n   </g>\r\n   <g id=\"line2d_2\">\r\n    <path clip-path=\"url(#p2efe2d0930)\" d=\"M 85.751343 27.368223 \r\nL 85.751343 83.731588 \r\nL 85.751343 140.094953 \r\nL 85.751343 196.458318 \r\nL 85.751343 252.821682 \r\nL 85.751343 309.185047 \r\nL 85.751343 365.548412 \r\nL 85.751343 421.911777 \r\n\" style=\"fill:none;stroke:#000000;stroke-linecap:square;stroke-opacity:0.2;stroke-width:2;\"/>\r\n   </g>\r\n   <g id=\"line2d_3\">\r\n    <path clip-path=\"url(#p2efe2d0930)\" d=\"M 143.610806 27.368223 \r\nL 143.610806 83.731588 \r\nL 143.610806 140.094953 \r\nL 143.610806 196.458318 \r\nL 143.610806 252.821682 \r\nL 143.610806 309.185047 \r\nL 143.610806 365.548412 \r\nL 143.610806 421.911777 \r\n\" style=\"fill:none;stroke:#000000;stroke-linecap:square;stroke-opacity:0.2;stroke-width:2;\"/>\r\n   </g>\r\n   <g id=\"line2d_4\">\r\n    <path clip-path=\"url(#p2efe2d0930)\" d=\"M 201.470269 27.368223 \r\nL 201.470269 83.731588 \r\nL 201.470269 140.094953 \r\nL 201.470269 196.458318 \r\nL 201.470269 252.821682 \r\nL 201.470269 309.185047 \r\nL 201.470269 365.548412 \r\nL 201.470269 421.911777 \r\n\" style=\"fill:none;stroke:#000000;stroke-linecap:square;stroke-opacity:0.2;stroke-width:2;\"/>\r\n   </g>\r\n   <g id=\"line2d_5\">\r\n    <path clip-path=\"url(#p2efe2d0930)\" d=\"M 259.329731 27.368223 \r\nL 259.329731 83.731588 \r\nL 259.329731 140.094953 \r\nL 259.329731 196.458318 \r\nL 259.329731 252.821682 \r\nL 259.329731 309.185047 \r\nL 259.329731 365.548412 \r\nL 259.329731 421.911777 \r\n\" style=\"fill:none;stroke:#000000;stroke-linecap:square;stroke-opacity:0.2;stroke-width:2;\"/>\r\n   </g>\r\n   <g id=\"line2d_6\">\r\n    <path clip-path=\"url(#p2efe2d0930)\" d=\"M 317.189194 27.368223 \r\nL 317.189194 83.731588 \r\nL 317.189194 140.094953 \r\nL 317.189194 196.458318 \r\nL 317.189194 252.821682 \r\nL 317.189194 309.185047 \r\nL 317.189194 365.548412 \r\nL 317.189194 421.911777 \r\n\" style=\"fill:none;stroke:#000000;stroke-linecap:square;stroke-opacity:0.2;stroke-width:2;\"/>\r\n   </g>\r\n   <g id=\"line2d_7\">\r\n    <path clip-path=\"url(#p2efe2d0930)\" d=\"M 375.048657 27.368223 \r\nL 375.048657 83.731588 \r\nL 375.048657 140.094953 \r\nL 375.048657 196.458318 \r\nL 375.048657 252.821682 \r\nL 375.048657 309.185047 \r\nL 375.048657 365.548412 \r\nL 375.048657 421.911777 \r\n\" style=\"fill:none;stroke:#000000;stroke-linecap:square;stroke-opacity:0.2;stroke-width:2;\"/>\r\n   </g>\r\n   <g id=\"line2d_8\">\r\n    <path clip-path=\"url(#p2efe2d0930)\" d=\"M 432.90812 27.368223 \r\nL 432.90812 83.731588 \r\nL 432.90812 140.094953 \r\nL 432.90812 196.458318 \r\nL 432.90812 252.821682 \r\nL 432.90812 309.185047 \r\nL 432.90812 365.548412 \r\nL 432.90812 421.911777 \r\n\" style=\"fill:none;stroke:#000000;stroke-linecap:square;stroke-opacity:0.2;stroke-width:2;\"/>\r\n   </g>\r\n   <g id=\"line2d_9\">\r\n    <path clip-path=\"url(#p2efe2d0930)\" d=\"M 432.90812 421.911777 \r\nL 375.048657 421.911777 \r\nL 317.189194 421.911777 \r\nL 259.329731 421.911777 \r\nL 201.470269 421.911777 \r\nL 143.610806 421.911777 \r\nL 85.751343 421.911777 \r\nL 27.89188 421.911777 \r\n\" style=\"fill:none;stroke:#000000;stroke-linecap:square;stroke-opacity:0.2;stroke-width:2;\"/>\r\n   </g>\r\n   <g id=\"line2d_10\">\r\n    <path clip-path=\"url(#p2efe2d0930)\" d=\"M 432.90812 365.548412 \r\nL 375.048657 365.548412 \r\nL 317.189194 365.548412 \r\nL 259.329731 365.548412 \r\nL 201.470269 365.548412 \r\nL 143.610806 365.548412 \r\nL 85.751343 365.548412 \r\nL 27.89188 365.548412 \r\n\" style=\"fill:none;stroke:#000000;stroke-linecap:square;stroke-opacity:0.2;stroke-width:2;\"/>\r\n   </g>\r\n   <g id=\"line2d_11\">\r\n    <path clip-path=\"url(#p2efe2d0930)\" d=\"M 432.90812 309.185047 \r\nL 375.048657 309.185047 \r\nL 317.189194 309.185047 \r\nL 259.329731 309.185047 \r\nL 201.470269 309.185047 \r\nL 143.610806 309.185047 \r\nL 85.751343 309.185047 \r\nL 27.89188 309.185047 \r\n\" style=\"fill:none;stroke:#000000;stroke-linecap:square;stroke-opacity:0.2;stroke-width:2;\"/>\r\n   </g>\r\n   <g id=\"line2d_12\">\r\n    <path clip-path=\"url(#p2efe2d0930)\" d=\"M 432.90812 252.821682 \r\nL 375.048657 252.821682 \r\nL 317.189194 252.821682 \r\nL 259.329731 252.821682 \r\nL 201.470269 252.821682 \r\nL 143.610806 252.821682 \r\nL 85.751343 252.821682 \r\nL 27.89188 252.821682 \r\n\" style=\"fill:none;stroke:#000000;stroke-linecap:square;stroke-opacity:0.2;stroke-width:2;\"/>\r\n   </g>\r\n   <g id=\"line2d_13\">\r\n    <path clip-path=\"url(#p2efe2d0930)\" d=\"M 432.90812 196.458318 \r\nL 375.048657 196.458318 \r\nL 317.189194 196.458318 \r\nL 259.329731 196.458318 \r\nL 201.470269 196.458318 \r\nL 143.610806 196.458318 \r\nL 85.751343 196.458318 \r\nL 27.89188 196.458318 \r\n\" style=\"fill:none;stroke:#000000;stroke-linecap:square;stroke-opacity:0.2;stroke-width:2;\"/>\r\n   </g>\r\n   <g id=\"line2d_14\">\r\n    <path clip-path=\"url(#p2efe2d0930)\" d=\"M 432.90812 140.094953 \r\nL 375.048657 140.094953 \r\nL 317.189194 140.094953 \r\nL 259.329731 140.094953 \r\nL 201.470269 140.094953 \r\nL 143.610806 140.094953 \r\nL 85.751343 140.094953 \r\nL 27.89188 140.094953 \r\n\" style=\"fill:none;stroke:#000000;stroke-linecap:square;stroke-opacity:0.2;stroke-width:2;\"/>\r\n   </g>\r\n   <g id=\"line2d_15\">\r\n    <path clip-path=\"url(#p2efe2d0930)\" d=\"M 432.90812 83.731588 \r\nL 375.048657 83.731588 \r\nL 317.189194 83.731588 \r\nL 259.329731 83.731588 \r\nL 201.470269 83.731588 \r\nL 143.610806 83.731588 \r\nL 85.751343 83.731588 \r\nL 27.89188 83.731588 \r\n\" style=\"fill:none;stroke:#000000;stroke-linecap:square;stroke-opacity:0.2;stroke-width:2;\"/>\r\n   </g>\r\n   <g id=\"line2d_16\">\r\n    <path clip-path=\"url(#p2efe2d0930)\" d=\"M 432.90812 27.368223 \r\nL 375.048657 27.368223 \r\nL 317.189194 27.368223 \r\nL 259.329731 27.368223 \r\nL 201.470269 27.368223 \r\nL 143.610806 27.368223 \r\nL 85.751343 27.368223 \r\nL 27.89188 27.368223 \r\n\" style=\"fill:none;stroke:#000000;stroke-linecap:square;stroke-opacity:0.2;stroke-width:2;\"/>\r\n   </g>\r\n   <g id=\"text_1\">\r\n    <!-- 8 -->\r\n    <defs>\r\n     <path d=\"M 31.78125 34.625 \r\nQ 24.75 34.625 20.71875 30.859375 \r\nQ 16.703125 27.09375 16.703125 20.515625 \r\nQ 16.703125 13.921875 20.71875 10.15625 \r\nQ 24.75 6.390625 31.78125 6.390625 \r\nQ 38.8125 6.390625 42.859375 10.171875 \r\nQ 46.921875 13.96875 46.921875 20.515625 \r\nQ 46.921875 27.09375 42.890625 30.859375 \r\nQ 38.875 34.625 31.78125 34.625 \r\nz\r\nM 21.921875 38.8125 \r\nQ 15.578125 40.375 12.03125 44.71875 \r\nQ 8.5 49.078125 8.5 55.328125 \r\nQ 8.5 64.0625 14.71875 69.140625 \r\nQ 20.953125 74.21875 31.78125 74.21875 \r\nQ 42.671875 74.21875 48.875 69.140625 \r\nQ 55.078125 64.0625 55.078125 55.328125 \r\nQ 55.078125 49.078125 51.53125 44.71875 \r\nQ 48 40.375 41.703125 38.8125 \r\nQ 48.828125 37.15625 52.796875 32.3125 \r\nQ 56.78125 27.484375 56.78125 20.515625 \r\nQ 56.78125 9.90625 50.3125 4.234375 \r\nQ 43.84375 -1.421875 31.78125 -1.421875 \r\nQ 19.734375 -1.421875 13.25 4.234375 \r\nQ 6.78125 9.90625 6.78125 20.515625 \r\nQ 6.78125 27.484375 10.78125 32.3125 \r\nQ 14.796875 37.15625 21.921875 38.8125 \r\nz\r\nM 18.3125 54.390625 \r\nQ 18.3125 48.734375 21.84375 45.5625 \r\nQ 25.390625 42.390625 31.78125 42.390625 \r\nQ 38.140625 42.390625 41.71875 45.5625 \r\nQ 45.3125 48.734375 45.3125 54.390625 \r\nQ 45.3125 60.0625 41.71875 63.234375 \r\nQ 38.140625 66.40625 31.78125 66.40625 \r\nQ 25.390625 66.40625 21.84375 63.234375 \r\nQ 18.3125 60.0625 18.3125 54.390625 \r\nz\r\n\" id=\"DejaVuSans-56\"/>\r\n    </defs>\r\n    <g transform=\"translate(16.89748 23.774523)scale(0.1728 -0.1728)\">\r\n     <use xlink:href=\"#DejaVuSans-56\"/>\r\n    </g>\r\n   </g>\r\n   <g id=\"text_2\">\r\n    <!-- 9 -->\r\n    <defs>\r\n     <path d=\"M 10.984375 1.515625 \r\nL 10.984375 10.5 \r\nQ 14.703125 8.734375 18.5 7.8125 \r\nQ 22.3125 6.890625 25.984375 6.890625 \r\nQ 35.75 6.890625 40.890625 13.453125 \r\nQ 46.046875 20.015625 46.78125 33.40625 \r\nQ 43.953125 29.203125 39.59375 26.953125 \r\nQ 35.25 24.703125 29.984375 24.703125 \r\nQ 19.046875 24.703125 12.671875 31.3125 \r\nQ 6.296875 37.9375 6.296875 49.421875 \r\nQ 6.296875 60.640625 12.9375 67.421875 \r\nQ 19.578125 74.21875 30.609375 74.21875 \r\nQ 43.265625 74.21875 49.921875 64.515625 \r\nQ 56.59375 54.828125 56.59375 36.375 \r\nQ 56.59375 19.140625 48.40625 8.859375 \r\nQ 40.234375 -1.421875 26.421875 -1.421875 \r\nQ 22.703125 -1.421875 18.890625 -0.6875 \r\nQ 15.09375 0.046875 10.984375 1.515625 \r\nz\r\nM 30.609375 32.421875 \r\nQ 37.25 32.421875 41.125 36.953125 \r\nQ 45.015625 41.5 45.015625 49.421875 \r\nQ 45.015625 57.28125 41.125 61.84375 \r\nQ 37.25 66.40625 30.609375 66.40625 \r\nQ 23.96875 66.40625 20.09375 61.84375 \r\nQ 16.21875 57.28125 16.21875 49.421875 \r\nQ 16.21875 41.5 20.09375 36.953125 \r\nQ 23.96875 32.421875 30.609375 32.421875 \r\nz\r\n\" id=\"DejaVuSans-57\"/>\r\n    </defs>\r\n    <g transform=\"translate(74.756943 23.774523)scale(0.1728 -0.1728)\">\r\n     <use xlink:href=\"#DejaVuSans-57\"/>\r\n    </g>\r\n   </g>\r\n   <g id=\"text_3\">\r\n    <!-- 4 -->\r\n    <defs>\r\n     <path d=\"M 37.796875 64.3125 \r\nL 12.890625 25.390625 \r\nL 37.796875 25.390625 \r\nz\r\nM 35.203125 72.90625 \r\nL 47.609375 72.90625 \r\nL 47.609375 25.390625 \r\nL 58.015625 25.390625 \r\nL 58.015625 17.1875 \r\nL 47.609375 17.1875 \r\nL 47.609375 0 \r\nL 37.796875 0 \r\nL 37.796875 17.1875 \r\nL 4.890625 17.1875 \r\nL 4.890625 26.703125 \r\nz\r\n\" id=\"DejaVuSans-52\"/>\r\n    </defs>\r\n    <g transform=\"translate(132.616406 23.774523)scale(0.1728 -0.1728)\">\r\n     <use xlink:href=\"#DejaVuSans-52\"/>\r\n    </g>\r\n   </g>\r\n   <g id=\"text_4\">\r\n    <!-- 3 -->\r\n    <defs>\r\n     <path d=\"M 40.578125 39.3125 \r\nQ 47.65625 37.796875 51.625 33 \r\nQ 55.609375 28.21875 55.609375 21.1875 \r\nQ 55.609375 10.40625 48.1875 4.484375 \r\nQ 40.765625 -1.421875 27.09375 -1.421875 \r\nQ 22.515625 -1.421875 17.65625 -0.515625 \r\nQ 12.796875 0.390625 7.625 2.203125 \r\nL 7.625 11.71875 \r\nQ 11.71875 9.328125 16.59375 8.109375 \r\nQ 21.484375 6.890625 26.8125 6.890625 \r\nQ 36.078125 6.890625 40.9375 10.546875 \r\nQ 45.796875 14.203125 45.796875 21.1875 \r\nQ 45.796875 27.640625 41.28125 31.265625 \r\nQ 36.765625 34.90625 28.71875 34.90625 \r\nL 20.21875 34.90625 \r\nL 20.21875 43.015625 \r\nL 29.109375 43.015625 \r\nQ 36.375 43.015625 40.234375 45.921875 \r\nQ 44.09375 48.828125 44.09375 54.296875 \r\nQ 44.09375 59.90625 40.109375 62.90625 \r\nQ 36.140625 65.921875 28.71875 65.921875 \r\nQ 24.65625 65.921875 20.015625 65.03125 \r\nQ 15.375 64.15625 9.8125 62.3125 \r\nL 9.8125 71.09375 \r\nQ 15.4375 72.65625 20.34375 73.4375 \r\nQ 25.25 74.21875 29.59375 74.21875 \r\nQ 40.828125 74.21875 47.359375 69.109375 \r\nQ 53.90625 64.015625 53.90625 55.328125 \r\nQ 53.90625 49.265625 50.4375 45.09375 \r\nQ 46.96875 40.921875 40.578125 39.3125 \r\nz\r\n\" id=\"DejaVuSans-51\"/>\r\n    </defs>\r\n    <g transform=\"translate(190.475869 23.774523)scale(0.1728 -0.1728)\">\r\n     <use xlink:href=\"#DejaVuSans-51\"/>\r\n    </g>\r\n   </g>\r\n   <g id=\"text_5\">\r\n    <!-- 0 -->\r\n    <defs>\r\n     <path d=\"M 31.78125 66.40625 \r\nQ 24.171875 66.40625 20.328125 58.90625 \r\nQ 16.5 51.421875 16.5 36.375 \r\nQ 16.5 21.390625 20.328125 13.890625 \r\nQ 24.171875 6.390625 31.78125 6.390625 \r\nQ 39.453125 6.390625 43.28125 13.890625 \r\nQ 47.125 21.390625 47.125 36.375 \r\nQ 47.125 51.421875 43.28125 58.90625 \r\nQ 39.453125 66.40625 31.78125 66.40625 \r\nz\r\nM 31.78125 74.21875 \r\nQ 44.046875 74.21875 50.515625 64.515625 \r\nQ 56.984375 54.828125 56.984375 36.375 \r\nQ 56.984375 17.96875 50.515625 8.265625 \r\nQ 44.046875 -1.421875 31.78125 -1.421875 \r\nQ 19.53125 -1.421875 13.0625 8.265625 \r\nQ 6.59375 17.96875 6.59375 36.375 \r\nQ 6.59375 54.828125 13.0625 64.515625 \r\nQ 19.53125 74.21875 31.78125 74.21875 \r\nz\r\n\" id=\"DejaVuSans-48\"/>\r\n    </defs>\r\n    <g transform=\"translate(248.335331 23.774523)scale(0.1728 -0.1728)\">\r\n     <use xlink:href=\"#DejaVuSans-48\"/>\r\n    </g>\r\n   </g>\r\n   <g id=\"text_6\">\r\n    <!-- 1 -->\r\n    <defs>\r\n     <path d=\"M 12.40625 8.296875 \r\nL 28.515625 8.296875 \r\nL 28.515625 63.921875 \r\nL 10.984375 60.40625 \r\nL 10.984375 69.390625 \r\nL 28.421875 72.90625 \r\nL 38.28125 72.90625 \r\nL 38.28125 8.296875 \r\nL 54.390625 8.296875 \r\nL 54.390625 0 \r\nL 12.40625 0 \r\nz\r\n\" id=\"DejaVuSans-49\"/>\r\n    </defs>\r\n    <g transform=\"translate(306.194794 23.774523)scale(0.1728 -0.1728)\">\r\n     <use xlink:href=\"#DejaVuSans-49\"/>\r\n    </g>\r\n   </g>\r\n   <g id=\"text_7\">\r\n    <!-- 8 -->\r\n    <g transform=\"translate(364.054257 23.774523)scale(0.1728 -0.1728)\">\r\n     <use xlink:href=\"#DejaVuSans-56\"/>\r\n    </g>\r\n   </g>\r\n   <g id=\"text_8\">\r\n    <!-- 9 -->\r\n    <g transform=\"translate(421.91372 23.774523)scale(0.1728 -0.1728)\">\r\n     <use xlink:href=\"#DejaVuSans-57\"/>\r\n    </g>\r\n   </g>\r\n   <g id=\"text_9\">\r\n    <!-- 6 -->\r\n    <defs>\r\n     <path d=\"M 33.015625 40.375 \r\nQ 26.375 40.375 22.484375 35.828125 \r\nQ 18.609375 31.296875 18.609375 23.390625 \r\nQ 18.609375 15.53125 22.484375 10.953125 \r\nQ 26.375 6.390625 33.015625 6.390625 \r\nQ 39.65625 6.390625 43.53125 10.953125 \r\nQ 47.40625 15.53125 47.40625 23.390625 \r\nQ 47.40625 31.296875 43.53125 35.828125 \r\nQ 39.65625 40.375 33.015625 40.375 \r\nz\r\nM 52.59375 71.296875 \r\nL 52.59375 62.3125 \r\nQ 48.875 64.0625 45.09375 64.984375 \r\nQ 41.3125 65.921875 37.59375 65.921875 \r\nQ 27.828125 65.921875 22.671875 59.328125 \r\nQ 17.53125 52.734375 16.796875 39.40625 \r\nQ 19.671875 43.65625 24.015625 45.921875 \r\nQ 28.375 48.1875 33.59375 48.1875 \r\nQ 44.578125 48.1875 50.953125 41.515625 \r\nQ 57.328125 34.859375 57.328125 23.390625 \r\nQ 57.328125 12.15625 50.6875 5.359375 \r\nQ 44.046875 -1.421875 33.015625 -1.421875 \r\nQ 20.359375 -1.421875 13.671875 8.265625 \r\nQ 6.984375 17.96875 6.984375 36.375 \r\nQ 6.984375 53.65625 15.1875 63.9375 \r\nQ 23.390625 74.21875 37.203125 74.21875 \r\nQ 40.921875 74.21875 44.703125 73.484375 \r\nQ 48.484375 72.75 52.59375 71.296875 \r\nz\r\n\" id=\"DejaVuSans-54\"/>\r\n    </defs>\r\n    <g transform=\"translate(16.89748 80.137888)scale(0.1728 -0.1728)\">\r\n     <use xlink:href=\"#DejaVuSans-54\"/>\r\n    </g>\r\n   </g>\r\n   <g id=\"text_10\">\r\n    <!-- 9 -->\r\n    <g transform=\"translate(74.756943 80.137888)scale(0.1728 -0.1728)\">\r\n     <use xlink:href=\"#DejaVuSans-57\"/>\r\n    </g>\r\n   </g>\r\n   <g id=\"text_11\">\r\n    <!-- 0 -->\r\n    <g transform=\"translate(132.616406 80.137888)scale(0.1728 -0.1728)\">\r\n     <use xlink:href=\"#DejaVuSans-48\"/>\r\n    </g>\r\n   </g>\r\n   <g id=\"text_12\">\r\n    <!-- 1 -->\r\n    <g transform=\"translate(190.475869 80.137888)scale(0.1728 -0.1728)\">\r\n     <use xlink:href=\"#DejaVuSans-49\"/>\r\n    </g>\r\n   </g>\r\n   <g id=\"text_13\">\r\n    <!-- 9 -->\r\n    <g transform=\"translate(248.335331 80.137888)scale(0.1728 -0.1728)\">\r\n     <use xlink:href=\"#DejaVuSans-57\"/>\r\n    </g>\r\n   </g>\r\n   <g id=\"text_14\">\r\n    <!-- 1 -->\r\n    <g transform=\"translate(306.194794 80.137888)scale(0.1728 -0.1728)\">\r\n     <use xlink:href=\"#DejaVuSans-49\"/>\r\n    </g>\r\n   </g>\r\n   <g id=\"text_15\">\r\n    <!-- 7 -->\r\n    <defs>\r\n     <path d=\"M 8.203125 72.90625 \r\nL 55.078125 72.90625 \r\nL 55.078125 68.703125 \r\nL 28.609375 0 \r\nL 18.3125 0 \r\nL 43.21875 64.59375 \r\nL 8.203125 64.59375 \r\nz\r\n\" id=\"DejaVuSans-55\"/>\r\n    </defs>\r\n    <g transform=\"translate(364.054257 80.137888)scale(0.1728 -0.1728)\">\r\n     <use xlink:href=\"#DejaVuSans-55\"/>\r\n    </g>\r\n   </g>\r\n   <g id=\"text_16\">\r\n    <!-- 1 -->\r\n    <g transform=\"translate(421.91372 80.137888)scale(0.1728 -0.1728)\">\r\n     <use xlink:href=\"#DejaVuSans-49\"/>\r\n    </g>\r\n   </g>\r\n   <g id=\"text_17\">\r\n    <!-- 3 -->\r\n    <g transform=\"translate(16.89748 136.501253)scale(0.1728 -0.1728)\">\r\n     <use xlink:href=\"#DejaVuSans-51\"/>\r\n    </g>\r\n   </g>\r\n   <g id=\"text_18\">\r\n    <!-- 0 -->\r\n    <g transform=\"translate(74.756943 136.501253)scale(0.1728 -0.1728)\">\r\n     <use xlink:href=\"#DejaVuSans-48\"/>\r\n    </g>\r\n   </g>\r\n   <g id=\"text_19\">\r\n    <!-- 5 -->\r\n    <defs>\r\n     <path d=\"M 10.796875 72.90625 \r\nL 49.515625 72.90625 \r\nL 49.515625 64.59375 \r\nL 19.828125 64.59375 \r\nL 19.828125 46.734375 \r\nQ 21.96875 47.46875 24.109375 47.828125 \r\nQ 26.265625 48.1875 28.421875 48.1875 \r\nQ 40.625 48.1875 47.75 41.5 \r\nQ 54.890625 34.8125 54.890625 23.390625 \r\nQ 54.890625 11.625 47.5625 5.09375 \r\nQ 40.234375 -1.421875 26.90625 -1.421875 \r\nQ 22.3125 -1.421875 17.546875 -0.640625 \r\nQ 12.796875 0.140625 7.71875 1.703125 \r\nL 7.71875 11.625 \r\nQ 12.109375 9.234375 16.796875 8.0625 \r\nQ 21.484375 6.890625 26.703125 6.890625 \r\nQ 35.15625 6.890625 40.078125 11.328125 \r\nQ 45.015625 15.765625 45.015625 23.390625 \r\nQ 45.015625 31 40.078125 35.4375 \r\nQ 35.15625 39.890625 26.703125 39.890625 \r\nQ 22.75 39.890625 18.8125 39.015625 \r\nQ 14.890625 38.140625 10.796875 36.28125 \r\nz\r\n\" id=\"DejaVuSans-53\"/>\r\n    </defs>\r\n    <g transform=\"translate(132.616406 136.501253)scale(0.1728 -0.1728)\">\r\n     <use xlink:href=\"#DejaVuSans-53\"/>\r\n    </g>\r\n   </g>\r\n   <g id=\"text_20\">\r\n    <!-- 8 -->\r\n    <g transform=\"translate(190.475869 136.501253)scale(0.1728 -0.1728)\">\r\n     <use xlink:href=\"#DejaVuSans-56\"/>\r\n    </g>\r\n   </g>\r\n   <g id=\"text_21\">\r\n    <!-- 1 -->\r\n    <g transform=\"translate(248.335331 136.501253)scale(0.1728 -0.1728)\">\r\n     <use xlink:href=\"#DejaVuSans-49\"/>\r\n    </g>\r\n   </g>\r\n   <g id=\"text_22\">\r\n    <!-- 0 -->\r\n    <g transform=\"translate(306.194794 136.501253)scale(0.1728 -0.1728)\">\r\n     <use xlink:href=\"#DejaVuSans-48\"/>\r\n    </g>\r\n   </g>\r\n   <g id=\"text_23\">\r\n    <!-- 7 -->\r\n    <g transform=\"translate(364.054257 136.501253)scale(0.1728 -0.1728)\">\r\n     <use xlink:href=\"#DejaVuSans-55\"/>\r\n    </g>\r\n   </g>\r\n   <g id=\"text_24\">\r\n    <!-- 9 -->\r\n    <g transform=\"translate(421.91372 136.501253)scale(0.1728 -0.1728)\">\r\n     <use xlink:href=\"#DejaVuSans-57\"/>\r\n    </g>\r\n   </g>\r\n   <g id=\"text_25\">\r\n    <!-- 7 -->\r\n    <g transform=\"translate(16.89748 192.864618)scale(0.1728 -0.1728)\">\r\n     <use xlink:href=\"#DejaVuSans-55\"/>\r\n    </g>\r\n   </g>\r\n   <g id=\"text_26\">\r\n    <!-- 0 -->\r\n    <g transform=\"translate(74.756943 192.864618)scale(0.1728 -0.1728)\">\r\n     <use xlink:href=\"#DejaVuSans-48\"/>\r\n    </g>\r\n   </g>\r\n   <g id=\"text_27\">\r\n    <!-- 9 -->\r\n    <g transform=\"translate(132.616406 192.864618)scale(0.1728 -0.1728)\">\r\n     <use xlink:href=\"#DejaVuSans-57\"/>\r\n    </g>\r\n   </g>\r\n   <g id=\"text_28\">\r\n    <!-- 4 -->\r\n    <g transform=\"translate(190.475869 192.864618)scale(0.1728 -0.1728)\">\r\n     <use xlink:href=\"#DejaVuSans-52\"/>\r\n    </g>\r\n   </g>\r\n   <g id=\"text_29\">\r\n    <!-- 3 -->\r\n    <g transform=\"translate(248.335331 192.864618)scale(0.1728 -0.1728)\">\r\n     <use xlink:href=\"#DejaVuSans-51\"/>\r\n    </g>\r\n   </g>\r\n   <g id=\"text_30\">\r\n    <!-- 5 -->\r\n    <g transform=\"translate(306.194794 192.864618)scale(0.1728 -0.1728)\">\r\n     <use xlink:href=\"#DejaVuSans-53\"/>\r\n    </g>\r\n   </g>\r\n   <g id=\"text_31\">\r\n    <!-- 6 -->\r\n    <g transform=\"translate(364.054257 192.864618)scale(0.1728 -0.1728)\">\r\n     <use xlink:href=\"#DejaVuSans-54\"/>\r\n    </g>\r\n   </g>\r\n   <g id=\"text_32\">\r\n    <!-- 6 -->\r\n    <g transform=\"translate(421.91372 192.864618)scale(0.1728 -0.1728)\">\r\n     <use xlink:href=\"#DejaVuSans-54\"/>\r\n    </g>\r\n   </g>\r\n   <g id=\"text_33\">\r\n    <!-- 0 -->\r\n    <g transform=\"translate(16.89748 249.227982)scale(0.1728 -0.1728)\">\r\n     <use xlink:href=\"#DejaVuSans-48\"/>\r\n    </g>\r\n   </g>\r\n   <g id=\"text_34\">\r\n    <!-- 8 -->\r\n    <g transform=\"translate(74.756943 249.227982)scale(0.1728 -0.1728)\">\r\n     <use xlink:href=\"#DejaVuSans-56\"/>\r\n    </g>\r\n   </g>\r\n   <g id=\"text_35\">\r\n    <!-- 0 -->\r\n    <g transform=\"translate(132.616406 249.227982)scale(0.1728 -0.1728)\">\r\n     <use xlink:href=\"#DejaVuSans-48\"/>\r\n    </g>\r\n   </g>\r\n   <g id=\"text_36\">\r\n    <!-- 2 -->\r\n    <defs>\r\n     <path d=\"M 19.1875 8.296875 \r\nL 53.609375 8.296875 \r\nL 53.609375 0 \r\nL 7.328125 0 \r\nL 7.328125 8.296875 \r\nQ 12.9375 14.109375 22.625 23.890625 \r\nQ 32.328125 33.6875 34.8125 36.53125 \r\nQ 39.546875 41.84375 41.421875 45.53125 \r\nQ 43.3125 49.21875 43.3125 52.78125 \r\nQ 43.3125 58.59375 39.234375 62.25 \r\nQ 35.15625 65.921875 28.609375 65.921875 \r\nQ 23.96875 65.921875 18.8125 64.3125 \r\nQ 13.671875 62.703125 7.8125 59.421875 \r\nL 7.8125 69.390625 \r\nQ 13.765625 71.78125 18.9375 73 \r\nQ 24.125 74.21875 28.421875 74.21875 \r\nQ 39.75 74.21875 46.484375 68.546875 \r\nQ 53.21875 62.890625 53.21875 53.421875 \r\nQ 53.21875 48.921875 51.53125 44.890625 \r\nQ 49.859375 40.875 45.40625 35.40625 \r\nQ 44.1875 33.984375 37.640625 27.21875 \r\nQ 31.109375 20.453125 19.1875 8.296875 \r\nz\r\n\" id=\"DejaVuSans-50\"/>\r\n    </defs>\r\n    <g transform=\"translate(190.475869 249.227982)scale(0.1728 -0.1728)\">\r\n     <use xlink:href=\"#DejaVuSans-50\"/>\r\n    </g>\r\n   </g>\r\n   <g id=\"text_37\">\r\n    <!-- 9 -->\r\n    <g transform=\"translate(248.335331 249.227982)scale(0.1728 -0.1728)\">\r\n     <use xlink:href=\"#DejaVuSans-57\"/>\r\n    </g>\r\n   </g>\r\n   <g id=\"text_38\">\r\n    <!-- 8 -->\r\n    <g transform=\"translate(306.194794 249.227982)scale(0.1728 -0.1728)\">\r\n     <use xlink:href=\"#DejaVuSans-56\"/>\r\n    </g>\r\n   </g>\r\n   <g id=\"text_39\">\r\n    <!-- 0 -->\r\n    <g transform=\"translate(364.054257 249.227982)scale(0.1728 -0.1728)\">\r\n     <use xlink:href=\"#DejaVuSans-48\"/>\r\n    </g>\r\n   </g>\r\n   <g id=\"text_40\">\r\n    <!-- 8 -->\r\n    <g transform=\"translate(421.91372 249.227982)scale(0.1728 -0.1728)\">\r\n     <use xlink:href=\"#DejaVuSans-56\"/>\r\n    </g>\r\n   </g>\r\n   <g id=\"text_41\">\r\n    <!-- 6 -->\r\n    <g transform=\"translate(16.89748 305.591347)scale(0.1728 -0.1728)\">\r\n     <use xlink:href=\"#DejaVuSans-54\"/>\r\n    </g>\r\n   </g>\r\n   <g id=\"text_42\">\r\n    <!-- 5 -->\r\n    <g transform=\"translate(74.756943 305.591347)scale(0.1728 -0.1728)\">\r\n     <use xlink:href=\"#DejaVuSans-53\"/>\r\n    </g>\r\n   </g>\r\n   <g id=\"text_43\">\r\n    <!-- 4 -->\r\n    <g transform=\"translate(132.616406 305.591347)scale(0.1728 -0.1728)\">\r\n     <use xlink:href=\"#DejaVuSans-52\"/>\r\n    </g>\r\n   </g>\r\n   <g id=\"text_44\">\r\n    <!-- 5 -->\r\n    <g transform=\"translate(190.475869 305.591347)scale(0.1728 -0.1728)\">\r\n     <use xlink:href=\"#DejaVuSans-53\"/>\r\n    </g>\r\n   </g>\r\n   <g id=\"text_45\">\r\n    <!-- 2 -->\r\n    <g transform=\"translate(248.335331 305.591347)scale(0.1728 -0.1728)\">\r\n     <use xlink:href=\"#DejaVuSans-50\"/>\r\n    </g>\r\n   </g>\r\n   <g id=\"text_46\">\r\n    <!-- 2 -->\r\n    <g transform=\"translate(306.194794 305.591347)scale(0.1728 -0.1728)\">\r\n     <use xlink:href=\"#DejaVuSans-50\"/>\r\n    </g>\r\n   </g>\r\n   <g id=\"text_47\">\r\n    <!-- 4 -->\r\n    <g transform=\"translate(364.054257 305.591347)scale(0.1728 -0.1728)\">\r\n     <use xlink:href=\"#DejaVuSans-52\"/>\r\n    </g>\r\n   </g>\r\n   <g id=\"text_48\">\r\n    <!-- 8 -->\r\n    <g transform=\"translate(421.91372 305.591347)scale(0.1728 -0.1728)\">\r\n     <use xlink:href=\"#DejaVuSans-56\"/>\r\n    </g>\r\n   </g>\r\n   <g id=\"text_49\">\r\n    <!-- 9 -->\r\n    <g transform=\"translate(16.89748 361.954712)scale(0.1728 -0.1728)\">\r\n     <use xlink:href=\"#DejaVuSans-57\"/>\r\n    </g>\r\n   </g>\r\n   <g id=\"text_50\">\r\n    <!-- 3 -->\r\n    <g transform=\"translate(74.756943 361.954712)scale(0.1728 -0.1728)\">\r\n     <use xlink:href=\"#DejaVuSans-51\"/>\r\n    </g>\r\n   </g>\r\n   <g id=\"text_51\">\r\n    <!-- 2 -->\r\n    <g transform=\"translate(132.616406 361.954712)scale(0.1728 -0.1728)\">\r\n     <use xlink:href=\"#DejaVuSans-50\"/>\r\n    </g>\r\n   </g>\r\n   <g id=\"text_52\">\r\n    <!-- 5 -->\r\n    <g transform=\"translate(190.475869 361.954712)scale(0.1728 -0.1728)\">\r\n     <use xlink:href=\"#DejaVuSans-53\"/>\r\n    </g>\r\n   </g>\r\n   <g id=\"text_53\">\r\n    <!-- 7 -->\r\n    <g transform=\"translate(248.335331 361.954712)scale(0.1728 -0.1728)\">\r\n     <use xlink:href=\"#DejaVuSans-55\"/>\r\n    </g>\r\n   </g>\r\n   <g id=\"text_54\">\r\n    <!-- 6 -->\r\n    <g transform=\"translate(306.194794 361.954712)scale(0.1728 -0.1728)\">\r\n     <use xlink:href=\"#DejaVuSans-54\"/>\r\n    </g>\r\n   </g>\r\n   <g id=\"text_55\">\r\n    <!-- 5 -->\r\n    <g transform=\"translate(364.054257 361.954712)scale(0.1728 -0.1728)\">\r\n     <use xlink:href=\"#DejaVuSans-53\"/>\r\n    </g>\r\n   </g>\r\n   <g id=\"text_56\">\r\n    <!-- 5 -->\r\n    <g transform=\"translate(421.91372 361.954712)scale(0.1728 -0.1728)\">\r\n     <use xlink:href=\"#DejaVuSans-53\"/>\r\n    </g>\r\n   </g>\r\n   <g id=\"text_57\">\r\n    <!-- 1 -->\r\n    <g transform=\"translate(16.89748 418.318077)scale(0.1728 -0.1728)\">\r\n     <use xlink:href=\"#DejaVuSans-49\"/>\r\n    </g>\r\n   </g>\r\n   <g id=\"text_58\">\r\n    <!-- 7 -->\r\n    <g transform=\"translate(74.756943 418.318077)scale(0.1728 -0.1728)\">\r\n     <use xlink:href=\"#DejaVuSans-55\"/>\r\n    </g>\r\n   </g>\r\n   <g id=\"text_59\">\r\n    <!-- 3 -->\r\n    <g transform=\"translate(132.616406 418.318077)scale(0.1728 -0.1728)\">\r\n     <use xlink:href=\"#DejaVuSans-51\"/>\r\n    </g>\r\n   </g>\r\n   <g id=\"text_60\">\r\n    <!-- 5 -->\r\n    <g transform=\"translate(190.475869 418.318077)scale(0.1728 -0.1728)\">\r\n     <use xlink:href=\"#DejaVuSans-53\"/>\r\n    </g>\r\n   </g>\r\n   <g id=\"text_61\">\r\n    <!-- 7 -->\r\n    <g transform=\"translate(248.335331 418.318077)scale(0.1728 -0.1728)\">\r\n     <use xlink:href=\"#DejaVuSans-55\"/>\r\n    </g>\r\n   </g>\r\n   <g id=\"text_62\">\r\n    <!-- 0 -->\r\n    <g transform=\"translate(306.194794 418.318077)scale(0.1728 -0.1728)\">\r\n     <use xlink:href=\"#DejaVuSans-48\"/>\r\n    </g>\r\n   </g>\r\n   <g id=\"text_63\">\r\n    <!-- 5 -->\r\n    <g transform=\"translate(364.054257 418.318077)scale(0.1728 -0.1728)\">\r\n     <use xlink:href=\"#DejaVuSans-53\"/>\r\n    </g>\r\n   </g>\r\n   <g id=\"text_64\">\r\n    <!-- 2 -->\r\n    <g transform=\"translate(421.91372 418.318077)scale(0.1728 -0.1728)\">\r\n     <use xlink:href=\"#DejaVuSans-50\"/>\r\n    </g>\r\n   </g>\r\n  </g>\r\n </g>\r\n <defs>\r\n  <clipPath id=\"p2efe2d0930\">\r\n   <rect height=\"434.88\" width=\"446.4\" x=\"7.2\" y=\"7.2\"/>\r\n  </clipPath>\r\n </defs>\r\n</svg>\r\n",
      "image/png": "[encoded data removed]"
     },
     "metadata": {
      "needs_background": "light"
     }
    }
   ]
  },
  {
   "source": [
    "agent_cortez.paths_taken_by_all_ants[agent_cortez.chosen_path]  # To see the shortest path found by ant colony optimisation"
   ],
   "cell_type": "code",
   "metadata": {},
   "execution_count": 49,
   "outputs": [
    {
     "output_type": "execute_result",
     "data": {
      "text/plain": [
       "[8, 6, 3, 0, 0, 8, 0, 6, 5, 3, 2, 3, 5, 7, 0, 6, 5, 5, 2]"
      ]
     },
     "metadata": {},
     "execution_count": 49
    }
   ]
  },
  {
   "cell_type": "code",
   "execution_count": 50,
   "metadata": {},
   "outputs": [
    {
     "output_type": "execute_result",
     "data": {
      "text/plain": [
       "[[0, 0],\n",
       " [1, 0],\n",
       " [2, 0],\n",
       " [2, 1],\n",
       " [3, 1],\n",
       " [4, 1],\n",
       " [4, 0],\n",
       " [5, 0],\n",
       " [5, 1],\n",
       " [6, 1],\n",
       " [6, 2],\n",
       " [7, 2],\n",
       " [7, 3],\n",
       " [7, 4],\n",
       " [7, 5],\n",
       " [6, 5],\n",
       " [6, 6],\n",
       " [6, 7],\n",
       " [7, 7]]"
      ]
     },
     "metadata": {},
     "execution_count": 50
    }
   ],
   "source": [
    "agent_cortez.paths_coords_taken_by_all_ants[agent_cortez.chosen_path]  # To see the shortest path found by ant colony optimisation"
   ]
  },
  {
   "source": [
    "agent_cortez.total_distance_by_all_ants                   # To see all the paths the ants took OUTPUT BIG depending on how many ants but you can see there is 1 path for each ant and it shows it for the last iteration only"
   ],
   "cell_type": "code",
   "metadata": {},
   "execution_count": 51,
   "outputs": [
    {
     "output_type": "execute_result",
     "data": {
      "text/plain": [
       "{0: 217,\n",
       " 1: 356,\n",
       " 2: 246,\n",
       " 3: 75,\n",
       " 4: 228,\n",
       " 5: 109,\n",
       " 6: 270,\n",
       " 7: 848,\n",
       " 8: 605,\n",
       " 9: 81,\n",
       " 10: 398,\n",
       " 11: 410,\n",
       " 12: 1282,\n",
       " 13: 398,\n",
       " 14: 780,\n",
       " 15: 111,\n",
       " 16: 239,\n",
       " 17: 212,\n",
       " 18: 856,\n",
       " 19: 489,\n",
       " 20: 337,\n",
       " 21: 567,\n",
       " 22: 537,\n",
       " 23: 144,\n",
       " 24: 375,\n",
       " 25: 428,\n",
       " 26: 418,\n",
       " 27: 434,\n",
       " 28: 74,\n",
       " 29: 173}"
      ]
     },
     "metadata": {},
     "execution_count": 51
    }
   ]
  },
  {
   "cell_type": "code",
   "execution_count": null,
   "metadata": {},
   "outputs": [],
   "source": [
    "#-------------------------------------------------------- START GAME (DIJKSTRA) -----------------------------------------------#    \n",
    "height, width = 10,10                                                      # Maze has to be NxN in order for visualisation to work properly\n",
    "agent_cortez = Agent('Cortez')                                             # Initialise the agent\n",
    "game = IntMaze(height, width, 1, 'Dijkstra', agent_cortez)               # Initialise the game with maze of height and width and a particular agent in that game\n",
    "game.start_game()"
   ]
  },
  {
   "source": [
    "## Class Testing Area - No need to look here"
   ],
   "cell_type": "markdown",
   "metadata": {}
  },
  {
   "cell_type": "code",
   "execution_count": 11,
   "metadata": {},
   "outputs": [],
   "source": [
    "class TestAgent():\n",
    "    def __init__ (self, name, maze = None):\n",
    "        self.maze = maze\n",
    "        self.name = name\n",
    "        #self.i, self.j = 0, 0\n",
    "        #self.position = [self.i, self.j] # could just index self.position[0] and self.position[1]\n",
    "        self.curr_position = []         \n",
    "        self.position_history = []      \n",
    "        self.options = []               \n",
    "        self.option_coords = []         \n",
    "        self.options = []\n",
    "        self.option_coords = []\n",
    "        self.isFinished = False\n",
    "        self.chosen_path = 0  \n",
    "\n",
    "    def path_Naive(self, row, col, paths, coords, maze): \n",
    "        paths.append(maze[row][col])            \n",
    "        coords.append((row, col))               \n",
    "        if row == len(maze) - 1:                 \n",
    "            for i in range(col, len(maze[0])):  \n",
    "                paths.append(maze[row][i])      \n",
    "                coords.append((row, i))         \n",
    "            self.options.append(paths)         \n",
    "            self.option_coords.append(coords)   \n",
    "            return \n",
    "\n",
    "        if col == len(maze[0]) - 1:             \n",
    "            for i in range(row, len(maze)):     \n",
    "                paths.append(maze[i][col])      \n",
    "                coords.append((i, col))        \n",
    "            self.options.append(paths)\n",
    "            self.option_coords.append(coords)\n",
    "            return\n",
    "        path_Naive(row + 1, col, paths[:], coords[:], maze) \n",
    "        path_Naive(row, col + 1, paths[:], coords[:], maze)       \n",
    "\n",
    "        sum_time_vals = np.zeros(len(self.options), dtype=int) # will contain an array of all the total times for each path\n",
    "        for i in range(0, len(self.options)):\n",
    "            sum_time_vals[i] = sum(self.options[i])\n",
    "        self.chosen_path = list(sum_time_vals).index(np.min(sum_time_vals))\n",
    "        # self.options[chosen_path] contains the path chosen\n",
    "        '''\n",
    "        for i in range(len(option_coords[chosen_path])):   # now have to change the agents current position according to this path - signifies movement         \n",
    "            self.curr_position = self.options_coords[chosen_path][i] # need to add some animation on the plot ????\n",
    "        '''"
   ]
  },
  {
   "cell_type": "code",
   "execution_count": null,
   "metadata": {},
   "outputs": [],
   "source": [
    "class TestMaze():\n",
    "    def __init__ (self, height, width, mode, alg, agent):  \n",
    "        self.height = height\n",
    "        self.width = width\n",
    "        self.mode = mode\n",
    "        self.agent = agent\n",
    "        self.alg = alg\n",
    "        self.path_find_type = {'Recursive': 0, 'Dijkstra': 1, 'Ant Colony': 2}\n",
    "    \n",
    "    def create_maze(self): # generates the grid/map\n",
    "        return np.array(np.random.randint(0, 10, size = (self.height, self.width)))\n",
    "\n",
    "    def start_game(self):\n",
    "        self.maze = self.create_maze()\n",
    "        self.agent.maze = self # add agent to the maze/environment\n",
    "        self.agent.maze_disp()"
   ]
  },
  {
   "source": [
    "height, width = 3,3 # Maze has to be NxN in order for visualisation to work\n",
    "test_agent = TestAgent('Bob')\n",
    "maze = TestMaze(height, width, 1, 'Recursive', test_agent)\n",
    "maze.start_game()"
   ],
   "cell_type": "code",
   "metadata": {},
   "execution_count": null,
   "outputs": []
  },
  {
   "source": [
    "## Function Testing Area - No need to look here"
   ],
   "cell_type": "markdown",
   "metadata": {}
  },
  {
   "cell_type": "code",
   "execution_count": 10,
   "metadata": {},
   "outputs": [],
   "source": [
    "height, width = 4, 4\n",
    "test_maze = np.array([[4, 6, 8, 5],\n",
    "       [2, 6, 2, 2],\n",
    "       [0, 8, 8, 4],\n",
    "       [8, 6, 6, 6]])\n",
    "options = []\n",
    "option_coords = []"
   ]
  },
  {
   "cell_type": "code",
   "execution_count": 11,
   "metadata": {},
   "outputs": [],
   "source": [
    "def test_path_Naive(row, col, paths, coords, maze):\n",
    "    if row == len(maze) - 1: \n",
    "        for i in range(col, len(maze[0])): \n",
    "            paths.append(maze[row][i]) \n",
    "            coords.append((row, i))\n",
    "        options.append(paths)\n",
    "        option_coords.append(coords)\n",
    "        return \n",
    "\n",
    "    if col == len(maze[0]) - 1: \n",
    "        for i in range(row, len(maze)): \n",
    "            paths.append(maze[i][col])\n",
    "            coords.append((i, col))\n",
    "        options.append(paths)\n",
    "        option_coords.append(coords) \n",
    "        return\n",
    "    paths.append(maze[row][col]) \n",
    "    coords.append((row, col)) \n",
    "    test_path_Naive(row + 1, col, paths[:], coords[:], maze) \n",
    "    test_path_Naive(row, col + 1, paths[:], coords[:], maze) \n",
    "\n",
    "    sum_time_vals = np.zeros(len(options), dtype=int)\n",
    "    for i in range(0, len(options)):\n",
    "        sum_time_vals[i] = sum(options[i])\n",
    "    chosen_path = list(sum_time_vals).index(np.min(sum_time_vals))\n",
    "    return chosen_path"
   ]
  },
  {
   "cell_type": "code",
   "execution_count": 12,
   "metadata": {},
   "outputs": [],
   "source": [
    "def plot_chosen_path(maze, nx=width, ny=height, annotate=True, show_decided_path=True): \n",
    "    c1 = np.array([0, width])\n",
    "    c2 = np.array([height, 0]) \n",
    "    dim = len(c1) \n",
    "    x_pts = np.linspace(c1[0], c2[0], nx)\n",
    "    y_pts = np.linspace(c1[1], c2[1], ny)\n",
    "    Xv, Yv = np.meshgrid(x_pts, y_pts)\n",
    "    numpts = nx*ny        \n",
    "    node_array = np.zeros((numpts, 2), dtype=float)\n",
    "    node_array[:,0] = np.reshape(Xv, numpts)\n",
    "    node_array[:,1] = np.reshape(Yv, numpts)\n",
    "    num_cells = int(nx-1)*(ny-1)\n",
    "    connectivity = np.zeros((num_cells, int(2**dim)), dtype=int)\n",
    "    rows, cols = ny-1, nx-1 \n",
    "    for row in range(rows):\n",
    "        for col in range(cols):\n",
    "            num = nx*row + col\n",
    "            connectivity[cols*row + col] = [num+0, num+1, num+nx, num+nx+1]\n",
    "        \n",
    "    annotations = maze.flatten()\n",
    "    X,Y = node_array.T\n",
    "    fig = plt.figure(figsize=(nx,ny)) \n",
    "    ax = fig.add_subplot(111)\n",
    "    ax.set_aspect('auto')\n",
    "    plt.axis('off')\n",
    "    plt.scatter(X,Y, marker='o', s=50, color='g', alpha=1.0)\n",
    "    if height == width:\n",
    "        plt.plot(Xv,Yv, linewidth=2, color='k', alpha=0.2)\n",
    "        plt.plot(Yv,Xv, linewidth=2, color='k', alpha=0.2)\n",
    "    if annotate:                    \n",
    "        for i, pos in enumerate(node_array):\n",
    "            plt.text(pos[0], pos[1],  str(annotations[i]), color='k', verticalalignment='bottom', horizontalalignment='right', fontsize='xx-large')\n",
    "        \n",
    "    nodes_coords = np.split(node_array, ny)\n",
    "    path_coords_grid = []\n",
    "    for x, y in option_coords[path]: # this needs to convert a path to coordinates on the graph\n",
    "        path_coords_grid.append(nodes_coords[x][y])\n",
    "    head_length = 0.2\n",
    "    if show_decided_path:\n",
    "        for i in range(len(path_coords_grid)-1): # plots vectors for the shortest path\n",
    "            dx = path_coords_grid[i+1][0] - path_coords_grid[i][0]\n",
    "            dy = path_coords_grid[i+1][1] - path_coords_grid[i][1]\n",
    "            vec_ab = [dx,dy]\n",
    "            vec_ab_magnitude = np.sqrt(dx**2+dy**2)\n",
    "            dx = dx / vec_ab_magnitude\n",
    "            dy = dy / vec_ab_magnitude\n",
    "            vec_ab_magnitude = vec_ab_magnitude - head_length\n",
    "            plt.arrow(path_coords_grid[i][0], path_coords_grid[i][1], vec_ab_magnitude*dx, vec_ab_magnitude*dy, head_width=0.2, head_length=0.2, color='red')\n",
    "    plt.show(block=False)\n",
    "    return node_array, connectivity\n"
   ]
  },
  {
   "cell_type": "code",
   "execution_count": 13,
   "metadata": {},
   "outputs": [
    {
     "output_type": "execute_result",
     "data": {
      "text/plain": [
       "array([[4, 6, 8, 5],\n",
       "       [2, 6, 2, 2],\n",
       "       [0, 8, 8, 4],\n",
       "       [8, 6, 6, 6]])"
      ]
     },
     "metadata": {},
     "execution_count": 13
    }
   ],
   "source": [
    "test_maze"
   ]
  },
  {
   "source": [
    "path = test_path_Naive(0,0,[],[],test_maze)\n",
    "nodes, connectivity = plot_chosen_path(test_maze) # need to add options[path]"
   ],
   "cell_type": "code",
   "metadata": {},
   "execution_count": 14,
   "outputs": [
    {
     "output_type": "display_data",
     "data": {
      "text/plain": "<Figure size 288x288 with 1 Axes>",
      "image/svg+xml": "<?xml version=\"1.0\" encoding=\"utf-8\" standalone=\"no\"?>\r\n<!DOCTYPE svg PUBLIC \"-//W3C//DTD SVG 1.1//EN\"\r\n  \"http://www.w3.org/Graphics/SVG/1.1/DTD/svg11.dtd\">\r\n<!-- Created with matplotlib (https://matplotlib.org/) -->\r\n<svg height=\"237.883113pt\" version=\"1.1\" viewBox=\"0 0 237.651729 237.883113\" width=\"237.651729pt\" xmlns=\"http://www.w3.org/2000/svg\" xmlns:xlink=\"http://www.w3.org/1999/xlink\">\r\n <defs>\r\n  <style type=\"text/css\">\r\n*{stroke-linecap:butt;stroke-linejoin:round;}\r\n  </style>\r\n </defs>\r\n <g id=\"figure_1\">\r\n  <g id=\"patch_1\">\r\n   <path d=\"M 0 237.883113 \r\nL 237.651729 237.883113 \r\nL 237.651729 0 \r\nL 0 0 \r\nz\r\n\" style=\"fill:none;\"/>\r\n  </g>\r\n  <g id=\"axes_1\">\r\n   <g id=\"PathCollection_1\">\r\n    <defs>\r\n     <path d=\"M 0 3.535534 \r\nC 0.937635 3.535534 1.836992 3.163008 2.5 2.5 \r\nC 3.163008 1.836992 3.535534 0.937635 3.535534 0 \r\nC 3.535534 -0.937635 3.163008 -1.836992 2.5 -2.5 \r\nC 1.836992 -3.163008 0.937635 -3.535534 0 -3.535534 \r\nC -0.937635 -3.535534 -1.836992 -3.163008 -2.5 -2.5 \r\nC -3.163008 -1.836992 -3.535534 -0.937635 -3.535534 0 \r\nC -3.535534 0.937635 -3.163008 1.836992 -2.5 2.5 \r\nC -1.836992 3.163008 -0.937635 3.535534 0 3.535534 \r\nz\r\n\" id=\"m59a91787b1\" style=\"stroke:#008000;\"/>\r\n    </defs>\r\n    <g clip-path=\"url(#p3e3d40f286)\">\r\n     <use style=\"fill:#008000;stroke:#008000;\" x=\"18.1944\" xlink:href=\"#m59a91787b1\" y=\"23.9238\"/>\r\n     <use style=\"fill:#008000;stroke:#008000;\" x=\"85.299286\" xlink:href=\"#m59a91787b1\" y=\"23.9238\"/>\r\n     <use style=\"fill:#008000;stroke:#008000;\" x=\"152.404172\" xlink:href=\"#m59a91787b1\" y=\"23.9238\"/>\r\n     <use style=\"fill:#008000;stroke:#008000;\" x=\"219.509058\" xlink:href=\"#m59a91787b1\" y=\"23.9238\"/>\r\n     <use style=\"fill:#008000;stroke:#008000;\" x=\"18.1944\" xlink:href=\"#m59a91787b1\" y=\"89.283342\"/>\r\n     <use style=\"fill:#008000;stroke:#008000;\" x=\"85.299286\" xlink:href=\"#m59a91787b1\" y=\"89.283342\"/>\r\n     <use style=\"fill:#008000;stroke:#008000;\" x=\"152.404172\" xlink:href=\"#m59a91787b1\" y=\"89.283342\"/>\r\n     <use style=\"fill:#008000;stroke:#008000;\" x=\"219.509058\" xlink:href=\"#m59a91787b1\" y=\"89.283342\"/>\r\n     <use style=\"fill:#008000;stroke:#008000;\" x=\"18.1944\" xlink:href=\"#m59a91787b1\" y=\"154.642884\"/>\r\n     <use style=\"fill:#008000;stroke:#008000;\" x=\"85.299286\" xlink:href=\"#m59a91787b1\" y=\"154.642884\"/>\r\n     <use style=\"fill:#008000;stroke:#008000;\" x=\"152.404172\" xlink:href=\"#m59a91787b1\" y=\"154.642884\"/>\r\n     <use style=\"fill:#008000;stroke:#008000;\" x=\"219.509058\" xlink:href=\"#m59a91787b1\" y=\"154.642884\"/>\r\n     <use style=\"fill:#008000;stroke:#008000;\" x=\"18.1944\" xlink:href=\"#m59a91787b1\" y=\"220.002426\"/>\r\n     <use style=\"fill:#008000;stroke:#008000;\" x=\"85.299286\" xlink:href=\"#m59a91787b1\" y=\"220.002426\"/>\r\n     <use style=\"fill:#008000;stroke:#008000;\" x=\"152.404172\" xlink:href=\"#m59a91787b1\" y=\"220.002426\"/>\r\n     <use style=\"fill:#008000;stroke:#008000;\" x=\"219.509058\" xlink:href=\"#m59a91787b1\" y=\"220.002426\"/>\r\n    </g>\r\n   </g>\r\n   <g id=\"patch_2\">\r\n    <path clip-path=\"url(#p3e3d40f286)\" d=\"M 18.1944 89.283342 \r\nL 13.161534 79.479411 \r\nL 18.169236 79.479411 \r\nL 18.169236 23.9238 \r\nL 18.219564 23.9238 \r\nL 18.219564 79.479411 \r\nL 23.227266 79.479411 \r\nz\r\n\" style=\"fill:#ff0000;stroke:#ff0000;stroke-linejoin:miter;\"/>\r\n   </g>\r\n   <g id=\"patch_3\">\r\n    <path clip-path=\"url(#p3e3d40f286)\" d=\"M 85.299286 89.283342 \r\nL 75.233553 94.185308 \r\nL 75.233553 89.307852 \r\nL 18.1944 89.307852 \r\nL 18.1944 89.258832 \r\nL 75.233553 89.258832 \r\nL 75.233553 84.381376 \r\nz\r\n\" style=\"fill:#ff0000;stroke:#ff0000;stroke-linejoin:miter;\"/>\r\n   </g>\r\n   <g id=\"patch_4\">\r\n    <path clip-path=\"url(#p3e3d40f286)\" d=\"M 152.404172 89.283342 \r\nL 142.338439 94.185308 \r\nL 142.338439 89.307852 \r\nL 85.299286 89.307852 \r\nL 85.299286 89.258832 \r\nL 142.338439 89.258832 \r\nL 142.338439 84.381376 \r\nz\r\n\" style=\"fill:#ff0000;stroke:#ff0000;stroke-linejoin:miter;\"/>\r\n   </g>\r\n   <g id=\"patch_5\">\r\n    <path clip-path=\"url(#p3e3d40f286)\" d=\"M 219.509058 89.283342 \r\nL 209.443325 94.185308 \r\nL 209.443325 89.307852 \r\nL 152.404172 89.307852 \r\nL 152.404172 89.258832 \r\nL 209.443325 89.258832 \r\nL 209.443325 84.381376 \r\nz\r\n\" style=\"fill:#ff0000;stroke:#ff0000;stroke-linejoin:miter;\"/>\r\n   </g>\r\n   <g id=\"patch_6\">\r\n    <path clip-path=\"url(#p3e3d40f286)\" d=\"M 219.509058 154.642884 \r\nL 214.476192 144.838953 \r\nL 219.483894 144.838953 \r\nL 219.483894 89.283342 \r\nL 219.534222 89.283342 \r\nL 219.534222 144.838953 \r\nL 224.541925 144.838953 \r\nz\r\n\" style=\"fill:#ff0000;stroke:#ff0000;stroke-linejoin:miter;\"/>\r\n   </g>\r\n   <g id=\"patch_7\">\r\n    <path clip-path=\"url(#p3e3d40f286)\" d=\"M 219.509058 220.002426 \r\nL 214.476192 210.198495 \r\nL 219.483894 210.198495 \r\nL 219.483894 154.642884 \r\nL 219.534222 154.642884 \r\nL 219.534222 210.198495 \r\nL 224.541925 210.198495 \r\nz\r\n\" style=\"fill:#ff0000;stroke:#ff0000;stroke-linejoin:miter;\"/>\r\n   </g>\r\n   <g id=\"line2d_1\">\r\n    <path clip-path=\"url(#p3e3d40f286)\" d=\"M 18.1944 23.9238 \r\nL 18.1944 89.283342 \r\nL 18.1944 154.642884 \r\nL 18.1944 220.002426 \r\n\" style=\"fill:none;stroke:#000000;stroke-linecap:square;stroke-opacity:0.2;stroke-width:2;\"/>\r\n   </g>\r\n   <g id=\"line2d_2\">\r\n    <path clip-path=\"url(#p3e3d40f286)\" d=\"M 85.299286 23.9238 \r\nL 85.299286 89.283342 \r\nL 85.299286 154.642884 \r\nL 85.299286 220.002426 \r\n\" style=\"fill:none;stroke:#000000;stroke-linecap:square;stroke-opacity:0.2;stroke-width:2;\"/>\r\n   </g>\r\n   <g id=\"line2d_3\">\r\n    <path clip-path=\"url(#p3e3d40f286)\" d=\"M 152.404172 23.9238 \r\nL 152.404172 89.283342 \r\nL 152.404172 154.642884 \r\nL 152.404172 220.002426 \r\n\" style=\"fill:none;stroke:#000000;stroke-linecap:square;stroke-opacity:0.2;stroke-width:2;\"/>\r\n   </g>\r\n   <g id=\"line2d_4\">\r\n    <path clip-path=\"url(#p3e3d40f286)\" d=\"M 219.509058 23.9238 \r\nL 219.509058 89.283342 \r\nL 219.509058 154.642884 \r\nL 219.509058 220.002426 \r\n\" style=\"fill:none;stroke:#000000;stroke-linecap:square;stroke-opacity:0.2;stroke-width:2;\"/>\r\n   </g>\r\n   <g id=\"line2d_5\">\r\n    <path clip-path=\"url(#p3e3d40f286)\" d=\"M 219.509058 220.002426 \r\nL 152.404172 220.002426 \r\nL 85.299286 220.002426 \r\nL 18.1944 220.002426 \r\n\" style=\"fill:none;stroke:#000000;stroke-linecap:square;stroke-opacity:0.2;stroke-width:2;\"/>\r\n   </g>\r\n   <g id=\"line2d_6\">\r\n    <path clip-path=\"url(#p3e3d40f286)\" d=\"M 219.509058 154.642884 \r\nL 152.404172 154.642884 \r\nL 85.299286 154.642884 \r\nL 18.1944 154.642884 \r\n\" style=\"fill:none;stroke:#000000;stroke-linecap:square;stroke-opacity:0.2;stroke-width:2;\"/>\r\n   </g>\r\n   <g id=\"line2d_7\">\r\n    <path clip-path=\"url(#p3e3d40f286)\" d=\"M 219.509058 89.283342 \r\nL 152.404172 89.283342 \r\nL 85.299286 89.283342 \r\nL 18.1944 89.283342 \r\n\" style=\"fill:none;stroke:#000000;stroke-linecap:square;stroke-opacity:0.2;stroke-width:2;\"/>\r\n   </g>\r\n   <g id=\"line2d_8\">\r\n    <path clip-path=\"url(#p3e3d40f286)\" d=\"M 219.509058 23.9238 \r\nL 152.404172 23.9238 \r\nL 85.299286 23.9238 \r\nL 18.1944 23.9238 \r\n\" style=\"fill:none;stroke:#000000;stroke-linecap:square;stroke-opacity:0.2;stroke-width:2;\"/>\r\n   </g>\r\n   <g id=\"text_1\">\r\n    <!-- 4 -->\r\n    <defs>\r\n     <path d=\"M 37.796875 64.3125 \r\nL 12.890625 25.390625 \r\nL 37.796875 25.390625 \r\nz\r\nM 35.203125 72.90625 \r\nL 47.609375 72.90625 \r\nL 47.609375 25.390625 \r\nL 58.015625 25.390625 \r\nL 58.015625 17.1875 \r\nL 47.609375 17.1875 \r\nL 47.609375 0 \r\nL 37.796875 0 \r\nL 37.796875 17.1875 \r\nL 4.890625 17.1875 \r\nL 4.890625 26.703125 \r\nz\r\n\" id=\"DejaVuSans-52\"/>\r\n    </defs>\r\n    <g transform=\"translate(7.2 20.3301)scale(0.1728 -0.1728)\">\r\n     <use xlink:href=\"#DejaVuSans-52\"/>\r\n    </g>\r\n   </g>\r\n   <g id=\"text_2\">\r\n    <!-- 6 -->\r\n    <defs>\r\n     <path d=\"M 33.015625 40.375 \r\nQ 26.375 40.375 22.484375 35.828125 \r\nQ 18.609375 31.296875 18.609375 23.390625 \r\nQ 18.609375 15.53125 22.484375 10.953125 \r\nQ 26.375 6.390625 33.015625 6.390625 \r\nQ 39.65625 6.390625 43.53125 10.953125 \r\nQ 47.40625 15.53125 47.40625 23.390625 \r\nQ 47.40625 31.296875 43.53125 35.828125 \r\nQ 39.65625 40.375 33.015625 40.375 \r\nz\r\nM 52.59375 71.296875 \r\nL 52.59375 62.3125 \r\nQ 48.875 64.0625 45.09375 64.984375 \r\nQ 41.3125 65.921875 37.59375 65.921875 \r\nQ 27.828125 65.921875 22.671875 59.328125 \r\nQ 17.53125 52.734375 16.796875 39.40625 \r\nQ 19.671875 43.65625 24.015625 45.921875 \r\nQ 28.375 48.1875 33.59375 48.1875 \r\nQ 44.578125 48.1875 50.953125 41.515625 \r\nQ 57.328125 34.859375 57.328125 23.390625 \r\nQ 57.328125 12.15625 50.6875 5.359375 \r\nQ 44.046875 -1.421875 33.015625 -1.421875 \r\nQ 20.359375 -1.421875 13.671875 8.265625 \r\nQ 6.984375 17.96875 6.984375 36.375 \r\nQ 6.984375 53.65625 15.1875 63.9375 \r\nQ 23.390625 74.21875 37.203125 74.21875 \r\nQ 40.921875 74.21875 44.703125 73.484375 \r\nQ 48.484375 72.75 52.59375 71.296875 \r\nz\r\n\" id=\"DejaVuSans-54\"/>\r\n    </defs>\r\n    <g transform=\"translate(74.304886 20.3301)scale(0.1728 -0.1728)\">\r\n     <use xlink:href=\"#DejaVuSans-54\"/>\r\n    </g>\r\n   </g>\r\n   <g id=\"text_3\">\r\n    <!-- 8 -->\r\n    <defs>\r\n     <path d=\"M 31.78125 34.625 \r\nQ 24.75 34.625 20.71875 30.859375 \r\nQ 16.703125 27.09375 16.703125 20.515625 \r\nQ 16.703125 13.921875 20.71875 10.15625 \r\nQ 24.75 6.390625 31.78125 6.390625 \r\nQ 38.8125 6.390625 42.859375 10.171875 \r\nQ 46.921875 13.96875 46.921875 20.515625 \r\nQ 46.921875 27.09375 42.890625 30.859375 \r\nQ 38.875 34.625 31.78125 34.625 \r\nz\r\nM 21.921875 38.8125 \r\nQ 15.578125 40.375 12.03125 44.71875 \r\nQ 8.5 49.078125 8.5 55.328125 \r\nQ 8.5 64.0625 14.71875 69.140625 \r\nQ 20.953125 74.21875 31.78125 74.21875 \r\nQ 42.671875 74.21875 48.875 69.140625 \r\nQ 55.078125 64.0625 55.078125 55.328125 \r\nQ 55.078125 49.078125 51.53125 44.71875 \r\nQ 48 40.375 41.703125 38.8125 \r\nQ 48.828125 37.15625 52.796875 32.3125 \r\nQ 56.78125 27.484375 56.78125 20.515625 \r\nQ 56.78125 9.90625 50.3125 4.234375 \r\nQ 43.84375 -1.421875 31.78125 -1.421875 \r\nQ 19.734375 -1.421875 13.25 4.234375 \r\nQ 6.78125 9.90625 6.78125 20.515625 \r\nQ 6.78125 27.484375 10.78125 32.3125 \r\nQ 14.796875 37.15625 21.921875 38.8125 \r\nz\r\nM 18.3125 54.390625 \r\nQ 18.3125 48.734375 21.84375 45.5625 \r\nQ 25.390625 42.390625 31.78125 42.390625 \r\nQ 38.140625 42.390625 41.71875 45.5625 \r\nQ 45.3125 48.734375 45.3125 54.390625 \r\nQ 45.3125 60.0625 41.71875 63.234375 \r\nQ 38.140625 66.40625 31.78125 66.40625 \r\nQ 25.390625 66.40625 21.84375 63.234375 \r\nQ 18.3125 60.0625 18.3125 54.390625 \r\nz\r\n\" id=\"DejaVuSans-56\"/>\r\n    </defs>\r\n    <g transform=\"translate(141.409772 20.3301)scale(0.1728 -0.1728)\">\r\n     <use xlink:href=\"#DejaVuSans-56\"/>\r\n    </g>\r\n   </g>\r\n   <g id=\"text_4\">\r\n    <!-- 5 -->\r\n    <defs>\r\n     <path d=\"M 10.796875 72.90625 \r\nL 49.515625 72.90625 \r\nL 49.515625 64.59375 \r\nL 19.828125 64.59375 \r\nL 19.828125 46.734375 \r\nQ 21.96875 47.46875 24.109375 47.828125 \r\nQ 26.265625 48.1875 28.421875 48.1875 \r\nQ 40.625 48.1875 47.75 41.5 \r\nQ 54.890625 34.8125 54.890625 23.390625 \r\nQ 54.890625 11.625 47.5625 5.09375 \r\nQ 40.234375 -1.421875 26.90625 -1.421875 \r\nQ 22.3125 -1.421875 17.546875 -0.640625 \r\nQ 12.796875 0.140625 7.71875 1.703125 \r\nL 7.71875 11.625 \r\nQ 12.109375 9.234375 16.796875 8.0625 \r\nQ 21.484375 6.890625 26.703125 6.890625 \r\nQ 35.15625 6.890625 40.078125 11.328125 \r\nQ 45.015625 15.765625 45.015625 23.390625 \r\nQ 45.015625 31 40.078125 35.4375 \r\nQ 35.15625 39.890625 26.703125 39.890625 \r\nQ 22.75 39.890625 18.8125 39.015625 \r\nQ 14.890625 38.140625 10.796875 36.28125 \r\nz\r\n\" id=\"DejaVuSans-53\"/>\r\n    </defs>\r\n    <g transform=\"translate(208.514658 20.3301)scale(0.1728 -0.1728)\">\r\n     <use xlink:href=\"#DejaVuSans-53\"/>\r\n    </g>\r\n   </g>\r\n   <g id=\"text_5\">\r\n    <!-- 2 -->\r\n    <defs>\r\n     <path d=\"M 19.1875 8.296875 \r\nL 53.609375 8.296875 \r\nL 53.609375 0 \r\nL 7.328125 0 \r\nL 7.328125 8.296875 \r\nQ 12.9375 14.109375 22.625 23.890625 \r\nQ 32.328125 33.6875 34.8125 36.53125 \r\nQ 39.546875 41.84375 41.421875 45.53125 \r\nQ 43.3125 49.21875 43.3125 52.78125 \r\nQ 43.3125 58.59375 39.234375 62.25 \r\nQ 35.15625 65.921875 28.609375 65.921875 \r\nQ 23.96875 65.921875 18.8125 64.3125 \r\nQ 13.671875 62.703125 7.8125 59.421875 \r\nL 7.8125 69.390625 \r\nQ 13.765625 71.78125 18.9375 73 \r\nQ 24.125 74.21875 28.421875 74.21875 \r\nQ 39.75 74.21875 46.484375 68.546875 \r\nQ 53.21875 62.890625 53.21875 53.421875 \r\nQ 53.21875 48.921875 51.53125 44.890625 \r\nQ 49.859375 40.875 45.40625 35.40625 \r\nQ 44.1875 33.984375 37.640625 27.21875 \r\nQ 31.109375 20.453125 19.1875 8.296875 \r\nz\r\n\" id=\"DejaVuSans-50\"/>\r\n    </defs>\r\n    <g transform=\"translate(7.2 85.689642)scale(0.1728 -0.1728)\">\r\n     <use xlink:href=\"#DejaVuSans-50\"/>\r\n    </g>\r\n   </g>\r\n   <g id=\"text_6\">\r\n    <!-- 6 -->\r\n    <g transform=\"translate(74.304886 85.689642)scale(0.1728 -0.1728)\">\r\n     <use xlink:href=\"#DejaVuSans-54\"/>\r\n    </g>\r\n   </g>\r\n   <g id=\"text_7\">\r\n    <!-- 2 -->\r\n    <g transform=\"translate(141.409772 85.689642)scale(0.1728 -0.1728)\">\r\n     <use xlink:href=\"#DejaVuSans-50\"/>\r\n    </g>\r\n   </g>\r\n   <g id=\"text_8\">\r\n    <!-- 2 -->\r\n    <g transform=\"translate(208.514658 85.689642)scale(0.1728 -0.1728)\">\r\n     <use xlink:href=\"#DejaVuSans-50\"/>\r\n    </g>\r\n   </g>\r\n   <g id=\"text_9\">\r\n    <!-- 0 -->\r\n    <defs>\r\n     <path d=\"M 31.78125 66.40625 \r\nQ 24.171875 66.40625 20.328125 58.90625 \r\nQ 16.5 51.421875 16.5 36.375 \r\nQ 16.5 21.390625 20.328125 13.890625 \r\nQ 24.171875 6.390625 31.78125 6.390625 \r\nQ 39.453125 6.390625 43.28125 13.890625 \r\nQ 47.125 21.390625 47.125 36.375 \r\nQ 47.125 51.421875 43.28125 58.90625 \r\nQ 39.453125 66.40625 31.78125 66.40625 \r\nz\r\nM 31.78125 74.21875 \r\nQ 44.046875 74.21875 50.515625 64.515625 \r\nQ 56.984375 54.828125 56.984375 36.375 \r\nQ 56.984375 17.96875 50.515625 8.265625 \r\nQ 44.046875 -1.421875 31.78125 -1.421875 \r\nQ 19.53125 -1.421875 13.0625 8.265625 \r\nQ 6.59375 17.96875 6.59375 36.375 \r\nQ 6.59375 54.828125 13.0625 64.515625 \r\nQ 19.53125 74.21875 31.78125 74.21875 \r\nz\r\n\" id=\"DejaVuSans-48\"/>\r\n    </defs>\r\n    <g transform=\"translate(7.2 151.049184)scale(0.1728 -0.1728)\">\r\n     <use xlink:href=\"#DejaVuSans-48\"/>\r\n    </g>\r\n   </g>\r\n   <g id=\"text_10\">\r\n    <!-- 8 -->\r\n    <g transform=\"translate(74.304886 151.049184)scale(0.1728 -0.1728)\">\r\n     <use xlink:href=\"#DejaVuSans-56\"/>\r\n    </g>\r\n   </g>\r\n   <g id=\"text_11\">\r\n    <!-- 8 -->\r\n    <g transform=\"translate(141.409772 151.049184)scale(0.1728 -0.1728)\">\r\n     <use xlink:href=\"#DejaVuSans-56\"/>\r\n    </g>\r\n   </g>\r\n   <g id=\"text_12\">\r\n    <!-- 4 -->\r\n    <g transform=\"translate(208.514658 151.049184)scale(0.1728 -0.1728)\">\r\n     <use xlink:href=\"#DejaVuSans-52\"/>\r\n    </g>\r\n   </g>\r\n   <g id=\"text_13\">\r\n    <!-- 8 -->\r\n    <g transform=\"translate(7.2 216.408726)scale(0.1728 -0.1728)\">\r\n     <use xlink:href=\"#DejaVuSans-56\"/>\r\n    </g>\r\n   </g>\r\n   <g id=\"text_14\">\r\n    <!-- 6 -->\r\n    <g transform=\"translate(74.304886 216.408726)scale(0.1728 -0.1728)\">\r\n     <use xlink:href=\"#DejaVuSans-54\"/>\r\n    </g>\r\n   </g>\r\n   <g id=\"text_15\">\r\n    <!-- 6 -->\r\n    <g transform=\"translate(141.409772 216.408726)scale(0.1728 -0.1728)\">\r\n     <use xlink:href=\"#DejaVuSans-54\"/>\r\n    </g>\r\n   </g>\r\n   <g id=\"text_16\">\r\n    <!-- 6 -->\r\n    <g transform=\"translate(208.514658 216.408726)scale(0.1728 -0.1728)\">\r\n     <use xlink:href=\"#DejaVuSans-54\"/>\r\n    </g>\r\n   </g>\r\n  </g>\r\n </g>\r\n <defs>\r\n  <clipPath id=\"p3e3d40f286\">\r\n   <rect height=\"217.44\" width=\"223.2\" x=\"7.251729\" y=\"13.243113\"/>\r\n  </clipPath>\r\n </defs>\r\n</svg>\r\n",
      "image/png": "[encoded data removed]"
     },
     "metadata": {
      "needs_background": "light"
     }
    }
   ]
  },
  {
   "cell_type": "code",
   "execution_count": 15,
   "metadata": {},
   "outputs": [
    {
     "output_type": "execute_result",
     "data": {
      "text/plain": [
       "[4, 2, 6, 2, 2, 4, 6]"
      ]
     },
     "metadata": {},
     "execution_count": 15
    }
   ],
   "source": [
    "options[path]"
   ]
  },
  {
   "cell_type": "code",
   "execution_count": 16,
   "metadata": {},
   "outputs": [
    {
     "output_type": "execute_result",
     "data": {
      "text/plain": [
       "[(0, 0), (1, 0), (1, 1), (1, 2), (1, 3), (2, 3), (3, 3)]"
      ]
     },
     "metadata": {},
     "execution_count": 16
    }
   ],
   "source": [
    "option_coords[path]"
   ]
  },
  {
   "cell_type": "code",
   "execution_count": null,
   "metadata": {},
   "outputs": [],
   "source": [
    "def antcol_path(self, n_ants, alpha=1, beta=1): \n",
    "    for i in range(self.maze.width):\n",
    "        edge = maze[i]  "
   ]
  },
  {
   "cell_type": "code",
   "execution_count": null,
   "metadata": {},
   "outputs": [],
   "source": [
    "        '''\n",
    "        for i in range(len(option_coords[chosen_path])):            # changes the agents current position according to this path - signifies movement         \n",
    "            self.curr_position = self.options_coords[chosen_path][i] \n",
    "            # NEED TO ADD SOME ANIMATION TO THE PLOT FUNCTION OF THE MAZE TO SHOW AGENT MOVING AS THE CURRENT POSITION CHANGES\n",
    "\n",
    "        self.position_history.append(option_coords[chosen_path])    # indicates which cells have been visited by the agent during this traversal i.e. the chosen path\n",
    "        \n",
    "        if self.curr_position == self.options_coords[chosen_path][-1]: # verifies that the agent has reached the bottom right\n",
    "            self.isFinished == True \n",
    "        else:\n",
    "            self.isFinished == False\n",
    "            print(\"An error has occurred.\")     \n",
    "        '''"
   ]
  },
  {
   "cell_type": "code",
   "execution_count": null,
   "metadata": {},
   "outputs": [],
   "source": [
    "        '''\n",
    "        if show_ant_best_paths_per_iter: \n",
    "            for i in self.agent.shortest_path_ants_iter:\n",
    "                ant_paths_coords_grid = []\n",
    "                for x, y in self.agent.shortest_path_ants_iter[i]: \n",
    "                    ant_paths_coords_grid.append(nodes_coords[x][y])\n",
    "            \n",
    "            for i in range(len(ant_paths_coords_grid)-1): # plots vectors for the shortest path\n",
    "                dx = ant_paths_coords_grid[i+1][0] - ant_paths_coords_grid[i][0]\n",
    "                dy = ant_paths_coords_grid[i+1][1] - ant_paths_coords_grid[i][1]\n",
    "                vec_ab = [dx,dy]\n",
    "                vec_ab_magnitude = np.sqrt(dx**2+dy**2)\n",
    "                dx = dx / vec_ab_magnitude\n",
    "                dy = dy / vec_ab_magnitude\n",
    "                vec_ab_magnitude = vec_ab_magnitude - head_length\n",
    "                plt.arrow(ant_paths_coords_grid[i][0], ant_paths_coords_grid[i][1], vec_ab_magnitude*dx, vec_ab_magnitude*dy, head_width=0.1, head_length=0.2, color='blue')\n",
    "        '''"
   ]
  },
  {
   "cell_type": "code",
   "execution_count": null,
   "metadata": {},
   "outputs": [],
   "source": [
    "                #current_ant_loc = end_condition\n",
    "                #choice_cell_coords = end_condition\n",
    "                #pheromones = self.local_pheromone_update(pheromones, initial_pheromones, choice_cell_coords, rho)                # if loop exits then end condition is satisfied and current ant location is at end\n",
    "                #path_of_selected_ant.append(self.maze.maze[current_ant_loc[0]][current_ant_loc[1]])                              # adding the time value of last cell\n",
    "                #path_of_selected_ant_coords.append(current_ant_loc)"
   ]
  },
  {
   "cell_type": "code",
   "execution_count": null,
   "metadata": {},
   "outputs": [],
   "source": [
    "#self.shortest_path_ants_iter[i] = shortest_path_coords_iter                                                         # iterates over a dictionary to add the shortest path found during an iteration       \n",
    "        #shortest_path_ind_overall = min(self.total_distance_by_all_ants, key=self.total_distance_by_all_ants.get)           # get the shortest path index after all iterations are complete\n",
    "        #shortest_path = self.paths_coords_taken_by_all_ants[shortest_path_ind_iter]"
   ]
  }
 ]
}