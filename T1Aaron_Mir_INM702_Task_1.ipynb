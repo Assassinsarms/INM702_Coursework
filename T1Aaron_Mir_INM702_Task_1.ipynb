{
 "metadata": {
  "language_info": {
   "codemirror_mode": {
    "name": "ipython",
    "version": 3
   },
   "file_extension": ".py",
   "mimetype": "text/x-python",
   "name": "python",
   "nbconvert_exporter": "python",
   "pygments_lexer": "ipython3",
   "version": "3.8.1-final"
  },
  "orig_nbformat": 2,
  "kernelspec": {
   "name": "Python 3.8.1 64-bit",
   "display_name": "Python 3.8.1 64-bit",
   "metadata": {
    "interpreter": {
     "hash": "2db524e06e9f5f4ffedc911c917cb75e12dbc923643829bf417064a77eb14d37"
    }
   }
  }
 },
 "nbformat": 4,
 "nbformat_minor": 2,
 "cells": [
  {
   "source": [
    "# INM702 Coursework Task 1\n",
    "### Aaron Mir (Student Number: 160001207)\n"
   ],
   "cell_type": "markdown",
   "metadata": {}
  },
  {
   "source": [
    "<img src=\"Task1(1).jpg\" alt=\"Task1(1)\" width=\"700\"/>\n",
    "<img src=\"Task1(2).jpg\" alt=\"Task1(2)\" width=\"700\"/>\n",
    "<img src=\"Task1(3).jpg\" alt=\"Task1(3)\" width=\"700\"/>\n",
    "<img src=\"Task1(4).jpg\" alt=\"Task1(4)\" width=\"700\"/>\n"
   ],
   "cell_type": "markdown",
   "metadata": {}
  },
  {
   "source": [
    "The first task tests your Python skills. You need to develop a simple game consisting of a rectangular grid (of size height x width) where each cell has a random integer value between 0 and 9. An agent starts at the upper-left corner of the grid and must  reach the lower-right corner of the grid as fast as possible. You can implement one of the two (or both, for no extra point) game modes:\n",
    "\n",
    "    • The time spent on a cell is the number on this cell\n",
    "    • The time spent on a cell is the absolute of the difference between the previous cell the agent was on and the current cell it is on\n",
    "\n",
    "In order to solve this problem, you will provide 3 algorithms:\n",
    "\n",
    "    • A first baseline of your choosing. E.g. it can be any search algorithm, or an algorithm using heuristics. \n",
    "    It doesn’t have to perform fast or well, but  should be better than random movements.\n",
    "    • Dijkstra's algorithm\n",
    "    • Ant colony optimization algorithm\n",
    "\n",
    "You should describe the algorithms and compare them. Are they always solving the problem? How long do they take depending on the size of the maze?\n"
   ],
   "cell_type": "markdown",
   "metadata": {}
  },
  {
   "cell_type": "code",
   "execution_count": 1,
   "metadata": {},
   "outputs": [
    {
     "output_type": "stream",
     "name": "stdout",
     "text": [
      "Python: 3.8.1 (tags/v3.8.1:1b293b6, Dec 18 2019, 23:11:46) [MSC v.1916 64 bit (AMD64)]\nNumpy Version: 1.18.1\nPyTorch Version: 1.6.0+cu101\nTorchvision Version: 0.7.0+cu101\n"
     ]
    }
   ],
   "source": [
    "from __future__ import division\n",
    "from matplotlib import animation\n",
    "import matplotlib.pyplot as plt\n",
    "import numpy as np\n",
    "import torch \n",
    "import torchvision as tv\n",
    "import sys\n",
    "import random\n",
    "import copy\n",
    "\n",
    "print(f\"Python: {sys.version}\")\n",
    "print(f\"Numpy Version: {np.__version__}\")\n",
    "print(f\"PyTorch Version: {torch.__version__}\")\n",
    "print(f\"Torchvision Version: {tv.__version__}\")\n",
    "# Use assert to test functions"
   ]
  },
  {
   "cell_type": "code",
   "execution_count": null,
   "metadata": {},
   "outputs": [],
   "source": [
    "class Agent:\n",
    "    def __init__ (self, name):\n",
    "        self.name = name\n",
    "\n",
    "    def moveUp(self):\n",
    "    \n",
    "    def moveDown(self):\n",
    "    \n",
    "    def moveLeft(self):\n",
    "    \n",
    "    def moveRight(self):\n",
    "\n",
    "class IntMaze:\n",
    "    def __init__ (self, agent, rows, columns):\n",
    "        self.rows = rows\n",
    "        self.columns = columns\n",
    "    "
   ]
  }
 ]
}