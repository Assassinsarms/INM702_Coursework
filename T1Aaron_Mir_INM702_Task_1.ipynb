{
 "metadata": {
  "language_info": {
   "codemirror_mode": {
    "name": "ipython",
    "version": 3
   },
   "file_extension": ".py",
   "mimetype": "text/x-python",
   "name": "python",
   "nbconvert_exporter": "python",
   "pygments_lexer": "ipython3",
   "version": "3.8.1-final"
  },
  "orig_nbformat": 2,
  "kernelspec": {
   "name": "python3",
   "display_name": "Python 3.8.1 64-bit",
   "metadata": {
    "interpreter": {
     "hash": "2db524e06e9f5f4ffedc911c917cb75e12dbc923643829bf417064a77eb14d37"
    }
   }
  }
 },
 "nbformat": 4,
 "nbformat_minor": 2,
 "cells": [
  {
   "source": [
    "# INM702 Coursework Task 1 \n",
    "### Aaron Mir (Student Number: 160001207)\n",
    "#### 20/12/20"
   ],
   "cell_type": "markdown",
   "metadata": {}
  },
  {
   "source": [
    "<img src=\"Task1(1).jpg\" alt=\"Task1(1)\" width=\"700\"/>\n",
    "<img src=\"Task1(2).jpg\" alt=\"Task1(2)\" width=\"700\"/>\n",
    "<img src=\"Task1(3).jpg\" alt=\"Task1(3)\" width=\"700\"/>\n",
    "<img src=\"Task1(4).jpg\" alt=\"Task1(4)\" width=\"700\"/>\n"
   ],
   "cell_type": "markdown",
   "metadata": {}
  },
  {
   "source": [
    "The first task tests your Python skills. You need to develop a simple game consisting of a rectangular grid (of size height x width) where each cell has a random integer value between 0 and 9. An agent starts at the upper-left corner of the grid and must  reach the lower-right corner of the grid as fast as possible. You can implement one of the two (or both, for no extra point) game modes:\n",
    "\n",
    "    • The time spent on a cell is the number on this cell\n",
    "    • The time spent on a cell is the absolute of the difference between the previous cell the agent was on and the current cell it is on\n",
    "\n",
    "In order to solve this problem, you will provide 3 algorithms:\n",
    "\n",
    "    • A first baseline of your choosing. E.g. it can be any search algorithm, or an algorithm using heuristics. \n",
    "    It doesn’t have to perform fast or well, but  should be better than random movements.\n",
    "    • Dijkstra's algorithm\n",
    "    • Ant colony optimization algorithm\n",
    "\n",
    "You should describe the algorithms and compare them. Are they always solving the problem? How long do they take depending on the size of the maze?\n"
   ],
   "cell_type": "markdown",
   "metadata": {}
  },
  {
   "cell_type": "code",
   "execution_count": 1,
   "metadata": {},
   "outputs": [
    {
     "output_type": "stream",
     "name": "stdout",
     "text": [
      "Python: 3.8.1 (tags/v3.8.1:1b293b6, Dec 18 2019, 23:11:46) [MSC v.1916 64 bit (AMD64)]\nNumpy Version: 1.18.1\nPyTorch Version: 1.6.0+cu101\nTorchvision Version: 0.7.0+cu101\n"
     ]
    }
   ],
   "source": [
    "import matplotlib.pyplot as plt\n",
    "from matplotlib import colors\n",
    "from matplotlib import animation\n",
    "import numpy as np\n",
    "import torch \n",
    "import torchvision as tv\n",
    "import random\n",
    "np.set_printoptions(threshold=sys.maxsize)\n",
    "np.random.seed(1)\n",
    "\n",
    "print(f\"Python: {sys.version}\")\n",
    "print(f\"Numpy Version: {np.__version__}\")\n",
    "print(f\"PyTorch Version: {torch.__version__}\")\n",
    "print(f\"Torchvision Version: {tv.__version__}\")\n",
    "#Use assert to test functions\n",
    "\n",
    "#import sys\n",
    "#from __future__ import division"
   ]
  },
  {
   "source": [
    "class Agent():\n",
    "    '''A class to represent an agent. The goal of the agent is to move along the grid from the upper left corner to the lower right corner using the shortest path possible.'''\n",
    "\n",
    "    def __init__ (self, name, maze = None):\n",
    "        '''ADD ARGS EXPLANATION'''\n",
    "        self.name = name\n",
    "        self.maze = maze\n",
    "        #self.i, self.j = 0, 0 # curr_position used to be [self.i, self.j] but that is redundant at least for the naive approach\n",
    "        self.curr_position = []         # this changes according to the current position of the agent after choosing a path\n",
    "        self.position_history = []      # holds the history of agent positions, helps verify\n",
    "        self.options = []               # holds the time values of paths found\n",
    "        self.option_coords = []         # holds the coordinates of each cell in those paths\n",
    "        self.isFinished = False         # changes if agent reaches position bottom right cell, helps verify\n",
    "        #self.marker = plt.Circle((self.__x + 0.5, self.__y + 0.5), radius=0.4, fc='y')\n",
    " \n",
    "    def recursive_path(self, maze, row, col, paths, coords): \n",
    "         '''Recursively finds all the possible paths the agent can take to get to the bottom right cell by exploring all paths by moving down and right in the array. Then adds the times spent on each cell for each path and will traverse the path that has the lowest overall time. The current position of the agent is then changed after the comparison is made between different paths.'''                  \n",
    "\n",
    "        paths.append(maze[row][col])            # append the time value of the starting cell to path list\n",
    "        coords.append((row, col))               # append the the indexes of that time value coords list\n",
    "        if row == len(maze) - 1:                # if the current row is equal to the height of the maze - 1 \n",
    "            for i in range(col, len(maze[0])):  # for every column from the current column to the edge of the grid going across\n",
    "                paths.append(maze[row][i])      # append all the time values into the path list depending on which row it is currently on\n",
    "                coords.append((row, i))         # append all the indexes of those times into the coordinate list of tuples depending on which row it is currently on\n",
    "            self.options.append(paths)          # append the possible options to the agent attribute 'options'\n",
    "            self.option_coords.append(coords)   # append the coordinates of those possible options to the agent attribute 'option_coords'\n",
    "            return \n",
    "\n",
    "        if col == len(maze[0]) - 1:             # if the current column is equal to the width of the maze - 1 eg. 3 - 1 = 2\n",
    "            for i in range(row, len(maze)):     # for every row from the current row to the edge of the grid going down\n",
    "                paths.append(maze[i][col])      # put all the time values into the path list depending on which column it is currently on\n",
    "                coords.append((i, col))         # put all the indexes of those times into the coordinate list of tuples depending on which column it is currently on\n",
    "            self.options.append(paths)\n",
    "            self.option_coords.append(coords)\n",
    "            return\n",
    "        all_possible_paths_and_coords(row + 1, col, paths[:], coords[:], maze) # recursion for each row \n",
    "        all_possible_paths_and_coords(row, col + 1, paths[:], coords[:], maze) # recursion for each column       \n",
    "        \n",
    "        sum_time_vals = np.zeros(len(self.options), dtype=int) # initialising an array of all the total times for each path\n",
    "        for i in range(0, len(self.options)):\n",
    "            sum_time_vals[i] = sum(self.options[i])\n",
    "        chosen_path = list(sum_time_vals).index(np.min(sum_time_vals)) # returns index of the shortest path in 'options' so self.options[chosen_path] contains the path chosen \n",
    "        \n",
    "        for i in range(len(option_coords[chosen_path])):            # changes the agents current position according to this path - signifies movement         \n",
    "            self.curr_position = self.options_coords[chosen_path][i] \n",
    "            # NEED TO ADD SOME ANIMATION TO THE PLOT FUNCTION OF THE MAZE TO SHOW AGENT MOVING AS THE CURRENT POSITION CHANGES\n",
    "\n",
    "        self.position_history.append(option_coords[chosen_path])    # indicates which cells have been visited by the agent during this traversal i.e. the chosen path\n",
    "        \n",
    "        if self.curr_position == self.options_coords[chosen_path][-1]: # verifies that the agent has reached the bottom right\n",
    "            self.isFinished == True \n",
    "        else:\n",
    "            self.isFinished == False\n",
    "            print(\"An error has occurred.\")     \n",
    "\n",
    " def antcol_path(self, maze, n_ants, alpha=1, beta=1):\n",
    "        \n",
    "      pass                                 \n",
    "\n",
    "'''  \n",
    "    def dijkstra_path(self): # HAS TO LOOK AT THE GRID AS A WHOLE AND FIND THE PATH BEFORE TAKING IT\n",
    "        # Can convert the maze to a graph using dictionary\n",
    "        # Alternatively, each cell in the grid can represents a vertex and neighbor cells adjacent vertices. Thus, not making an explicit graph from these cells instead using the grid as it is in my dijkstra’s algorithm. \n",
    "        # Will also outline the finishing point and state that the agent shouldn't go to cells it has already visited by using a boolean version of the maze where if a cell has been visited it will show true\n",
    "        pass\n",
    "'''"
   ],
   "cell_type": "code",
   "metadata": {},
   "execution_count": 21,
   "outputs": []
  },
  {
   "cell_type": "code",
   "execution_count": 26,
   "metadata": {},
   "outputs": [],
   "source": [
    "class IntMaze():\n",
    "    '''A class to represent a maze. A maze in this scenario is a 2D (height x width) grid where each cell has a number associated to it. This cell number indicates the time an agent spends on a cell. There are 2 game modes. Game mode 1 is where the time spent on a cell is the number on this cell. Game mode 2 is where the time spent on a cell is the absolute of the difference between the previous cell the agent was on and the current cell it is on. '''\n",
    "\n",
    "    def __init__ (self, height, width, mode, alg, agent):  \n",
    "        self.height = height\n",
    "        self.width = width\n",
    "        self.mode = mode\n",
    "        self.agent = agent\n",
    "        self.alg = alg\n",
    "        self.path_find_type = {'Recursive': 0, 'Dijkstra': 1, 'Ant Colony': 2}\n",
    "    \n",
    "    def create_maze(self): # generates the grid/map\n",
    "        return np.array(np.random.randint(0, 10, size = (self.height, self.width)))\n",
    "\n",
    "    def start_game(self):\n",
    "        self.maze = self.create_maze() #create the grid/maze\n",
    "        self.agent.maze = self # add agent to the maze/environment\n",
    "        if self.mode == 1:\n",
    "            if self.path_find_type[self.alg] == 0: # Recursive approach\n",
    "                self.agent.recursive_path()\n",
    "            elif self.path_find_type[self.alg] == 1: # Dijkstra \n",
    "                self.agent.dijkstra_path()\n",
    "            elif self.path_find_type[self.alg] == 2: # Antcolony \n",
    "                self.agent.antcol_path()\n",
    "            self.maze_reset()\n",
    "        '''\n",
    "        if self.mode == 2:\n",
    "            if self.path_find_type == 0: # Recursive approach\n",
    "                self.agent.recursive_path()\n",
    "            elif self.path_find_type == 1: # Dijkstra \n",
    "                self.agent.dijkstra_path()\n",
    "            elif self.path_find_type == 2: # Antcolony \n",
    "                self.agent.antcol_path()\n",
    "            self.maze_reset()\n",
    "        '''\n",
    "    def maze_reset(self):\n",
    "        # resets both the agent attributes and the maze attributes so that the same agent can be used with a different algorithm\n",
    "        pass\n",
    "\n",
    "    def plot_maze(self): #have different plots for naive, dijkstra and antcol\n",
    "        # use arrows to show path the agent chooses and all other paths\n",
    "        fig = plt.figure()\n",
    "        cmap = colors.ListedColormap(['white','green', '#ffff99', 'gold', 'orange', '#550011', 'black', 'purple', '#f0027f', '#386cb0'])\n",
    "        plt.imshow(maze, cmap = cmap, alpha = 0.5) \n",
    "        plt.colorbar(cmap=cmap)\n",
    "        plt.show()   "
   ]
  },
  {
   "cell_type": "code",
   "execution_count": 11,
   "metadata": {},
   "outputs": [],
   "source": [
    "class TestAgent():\n",
    "    def __init__ (self, name, maze = None):\n",
    "        self.maze = maze\n",
    "        self.name = name\n",
    "        #self.i, self.j = 0, 0\n",
    "        #self.position = [self.i, self.j] # could just index self.position[0] and self.position[1]\n",
    "        self.curr_position = []         \n",
    "        self.position_history = []      \n",
    "        self.options = []               \n",
    "        self.option_coords = []         \n",
    "        self.options = []\n",
    "        self.option_coords = []\n",
    "        self.isFinished = False  \n",
    "\n",
    "    def path_Naive(self, row, col, paths, coords, maze): \n",
    "        paths.append(maze[row][col])            \n",
    "        coords.append((row, col))               \n",
    "        if row == len(maze) - 1:                 \n",
    "            for i in range(col, len(maze[0])):  \n",
    "                paths.append(maze[row][i])      \n",
    "                coords.append((row, i))         \n",
    "            self.options.append(paths)         \n",
    "            self.option_coords.append(coords)   \n",
    "            return \n",
    "\n",
    "        if col == len(maze[0]) - 1:             \n",
    "            for i in range(row, len(maze)):     \n",
    "                paths.append(maze[i][col])      \n",
    "                coords.append((i, col))        \n",
    "            self.options.append(paths)\n",
    "            self.option_coords.append(coords)\n",
    "            return\n",
    "        all_possible_paths_and_coords(row + 1, col, paths[:], coords[:], maze) \n",
    "        all_possible_paths_and_coords(row, col + 1, paths[:], coords[:], maze)       \n",
    "        \n",
    "        sum_time_vals = np.zeros(len(self.options), dtype=int) # will contain an array of all the total times for each path\n",
    "        for i in range(0, len(self.options)):\n",
    "            sum_time_vals[i] = sum(self.options[i])\n",
    "        chosen_path = list(sum_time_vals).index(np.min(sum_time_vals))\n",
    "        # self.options[chosen_path] contains the path chosen\n",
    "       \n",
    "        for i in range(len(option_coords[chosen_path])):   # now have to change the agents current position according to this path - signifies movement         \n",
    "            self.curr_position = self.options_coords[chosen_path][i] # need to add some animation on the plot ????\n",
    "\n",
    "    def maze_disp(self):\n",
    "        print(self.maze.maze)"
   ]
  },
  {
   "cell_type": "code",
   "execution_count": null,
   "metadata": {},
   "outputs": [],
   "source": [
    "class TestMaze():\n",
    "    def __init__ (self, height, width, mode, alg, agent):  \n",
    "        self.height = height\n",
    "        self.width = width\n",
    "        self.mode = mode\n",
    "        self.agent = agent\n",
    "        self.alg = alg\n",
    "        self.path_find_type = {'Recursive': 0, 'Dijkstra': 1, 'Ant Colony': 2}\n",
    "    \n",
    "    def create_maze(self): # generates the grid/map\n",
    "        return np.array(np.random.randint(0, 10, size = (self.height, self.width)))\n",
    "\n",
    "    def start_game(self):\n",
    "        self.maze = self.create_maze()\n",
    "        self.agent.maze = self # add agent to the maze/environment\n",
    "        self.agent.maze_disp()"
   ]
  },
  {
   "cell_type": "code",
   "execution_count": 12,
   "metadata": {},
   "outputs": [
    {
     "output_type": "stream",
     "name": "stdout",
     "text": [
      "[[5 8 9 5 0 0 1 7 6]\n [9 2 4 5 2 4 2 4 7]\n [7 9 1 7 0 6 9 9 7]\n [6 9 1 0 1 8 8 3 9]]\n"
     ]
    }
   ],
   "source": [
    "height, width = 3,3 # Maze has to be NxN in order for visualisation to work\n",
    "test_agent = TestAgent('Bob')\n",
    "maze = TestMaze(height, width, 1, 'Recursive', test_agent)\n",
    "maze.start_game()"
   ]
  },
  {
   "cell_type": "code",
   "execution_count": 9,
   "metadata": {},
   "outputs": [
    {
     "output_type": "execute_result",
     "data": {
      "text/plain": [
       "1"
      ]
     },
     "metadata": {},
     "execution_count": 9
    }
   ],
   "source": [
    "test_agent.maze.maze[-1][0]"
   ]
  },
  {
   "source": [
    "height, width = 3,3 # Maze has to be NxN in order for visualisation to work\n",
    "agent_cortez = Agent('Bob')\n",
    "maze = IntMaze(height, width, 1, 'Recursive', agent_cortez)\n",
    "maze.start_game()\n",
    "#At runtime, we want to initialise the maze, initialise the agent, choose which algorithm it will follow and what game mode it will play"
   ],
   "cell_type": "code",
   "metadata": {},
   "execution_count": null,
   "outputs": []
  },
  {
   "cell_type": "code",
   "execution_count": 313,
   "metadata": {},
   "outputs": [],
   "source": [
    "height, width = 3, 3\n",
    "test_maze = np.array(np.random.randint(0, 10, size=(height, width)))\n",
    "options = []\n",
    "option_coords = []"
   ]
  },
  {
   "cell_type": "code",
   "execution_count": 314,
   "metadata": {},
   "outputs": [],
   "source": [
    "def test_path_Naive(row, col, paths, coords, maze):\n",
    "    if row == len(maze) - 1: \n",
    "        for i in range(col, len(maze[0])): \n",
    "            paths.append(maze[row][i]) \n",
    "            coords.append((row, i))\n",
    "        options.append(paths)\n",
    "        option_coords.append(coords)\n",
    "        return \n",
    "\n",
    "    if col == len(maze[0]) - 1: \n",
    "        for i in range(row, len(maze)): \n",
    "            paths.append(maze[i][col])\n",
    "            coords.append((i, col))\n",
    "        options.append(paths)\n",
    "        option_coords.append(coords) \n",
    "        return\n",
    "    paths.append(maze[row][col]) \n",
    "    coords.append((row, col)) \n",
    "    test_path_Naive(row + 1, col, paths[:], coords[:], maze) \n",
    "    test_path_Naive(row, col + 1, paths[:], coords[:], maze) \n",
    "\n",
    "    sum_time_vals = np.zeros(len(options), dtype=int)\n",
    "    for i in range(0, len(options)):\n",
    "        sum_time_vals[i] = sum(options[i])\n",
    "    chosen_path = list(sum_time_vals).index(np.min(sum_time_vals))\n",
    "    return chosen_path"
   ]
  },
  {
   "cell_type": "code",
   "execution_count": 315,
   "metadata": {},
   "outputs": [],
   "source": [
    "def plot_chosen_path(maze, nx=width, ny=height, annotate=True): #used to be  nx=height, ny=width\n",
    "    c1 = np.array([0, width])\n",
    "    c2 = np.array([height, 0]) \n",
    "    dim = len(c1) \n",
    "    x_pts = np.linspace(c1[0], c2[0], nx)\n",
    "    y_pts = np.linspace(c1[1], c2[1], ny)\n",
    "    Xv, Yv = np.meshgrid(x_pts, y_pts)\n",
    "    numpts = nx*ny        \n",
    "    node_array = np.zeros((numpts, 2), dtype=float)\n",
    "    node_array[:,0] = np.reshape(Xv, numpts)\n",
    "    node_array[:,1] = np.reshape(Yv, numpts)\n",
    "    num_cells = int(nx-1)*(ny-1)\n",
    "    connectivity = np.zeros((num_cells, int(2**dim)), dtype=int)\n",
    "    rows = ny-1\n",
    "    cols = nx-1\n",
    "    for row in range(rows):\n",
    "        for col in range(cols):\n",
    "            num = nx*row + col\n",
    "            connectivity[cols*row + col] = [num+0, num+1, num+nx, num+nx+1]\n",
    "        \n",
    "    annotations = maze.flatten()\n",
    "    X,Y = node_array.T\n",
    "    fig = plt.figure(figsize=(nx,ny)) #figsize=(nx,ny)\n",
    "    ax = fig.add_subplot(111)\n",
    "    ax.set_aspect('equal')\n",
    "    plt.axis('off')\n",
    "    plt.scatter(X,Y, marker='o', s=50, color='g', alpha=1.0)\n",
    "    plt.plot(Xv,Yv, linewidth=2, color='k')\n",
    "    plt.plot(Yv,Xv, linewidth=2, color='k')\n",
    "    if annotate:\n",
    "        for idx, cc in enumerate(node_array):\n",
    "            plt.text(cc[0], cc[1],  str(annotations[idx]), color='k', verticalalignment='bottom', horizontalalignment='right', fontsize='xx-large')\n",
    "        '''\n",
    "    head_length = 0.7\n",
    "    for i in range(0, len(vertex_array)): # this needs to convert a path to vectors on the graph\n",
    "        dx = vertex_array[i+1][0] - vertex_array[i][0]\n",
    "        dy = vertex_array[i+1][1] - vertex_array[i][1]\n",
    "        vec_ab = [dx,dy]\n",
    "        vec_ab_magnitude = np.sqrt(dx**2+dy**2)\n",
    "        dx = dx / vec_ab_magnitude\n",
    "        dy = dy / vec_ab_magnitude\n",
    "        vec_ab_magnitude = vec_ab_magnitude - head_length\n",
    "        plt.arrow(vertex_array[i], vertex_array[i+1], vec_ab_magnitude*dx, vec_ab_magnitude*dy, head_width=0.5, head_length=0.7, color='red')\n",
    "        ''' \n",
    "    plt.show(block=False)\n",
    "    return node_array, connectivity"
   ]
  },
  {
   "cell_type": "code",
   "execution_count": 316,
   "metadata": {},
   "outputs": [
    {
     "output_type": "execute_result",
     "data": {
      "text/plain": [
       "array([[0, 2, 8],\n",
       "       [2, 1, 4],\n",
       "       [0, 4, 1]])"
      ]
     },
     "metadata": {},
     "execution_count": 316
    }
   ],
   "source": [
    "test_maze"
   ]
  },
  {
   "cell_type": "code",
   "execution_count": 317,
   "metadata": {},
   "outputs": [
    {
     "output_type": "display_data",
     "data": {
      "text/plain": "<Figure size 216x216 with 1 Axes>",
      "image/svg+xml": "<?xml version=\"1.0\" encoding=\"utf-8\" standalone=\"no\"?>\r\n<!DOCTYPE svg PUBLIC \"-//W3C//DTD SVG 1.1//EN\"\r\n  \"http://www.w3.org/Graphics/SVG/1.1/DTD/svg11.dtd\">\r\n<!-- Created with matplotlib (https://matplotlib.org/) -->\r\n<svg height=\"185.734963pt\" version=\"1.1\" viewBox=\"0 0 179.975583 185.734963\" width=\"179.975583pt\" xmlns=\"http://www.w3.org/2000/svg\" xmlns:xlink=\"http://www.w3.org/1999/xlink\">\r\n <defs>\r\n  <style type=\"text/css\">\r\n*{stroke-linecap:butt;stroke-linejoin:round;}\r\n  </style>\r\n </defs>\r\n <g id=\"figure_1\">\r\n  <g id=\"patch_1\">\r\n   <path d=\"M 0 185.734963 \r\nL 179.975583 185.734963 \r\nL 179.975583 0 \r\nL 0 0 \r\nz\r\n\" style=\"fill:none;\"/>\r\n  </g>\r\n  <g id=\"axes_1\">\r\n   <g id=\"PathCollection_1\">\r\n    <defs>\r\n     <path d=\"M 0 3.535534 \r\nC 0.937635 3.535534 1.836992 3.163008 2.5 2.5 \r\nC 3.163008 1.836992 3.535534 0.937635 3.535534 0 \r\nC 3.535534 -0.937635 3.163008 -1.836992 2.5 -2.5 \r\nC 1.836992 -3.163008 0.937635 -3.535534 0 -3.535534 \r\nC -0.937635 -3.535534 -1.836992 -3.163008 -2.5 -2.5 \r\nC -3.163008 -1.836992 -3.535534 -0.937635 -3.535534 0 \r\nC -3.535534 0.937635 -3.163008 1.836992 -2.5 2.5 \r\nC -1.836992 3.163008 -0.937635 3.535534 0 3.535534 \r\nz\r\n\" id=\"m825ee8c323\" style=\"stroke:#008000;\"/>\r\n    </defs>\r\n    <g clip-path=\"url(#pc82be13c8d)\">\r\n     <use style=\"fill:#008000;stroke:#008000;\" x=\"18.1944\" xlink:href=\"#m825ee8c323\" y=\"23.9238\"/>\r\n     <use style=\"fill:#008000;stroke:#008000;\" x=\"91.265563\" xlink:href=\"#m825ee8c323\" y=\"23.9238\"/>\r\n     <use style=\"fill:#008000;stroke:#008000;\" x=\"164.336726\" xlink:href=\"#m825ee8c323\" y=\"23.9238\"/>\r\n     <use style=\"fill:#008000;stroke:#008000;\" x=\"18.1944\" xlink:href=\"#m825ee8c323\" y=\"96.994963\"/>\r\n     <use style=\"fill:#008000;stroke:#008000;\" x=\"91.265563\" xlink:href=\"#m825ee8c323\" y=\"96.994963\"/>\r\n     <use style=\"fill:#008000;stroke:#008000;\" x=\"164.336726\" xlink:href=\"#m825ee8c323\" y=\"96.994963\"/>\r\n     <use style=\"fill:#008000;stroke:#008000;\" x=\"18.1944\" xlink:href=\"#m825ee8c323\" y=\"170.066126\"/>\r\n     <use style=\"fill:#008000;stroke:#008000;\" x=\"91.265563\" xlink:href=\"#m825ee8c323\" y=\"170.066126\"/>\r\n     <use style=\"fill:#008000;stroke:#008000;\" x=\"164.336726\" xlink:href=\"#m825ee8c323\" y=\"170.066126\"/>\r\n    </g>\r\n   </g>\r\n   <g id=\"line2d_1\">\r\n    <path clip-path=\"url(#pc82be13c8d)\" d=\"M 18.1944 23.9238 \r\nL 18.1944 96.994963 \r\nL 18.1944 170.066126 \r\n\" style=\"fill:none;stroke:#000000;stroke-linecap:square;stroke-width:2;\"/>\r\n   </g>\r\n   <g id=\"line2d_2\">\r\n    <path clip-path=\"url(#pc82be13c8d)\" d=\"M 91.265563 23.9238 \r\nL 91.265563 96.994963 \r\nL 91.265563 170.066126 \r\n\" style=\"fill:none;stroke:#000000;stroke-linecap:square;stroke-width:2;\"/>\r\n   </g>\r\n   <g id=\"line2d_3\">\r\n    <path clip-path=\"url(#pc82be13c8d)\" d=\"M 164.336726 23.9238 \r\nL 164.336726 96.994963 \r\nL 164.336726 170.066126 \r\n\" style=\"fill:none;stroke:#000000;stroke-linecap:square;stroke-width:2;\"/>\r\n   </g>\r\n   <g id=\"line2d_4\">\r\n    <path clip-path=\"url(#pc82be13c8d)\" d=\"M 164.336726 170.066126 \r\nL 91.265563 170.066126 \r\nL 18.1944 170.066126 \r\n\" style=\"fill:none;stroke:#000000;stroke-linecap:square;stroke-width:2;\"/>\r\n   </g>\r\n   <g id=\"line2d_5\">\r\n    <path clip-path=\"url(#pc82be13c8d)\" d=\"M 164.336726 96.994963 \r\nL 91.265563 96.994963 \r\nL 18.1944 96.994963 \r\n\" style=\"fill:none;stroke:#000000;stroke-linecap:square;stroke-width:2;\"/>\r\n   </g>\r\n   <g id=\"line2d_6\">\r\n    <path clip-path=\"url(#pc82be13c8d)\" d=\"M 164.336726 23.9238 \r\nL 91.265563 23.9238 \r\nL 18.1944 23.9238 \r\n\" style=\"fill:none;stroke:#000000;stroke-linecap:square;stroke-width:2;\"/>\r\n   </g>\r\n   <g id=\"text_1\">\r\n    <!-- 0 -->\r\n    <defs>\r\n     <path d=\"M 31.78125 66.40625 \r\nQ 24.171875 66.40625 20.328125 58.90625 \r\nQ 16.5 51.421875 16.5 36.375 \r\nQ 16.5 21.390625 20.328125 13.890625 \r\nQ 24.171875 6.390625 31.78125 6.390625 \r\nQ 39.453125 6.390625 43.28125 13.890625 \r\nQ 47.125 21.390625 47.125 36.375 \r\nQ 47.125 51.421875 43.28125 58.90625 \r\nQ 39.453125 66.40625 31.78125 66.40625 \r\nz\r\nM 31.78125 74.21875 \r\nQ 44.046875 74.21875 50.515625 64.515625 \r\nQ 56.984375 54.828125 56.984375 36.375 \r\nQ 56.984375 17.96875 50.515625 8.265625 \r\nQ 44.046875 -1.421875 31.78125 -1.421875 \r\nQ 19.53125 -1.421875 13.0625 8.265625 \r\nQ 6.59375 17.96875 6.59375 36.375 \r\nQ 6.59375 54.828125 13.0625 64.515625 \r\nQ 19.53125 74.21875 31.78125 74.21875 \r\nz\r\n\" id=\"DejaVuSans-48\"/>\r\n    </defs>\r\n    <g transform=\"translate(7.2 20.3301)scale(0.1728 -0.1728)\">\r\n     <use xlink:href=\"#DejaVuSans-48\"/>\r\n    </g>\r\n   </g>\r\n   <g id=\"text_2\">\r\n    <!-- 2 -->\r\n    <defs>\r\n     <path d=\"M 19.1875 8.296875 \r\nL 53.609375 8.296875 \r\nL 53.609375 0 \r\nL 7.328125 0 \r\nL 7.328125 8.296875 \r\nQ 12.9375 14.109375 22.625 23.890625 \r\nQ 32.328125 33.6875 34.8125 36.53125 \r\nQ 39.546875 41.84375 41.421875 45.53125 \r\nQ 43.3125 49.21875 43.3125 52.78125 \r\nQ 43.3125 58.59375 39.234375 62.25 \r\nQ 35.15625 65.921875 28.609375 65.921875 \r\nQ 23.96875 65.921875 18.8125 64.3125 \r\nQ 13.671875 62.703125 7.8125 59.421875 \r\nL 7.8125 69.390625 \r\nQ 13.765625 71.78125 18.9375 73 \r\nQ 24.125 74.21875 28.421875 74.21875 \r\nQ 39.75 74.21875 46.484375 68.546875 \r\nQ 53.21875 62.890625 53.21875 53.421875 \r\nQ 53.21875 48.921875 51.53125 44.890625 \r\nQ 49.859375 40.875 45.40625 35.40625 \r\nQ 44.1875 33.984375 37.640625 27.21875 \r\nQ 31.109375 20.453125 19.1875 8.296875 \r\nz\r\n\" id=\"DejaVuSans-50\"/>\r\n    </defs>\r\n    <g transform=\"translate(80.271163 20.3301)scale(0.1728 -0.1728)\">\r\n     <use xlink:href=\"#DejaVuSans-50\"/>\r\n    </g>\r\n   </g>\r\n   <g id=\"text_3\">\r\n    <!-- 8 -->\r\n    <defs>\r\n     <path d=\"M 31.78125 34.625 \r\nQ 24.75 34.625 20.71875 30.859375 \r\nQ 16.703125 27.09375 16.703125 20.515625 \r\nQ 16.703125 13.921875 20.71875 10.15625 \r\nQ 24.75 6.390625 31.78125 6.390625 \r\nQ 38.8125 6.390625 42.859375 10.171875 \r\nQ 46.921875 13.96875 46.921875 20.515625 \r\nQ 46.921875 27.09375 42.890625 30.859375 \r\nQ 38.875 34.625 31.78125 34.625 \r\nz\r\nM 21.921875 38.8125 \r\nQ 15.578125 40.375 12.03125 44.71875 \r\nQ 8.5 49.078125 8.5 55.328125 \r\nQ 8.5 64.0625 14.71875 69.140625 \r\nQ 20.953125 74.21875 31.78125 74.21875 \r\nQ 42.671875 74.21875 48.875 69.140625 \r\nQ 55.078125 64.0625 55.078125 55.328125 \r\nQ 55.078125 49.078125 51.53125 44.71875 \r\nQ 48 40.375 41.703125 38.8125 \r\nQ 48.828125 37.15625 52.796875 32.3125 \r\nQ 56.78125 27.484375 56.78125 20.515625 \r\nQ 56.78125 9.90625 50.3125 4.234375 \r\nQ 43.84375 -1.421875 31.78125 -1.421875 \r\nQ 19.734375 -1.421875 13.25 4.234375 \r\nQ 6.78125 9.90625 6.78125 20.515625 \r\nQ 6.78125 27.484375 10.78125 32.3125 \r\nQ 14.796875 37.15625 21.921875 38.8125 \r\nz\r\nM 18.3125 54.390625 \r\nQ 18.3125 48.734375 21.84375 45.5625 \r\nQ 25.390625 42.390625 31.78125 42.390625 \r\nQ 38.140625 42.390625 41.71875 45.5625 \r\nQ 45.3125 48.734375 45.3125 54.390625 \r\nQ 45.3125 60.0625 41.71875 63.234375 \r\nQ 38.140625 66.40625 31.78125 66.40625 \r\nQ 25.390625 66.40625 21.84375 63.234375 \r\nQ 18.3125 60.0625 18.3125 54.390625 \r\nz\r\n\" id=\"DejaVuSans-56\"/>\r\n    </defs>\r\n    <g transform=\"translate(153.342326 20.3301)scale(0.1728 -0.1728)\">\r\n     <use xlink:href=\"#DejaVuSans-56\"/>\r\n    </g>\r\n   </g>\r\n   <g id=\"text_4\">\r\n    <!-- 2 -->\r\n    <g transform=\"translate(7.2 93.401263)scale(0.1728 -0.1728)\">\r\n     <use xlink:href=\"#DejaVuSans-50\"/>\r\n    </g>\r\n   </g>\r\n   <g id=\"text_5\">\r\n    <!-- 1 -->\r\n    <defs>\r\n     <path d=\"M 12.40625 8.296875 \r\nL 28.515625 8.296875 \r\nL 28.515625 63.921875 \r\nL 10.984375 60.40625 \r\nL 10.984375 69.390625 \r\nL 28.421875 72.90625 \r\nL 38.28125 72.90625 \r\nL 38.28125 8.296875 \r\nL 54.390625 8.296875 \r\nL 54.390625 0 \r\nL 12.40625 0 \r\nz\r\n\" id=\"DejaVuSans-49\"/>\r\n    </defs>\r\n    <g transform=\"translate(80.271163 93.401263)scale(0.1728 -0.1728)\">\r\n     <use xlink:href=\"#DejaVuSans-49\"/>\r\n    </g>\r\n   </g>\r\n   <g id=\"text_6\">\r\n    <!-- 4 -->\r\n    <defs>\r\n     <path d=\"M 37.796875 64.3125 \r\nL 12.890625 25.390625 \r\nL 37.796875 25.390625 \r\nz\r\nM 35.203125 72.90625 \r\nL 47.609375 72.90625 \r\nL 47.609375 25.390625 \r\nL 58.015625 25.390625 \r\nL 58.015625 17.1875 \r\nL 47.609375 17.1875 \r\nL 47.609375 0 \r\nL 37.796875 0 \r\nL 37.796875 17.1875 \r\nL 4.890625 17.1875 \r\nL 4.890625 26.703125 \r\nz\r\n\" id=\"DejaVuSans-52\"/>\r\n    </defs>\r\n    <g transform=\"translate(153.342326 93.401263)scale(0.1728 -0.1728)\">\r\n     <use xlink:href=\"#DejaVuSans-52\"/>\r\n    </g>\r\n   </g>\r\n   <g id=\"text_7\">\r\n    <!-- 0 -->\r\n    <g transform=\"translate(7.2 166.472426)scale(0.1728 -0.1728)\">\r\n     <use xlink:href=\"#DejaVuSans-48\"/>\r\n    </g>\r\n   </g>\r\n   <g id=\"text_8\">\r\n    <!-- 4 -->\r\n    <g transform=\"translate(80.271163 166.472426)scale(0.1728 -0.1728)\">\r\n     <use xlink:href=\"#DejaVuSans-52\"/>\r\n    </g>\r\n   </g>\r\n   <g id=\"text_9\">\r\n    <!-- 1 -->\r\n    <g transform=\"translate(153.342326 166.472426)scale(0.1728 -0.1728)\">\r\n     <use xlink:href=\"#DejaVuSans-49\"/>\r\n    </g>\r\n   </g>\r\n  </g>\r\n </g>\r\n <defs>\r\n  <clipPath id=\"pc82be13c8d\">\r\n   <rect height=\"163.08\" width=\"163.02004\" x=\"9.755543\" y=\"15.454963\"/>\r\n  </clipPath>\r\n </defs>\r\n</svg>\r\n",
      "image/png": "[encoded data removed]"
     },
     "metadata": {
      "needs_background": "light"
     }
    }
   ],
   "source": [
    "path = test_path_Naive(0,0,[],[],test_maze)\n",
    "nodes, connectivity = plot_chosen_path(test_maze) # need to add options[path]"
   ]
  },
  {
   "cell_type": "code",
   "execution_count": 318,
   "metadata": {},
   "outputs": [
    {
     "output_type": "execute_result",
     "data": {
      "text/plain": [
       "array([[0. , 3. ],\n",
       "       [1.5, 3. ],\n",
       "       [3. , 3. ],\n",
       "       [0. , 1.5],\n",
       "       [1.5, 1.5],\n",
       "       [3. , 1.5],\n",
       "       [0. , 0. ],\n",
       "       [1.5, 0. ],\n",
       "       [3. , 0. ]])"
      ]
     },
     "metadata": {},
     "execution_count": 318
    }
   ],
   "source": [
    "nodes"
   ]
  },
  {
   "cell_type": "code",
   "execution_count": 319,
   "metadata": {},
   "outputs": [
    {
     "output_type": "execute_result",
     "data": {
      "text/plain": [
       "[0, 2, 0, 4, 1]"
      ]
     },
     "metadata": {},
     "execution_count": 319
    }
   ],
   "source": [
    "options[path]"
   ]
  },
  {
   "cell_type": "code",
   "execution_count": 320,
   "metadata": {},
   "outputs": [
    {
     "output_type": "execute_result",
     "data": {
      "text/plain": [
       "[(0, 0), (1, 0), (2, 0), (2, 1), (2, 2)]"
      ]
     },
     "metadata": {},
     "execution_count": 320
    }
   ],
   "source": [
    "option_coords[path]"
   ]
  },
  {
   "cell_type": "code",
   "execution_count": 321,
   "metadata": {},
   "outputs": [
    {
     "output_type": "stream",
     "name": "stdout",
     "text": [
      "[array([[0. , 3. ],\n       [1.5, 3. ],\n       [3. , 3. ]]), array([[0. , 1.5],\n       [1.5, 1.5],\n       [3. , 1.5]]), array([[0. , 0. ],\n       [1.5, 0. ],\n       [3. , 0. ]])]\n"
     ]
    }
   ],
   "source": [
    "nodes_coords = np.split(nodes, height)\n",
    "print(nodes_coords)"
   ]
  },
  {
   "cell_type": "code",
   "execution_count": 323,
   "metadata": {},
   "outputs": [
    {
     "output_type": "execute_result",
     "data": {
      "text/plain": [
       "array([3., 0.])"
      ]
     },
     "metadata": {},
     "execution_count": 323
    }
   ],
   "source": [
    "nodes_coords[2][2]"
   ]
  },
  {
   "cell_type": "code",
   "execution_count": 51,
   "metadata": {},
   "outputs": [
    {
     "output_type": "execute_result",
     "data": {
      "text/plain": [
       "array([[0, 1, 3, 4],\n",
       "       [1, 2, 4, 5],\n",
       "       [3, 4, 6, 7],\n",
       "       [4, 5, 7, 8]])"
      ]
     },
     "metadata": {},
     "execution_count": 51
    }
   ],
   "source": [
    "connectivity"
   ]
  }
 ]
}