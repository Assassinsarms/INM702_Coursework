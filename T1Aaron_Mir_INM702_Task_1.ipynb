{
 "metadata": {
  "language_info": {
   "codemirror_mode": {
    "name": "ipython",
    "version": 3
   },
   "file_extension": ".py",
   "mimetype": "text/x-python",
   "name": "python",
   "nbconvert_exporter": "python",
   "pygments_lexer": "ipython3",
   "version": "3.8.1-final"
  },
  "orig_nbformat": 2,
  "kernelspec": {
   "name": "python3",
   "display_name": "Python 3.8.1 64-bit",
   "metadata": {
    "interpreter": {
     "hash": "2db524e06e9f5f4ffedc911c917cb75e12dbc923643829bf417064a77eb14d37"
    }
   }
  }
 },
 "nbformat": 4,
 "nbformat_minor": 2,
 "cells": [
  {
   "source": [
    "# INM702 Coursework Task 1 \n",
    "### Aaron Mir (Student Number: 160001207)\n",
    "#### 20/12/20"
   ],
   "cell_type": "markdown",
   "metadata": {}
  },
  {
   "source": [
    "<img src=\"Task1(1).jpg\" alt=\"Task1(1)\" width=\"700\"/>\n",
    "<img src=\"Task1(2).jpg\" alt=\"Task1(2)\" width=\"700\"/>\n",
    "<img src=\"Task1(3).jpg\" alt=\"Task1(3)\" width=\"700\"/>\n",
    "<img src=\"Task1(4).jpg\" alt=\"Task1(4)\" width=\"700\"/>\n"
   ],
   "cell_type": "markdown",
   "metadata": {}
  },
  {
   "source": [
    "The first task tests your Python skills. You need to develop a simple game consisting of a rectangular grid (of size height x width) where each cell has a random integer value between 0 and 9. An agent starts at the upper-left corner of the grid and must  reach the lower-right corner of the grid as fast as possible. You can implement one of the two (or both, for no extra point) game modes:\n",
    "\n",
    "    • The time spent on a cell is the number on this cell\n",
    "    • The time spent on a cell is the absolute of the difference between the previous cell the agent was on and the current cell it is on\n",
    "\n",
    "In order to solve this problem, you will provide 3 algorithms:\n",
    "\n",
    "    • A first baseline of your choosing. E.g. it can be any search algorithm, or an algorithm using heuristics. \n",
    "    It doesn’t have to perform fast or well, but  should be better than random movements.\n",
    "    • Dijkstra's algorithm\n",
    "    • Ant colony optimization algorithm\n",
    "\n",
    "You should describe the algorithms and compare them. Are they always solving the problem? How long do they take depending on the size of the maze?\n"
   ],
   "cell_type": "markdown",
   "metadata": {}
  },
  {
   "cell_type": "code",
   "execution_count": 5,
   "metadata": {},
   "outputs": [
    {
     "output_type": "stream",
     "name": "stdout",
     "text": [
      "Python: 3.8.1 (tags/v3.8.1:1b293b6, Dec 18 2019, 23:11:46) [MSC v.1916 64 bit (AMD64)]\nNumpy Version: 1.18.1\nPyTorch Version: 1.6.0+cu101\nTorchvision Version: 0.7.0+cu101\n"
     ]
    }
   ],
   "source": [
    "import matplotlib.pyplot as plt\n",
    "from matplotlib import colors\n",
    "from matplotlib import animation\n",
    "import numpy as np\n",
    "import torch \n",
    "import torchvision as tv\n",
    "import random\n",
    "np.set_printoptions(threshold=sys.maxsize)\n",
    "np.random.seed(1)\n",
    "\n",
    "print(f\"Python: {sys.version}\")\n",
    "print(f\"Numpy Version: {np.__version__}\")\n",
    "print(f\"PyTorch Version: {torch.__version__}\")\n",
    "print(f\"Torchvision Version: {tv.__version__}\")\n",
    "#Use assert to test functions\n",
    "\n",
    "#import sys\n",
    "#from __future__ import division"
   ]
  },
  {
   "source": [
    "class Agent():\n",
    "    '''A class to represent an agent. The goal of the agent is to move along the grid from the upper left corner to the lower right corner using the shortest path possible.'''\n",
    "\n",
    "    def __init__ (self, name, maze = None):\n",
    "        '''ADD ARGS EXPLANATION'''\n",
    "        self.name = name\n",
    "        self.maze = maze\n",
    "        #self.i, self.j = 0, 0 # curr_position used to be [self.i, self.j] but that is redundant at least for the naive approach\n",
    "        self.curr_position = [0, 0]     # this changes according to the current position of the agent after choosing a path and initialises at 0,0\n",
    "        self.position_history = []      # holds the history of agent positions, helps verify\n",
    "        self.options = []               # holds the time values of paths found\n",
    "        self.option_coords = []         # holds the coordinates of each cell in those paths\n",
    "        self.isFinished = False         # changes if agent reaches position bottom right cell, helps verify\n",
    "        #self.marker = plt.Circle((self.__x + 0.5, self.__y + 0.5), radius=0.4, fc='y')\n",
    " \n",
    "    def recursive_path(self, row, col, paths, coords): \n",
    "        '''Uses recursion finds all the possible paths the agent can take to get to the bottom right cell by exploring all paths by moving down and right in the array. Then adds the times spent on each cell for each path and will traverse the path that has the lowest overall time. The current position of the agent is then changed after the comparison is made between different paths.'''                  \n",
    "        \n",
    "        if row == len(self.maze.maze) - 1:                # if the current row is equal to the height of the maze - 1 \n",
    "            for i in range(col, len(self.maze.maze[0])):  # for every column from the current column to the edge of the grid going across\n",
    "                paths.append(self.maze.maze[row][i])      # append all the time values into the path list depending on which row it is currently on\n",
    "                coords.append((row, i))                   # append all the indexes of those times into the coordinate list of tuples depending on which row it is currently on\n",
    "            self.options.append(paths)                    # append the possible options to the agent attribute 'options'\n",
    "            self.option_coords.append(coords)             # append the coordinates of those possible options to the agent attribute 'option_coords'\n",
    "            return \n",
    "\n",
    "        if col == len(self.maze.maze[0]) - 1:             # if the current column is equal to the width of the maze - 1 eg. 3 - 1 = 2\n",
    "            for i in range(row, len(self.maze.maze)):     # for every row from the current row to the edge of the grid going down\n",
    "                paths.append(self.maze.maze[i][col])      # put all the time values into the path list depending on which column it is currently on\n",
    "                coords.append((i, col))         # put all the indexes of those times into the coordinate list of tuples depending on which column it is currently on\n",
    "            self.options.append(paths)\n",
    "            self.option_coords.append(coords)\n",
    "            return\n",
    "        paths.append(self.maze.maze[row][col])            # append the time value of the starting cell to path list\n",
    "        coords.append((row, col))                           # append the the indexes of that time value coords list\n",
    "        self.recursive_path(row + 1, col, paths[:], coords[:]) # recursion for each row \n",
    "        self.recursive_path(row, col + 1, paths[:], coords[:]) # recursion for each column       \n",
    "        \n",
    "        sum_time_vals = np.zeros(len(self.options), dtype=int) # initialising an array of all the total times for each path\n",
    "        for i in range(0, len(self.options)):\n",
    "            sum_time_vals[i] = sum(self.options[i])\n",
    "        self.chosen_path = list(sum_time_vals).index(np.min(sum_time_vals)) # returns index of the shortest path in 'options' so self.options[chosen_path] contains the path chosen \n",
    "        '''\n",
    "        for i in range(len(option_coords[chosen_path])):            # changes the agents current position according to this path - signifies movement         \n",
    "            self.curr_position = self.options_coords[chosen_path][i] \n",
    "            # NEED TO ADD SOME ANIMATION TO THE PLOT FUNCTION OF THE MAZE TO SHOW AGENT MOVING AS THE CURRENT POSITION CHANGES\n",
    "\n",
    "        self.position_history.append(option_coords[chosen_path])    # indicates which cells have been visited by the agent during this traversal i.e. the chosen path\n",
    "        \n",
    "        if self.curr_position == self.options_coords[chosen_path][-1]: # verifies that the agent has reached the bottom right\n",
    "            self.isFinished == True \n",
    "        else:\n",
    "            self.isFinished == False\n",
    "            print(\"An error has occurred.\")     \n",
    "        '''\n",
    "    def antcol_path(self, n_ants, alpha=1, beta=1): \n",
    "        pass                                 \n",
    "    '''  \n",
    "    def dijkstra_path(self): # HAS TO LOOK AT THE GRID AS A WHOLE AND FIND THE PATH BEFORE TAKING IT\n",
    "        # Can convert the maze to a graph using dictionary\n",
    "        # Alternatively, each cell in the grid can represents a vertex and neighbor cells adjacent vertices. Thus, not making an explicit graph from these cells instead using the grid as it is in my dijkstra’s algorithm. \n",
    "        # Will also outline the finishing point and state that the agent shouldn't go to cells it has already visited by using a boolean version of the maze where if a cell has been visited it will show true\n",
    "        pass\n",
    "    '''"
   ],
   "cell_type": "code",
   "metadata": {},
   "execution_count": 196,
   "outputs": []
  },
  {
   "cell_type": "code",
   "execution_count": 208,
   "metadata": {},
   "outputs": [],
   "source": [
    "class IntMaze():\n",
    "    '''A class to represent a maze. A maze in this scenario is a 2D (height x width) grid where each cell has a number associated to it. This cell number indicates the time an agent spends on a cell. There are 2 game modes. Game mode 1 is where the time spent on a cell is the number on this cell. Game mode 2 is where the time spent on a cell is the absolute of the difference between the previous cell the agent was on and the current cell it is on. '''\n",
    "\n",
    "    def __init__ (self, height, width, mode, alg, agent):  \n",
    "        self.height = height\n",
    "        self.width = width\n",
    "        self.mode = mode\n",
    "        self.agent = agent\n",
    "        self.alg = alg\n",
    "        self.path_find_type = {'Recursive': 0, 'Dijkstra': 1, 'Ant Colony': 2}\n",
    "    \n",
    "    def create_maze(self): # generates the grid/map\n",
    "        return np.array(np.random.randint(0, 10, size = (self.height, self.width)))\n",
    "\n",
    "    def start_game(self):\n",
    "        self.maze = self.create_maze() #create the grid/maze\n",
    "        self.agent.maze = self # add agent to the maze/environment\n",
    "        if self.mode == 1:\n",
    "            if self.path_find_type[self.alg] == 0: # Recursive approach\n",
    "                self.agent.recursive_path(self.agent.curr_position[0], self.agent.curr_position[1], [], []) #maze, row, col, paths, coords\n",
    "                self.plot_maze_path()\n",
    "            elif self.path_find_type[self.alg] == 1: # Dijkstra \n",
    "                self.agent.dijkstra_path()\n",
    "                self.plot_maze_path()\n",
    "            elif self.path_find_type[self.alg] == 2: # Antcolony \n",
    "                self.agent.antcol_path()\n",
    "                self.plot_maze_path()\n",
    "            self.maze_reset()\n",
    "        '''\n",
    "        if self.mode == 2:\n",
    "        '''\n",
    "    def maze_reset(self):\n",
    "        # resets both the agent attributes and the maze attributes so that the same agent can be used with a different algorithm\n",
    "        pass\n",
    "\n",
    "    def plot_maze_path(self, annotate=True, chosen_path=True): \n",
    "        c1 = np.array([0, self.width])\n",
    "        c2 = np.array([self.height, 0]) \n",
    "        dim = len(c1) \n",
    "        x_pts = np.linspace(c1[0], c2[0], self.width)\n",
    "        y_pts = np.linspace(c1[1], c2[1], self.height)\n",
    "        Xv, Yv = np.meshgrid(x_pts, y_pts)\n",
    "        numpts = self.width*self.height      \n",
    "        node_array = np.zeros((numpts, 2), dtype=float)\n",
    "        node_array[:,0] = np.reshape(Xv, numpts)\n",
    "        node_array[:,1] = np.reshape(Yv, numpts)\n",
    "        num_cells = int(self.width-1)*(self.height-1)\n",
    "        connectivity = np.zeros((num_cells, int(2**dim)), dtype=int)\n",
    "        rows, cols = self.height-1, self.width-1 \n",
    "        for row in range(rows):\n",
    "            for col in range(cols):\n",
    "                num = self.width*row + col\n",
    "                connectivity[cols*row + col] = [num+0, num+1, num+self.width, num+self.width+1]\n",
    "\n",
    "        annotations = self.maze.flatten()\n",
    "        X,Y = node_array.T\n",
    "        fig = plt.figure(figsize=(self.width,self.height)) \n",
    "        ax = fig.add_subplot(111)\n",
    "        ax.set_aspect('auto')\n",
    "        plt.axis('off')\n",
    "        plt.scatter(X,Y, marker='o', s=50, color='g', alpha=1.0)\n",
    "        if height == width:\n",
    "            plt.plot(Xv,Yv, linewidth=2, color='k', alpha=0.2)\n",
    "            plt.plot(Yv,Xv, linewidth=2, color='k', alpha=0.2)\n",
    "        if annotate:                    \n",
    "            for i, pos in enumerate(node_array):\n",
    "                plt.text(pos[0], pos[1],  str(annotations[i]), color='k', verticalalignment='bottom', horizontalalignment='right', fontsize='xx-large')\n",
    "            \n",
    "        nodes_coords = np.split(node_array, self.height)\n",
    "        path_coords_grid = []\n",
    "        for x, y in self.agent.option_coords[self.agent.chosen_path]: # this needs to convert a path to coordinates on the graph\n",
    "            path_coords_grid.append(nodes_coords[x][y])\n",
    "        head_length = 0.1\n",
    "        if chosen_path:\n",
    "            for i in range(len(path_coords_grid)-1): # plots vectors for the shortest path\n",
    "                dx = path_coords_grid[i+1][0] - path_coords_grid[i][0]\n",
    "                dy = path_coords_grid[i+1][1] - path_coords_grid[i][1]\n",
    "                vec_ab = [dx,dy]\n",
    "                vec_ab_magnitude = np.sqrt(dx**2+dy**2)\n",
    "                dx = dx / vec_ab_magnitude\n",
    "                dy = dy / vec_ab_magnitude\n",
    "                vec_ab_magnitude = vec_ab_magnitude - head_length\n",
    "                plt.arrow(path_coords_grid[i][0], path_coords_grid[i][1], vec_ab_magnitude*dx, vec_ab_magnitude*dy, head_width=0.1, head_length=0.2, color='red')\n",
    "        plt.show(block=False)\n",
    "        return node_array, connectivity"
   ]
  },
  {
   "source": [
    "height, width = 4,4 # Maze has to be NxN in order for visualisation to work\n",
    "agent_cortez = Agent('Bob')\n",
    "game = IntMaze(height, width, 1, 'Recursive', agent_cortez)\n",
    "game.start_game()\n",
    "#At runtime, we want to initialise the maze, initialise the agent, choose which algorithm it will follow and what game mode it will play"
   ],
   "cell_type": "code",
   "metadata": {},
   "execution_count": 210,
   "outputs": [
    {
     "output_type": "display_data",
     "data": {
      "text/plain": "<Figure size 288x288 with 1 Axes>",
      "image/svg+xml": "<?xml version=\"1.0\" encoding=\"utf-8\" standalone=\"no\"?>\r\n<!DOCTYPE svg PUBLIC \"-//W3C//DTD SVG 1.1//EN\"\r\n  \"http://www.w3.org/Graphics/SVG/1.1/DTD/svg11.dtd\">\r\n<!-- Created with matplotlib (https://matplotlib.org/) -->\r\n<svg height=\"237.883113pt\" version=\"1.1\" viewBox=\"0 0 237.651729 237.883113\" width=\"237.651729pt\" xmlns=\"http://www.w3.org/2000/svg\" xmlns:xlink=\"http://www.w3.org/1999/xlink\">\r\n <defs>\r\n  <style type=\"text/css\">\r\n*{stroke-linecap:butt;stroke-linejoin:round;}\r\n  </style>\r\n </defs>\r\n <g id=\"figure_1\">\r\n  <g id=\"patch_1\">\r\n   <path d=\"M 0 237.883113 \r\nL 237.651729 237.883113 \r\nL 237.651729 0 \r\nL 0 0 \r\nz\r\n\" style=\"fill:none;\"/>\r\n  </g>\r\n  <g id=\"axes_1\">\r\n   <g id=\"PathCollection_1\">\r\n    <defs>\r\n     <path d=\"M 0 3.535534 \r\nC 0.937635 3.535534 1.836992 3.163008 2.5 2.5 \r\nC 3.163008 1.836992 3.535534 0.937635 3.535534 0 \r\nC 3.535534 -0.937635 3.163008 -1.836992 2.5 -2.5 \r\nC 1.836992 -3.163008 0.937635 -3.535534 0 -3.535534 \r\nC -0.937635 -3.535534 -1.836992 -3.163008 -2.5 -2.5 \r\nC -3.163008 -1.836992 -3.535534 -0.937635 -3.535534 0 \r\nC -3.535534 0.937635 -3.163008 1.836992 -2.5 2.5 \r\nC -1.836992 3.163008 -0.937635 3.535534 0 3.535534 \r\nz\r\n\" id=\"m0927c1cc19\" style=\"stroke:#008000;\"/>\r\n    </defs>\r\n    <g clip-path=\"url(#p8639d79fcd)\">\r\n     <use style=\"fill:#008000;stroke:#008000;\" x=\"18.1944\" xlink:href=\"#m0927c1cc19\" y=\"23.9238\"/>\r\n     <use style=\"fill:#008000;stroke:#008000;\" x=\"85.299286\" xlink:href=\"#m0927c1cc19\" y=\"23.9238\"/>\r\n     <use style=\"fill:#008000;stroke:#008000;\" x=\"152.404172\" xlink:href=\"#m0927c1cc19\" y=\"23.9238\"/>\r\n     <use style=\"fill:#008000;stroke:#008000;\" x=\"219.509058\" xlink:href=\"#m0927c1cc19\" y=\"23.9238\"/>\r\n     <use style=\"fill:#008000;stroke:#008000;\" x=\"18.1944\" xlink:href=\"#m0927c1cc19\" y=\"89.283342\"/>\r\n     <use style=\"fill:#008000;stroke:#008000;\" x=\"85.299286\" xlink:href=\"#m0927c1cc19\" y=\"89.283342\"/>\r\n     <use style=\"fill:#008000;stroke:#008000;\" x=\"152.404172\" xlink:href=\"#m0927c1cc19\" y=\"89.283342\"/>\r\n     <use style=\"fill:#008000;stroke:#008000;\" x=\"219.509058\" xlink:href=\"#m0927c1cc19\" y=\"89.283342\"/>\r\n     <use style=\"fill:#008000;stroke:#008000;\" x=\"18.1944\" xlink:href=\"#m0927c1cc19\" y=\"154.642884\"/>\r\n     <use style=\"fill:#008000;stroke:#008000;\" x=\"85.299286\" xlink:href=\"#m0927c1cc19\" y=\"154.642884\"/>\r\n     <use style=\"fill:#008000;stroke:#008000;\" x=\"152.404172\" xlink:href=\"#m0927c1cc19\" y=\"154.642884\"/>\r\n     <use style=\"fill:#008000;stroke:#008000;\" x=\"219.509058\" xlink:href=\"#m0927c1cc19\" y=\"154.642884\"/>\r\n     <use style=\"fill:#008000;stroke:#008000;\" x=\"18.1944\" xlink:href=\"#m0927c1cc19\" y=\"220.002426\"/>\r\n     <use style=\"fill:#008000;stroke:#008000;\" x=\"85.299286\" xlink:href=\"#m0927c1cc19\" y=\"220.002426\"/>\r\n     <use style=\"fill:#008000;stroke:#008000;\" x=\"152.404172\" xlink:href=\"#m0927c1cc19\" y=\"220.002426\"/>\r\n     <use style=\"fill:#008000;stroke:#008000;\" x=\"219.509058\" xlink:href=\"#m0927c1cc19\" y=\"220.002426\"/>\r\n    </g>\r\n   </g>\r\n   <g id=\"patch_2\">\r\n    <path clip-path=\"url(#p8639d79fcd)\" d=\"M 18.1944 94.185308 \r\nL 15.677967 84.381376 \r\nL 18.169236 84.381376 \r\nL 18.169236 23.9238 \r\nL 18.219564 23.9238 \r\nL 18.219564 84.381376 \r\nL 20.710833 84.381376 \r\nz\r\n\" style=\"fill:#ff0000;stroke:#ff0000;stroke-linejoin:miter;\"/>\r\n   </g>\r\n   <g id=\"patch_3\">\r\n    <path clip-path=\"url(#p8639d79fcd)\" d=\"M 18.1944 159.54485 \r\nL 15.677967 149.740919 \r\nL 18.169236 149.740919 \r\nL 18.169236 89.283342 \r\nL 18.219564 89.283342 \r\nL 18.219564 149.740919 \r\nL 20.710833 149.740919 \r\nz\r\n\" style=\"fill:#ff0000;stroke:#ff0000;stroke-linejoin:miter;\"/>\r\n   </g>\r\n   <g id=\"patch_4\">\r\n    <path clip-path=\"url(#p8639d79fcd)\" d=\"M 90.332152 154.642884 \r\nL 80.26642 157.093867 \r\nL 80.26642 154.667394 \r\nL 18.1944 154.667394 \r\nL 18.1944 154.618374 \r\nL 80.26642 154.618374 \r\nL 80.26642 152.191901 \r\nz\r\n\" style=\"fill:#ff0000;stroke:#ff0000;stroke-linejoin:miter;\"/>\r\n   </g>\r\n   <g id=\"patch_5\">\r\n    <path clip-path=\"url(#p8639d79fcd)\" d=\"M 85.299286 224.904392 \r\nL 82.782853 215.100461 \r\nL 85.274122 215.100461 \r\nL 85.274122 154.642884 \r\nL 85.32445 154.642884 \r\nL 85.32445 215.100461 \r\nL 87.815719 215.100461 \r\nz\r\n\" style=\"fill:#ff0000;stroke:#ff0000;stroke-linejoin:miter;\"/>\r\n   </g>\r\n   <g id=\"patch_6\">\r\n    <path clip-path=\"url(#p8639d79fcd)\" d=\"M 157.437039 220.002426 \r\nL 147.371306 222.453409 \r\nL 147.371306 220.026936 \r\nL 85.299286 220.026936 \r\nL 85.299286 219.977916 \r\nL 147.371306 219.977916 \r\nL 147.371306 217.551443 \r\nz\r\n\" style=\"fill:#ff0000;stroke:#ff0000;stroke-linejoin:miter;\"/>\r\n   </g>\r\n   <g id=\"patch_7\">\r\n    <path clip-path=\"url(#p8639d79fcd)\" d=\"M 224.541925 220.002426 \r\nL 214.476192 222.453409 \r\nL 214.476192 220.026936 \r\nL 152.404172 220.026936 \r\nL 152.404172 219.977916 \r\nL 214.476192 219.977916 \r\nL 214.476192 217.551443 \r\nz\r\n\" style=\"fill:#ff0000;stroke:#ff0000;stroke-linejoin:miter;\"/>\r\n   </g>\r\n   <g id=\"line2d_1\">\r\n    <path clip-path=\"url(#p8639d79fcd)\" d=\"M 18.1944 23.9238 \r\nL 18.1944 89.283342 \r\nL 18.1944 154.642884 \r\nL 18.1944 220.002426 \r\n\" style=\"fill:none;stroke:#000000;stroke-linecap:square;stroke-opacity:0.2;stroke-width:2;\"/>\r\n   </g>\r\n   <g id=\"line2d_2\">\r\n    <path clip-path=\"url(#p8639d79fcd)\" d=\"M 85.299286 23.9238 \r\nL 85.299286 89.283342 \r\nL 85.299286 154.642884 \r\nL 85.299286 220.002426 \r\n\" style=\"fill:none;stroke:#000000;stroke-linecap:square;stroke-opacity:0.2;stroke-width:2;\"/>\r\n   </g>\r\n   <g id=\"line2d_3\">\r\n    <path clip-path=\"url(#p8639d79fcd)\" d=\"M 152.404172 23.9238 \r\nL 152.404172 89.283342 \r\nL 152.404172 154.642884 \r\nL 152.404172 220.002426 \r\n\" style=\"fill:none;stroke:#000000;stroke-linecap:square;stroke-opacity:0.2;stroke-width:2;\"/>\r\n   </g>\r\n   <g id=\"line2d_4\">\r\n    <path clip-path=\"url(#p8639d79fcd)\" d=\"M 219.509058 23.9238 \r\nL 219.509058 89.283342 \r\nL 219.509058 154.642884 \r\nL 219.509058 220.002426 \r\n\" style=\"fill:none;stroke:#000000;stroke-linecap:square;stroke-opacity:0.2;stroke-width:2;\"/>\r\n   </g>\r\n   <g id=\"line2d_5\">\r\n    <path clip-path=\"url(#p8639d79fcd)\" d=\"M 219.509058 220.002426 \r\nL 152.404172 220.002426 \r\nL 85.299286 220.002426 \r\nL 18.1944 220.002426 \r\n\" style=\"fill:none;stroke:#000000;stroke-linecap:square;stroke-opacity:0.2;stroke-width:2;\"/>\r\n   </g>\r\n   <g id=\"line2d_6\">\r\n    <path clip-path=\"url(#p8639d79fcd)\" d=\"M 219.509058 154.642884 \r\nL 152.404172 154.642884 \r\nL 85.299286 154.642884 \r\nL 18.1944 154.642884 \r\n\" style=\"fill:none;stroke:#000000;stroke-linecap:square;stroke-opacity:0.2;stroke-width:2;\"/>\r\n   </g>\r\n   <g id=\"line2d_7\">\r\n    <path clip-path=\"url(#p8639d79fcd)\" d=\"M 219.509058 89.283342 \r\nL 152.404172 89.283342 \r\nL 85.299286 89.283342 \r\nL 18.1944 89.283342 \r\n\" style=\"fill:none;stroke:#000000;stroke-linecap:square;stroke-opacity:0.2;stroke-width:2;\"/>\r\n   </g>\r\n   <g id=\"line2d_8\">\r\n    <path clip-path=\"url(#p8639d79fcd)\" d=\"M 219.509058 23.9238 \r\nL 152.404172 23.9238 \r\nL 85.299286 23.9238 \r\nL 18.1944 23.9238 \r\n\" style=\"fill:none;stroke:#000000;stroke-linecap:square;stroke-opacity:0.2;stroke-width:2;\"/>\r\n   </g>\r\n   <g id=\"text_1\">\r\n    <!-- 3 -->\r\n    <defs>\r\n     <path d=\"M 40.578125 39.3125 \r\nQ 47.65625 37.796875 51.625 33 \r\nQ 55.609375 28.21875 55.609375 21.1875 \r\nQ 55.609375 10.40625 48.1875 4.484375 \r\nQ 40.765625 -1.421875 27.09375 -1.421875 \r\nQ 22.515625 -1.421875 17.65625 -0.515625 \r\nQ 12.796875 0.390625 7.625 2.203125 \r\nL 7.625 11.71875 \r\nQ 11.71875 9.328125 16.59375 8.109375 \r\nQ 21.484375 6.890625 26.8125 6.890625 \r\nQ 36.078125 6.890625 40.9375 10.546875 \r\nQ 45.796875 14.203125 45.796875 21.1875 \r\nQ 45.796875 27.640625 41.28125 31.265625 \r\nQ 36.765625 34.90625 28.71875 34.90625 \r\nL 20.21875 34.90625 \r\nL 20.21875 43.015625 \r\nL 29.109375 43.015625 \r\nQ 36.375 43.015625 40.234375 45.921875 \r\nQ 44.09375 48.828125 44.09375 54.296875 \r\nQ 44.09375 59.90625 40.109375 62.90625 \r\nQ 36.140625 65.921875 28.71875 65.921875 \r\nQ 24.65625 65.921875 20.015625 65.03125 \r\nQ 15.375 64.15625 9.8125 62.3125 \r\nL 9.8125 71.09375 \r\nQ 15.4375 72.65625 20.34375 73.4375 \r\nQ 25.25 74.21875 29.59375 74.21875 \r\nQ 40.828125 74.21875 47.359375 69.109375 \r\nQ 53.90625 64.015625 53.90625 55.328125 \r\nQ 53.90625 49.265625 50.4375 45.09375 \r\nQ 46.96875 40.921875 40.578125 39.3125 \r\nz\r\n\" id=\"DejaVuSans-51\"/>\r\n    </defs>\r\n    <g transform=\"translate(7.2 20.3301)scale(0.1728 -0.1728)\">\r\n     <use xlink:href=\"#DejaVuSans-51\"/>\r\n    </g>\r\n   </g>\r\n   <g id=\"text_2\">\r\n    <!-- 8 -->\r\n    <defs>\r\n     <path d=\"M 31.78125 34.625 \r\nQ 24.75 34.625 20.71875 30.859375 \r\nQ 16.703125 27.09375 16.703125 20.515625 \r\nQ 16.703125 13.921875 20.71875 10.15625 \r\nQ 24.75 6.390625 31.78125 6.390625 \r\nQ 38.8125 6.390625 42.859375 10.171875 \r\nQ 46.921875 13.96875 46.921875 20.515625 \r\nQ 46.921875 27.09375 42.890625 30.859375 \r\nQ 38.875 34.625 31.78125 34.625 \r\nz\r\nM 21.921875 38.8125 \r\nQ 15.578125 40.375 12.03125 44.71875 \r\nQ 8.5 49.078125 8.5 55.328125 \r\nQ 8.5 64.0625 14.71875 69.140625 \r\nQ 20.953125 74.21875 31.78125 74.21875 \r\nQ 42.671875 74.21875 48.875 69.140625 \r\nQ 55.078125 64.0625 55.078125 55.328125 \r\nQ 55.078125 49.078125 51.53125 44.71875 \r\nQ 48 40.375 41.703125 38.8125 \r\nQ 48.828125 37.15625 52.796875 32.3125 \r\nQ 56.78125 27.484375 56.78125 20.515625 \r\nQ 56.78125 9.90625 50.3125 4.234375 \r\nQ 43.84375 -1.421875 31.78125 -1.421875 \r\nQ 19.734375 -1.421875 13.25 4.234375 \r\nQ 6.78125 9.90625 6.78125 20.515625 \r\nQ 6.78125 27.484375 10.78125 32.3125 \r\nQ 14.796875 37.15625 21.921875 38.8125 \r\nz\r\nM 18.3125 54.390625 \r\nQ 18.3125 48.734375 21.84375 45.5625 \r\nQ 25.390625 42.390625 31.78125 42.390625 \r\nQ 38.140625 42.390625 41.71875 45.5625 \r\nQ 45.3125 48.734375 45.3125 54.390625 \r\nQ 45.3125 60.0625 41.71875 63.234375 \r\nQ 38.140625 66.40625 31.78125 66.40625 \r\nQ 25.390625 66.40625 21.84375 63.234375 \r\nQ 18.3125 60.0625 18.3125 54.390625 \r\nz\r\n\" id=\"DejaVuSans-56\"/>\r\n    </defs>\r\n    <g transform=\"translate(74.304886 20.3301)scale(0.1728 -0.1728)\">\r\n     <use xlink:href=\"#DejaVuSans-56\"/>\r\n    </g>\r\n   </g>\r\n   <g id=\"text_3\">\r\n    <!-- 5 -->\r\n    <defs>\r\n     <path d=\"M 10.796875 72.90625 \r\nL 49.515625 72.90625 \r\nL 49.515625 64.59375 \r\nL 19.828125 64.59375 \r\nL 19.828125 46.734375 \r\nQ 21.96875 47.46875 24.109375 47.828125 \r\nQ 26.265625 48.1875 28.421875 48.1875 \r\nQ 40.625 48.1875 47.75 41.5 \r\nQ 54.890625 34.8125 54.890625 23.390625 \r\nQ 54.890625 11.625 47.5625 5.09375 \r\nQ 40.234375 -1.421875 26.90625 -1.421875 \r\nQ 22.3125 -1.421875 17.546875 -0.640625 \r\nQ 12.796875 0.140625 7.71875 1.703125 \r\nL 7.71875 11.625 \r\nQ 12.109375 9.234375 16.796875 8.0625 \r\nQ 21.484375 6.890625 26.703125 6.890625 \r\nQ 35.15625 6.890625 40.078125 11.328125 \r\nQ 45.015625 15.765625 45.015625 23.390625 \r\nQ 45.015625 31 40.078125 35.4375 \r\nQ 35.15625 39.890625 26.703125 39.890625 \r\nQ 22.75 39.890625 18.8125 39.015625 \r\nQ 14.890625 38.140625 10.796875 36.28125 \r\nz\r\n\" id=\"DejaVuSans-53\"/>\r\n    </defs>\r\n    <g transform=\"translate(141.409772 20.3301)scale(0.1728 -0.1728)\">\r\n     <use xlink:href=\"#DejaVuSans-53\"/>\r\n    </g>\r\n   </g>\r\n   <g id=\"text_4\">\r\n    <!-- 3 -->\r\n    <g transform=\"translate(208.514658 20.3301)scale(0.1728 -0.1728)\">\r\n     <use xlink:href=\"#DejaVuSans-51\"/>\r\n    </g>\r\n   </g>\r\n   <g id=\"text_5\">\r\n    <!-- 1 -->\r\n    <defs>\r\n     <path d=\"M 12.40625 8.296875 \r\nL 28.515625 8.296875 \r\nL 28.515625 63.921875 \r\nL 10.984375 60.40625 \r\nL 10.984375 69.390625 \r\nL 28.421875 72.90625 \r\nL 38.28125 72.90625 \r\nL 38.28125 8.296875 \r\nL 54.390625 8.296875 \r\nL 54.390625 0 \r\nL 12.40625 0 \r\nz\r\n\" id=\"DejaVuSans-49\"/>\r\n    </defs>\r\n    <g transform=\"translate(7.2 85.689642)scale(0.1728 -0.1728)\">\r\n     <use xlink:href=\"#DejaVuSans-49\"/>\r\n    </g>\r\n   </g>\r\n   <g id=\"text_6\">\r\n    <!-- 4 -->\r\n    <defs>\r\n     <path d=\"M 37.796875 64.3125 \r\nL 12.890625 25.390625 \r\nL 37.796875 25.390625 \r\nz\r\nM 35.203125 72.90625 \r\nL 47.609375 72.90625 \r\nL 47.609375 25.390625 \r\nL 58.015625 25.390625 \r\nL 58.015625 17.1875 \r\nL 47.609375 17.1875 \r\nL 47.609375 0 \r\nL 37.796875 0 \r\nL 37.796875 17.1875 \r\nL 4.890625 17.1875 \r\nL 4.890625 26.703125 \r\nz\r\n\" id=\"DejaVuSans-52\"/>\r\n    </defs>\r\n    <g transform=\"translate(74.304886 85.689642)scale(0.1728 -0.1728)\">\r\n     <use xlink:href=\"#DejaVuSans-52\"/>\r\n    </g>\r\n   </g>\r\n   <g id=\"text_7\">\r\n    <!-- 7 -->\r\n    <defs>\r\n     <path d=\"M 8.203125 72.90625 \r\nL 55.078125 72.90625 \r\nL 55.078125 68.703125 \r\nL 28.609375 0 \r\nL 18.3125 0 \r\nL 43.21875 64.59375 \r\nL 8.203125 64.59375 \r\nz\r\n\" id=\"DejaVuSans-55\"/>\r\n    </defs>\r\n    <g transform=\"translate(141.409772 85.689642)scale(0.1728 -0.1728)\">\r\n     <use xlink:href=\"#DejaVuSans-55\"/>\r\n    </g>\r\n   </g>\r\n   <g id=\"text_8\">\r\n    <!-- 3 -->\r\n    <g transform=\"translate(208.514658 85.689642)scale(0.1728 -0.1728)\">\r\n     <use xlink:href=\"#DejaVuSans-51\"/>\r\n    </g>\r\n   </g>\r\n   <g id=\"text_9\">\r\n    <!-- 2 -->\r\n    <defs>\r\n     <path d=\"M 19.1875 8.296875 \r\nL 53.609375 8.296875 \r\nL 53.609375 0 \r\nL 7.328125 0 \r\nL 7.328125 8.296875 \r\nQ 12.9375 14.109375 22.625 23.890625 \r\nQ 32.328125 33.6875 34.8125 36.53125 \r\nQ 39.546875 41.84375 41.421875 45.53125 \r\nQ 43.3125 49.21875 43.3125 52.78125 \r\nQ 43.3125 58.59375 39.234375 62.25 \r\nQ 35.15625 65.921875 28.609375 65.921875 \r\nQ 23.96875 65.921875 18.8125 64.3125 \r\nQ 13.671875 62.703125 7.8125 59.421875 \r\nL 7.8125 69.390625 \r\nQ 13.765625 71.78125 18.9375 73 \r\nQ 24.125 74.21875 28.421875 74.21875 \r\nQ 39.75 74.21875 46.484375 68.546875 \r\nQ 53.21875 62.890625 53.21875 53.421875 \r\nQ 53.21875 48.921875 51.53125 44.890625 \r\nQ 49.859375 40.875 45.40625 35.40625 \r\nQ 44.1875 33.984375 37.640625 27.21875 \r\nQ 31.109375 20.453125 19.1875 8.296875 \r\nz\r\n\" id=\"DejaVuSans-50\"/>\r\n    </defs>\r\n    <g transform=\"translate(7.2 151.049184)scale(0.1728 -0.1728)\">\r\n     <use xlink:href=\"#DejaVuSans-50\"/>\r\n    </g>\r\n   </g>\r\n   <g id=\"text_10\">\r\n    <!-- 2 -->\r\n    <g transform=\"translate(74.304886 151.049184)scale(0.1728 -0.1728)\">\r\n     <use xlink:href=\"#DejaVuSans-50\"/>\r\n    </g>\r\n   </g>\r\n   <g id=\"text_11\">\r\n    <!-- 2 -->\r\n    <g transform=\"translate(141.409772 151.049184)scale(0.1728 -0.1728)\">\r\n     <use xlink:href=\"#DejaVuSans-50\"/>\r\n    </g>\r\n   </g>\r\n   <g id=\"text_12\">\r\n    <!-- 6 -->\r\n    <defs>\r\n     <path d=\"M 33.015625 40.375 \r\nQ 26.375 40.375 22.484375 35.828125 \r\nQ 18.609375 31.296875 18.609375 23.390625 \r\nQ 18.609375 15.53125 22.484375 10.953125 \r\nQ 26.375 6.390625 33.015625 6.390625 \r\nQ 39.65625 6.390625 43.53125 10.953125 \r\nQ 47.40625 15.53125 47.40625 23.390625 \r\nQ 47.40625 31.296875 43.53125 35.828125 \r\nQ 39.65625 40.375 33.015625 40.375 \r\nz\r\nM 52.59375 71.296875 \r\nL 52.59375 62.3125 \r\nQ 48.875 64.0625 45.09375 64.984375 \r\nQ 41.3125 65.921875 37.59375 65.921875 \r\nQ 27.828125 65.921875 22.671875 59.328125 \r\nQ 17.53125 52.734375 16.796875 39.40625 \r\nQ 19.671875 43.65625 24.015625 45.921875 \r\nQ 28.375 48.1875 33.59375 48.1875 \r\nQ 44.578125 48.1875 50.953125 41.515625 \r\nQ 57.328125 34.859375 57.328125 23.390625 \r\nQ 57.328125 12.15625 50.6875 5.359375 \r\nQ 44.046875 -1.421875 33.015625 -1.421875 \r\nQ 20.359375 -1.421875 13.671875 8.265625 \r\nQ 6.984375 17.96875 6.984375 36.375 \r\nQ 6.984375 53.65625 15.1875 63.9375 \r\nQ 23.390625 74.21875 37.203125 74.21875 \r\nQ 40.921875 74.21875 44.703125 73.484375 \r\nQ 48.484375 72.75 52.59375 71.296875 \r\nz\r\n\" id=\"DejaVuSans-54\"/>\r\n    </defs>\r\n    <g transform=\"translate(208.514658 151.049184)scale(0.1728 -0.1728)\">\r\n     <use xlink:href=\"#DejaVuSans-54\"/>\r\n    </g>\r\n   </g>\r\n   <g id=\"text_13\">\r\n    <!-- 6 -->\r\n    <g transform=\"translate(7.2 216.408726)scale(0.1728 -0.1728)\">\r\n     <use xlink:href=\"#DejaVuSans-54\"/>\r\n    </g>\r\n   </g>\r\n   <g id=\"text_14\">\r\n    <!-- 0 -->\r\n    <defs>\r\n     <path d=\"M 31.78125 66.40625 \r\nQ 24.171875 66.40625 20.328125 58.90625 \r\nQ 16.5 51.421875 16.5 36.375 \r\nQ 16.5 21.390625 20.328125 13.890625 \r\nQ 24.171875 6.390625 31.78125 6.390625 \r\nQ 39.453125 6.390625 43.28125 13.890625 \r\nQ 47.125 21.390625 47.125 36.375 \r\nQ 47.125 51.421875 43.28125 58.90625 \r\nQ 39.453125 66.40625 31.78125 66.40625 \r\nz\r\nM 31.78125 74.21875 \r\nQ 44.046875 74.21875 50.515625 64.515625 \r\nQ 56.984375 54.828125 56.984375 36.375 \r\nQ 56.984375 17.96875 50.515625 8.265625 \r\nQ 44.046875 -1.421875 31.78125 -1.421875 \r\nQ 19.53125 -1.421875 13.0625 8.265625 \r\nQ 6.59375 17.96875 6.59375 36.375 \r\nQ 6.59375 54.828125 13.0625 64.515625 \r\nQ 19.53125 74.21875 31.78125 74.21875 \r\nz\r\n\" id=\"DejaVuSans-48\"/>\r\n    </defs>\r\n    <g transform=\"translate(74.304886 216.408726)scale(0.1728 -0.1728)\">\r\n     <use xlink:href=\"#DejaVuSans-48\"/>\r\n    </g>\r\n   </g>\r\n   <g id=\"text_15\">\r\n    <!-- 1 -->\r\n    <g transform=\"translate(141.409772 216.408726)scale(0.1728 -0.1728)\">\r\n     <use xlink:href=\"#DejaVuSans-49\"/>\r\n    </g>\r\n   </g>\r\n   <g id=\"text_16\">\r\n    <!-- 5 -->\r\n    <g transform=\"translate(208.514658 216.408726)scale(0.1728 -0.1728)\">\r\n     <use xlink:href=\"#DejaVuSans-53\"/>\r\n    </g>\r\n   </g>\r\n  </g>\r\n </g>\r\n <defs>\r\n  <clipPath id=\"p8639d79fcd\">\r\n   <rect height=\"217.44\" width=\"223.2\" x=\"7.251729\" y=\"13.243113\"/>\r\n  </clipPath>\r\n </defs>\r\n</svg>\r\n",
      "image/png": "[encoded data removed]"
     },
     "metadata": {
      "needs_background": "light"
     }
    }
   ]
  },
  {
   "cell_type": "code",
   "execution_count": 211,
   "metadata": {},
   "outputs": [
    {
     "output_type": "execute_result",
     "data": {
      "text/plain": [
       "[3, 1, 2, 2, 0, 1, 5]"
      ]
     },
     "metadata": {},
     "execution_count": 211
    }
   ],
   "source": [
    "agent_cortez.options[agent_cortez.chosen_path]"
   ]
  },
  {
   "cell_type": "code",
   "execution_count": 192,
   "metadata": {},
   "outputs": [
    {
     "output_type": "execute_result",
     "data": {
      "text/plain": [
       "array([[9, 9, 9],\n",
       "       [8, 6, 4],\n",
       "       [2, 9, 4]])"
      ]
     },
     "metadata": {},
     "execution_count": 192
    }
   ],
   "source": [
    "agent_cortez.maze.maze"
   ]
  },
  {
   "source": [
    "### Class Testing Area"
   ],
   "cell_type": "markdown",
   "metadata": {}
  },
  {
   "cell_type": "code",
   "execution_count": 11,
   "metadata": {},
   "outputs": [],
   "source": [
    "class TestAgent():\n",
    "    def __init__ (self, name, maze = None):\n",
    "        self.maze = maze\n",
    "        self.name = name\n",
    "        #self.i, self.j = 0, 0\n",
    "        #self.position = [self.i, self.j] # could just index self.position[0] and self.position[1]\n",
    "        self.curr_position = []         \n",
    "        self.position_history = []      \n",
    "        self.options = []               \n",
    "        self.option_coords = []         \n",
    "        self.options = []\n",
    "        self.option_coords = []\n",
    "        self.isFinished = False\n",
    "        self.chosen_path = 0  \n",
    "\n",
    "    def path_Naive(self, row, col, paths, coords, maze): \n",
    "        paths.append(maze[row][col])            \n",
    "        coords.append((row, col))               \n",
    "        if row == len(maze) - 1:                 \n",
    "            for i in range(col, len(maze[0])):  \n",
    "                paths.append(maze[row][i])      \n",
    "                coords.append((row, i))         \n",
    "            self.options.append(paths)         \n",
    "            self.option_coords.append(coords)   \n",
    "            return \n",
    "\n",
    "        if col == len(maze[0]) - 1:             \n",
    "            for i in range(row, len(maze)):     \n",
    "                paths.append(maze[i][col])      \n",
    "                coords.append((i, col))        \n",
    "            self.options.append(paths)\n",
    "            self.option_coords.append(coords)\n",
    "            return\n",
    "        path_Naive(row + 1, col, paths[:], coords[:], maze) \n",
    "        path_Naive(row, col + 1, paths[:], coords[:], maze)       \n",
    "\n",
    "        sum_time_vals = np.zeros(len(self.options), dtype=int) # will contain an array of all the total times for each path\n",
    "        for i in range(0, len(self.options)):\n",
    "            sum_time_vals[i] = sum(self.options[i])\n",
    "        self.chosen_path = list(sum_time_vals).index(np.min(sum_time_vals))\n",
    "        # self.options[chosen_path] contains the path chosen\n",
    "        '''\n",
    "        for i in range(len(option_coords[chosen_path])):   # now have to change the agents current position according to this path - signifies movement         \n",
    "            self.curr_position = self.options_coords[chosen_path][i] # need to add some animation on the plot ????\n",
    "        '''"
   ]
  },
  {
   "cell_type": "code",
   "execution_count": null,
   "metadata": {},
   "outputs": [],
   "source": [
    "class TestMaze():\n",
    "    def __init__ (self, height, width, mode, alg, agent):  \n",
    "        self.height = height\n",
    "        self.width = width\n",
    "        self.mode = mode\n",
    "        self.agent = agent\n",
    "        self.alg = alg\n",
    "        self.path_find_type = {'Recursive': 0, 'Dijkstra': 1, 'Ant Colony': 2}\n",
    "    \n",
    "    def create_maze(self): # generates the grid/map\n",
    "        return np.array(np.random.randint(0, 10, size = (self.height, self.width)))\n",
    "\n",
    "    def start_game(self):\n",
    "        self.maze = self.create_maze()\n",
    "        self.agent.maze = self # add agent to the maze/environment\n",
    "        self.agent.maze_disp()"
   ]
  },
  {
   "source": [
    "height, width = 3,3 # Maze has to be NxN in order for visualisation to work\n",
    "test_agent = TestAgent('Bob')\n",
    "maze = TestMaze(height, width, 1, 'Recursive', test_agent)\n",
    "maze.start_game()"
   ],
   "cell_type": "code",
   "metadata": {},
   "execution_count": null,
   "outputs": []
  },
  {
   "source": [
    "### Function Testing Area"
   ],
   "cell_type": "markdown",
   "metadata": {}
  },
  {
   "cell_type": "code",
   "execution_count": 179,
   "metadata": {},
   "outputs": [],
   "source": [
    "height, width = 3, 3\n",
    "test_maze = np.array(np.random.randint(0, 10, size=(height, width)))\n",
    "options = []\n",
    "option_coords = []"
   ]
  },
  {
   "cell_type": "code",
   "execution_count": 180,
   "metadata": {},
   "outputs": [],
   "source": [
    "def test_path_Naive(row, col, paths, coords, maze):\n",
    "    if row == len(maze) - 1: \n",
    "        for i in range(col, len(maze[0])): \n",
    "            paths.append(maze[row][i]) \n",
    "            coords.append((row, i))\n",
    "        options.append(paths)\n",
    "        option_coords.append(coords)\n",
    "        return \n",
    "\n",
    "    if col == len(maze[0]) - 1: \n",
    "        for i in range(row, len(maze)): \n",
    "            paths.append(maze[i][col])\n",
    "            coords.append((i, col))\n",
    "        options.append(paths)\n",
    "        option_coords.append(coords) \n",
    "        return\n",
    "    paths.append(maze[row][col]) \n",
    "    coords.append((row, col)) \n",
    "    test_path_Naive(row + 1, col, paths[:], coords[:], maze) \n",
    "    test_path_Naive(row, col + 1, paths[:], coords[:], maze) \n",
    "\n",
    "    sum_time_vals = np.zeros(len(options), dtype=int)\n",
    "    for i in range(0, len(options)):\n",
    "        sum_time_vals[i] = sum(options[i])\n",
    "    chosen_path = list(sum_time_vals).index(np.min(sum_time_vals))\n",
    "    return chosen_path"
   ]
  },
  {
   "cell_type": "code",
   "execution_count": 181,
   "metadata": {},
   "outputs": [],
   "source": [
    "def plot_chosen_path(maze, nx=width, ny=height, annotate=True, show_decided_path=True): \n",
    "    c1 = np.array([0, width])\n",
    "    c2 = np.array([height, 0]) \n",
    "    dim = len(c1) \n",
    "    x_pts = np.linspace(c1[0], c2[0], nx)\n",
    "    y_pts = np.linspace(c1[1], c2[1], ny)\n",
    "    Xv, Yv = np.meshgrid(x_pts, y_pts)\n",
    "    numpts = nx*ny        \n",
    "    node_array = np.zeros((numpts, 2), dtype=float)\n",
    "    node_array[:,0] = np.reshape(Xv, numpts)\n",
    "    node_array[:,1] = np.reshape(Yv, numpts)\n",
    "    num_cells = int(nx-1)*(ny-1)\n",
    "    connectivity = np.zeros((num_cells, int(2**dim)), dtype=int)\n",
    "    rows, cols = ny-1, nx-1 \n",
    "    for row in range(rows):\n",
    "        for col in range(cols):\n",
    "            num = nx*row + col\n",
    "            connectivity[cols*row + col] = [num+0, num+1, num+nx, num+nx+1]\n",
    "        \n",
    "    annotations = maze.flatten()\n",
    "    X,Y = node_array.T\n",
    "    fig = plt.figure(figsize=(nx,ny)) \n",
    "    ax = fig.add_subplot(111)\n",
    "    ax.set_aspect('auto')\n",
    "    plt.axis('off')\n",
    "    plt.scatter(X,Y, marker='o', s=50, color='g', alpha=1.0)\n",
    "    if height == width:\n",
    "        plt.plot(Xv,Yv, linewidth=2, color='k', alpha=0.2)\n",
    "        plt.plot(Yv,Xv, linewidth=2, color='k', alpha=0.2)\n",
    "    if annotate:                    \n",
    "        for i, pos in enumerate(node_array):\n",
    "            plt.text(pos[0], pos[1],  str(annotations[i]), color='k', verticalalignment='bottom', horizontalalignment='right', fontsize='xx-large')\n",
    "        \n",
    "    nodes_coords = np.split(node_array, ny)\n",
    "    path_coords_grid = []\n",
    "    for x, y in option_coords[path]: # this needs to convert a path to coordinates on the graph\n",
    "        path_coords_grid.append(nodes_coords[x][y])\n",
    "    head_length = 0.2\n",
    "    if show_decided_path:\n",
    "        for i in range(len(path_coords_grid)-1): # plots vectors for the shortest path\n",
    "            dx = path_coords_grid[i+1][0] - path_coords_grid[i][0]\n",
    "            dy = path_coords_grid[i+1][1] - path_coords_grid[i][1]\n",
    "            vec_ab = [dx,dy]\n",
    "            vec_ab_magnitude = np.sqrt(dx**2+dy**2)\n",
    "            dx = dx / vec_ab_magnitude\n",
    "            dy = dy / vec_ab_magnitude\n",
    "            vec_ab_magnitude = vec_ab_magnitude - head_length\n",
    "            plt.arrow(path_coords_grid[i][0], path_coords_grid[i][1], vec_ab_magnitude*dx, vec_ab_magnitude*dy, head_width=0.2, head_length=0.2, color='red')\n",
    "    plt.show(block=False)\n",
    "    return node_array, connectivity\n"
   ]
  },
  {
   "cell_type": "code",
   "execution_count": 182,
   "metadata": {},
   "outputs": [
    {
     "output_type": "execute_result",
     "data": {
      "text/plain": [
       "array([[7, 0, 6],\n",
       "       [2, 4, 3],\n",
       "       [6, 7, 6]])"
      ]
     },
     "metadata": {},
     "execution_count": 182
    }
   ],
   "source": [
    "test_maze"
   ]
  },
  {
   "source": [
    "path = test_path_Naive(0,0,[],[],test_maze)\n",
    "nodes, connectivity = plot_chosen_path(test_maze) # need to add options[path]"
   ],
   "cell_type": "code",
   "metadata": {},
   "execution_count": 183,
   "outputs": [
    {
     "output_type": "display_data",
     "data": {
      "text/plain": "<Figure size 216x216 with 1 Axes>",
      "image/svg+xml": "<?xml version=\"1.0\" encoding=\"utf-8\" standalone=\"no\"?>\r\n<!DOCTYPE svg PUBLIC \"-//W3C//DTD SVG 1.1//EN\"\r\n  \"http://www.w3.org/Graphics/SVG/1.1/DTD/svg11.dtd\">\r\n<!-- Created with matplotlib (https://matplotlib.org/) -->\r\n<svg height=\"185.734963pt\" version=\"1.1\" viewBox=\"0 0 184.128811 185.734963\" width=\"184.128811pt\" xmlns=\"http://www.w3.org/2000/svg\" xmlns:xlink=\"http://www.w3.org/1999/xlink\">\r\n <defs>\r\n  <style type=\"text/css\">\r\n*{stroke-linecap:butt;stroke-linejoin:round;}\r\n  </style>\r\n </defs>\r\n <g id=\"figure_1\">\r\n  <g id=\"patch_1\">\r\n   <path d=\"M 0 185.734963 \r\nL 184.128811 185.734963 \r\nL 184.128811 0 \r\nL 0 0 \r\nz\r\n\" style=\"fill:none;\"/>\r\n  </g>\r\n  <g id=\"axes_1\">\r\n   <g id=\"PathCollection_1\">\r\n    <defs>\r\n     <path d=\"M 0 3.535534 \r\nC 0.937635 3.535534 1.836992 3.163008 2.5 2.5 \r\nC 3.163008 1.836992 3.535534 0.937635 3.535534 0 \r\nC 3.535534 -0.937635 3.163008 -1.836992 2.5 -2.5 \r\nC 1.836992 -3.163008 0.937635 -3.535534 0 -3.535534 \r\nC -0.937635 -3.535534 -1.836992 -3.163008 -2.5 -2.5 \r\nC -3.163008 -1.836992 -3.535534 -0.937635 -3.535534 0 \r\nC -3.535534 0.937635 -3.163008 1.836992 -2.5 2.5 \r\nC -1.836992 3.163008 -0.937635 3.535534 0 3.535534 \r\nz\r\n\" id=\"mc16dc2b8ca\" style=\"stroke:#008000;\"/>\r\n    </defs>\r\n    <g clip-path=\"url(#p1f604d5d26)\">\r\n     <use style=\"fill:#008000;stroke:#008000;\" x=\"18.1944\" xlink:href=\"#mc16dc2b8ca\" y=\"23.9238\"/>\r\n     <use style=\"fill:#008000;stroke:#008000;\" x=\"93.228811\" xlink:href=\"#mc16dc2b8ca\" y=\"23.9238\"/>\r\n     <use style=\"fill:#008000;stroke:#008000;\" x=\"168.263222\" xlink:href=\"#mc16dc2b8ca\" y=\"23.9238\"/>\r\n     <use style=\"fill:#008000;stroke:#008000;\" x=\"18.1944\" xlink:href=\"#mc16dc2b8ca\" y=\"96.994963\"/>\r\n     <use style=\"fill:#008000;stroke:#008000;\" x=\"93.228811\" xlink:href=\"#mc16dc2b8ca\" y=\"96.994963\"/>\r\n     <use style=\"fill:#008000;stroke:#008000;\" x=\"168.263222\" xlink:href=\"#mc16dc2b8ca\" y=\"96.994963\"/>\r\n     <use style=\"fill:#008000;stroke:#008000;\" x=\"18.1944\" xlink:href=\"#mc16dc2b8ca\" y=\"170.066126\"/>\r\n     <use style=\"fill:#008000;stroke:#008000;\" x=\"93.228811\" xlink:href=\"#mc16dc2b8ca\" y=\"170.066126\"/>\r\n     <use style=\"fill:#008000;stroke:#008000;\" x=\"168.263222\" xlink:href=\"#mc16dc2b8ca\" y=\"170.066126\"/>\r\n    </g>\r\n   </g>\r\n   <g id=\"patch_2\">\r\n    <path clip-path=\"url(#p1f604d5d26)\" d=\"M 93.228811 23.9238 \r\nL 83.224223 28.795211 \r\nL 83.224223 23.948157 \r\nL 18.1944 23.948157 \r\nL 18.1944 23.899443 \r\nL 83.224223 23.899443 \r\nL 83.224223 19.052389 \r\nz\r\n\" style=\"fill:#ff0000;stroke:#ff0000;stroke-linejoin:miter;\"/>\r\n   </g>\r\n   <g id=\"patch_3\">\r\n    <path clip-path=\"url(#p1f604d5d26)\" d=\"M 93.228811 96.994963 \r\nL 88.226517 87.252141 \r\nL 93.203799 87.252141 \r\nL 93.203799 23.9238 \r\nL 93.253822 23.9238 \r\nL 93.253822 87.252141 \r\nL 98.231105 87.252141 \r\nz\r\n\" style=\"fill:#ff0000;stroke:#ff0000;stroke-linejoin:miter;\"/>\r\n   </g>\r\n   <g id=\"patch_4\">\r\n    <path clip-path=\"url(#p1f604d5d26)\" d=\"M 168.263222 96.994963 \r\nL 158.258634 101.866374 \r\nL 158.258634 97.01932 \r\nL 93.228811 97.01932 \r\nL 93.228811 96.970606 \r\nL 158.258634 96.970606 \r\nL 158.258634 92.123552 \r\nz\r\n\" style=\"fill:#ff0000;stroke:#ff0000;stroke-linejoin:miter;\"/>\r\n   </g>\r\n   <g id=\"patch_5\">\r\n    <path clip-path=\"url(#p1f604d5d26)\" d=\"M 168.263222 170.066126 \r\nL 163.260928 160.323304 \r\nL 168.23821 160.323304 \r\nL 168.23821 96.994963 \r\nL 168.288233 96.994963 \r\nL 168.288233 160.323304 \r\nL 173.265516 160.323304 \r\nz\r\n\" style=\"fill:#ff0000;stroke:#ff0000;stroke-linejoin:miter;\"/>\r\n   </g>\r\n   <g id=\"line2d_1\">\r\n    <path clip-path=\"url(#p1f604d5d26)\" d=\"M 18.1944 23.9238 \r\nL 18.1944 96.994963 \r\nL 18.1944 170.066126 \r\n\" style=\"fill:none;stroke:#000000;stroke-linecap:square;stroke-opacity:0.2;stroke-width:2;\"/>\r\n   </g>\r\n   <g id=\"line2d_2\">\r\n    <path clip-path=\"url(#p1f604d5d26)\" d=\"M 93.228811 23.9238 \r\nL 93.228811 96.994963 \r\nL 93.228811 170.066126 \r\n\" style=\"fill:none;stroke:#000000;stroke-linecap:square;stroke-opacity:0.2;stroke-width:2;\"/>\r\n   </g>\r\n   <g id=\"line2d_3\">\r\n    <path clip-path=\"url(#p1f604d5d26)\" d=\"M 168.263222 23.9238 \r\nL 168.263222 96.994963 \r\nL 168.263222 170.066126 \r\n\" style=\"fill:none;stroke:#000000;stroke-linecap:square;stroke-opacity:0.2;stroke-width:2;\"/>\r\n   </g>\r\n   <g id=\"line2d_4\">\r\n    <path clip-path=\"url(#p1f604d5d26)\" d=\"M 168.263222 170.066126 \r\nL 93.228811 170.066126 \r\nL 18.1944 170.066126 \r\n\" style=\"fill:none;stroke:#000000;stroke-linecap:square;stroke-opacity:0.2;stroke-width:2;\"/>\r\n   </g>\r\n   <g id=\"line2d_5\">\r\n    <path clip-path=\"url(#p1f604d5d26)\" d=\"M 168.263222 96.994963 \r\nL 93.228811 96.994963 \r\nL 18.1944 96.994963 \r\n\" style=\"fill:none;stroke:#000000;stroke-linecap:square;stroke-opacity:0.2;stroke-width:2;\"/>\r\n   </g>\r\n   <g id=\"line2d_6\">\r\n    <path clip-path=\"url(#p1f604d5d26)\" d=\"M 168.263222 23.9238 \r\nL 93.228811 23.9238 \r\nL 18.1944 23.9238 \r\n\" style=\"fill:none;stroke:#000000;stroke-linecap:square;stroke-opacity:0.2;stroke-width:2;\"/>\r\n   </g>\r\n   <g id=\"text_1\">\r\n    <!-- 7 -->\r\n    <defs>\r\n     <path d=\"M 8.203125 72.90625 \r\nL 55.078125 72.90625 \r\nL 55.078125 68.703125 \r\nL 28.609375 0 \r\nL 18.3125 0 \r\nL 43.21875 64.59375 \r\nL 8.203125 64.59375 \r\nz\r\n\" id=\"DejaVuSans-55\"/>\r\n    </defs>\r\n    <g transform=\"translate(7.2 20.3301)scale(0.1728 -0.1728)\">\r\n     <use xlink:href=\"#DejaVuSans-55\"/>\r\n    </g>\r\n   </g>\r\n   <g id=\"text_2\">\r\n    <!-- 0 -->\r\n    <defs>\r\n     <path d=\"M 31.78125 66.40625 \r\nQ 24.171875 66.40625 20.328125 58.90625 \r\nQ 16.5 51.421875 16.5 36.375 \r\nQ 16.5 21.390625 20.328125 13.890625 \r\nQ 24.171875 6.390625 31.78125 6.390625 \r\nQ 39.453125 6.390625 43.28125 13.890625 \r\nQ 47.125 21.390625 47.125 36.375 \r\nQ 47.125 51.421875 43.28125 58.90625 \r\nQ 39.453125 66.40625 31.78125 66.40625 \r\nz\r\nM 31.78125 74.21875 \r\nQ 44.046875 74.21875 50.515625 64.515625 \r\nQ 56.984375 54.828125 56.984375 36.375 \r\nQ 56.984375 17.96875 50.515625 8.265625 \r\nQ 44.046875 -1.421875 31.78125 -1.421875 \r\nQ 19.53125 -1.421875 13.0625 8.265625 \r\nQ 6.59375 17.96875 6.59375 36.375 \r\nQ 6.59375 54.828125 13.0625 64.515625 \r\nQ 19.53125 74.21875 31.78125 74.21875 \r\nz\r\n\" id=\"DejaVuSans-48\"/>\r\n    </defs>\r\n    <g transform=\"translate(82.234411 20.3301)scale(0.1728 -0.1728)\">\r\n     <use xlink:href=\"#DejaVuSans-48\"/>\r\n    </g>\r\n   </g>\r\n   <g id=\"text_3\">\r\n    <!-- 6 -->\r\n    <defs>\r\n     <path d=\"M 33.015625 40.375 \r\nQ 26.375 40.375 22.484375 35.828125 \r\nQ 18.609375 31.296875 18.609375 23.390625 \r\nQ 18.609375 15.53125 22.484375 10.953125 \r\nQ 26.375 6.390625 33.015625 6.390625 \r\nQ 39.65625 6.390625 43.53125 10.953125 \r\nQ 47.40625 15.53125 47.40625 23.390625 \r\nQ 47.40625 31.296875 43.53125 35.828125 \r\nQ 39.65625 40.375 33.015625 40.375 \r\nz\r\nM 52.59375 71.296875 \r\nL 52.59375 62.3125 \r\nQ 48.875 64.0625 45.09375 64.984375 \r\nQ 41.3125 65.921875 37.59375 65.921875 \r\nQ 27.828125 65.921875 22.671875 59.328125 \r\nQ 17.53125 52.734375 16.796875 39.40625 \r\nQ 19.671875 43.65625 24.015625 45.921875 \r\nQ 28.375 48.1875 33.59375 48.1875 \r\nQ 44.578125 48.1875 50.953125 41.515625 \r\nQ 57.328125 34.859375 57.328125 23.390625 \r\nQ 57.328125 12.15625 50.6875 5.359375 \r\nQ 44.046875 -1.421875 33.015625 -1.421875 \r\nQ 20.359375 -1.421875 13.671875 8.265625 \r\nQ 6.984375 17.96875 6.984375 36.375 \r\nQ 6.984375 53.65625 15.1875 63.9375 \r\nQ 23.390625 74.21875 37.203125 74.21875 \r\nQ 40.921875 74.21875 44.703125 73.484375 \r\nQ 48.484375 72.75 52.59375 71.296875 \r\nz\r\n\" id=\"DejaVuSans-54\"/>\r\n    </defs>\r\n    <g transform=\"translate(157.268822 20.3301)scale(0.1728 -0.1728)\">\r\n     <use xlink:href=\"#DejaVuSans-54\"/>\r\n    </g>\r\n   </g>\r\n   <g id=\"text_4\">\r\n    <!-- 2 -->\r\n    <defs>\r\n     <path d=\"M 19.1875 8.296875 \r\nL 53.609375 8.296875 \r\nL 53.609375 0 \r\nL 7.328125 0 \r\nL 7.328125 8.296875 \r\nQ 12.9375 14.109375 22.625 23.890625 \r\nQ 32.328125 33.6875 34.8125 36.53125 \r\nQ 39.546875 41.84375 41.421875 45.53125 \r\nQ 43.3125 49.21875 43.3125 52.78125 \r\nQ 43.3125 58.59375 39.234375 62.25 \r\nQ 35.15625 65.921875 28.609375 65.921875 \r\nQ 23.96875 65.921875 18.8125 64.3125 \r\nQ 13.671875 62.703125 7.8125 59.421875 \r\nL 7.8125 69.390625 \r\nQ 13.765625 71.78125 18.9375 73 \r\nQ 24.125 74.21875 28.421875 74.21875 \r\nQ 39.75 74.21875 46.484375 68.546875 \r\nQ 53.21875 62.890625 53.21875 53.421875 \r\nQ 53.21875 48.921875 51.53125 44.890625 \r\nQ 49.859375 40.875 45.40625 35.40625 \r\nQ 44.1875 33.984375 37.640625 27.21875 \r\nQ 31.109375 20.453125 19.1875 8.296875 \r\nz\r\n\" id=\"DejaVuSans-50\"/>\r\n    </defs>\r\n    <g transform=\"translate(7.2 93.401263)scale(0.1728 -0.1728)\">\r\n     <use xlink:href=\"#DejaVuSans-50\"/>\r\n    </g>\r\n   </g>\r\n   <g id=\"text_5\">\r\n    <!-- 4 -->\r\n    <defs>\r\n     <path d=\"M 37.796875 64.3125 \r\nL 12.890625 25.390625 \r\nL 37.796875 25.390625 \r\nz\r\nM 35.203125 72.90625 \r\nL 47.609375 72.90625 \r\nL 47.609375 25.390625 \r\nL 58.015625 25.390625 \r\nL 58.015625 17.1875 \r\nL 47.609375 17.1875 \r\nL 47.609375 0 \r\nL 37.796875 0 \r\nL 37.796875 17.1875 \r\nL 4.890625 17.1875 \r\nL 4.890625 26.703125 \r\nz\r\n\" id=\"DejaVuSans-52\"/>\r\n    </defs>\r\n    <g transform=\"translate(82.234411 93.401263)scale(0.1728 -0.1728)\">\r\n     <use xlink:href=\"#DejaVuSans-52\"/>\r\n    </g>\r\n   </g>\r\n   <g id=\"text_6\">\r\n    <!-- 3 -->\r\n    <defs>\r\n     <path d=\"M 40.578125 39.3125 \r\nQ 47.65625 37.796875 51.625 33 \r\nQ 55.609375 28.21875 55.609375 21.1875 \r\nQ 55.609375 10.40625 48.1875 4.484375 \r\nQ 40.765625 -1.421875 27.09375 -1.421875 \r\nQ 22.515625 -1.421875 17.65625 -0.515625 \r\nQ 12.796875 0.390625 7.625 2.203125 \r\nL 7.625 11.71875 \r\nQ 11.71875 9.328125 16.59375 8.109375 \r\nQ 21.484375 6.890625 26.8125 6.890625 \r\nQ 36.078125 6.890625 40.9375 10.546875 \r\nQ 45.796875 14.203125 45.796875 21.1875 \r\nQ 45.796875 27.640625 41.28125 31.265625 \r\nQ 36.765625 34.90625 28.71875 34.90625 \r\nL 20.21875 34.90625 \r\nL 20.21875 43.015625 \r\nL 29.109375 43.015625 \r\nQ 36.375 43.015625 40.234375 45.921875 \r\nQ 44.09375 48.828125 44.09375 54.296875 \r\nQ 44.09375 59.90625 40.109375 62.90625 \r\nQ 36.140625 65.921875 28.71875 65.921875 \r\nQ 24.65625 65.921875 20.015625 65.03125 \r\nQ 15.375 64.15625 9.8125 62.3125 \r\nL 9.8125 71.09375 \r\nQ 15.4375 72.65625 20.34375 73.4375 \r\nQ 25.25 74.21875 29.59375 74.21875 \r\nQ 40.828125 74.21875 47.359375 69.109375 \r\nQ 53.90625 64.015625 53.90625 55.328125 \r\nQ 53.90625 49.265625 50.4375 45.09375 \r\nQ 46.96875 40.921875 40.578125 39.3125 \r\nz\r\n\" id=\"DejaVuSans-51\"/>\r\n    </defs>\r\n    <g transform=\"translate(157.268822 93.401263)scale(0.1728 -0.1728)\">\r\n     <use xlink:href=\"#DejaVuSans-51\"/>\r\n    </g>\r\n   </g>\r\n   <g id=\"text_7\">\r\n    <!-- 6 -->\r\n    <g transform=\"translate(7.2 166.472426)scale(0.1728 -0.1728)\">\r\n     <use xlink:href=\"#DejaVuSans-54\"/>\r\n    </g>\r\n   </g>\r\n   <g id=\"text_8\">\r\n    <!-- 7 -->\r\n    <g transform=\"translate(82.234411 166.472426)scale(0.1728 -0.1728)\">\r\n     <use xlink:href=\"#DejaVuSans-55\"/>\r\n    </g>\r\n   </g>\r\n   <g id=\"text_9\">\r\n    <!-- 6 -->\r\n    <g transform=\"translate(157.268822 166.472426)scale(0.1728 -0.1728)\">\r\n     <use xlink:href=\"#DejaVuSans-54\"/>\r\n    </g>\r\n   </g>\r\n  </g>\r\n </g>\r\n <defs>\r\n  <clipPath id=\"p1f604d5d26\">\r\n   <rect height=\"163.08\" width=\"167.4\" x=\"9.528811\" y=\"15.454963\"/>\r\n  </clipPath>\r\n </defs>\r\n</svg>\r\n",
      "image/png": "[encoded data removed]"
     },
     "metadata": {
      "needs_background": "light"
     }
    }
   ]
  },
  {
   "cell_type": "code",
   "execution_count": 184,
   "metadata": {},
   "outputs": [
    {
     "output_type": "execute_result",
     "data": {
      "text/plain": [
       "[7, 0, 4, 3, 6]"
      ]
     },
     "metadata": {},
     "execution_count": 184
    }
   ],
   "source": [
    "options[path]"
   ]
  },
  {
   "cell_type": "code",
   "execution_count": 68,
   "metadata": {},
   "outputs": [
    {
     "output_type": "execute_result",
     "data": {
      "text/plain": [
       "[(0, 0), (0, 1), (1, 1), (1, 2), (2, 2), (2, 3), (2, 4)]"
      ]
     },
     "metadata": {},
     "execution_count": 68
    }
   ],
   "source": [
    "option_coords[path]"
   ]
  },
  {
   "cell_type": "code",
   "execution_count": 70,
   "metadata": {},
   "outputs": [
    {
     "output_type": "stream",
     "name": "stdout",
     "text": [
      "[array([[0.  , 5.  ],\n       [0.75, 5.  ],\n       [1.5 , 5.  ],\n       [2.25, 5.  ],\n       [3.  , 5.  ]]), array([[0.  , 2.5 ],\n       [0.75, 2.5 ],\n       [1.5 , 2.5 ],\n       [2.25, 2.5 ],\n       [3.  , 2.5 ]]), array([[0.  , 0.  ],\n       [0.75, 0.  ],\n       [1.5 , 0.  ],\n       [2.25, 0.  ],\n       [3.  , 0.  ]])]\n"
     ]
    }
   ],
   "source": [
    "nodes_coords = np.split(nodes, height)\n",
    "print(nodes_coords)"
   ]
  },
  {
   "cell_type": "code",
   "execution_count": 75,
   "metadata": {},
   "outputs": [],
   "source": [
    "path_coords_grid = []\n",
    "for x, y in option_coords[path]:\n",
    "    path_coords_grid.append(nodes_coords[x][y])"
   ]
  },
  {
   "cell_type": "code",
   "execution_count": 51,
   "metadata": {},
   "outputs": [
    {
     "output_type": "execute_result",
     "data": {
      "text/plain": [
       "array([[0, 1, 3, 4],\n",
       "       [1, 2, 4, 5],\n",
       "       [3, 4, 6, 7],\n",
       "       [4, 5, 7, 8]])"
      ]
     },
     "metadata": {},
     "execution_count": 51
    }
   ],
   "source": [
    "connectivity"
   ]
  }
 ]
}