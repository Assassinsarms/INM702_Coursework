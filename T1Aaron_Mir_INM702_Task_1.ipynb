{
 "metadata": {
  "language_info": {
   "codemirror_mode": {
    "name": "ipython",
    "version": 3
   },
   "file_extension": ".py",
   "mimetype": "text/x-python",
   "name": "python",
   "nbconvert_exporter": "python",
   "pygments_lexer": "ipython3",
   "version": "3.8.1-final"
  },
  "orig_nbformat": 2,
  "kernelspec": {
   "name": "python3",
   "display_name": "Python 3.8.1 64-bit",
   "metadata": {
    "interpreter": {
     "hash": "2db524e06e9f5f4ffedc911c917cb75e12dbc923643829bf417064a77eb14d37"
    }
   }
  }
 },
 "nbformat": 4,
 "nbformat_minor": 2,
 "cells": [
  {
   "source": [
    "# INM702 Coursework Task 1 \n",
    "### Aaron Mir (Student Number: 160001207)\n",
    "#### 20/12/20"
   ],
   "cell_type": "markdown",
   "metadata": {}
  },
  {
   "source": [
    "<img src=\"Task1(1).jpg\" alt=\"Task1(1)\" width=\"700\"/>\n",
    "<img src=\"Task1(2).jpg\" alt=\"Task1(2)\" width=\"700\"/>\n",
    "<img src=\"Task1(3).jpg\" alt=\"Task1(3)\" width=\"700\"/>\n",
    "<img src=\"Task1(4).jpg\" alt=\"Task1(4)\" width=\"700\"/>\n"
   ],
   "cell_type": "markdown",
   "metadata": {}
  },
  {
   "source": [
    "The first task tests your Python skills. You need to develop a simple game consisting of a rectangular grid (of size height x width) where each cell has a random integer value between 0 and 9. An agent starts at the upper-left corner of the grid and must  reach the lower-right corner of the grid as fast as possible. You can implement one of the two (or both, for no extra point) game modes:\n",
    "\n",
    "    • The time spent on a cell is the number on this cell\n",
    "    • The time spent on a cell is the absolute of the difference between the previous cell the agent was on and the current cell it is on\n",
    "\n",
    "In order to solve this problem, you will provide 3 algorithms:\n",
    "\n",
    "    • A first baseline of your choosing. E.g. it can be any search algorithm, or an algorithm using heuristics. \n",
    "    It doesn’t have to perform fast or well, but  should be better than random movements.\n",
    "    • Dijkstra's algorithm\n",
    "    • Ant colony optimization algorithm\n",
    "\n",
    "You should describe the algorithms and compare them. Are they always solving the problem? How long do they take depending on the size of the maze?\n"
   ],
   "cell_type": "markdown",
   "metadata": {}
  },
  {
   "cell_type": "code",
   "execution_count": 1,
   "metadata": {},
   "outputs": [
    {
     "output_type": "stream",
     "name": "stdout",
     "text": [
      "Python: 3.8.1 (tags/v3.8.1:1b293b6, Dec 18 2019, 23:11:46) [MSC v.1916 64 bit (AMD64)]\nNumpy Version: 1.18.1\nPyTorch Version: 1.6.0+cu101\nTorchvision Version: 0.7.0+cu101\n"
     ]
    }
   ],
   "source": [
    "from __future__ import division\n",
    "import matplotlib.pyplot as plt\n",
    "from matplotlib import colors\n",
    "from matplotlib import animation\n",
    "import numpy as np\n",
    "import torch \n",
    "import torchvision as tv\n",
    "import sys\n",
    "import random\n",
    "import copy\n",
    "np.set_printoptions(threshold=sys.maxsize)\n",
    "np.random.seed(1)\n",
    "\n",
    "print(f\"Python: {sys.version}\")\n",
    "print(f\"Numpy Version: {np.__version__}\")\n",
    "print(f\"PyTorch Version: {torch.__version__}\")\n",
    "print(f\"Torchvision Version: {tv.__version__}\")\n",
    "# Use assert to test functions\n",
    "    "
   ]
  },
  {
   "source": [
    "class Agent():\n",
    "    '''\n",
    "    A class to represent an agent. The goal of the agent is to move along the grid from the upper left corner to the lower right corner using the shortest path possible.'''\n",
    "\n",
    "    def __init__ (self, name, maze = None):\n",
    "        self.name = name\n",
    "        self.i, self.j = 0, 0\n",
    "        self.position = [self.i, self.j] # could just index self.position[0] and self.position[1]\n",
    "        self.maze = maze\n",
    "        self.isFinished = False  #Changes if agent reaches position \n",
    "        #self.marker = plt.Circle((self.__x + 0.5, self.__y + 0.5), radius=0.4, fc='y')\n",
    "\n",
    "    def move(self, move_type):\n",
    "        if move_type == 'Up':\n",
    "            self.i -= 1\n",
    "        if move_type == 'Down':\n",
    "            self.i += 1\n",
    "        if move_type == 'Left':\n",
    "            self.j -= 1\n",
    "        if move_type == 'Right':\n",
    "            self.j += 1 \n",
    "    \n",
    "    def all_possible_paths(row, col, paths, maze):\n",
    "        if row == len(maze) - 1:\n",
    "            for i in range(col, len(maze[0])):\n",
    "                paths.append(maze[row][i])\n",
    "            print(paths) \n",
    "            return\n",
    "\n",
    "        if col == len(maze[0]) - 1:\n",
    "            for i in range(row, len(maze)):\n",
    "                paths.append(maze[i][col])\n",
    "            print(paths)\n",
    "            return\n",
    "\n",
    "        paths.append(maze[row][col])\n",
    "        all_possible_paths(row + 1, col, paths[:], maze)\n",
    "        all_possible_paths(row, col + 1, paths[:], maze)\n",
    "    \n",
    "    def path_Naive(self): #use self.maze.maze to reference the actually grid\n",
    "        # Split the grid into smaller grids and compare which number on each cell is lowest\n",
    "        # Here we will change the values of i and j i.e. the position of the agent\n",
    "        # after the comparison is made between different cells\n",
    "        # Here I will also outline the finishing point and state that the agent shouldn't go to cells it has already visited\n",
    "        time = 0\n",
    "        options = self.all_possible_paths(self.i, self.j, [], self.maze.maze)\n",
    "        if self.isFinished == False: #use a while loop?\n",
    "            for i in options:\n",
    "                # use move function\n",
    "                time += self.maze.maze[self.i][self.j] # finds the total amount of time travelled using Naive path\n",
    "\n",
    "                if self.i == self.height and self.i == self.width:\n",
    "                    self.isFinished == True\n",
    "                    break\n",
    "'''  \n",
    "    def path_Dijkstra(self): # HAS TO LOOK AT THE GRID AS A WHOLE AND FIND THE PATH BEFORE TAKING IT\n",
    "        time = 0\n",
    "        for cell in self.maze:\n",
    "            time += self.maze[self.i, self.j] # finds the total amount of time travelled using Dijkstra path\n",
    "\n",
    "    def path_AntCol(self):\n",
    "        time = 0\n",
    "        for cell in self.maze:\n",
    "            time += self.maze[self.i, self.j] # finds the total amount of time travelled using AntColony path\n",
    "'''"
   ],
   "cell_type": "code",
   "metadata": {},
   "execution_count": 21,
   "outputs": []
  },
  {
   "cell_type": "code",
   "execution_count": 26,
   "metadata": {},
   "outputs": [],
   "source": [
    "class IntMaze():\n",
    "    '''\n",
    "    A class to represent a maze. A maze in this scenario is a 2D (height x width) grid where each cell has a number associated to it. This cell number indicates the time an agent spends on a cell. There are 2 game modes. Game mode 1 is where the time spent on a cell is the number on this cell. Game mode 2 is where the time spent on a cell is the absolute of the difference between the previous cell the agent was on and the current cell it is on. '''\n",
    "\n",
    "    def __init__ (self, height, width, mode, alg, agent):  \n",
    "        self.height = height\n",
    "        self.width = width\n",
    "        self.mode = mode\n",
    "        self.agent = agent\n",
    "        self.alg = alg\n",
    "        self.path_find_type = {'Naive': 0, 'Dijkstra': 1, 'Ant Colony': 2}\n",
    "    \n",
    "    def create_maze(self): # generates the grid/map\n",
    "        return np.array(np.random.randint(0, 10, size = (self.height, self.width)))\n",
    "\n",
    "    def start_game(self):\n",
    "        self.maze = self.create_maze() #create the grid/maze\n",
    "        self.agent.maze = self # add agent to the maze/environment\n",
    "        if self.mode == 1:\n",
    "            if self.path_find_type[self.alg] == 0: # Naive approach\n",
    "                self.agent.path_Naive()\n",
    "\n",
    "            elif self.path_find_type[self.alg] == 1: # Dijkstra \n",
    "                self.agent.path_Dijkstra()\n",
    "\n",
    "            elif self.path_find_type[self.alg] == 2: # Antcolony \n",
    "                self.agent.path_AntCol()\n",
    "\n",
    "        if self.mode == 2:\n",
    "            if self.path_find_type == 0: # Naive approach\n",
    "                self.agent.path_Naive()\n",
    "\n",
    "            elif self.path_find_type == 1: # Dijkstra \n",
    "                self.agent.path_Dijkstra()\n",
    "\n",
    "            elif self.path_find_type == 2: # Antcolony \n",
    "                self.agent.path_AntCol()\n",
    "    \n",
    "    def maze_reset(self):\n",
    "        pass\n",
    "\n",
    "    def plot_maze(self): # agent has colour red which is slightly transparent? \n",
    "        # Display possible options the agent can take on the plot\n",
    "        fig = plt.figure()\n",
    "        cmap = colors.ListedColormap(['white','green', '#ffff99', 'gold', 'orange', '#550011', 'black', 'purple', '#f0027f', '#386cb0'])\n",
    "        plt.imshow(maze, cmap = cmap, alpha = 0.5) \n",
    "        plt.colorbar(cmap=cmap)\n",
    "        #use funcanimation to show agent moving along the grid?\n",
    "        plt.show()   "
   ]
  },
  {
   "cell_type": "code",
   "execution_count": 11,
   "metadata": {},
   "outputs": [],
   "source": [
    "class TestAgent():\n",
    "    def __init__ (self, name, maze = None):\n",
    "        self.name = name\n",
    "        self.i, self.j = 0, 0\n",
    "        self.position = (self.i, self.j) # could just index self.position[0] and self.position[1]\n",
    "        self.maze = maze\n",
    "\n",
    "    def maze_disp(self):\n",
    "        print(self.maze.maze)\n",
    "\n",
    "class TestMaze():\n",
    "    def __init__ (self, height, width, mode, alg, agent):  \n",
    "        self.height = height\n",
    "        self.width = width\n",
    "        self.mode = mode\n",
    "        self.agent = agent\n",
    "        self.alg = alg\n",
    "        self.path_find_type = {'Naive': 0, 'Dijkstra': 1, 'AntColony': 2}\n",
    "    \n",
    "    def create_maze(self): # generates the grid/map\n",
    "        return np.array(np.random.randint(0, 10, size = (self.height, self.width)))\n",
    "\n",
    "    def start_game(self):\n",
    "        self.maze = self.create_maze()\n",
    "        self.agent.maze = self # add agent to the maze/environment\n",
    "        self.agent.maze_disp()"
   ]
  },
  {
   "cell_type": "code",
   "execution_count": 12,
   "metadata": {},
   "outputs": [
    {
     "output_type": "stream",
     "name": "stdout",
     "text": [
      "[[5 8 9 5 0 0 1 7 6]\n [9 2 4 5 2 4 2 4 7]\n [7 9 1 7 0 6 9 9 7]\n [6 9 1 0 1 8 8 3 9]]\n"
     ]
    }
   ],
   "source": [
    "test_agent = TestAgent('Bob')\n",
    "maze = TestMaze(4, 9, 1, 'Naive', test_agent)\n",
    "maze.start_game()"
   ]
  },
  {
   "cell_type": "code",
   "execution_count": 9,
   "metadata": {},
   "outputs": [
    {
     "output_type": "execute_result",
     "data": {
      "text/plain": [
       "1"
      ]
     },
     "metadata": {},
     "execution_count": 9
    }
   ],
   "source": [
    "test_agent.maze.maze[-1][0]"
   ]
  },
  {
   "source": [
    "agent_cortez = Agent('Bob')\n",
    "maze = IntMaze(9, 9, 1, 'Naive', agent_cortez)\n",
    "maze.start_game()\n",
    "#At runtime, we want to initialise the maze, initialise the agent, choose which algorithm it will follow and what game mode it will play"
   ],
   "cell_type": "code",
   "metadata": {},
   "execution_count": null,
   "outputs": []
  },
  {
   "cell_type": "code",
   "execution_count": 9,
   "metadata": {},
   "outputs": [],
   "source": [
    "test_maze = np.array(np.random.randint(0, 10, size = (5, 4)))"
   ]
  },
  {
   "cell_type": "code",
   "execution_count": 3,
   "metadata": {},
   "outputs": [],
   "source": [
    "def all_possible_paths(row, col, paths, maze):\n",
    "    if row == len(maze) - 1:\n",
    "        for i in range(col, len(maze[0])):\n",
    "            paths.append(maze[row][i])\n",
    "        print(paths) \n",
    "        return\n",
    "\n",
    "    if col == len(maze[0]) - 1:\n",
    "        for i in range(row, len(maze)):\n",
    "            paths.append(maze[i][col])\n",
    "        print(paths)\n",
    "        return\n",
    "\n",
    "    paths.append(maze[row][col])\n",
    "    all_possible_paths(row + 1, col, paths[:], maze)\n",
    "    all_possible_paths(row, col + 1, paths[:], maze)"
   ]
  },
  {
   "cell_type": "code",
   "execution_count": 4,
   "metadata": {},
   "outputs": [
    {
     "output_type": "stream",
     "name": "stdout",
     "text": [
      "[5, 0, 6, 5, 2, 4, 2]\n[5, 0, 6, 9, 2, 4, 2]\n[5, 0, 6, 9, 2, 4, 2]\n[5, 0, 6, 9, 2, 4, 2]\n[5, 0, 0, 9, 2, 4, 2]\n[5, 0, 0, 9, 2, 4, 2]\n[5, 0, 0, 9, 2, 4, 2]\n[5, 0, 0, 1, 2, 4, 2]\n[5, 0, 0, 1, 2, 4, 2]\n[5, 0, 0, 1, 7, 4, 2]\n[5, 8, 0, 9, 2, 4, 2]\n[5, 8, 0, 9, 2, 4, 2]\n[5, 8, 0, 9, 2, 4, 2]\n[5, 8, 0, 1, 2, 4, 2]\n[5, 8, 0, 1, 2, 4, 2]\n[5, 8, 0, 1, 7, 4, 2]\n[5, 8, 9, 1, 2, 4, 2]\n[5, 8, 9, 1, 2, 4, 2]\n[5, 8, 9, 1, 7, 4, 2]\n[5, 8, 9, 5, 7, 4, 2]\nNone\n"
     ]
    }
   ],
   "source": [
    "print(all_possible_paths(0, 0, [], test_maze))"
   ]
  },
  {
   "cell_type": "code",
   "execution_count": 11,
   "metadata": {},
   "outputs": [
    {
     "output_type": "execute_result",
     "data": {
      "text/plain": [
       "array([[4, 7, 7, 9],\n",
       "       [1, 7, 0, 6],\n",
       "       [9, 9, 7, 6],\n",
       "       [9, 1, 0, 1],\n",
       "       [8, 8, 3, 9]])"
      ]
     },
     "metadata": {},
     "execution_count": 11
    }
   ],
   "source": [
    "test_maze"
   ]
  },
  {
   "cell_type": "code",
   "execution_count": null,
   "metadata": {},
   "outputs": [],
   "source": [
    "'''\n",
    "def immediate_possible_options(self): # this checks the possible options the agent can take at any given position. Eliminates possibility of agent from going over edges of the grid. Puts the values of each option [up, down, left, right] in an array where if one option is not possible, it is given a value of 0\n",
    "        immediate_possible_options = []\n",
    "        if self.i - 1 == -1 or self.i + 1 > self.maze.height:\n",
    "            up = 0\n",
    "            possible_options.append(up)\n",
    "        else:\n",
    "            up = self.maze.maze[self.i - 1][self.j]\n",
    "            possible_options.append(up)\n",
    "        \n",
    "        if self.i + 1 > self.maze.height:\n",
    "            down = 0\n",
    "            possible_options.append(down)\n",
    "        else:\n",
    "            down = self.maze.maze[self.i + 1][self.j]\n",
    "            possible_options.append(down)\n",
    "        \n",
    "        if self.j - 1 == -1:\n",
    "            left = 0\n",
    "            possible_options.append(left)\n",
    "        else:\n",
    "            left = self.maze.maze[self.i][self.j - 1]\n",
    "            possible_options.append(left)\n",
    "        \n",
    "        if self.j + 1 > self.maze.height:\n",
    "            right = 0\n",
    "            possible_options.append(right)\n",
    "        else:\n",
    "            right = self.maze.maze[self.i][self.j + 1]\n",
    "            possible_options.append(right)\n",
    "        return possible_options\n",
    "        '''"
   ]
  }
 ]
}