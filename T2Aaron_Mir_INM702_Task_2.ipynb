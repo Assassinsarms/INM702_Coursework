{
 "metadata": {
  "language_info": {
   "codemirror_mode": {
    "name": "ipython",
    "version": 3
   },
   "file_extension": ".py",
   "mimetype": "text/x-python",
   "name": "python",
   "nbconvert_exporter": "python",
   "pygments_lexer": "ipython3",
   "version": "3.8.1-final"
  },
  "orig_nbformat": 2,
  "kernelspec": {
   "name": "python3",
   "display_name": "Python 3.8.1 64-bit",
   "metadata": {
    "interpreter": {
     "hash": "2db524e06e9f5f4ffedc911c917cb75e12dbc923643829bf417064a77eb14d37"
    }
   }
  }
 },
 "nbformat": 4,
 "nbformat_minor": 2,
 "cells": [
  {
   "source": [
    "# INM702 Coursework Task 2\n",
    "### Aaron Mir (Student Number: 160001207)"
   ],
   "cell_type": "markdown",
   "metadata": {}
  },
  {
   "source": [
    "The second task is about classifying handwritten digits. We will use the MNIST dataset for training and testing. The point of this task is to develop a multi-layer neural network for classification using mostly Numpy:\n",
    "\n",
    "\n",
    "    • Implement sigmoid and relu layers (with forward and backward pass) hidden layers\n",
    "\n",
    "    • Implement a softmax output classification layer \n",
    "    \n",
    "    • Implement a fully parameterizable neural network (number and types of layers, number of units)\n",
    "\n",
    "    • Implement an optimizer(e.g. SGD or Adam)and a stopping criterion of your choosing\n",
    "\n",
    "    • Train your Neural Network using backpropagation\n",
    "\n",
    "    • Keep track of your statistics i.e. different means/variance\n",
    "\n",
    "Evaluate different neural network architectures and compare your different results. e.g. fully relu vs fully sigmoid, number of layers etc.\n",
    "\n",
    "You can also compare withthe results presented in http://yann.lecun.com/exdb/mnist/"
   ],
   "cell_type": "markdown",
   "metadata": {}
  },
  {
   "cell_type": "code",
   "execution_count": 96,
   "metadata": {},
   "outputs": [],
   "source": [
    "import numpy as np\n",
    "import matplotlib.pyplot as plt\n",
    "import torch\n",
    "from torchvision import datasets, transforms\n",
    "np.set_printoptions(linewidth=200)\n",
    "np.random.seed(1)"
   ]
  },
  {
   "cell_type": "code",
   "execution_count": 109,
   "metadata": {},
   "outputs": [],
   "source": [
    "def MNIST_load():\n",
    "    train_set = datasets.MNIST(root='./data', train=True, download=True, transform=None)\n",
    "    test_set = datasets.MNIST(root='./data', train=False, download=True, transform=None)\n",
    "    #train_set =torch.utils.data.DataLoader(train,train_set =  batch_size=len(train), shuffle=True)\n",
    "    #test_set = torch.utils.data.DataLoader(test, batch_size=len(test), shuffle=True)\n",
    "    X_train = train_set.data.numpy()                    # Transforms tensors to np array\n",
    "    y_train = train_set.targets.numpy()\n",
    "    X_test = test_set.data.numpy()\n",
    "    y_test = test_set.targets.numpy()\n",
    "    return train_set, test_set, X_train, y_train, X_test, y_test"
   ]
  },
  {
   "source": [
    "train_set, test_set, X_train_raw, y_train_raw, X_test_raw, y_test_raw = MNIST_load()"
   ],
   "cell_type": "code",
   "metadata": {},
   "execution_count": 110,
   "outputs": []
  },
  {
   "cell_type": "code",
   "execution_count": 111,
   "metadata": {},
   "outputs": [],
   "source": [
    "def MNIST_preprocessing(MNIST_train, MNIST_train_label, MNIST_test, MNIST_test_label): # normalise, center, standardise, flatten and shuffle\n",
    "    print('Data type of MNIST_train: %s' % MNIST_train.dtype)\n",
    "    #print('Min: %.3f, Max: %.3f' % (MNIST_train.min(), MNIST_train.max()))\n",
    "    MNIST_train = MNIST_train.astype('float32')\n",
    "    MNIST_test = MNIST_test.astype('float32')\n",
    "    print('New data type of MNIST_train: %s' % MNIST_train.dtype)\n",
    "    MNIST_train /= 255.0\n",
    "    MNIST_test /= 255.0\n",
    "    print('New Min: %.3f, New Max: %.3f' % (MNIST_train.min(), MNIST_train.max()))\n",
    "    print('Data has been normalised')\n",
    "    \n",
    "    mean_train = MNIST_train.mean()\n",
    "    mean_test = MNIST_train.mean()\n",
    "    print('Mean of training set: %.3f' % mean_train)\n",
    "    #print('Min: %.3f, Max: %.3f' % (MNIST_train.min(), MNIST_train.max()))\n",
    "    MNIST_train = MNIST_train - mean_train\n",
    "    MNIST_test = MNIST_test - mean_test\n",
    "    mean_train = MNIST_train.mean()\n",
    "    mean_test = MNIST_test.mean()\n",
    "    print('New mean of training set: %.3f' % mean_train)\n",
    "    #print('New Min: %.3f, New Max: %.3f' % (MNIST_train.min(), MNIST_train.max()))\n",
    "    print('Data has been centered')\n",
    "\n",
    "    mean_train, std_train = MNIST_train.mean(), MNIST_train.std()\n",
    "    mean_test, std_test = MNIST_test.mean(), MNIST_test.std()\n",
    "    print('Standard deviation of training set: %.3f' % std_train)\n",
    "    MNIST_train = (MNIST_train - mean_train) / std_train\n",
    "    MNIST_test = (MNIST_test - mean_test) / std_test\n",
    "    # confirm it had the desired effect\n",
    "    mean_train, std_train = MNIST_train.mean(), MNIST_train.std()\n",
    "    mean_test, std_test = MNIST_test.mean(), MNIST_test.std()\n",
    "    print('New mean of training set: %.3f, New standard deviation of training set: %.3f' % (mean_train, std_train))\n",
    "    print('Data has been standardised')\n",
    "\n",
    "    MNIST_train = MNIST_train.reshape(MNIST_train.shape[0], -1)\n",
    "    MNIST_test = MNIST_test.reshape(MNIST_test.shape[0], -1)\n",
    "    MNIST_train_keys = np.array(range(MNIST_train.shape[0]))\n",
    "    MNIST_test_keys = np.array(range(MNIST_test.shape[0]))\n",
    "    np.random.shuffle(MNIST_train_keys)\n",
    "    np.random.shuffle(MNIST_test_keys)\n",
    "    MNIST_train = MNIST_train[MNIST_train_keys]\n",
    "    MNIST_train_label = MNIST_train_label[MNIST_train_keys]\n",
    "    MNIST_test = MNIST_test[MNIST_test_keys]\n",
    "    MNIST_test_label = MNIST_test_label[MNIST_test_keys]\n",
    "    print(\"Data has been flattened and shuffled\")\n",
    "    return MNIST_train, MNIST_train_label, MNIST_test, MNIST_test_label"
   ]
  },
  {
   "cell_type": "code",
   "execution_count": 112,
   "metadata": {},
   "outputs": [
    {
     "output_type": "stream",
     "name": "stdout",
     "text": [
      "Data type of MNIST_train: uint8\n",
      "New data type of MNIST_train: float32\n",
      "New Min: 0.000, New Max: 1.000\n",
      "Data has been normalised\n",
      "Mean of training set: 0.131\n",
      "New mean of training set: -0.000\n",
      "Data has been centered\n",
      "Standard deviation of training set: 0.308\n",
      "New mean of training set: 0.000, New standard deviation of training set: 1.000\n",
      "Data has been standardised\n",
      "Data has been flattened and shuffled\n"
     ]
    }
   ],
   "source": [
    "X_train, y_train, X_test, y_test = MNIST_preprocessing(X_train_raw, y_train_raw, X_test_raw, y_test_raw)"
   ]
  },
  {
   "cell_type": "code",
   "execution_count": 119,
   "metadata": {},
   "outputs": [
    {
     "output_type": "stream",
     "name": "stdout",
     "text": [
      "(60000, 784) (10000, 784)\n"
     ]
    }
   ],
   "source": [
    "print(X_train.shape, X_test.shape) # 6000 per classification for X_train and 1000 for X_test - balanced - 785 features for each image"
   ]
  },
  {
   "cell_type": "code",
   "execution_count": 105,
   "metadata": {},
   "outputs": [
    {
     "output_type": "execute_result",
     "data": {
      "text/plain": [
       "3"
      ]
     },
     "metadata": {},
     "execution_count": 105
    }
   ],
   "source": [
    "y_train[0]"
   ]
  },
  {
   "cell_type": "code",
   "execution_count": 118,
   "metadata": {},
   "outputs": [
    {
     "output_type": "display_data",
     "data": {
      "text/plain": "<Figure size 432x288 with 1 Axes>",
      "image/svg+xml": "<?xml version=\"1.0\" encoding=\"utf-8\" standalone=\"no\"?>\r\n<!DOCTYPE svg PUBLIC \"-//W3C//DTD SVG 1.1//EN\"\r\n  \"http://www.w3.org/Graphics/SVG/1.1/DTD/svg11.dtd\">\r\n<!-- Created with matplotlib (https://matplotlib.org/) -->\r\n<svg height=\"248.518125pt\" version=\"1.1\" viewBox=\"0 0 251.565 248.518125\" width=\"251.565pt\" xmlns=\"http://www.w3.org/2000/svg\" xmlns:xlink=\"http://www.w3.org/1999/xlink\">\r\n <defs>\r\n  <style type=\"text/css\">\r\n*{stroke-linecap:butt;stroke-linejoin:round;}\r\n  </style>\r\n </defs>\r\n <g id=\"figure_1\">\r\n  <g id=\"patch_1\">\r\n   <path d=\"M 0 248.518125 \r\nL 251.565 248.518125 \r\nL 251.565 0 \r\nL 0 0 \r\nz\r\n\" style=\"fill:none;\"/>\r\n  </g>\r\n  <g id=\"axes_1\">\r\n   <g id=\"patch_2\">\r\n    <path d=\"M 26.925 224.64 \r\nL 244.365 224.64 \r\nL 244.365 7.2 \r\nL 26.925 7.2 \r\nz\r\n\" style=\"fill:#ffffff;\"/>\r\n   </g>\r\n   <g clip-path=\"url(#p76e589e40f)\">\r\n    <image height=\"218\" id=\"image7aa4ed2c22\" transform=\"scale(1 -1)translate(0 -218)\" width=\"218\" x=\"26.925\" xlink:href=\"data:image/png;base64,\r\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\" y=\"-6.64\"/>\r\n   </g>\r\n   <g id=\"matplotlib.axis_1\">\r\n    <g id=\"xtick_1\">\r\n     <g id=\"line2d_1\">\r\n      <defs>\r\n       <path d=\"M 0 0 \r\nL 0 3.5 \r\n\" id=\"m6071250e8e\" style=\"stroke:#000000;stroke-width:0.8;\"/>\r\n      </defs>\r\n      <g>\r\n       <use style=\"stroke:#000000;stroke-width:0.8;\" x=\"30.807857\" xlink:href=\"#m6071250e8e\" y=\"224.64\"/>\r\n      </g>\r\n     </g>\r\n     <g id=\"text_1\">\r\n      <!-- 0 -->\r\n      <defs>\r\n       <path d=\"M 31.78125 66.40625 \r\nQ 24.171875 66.40625 20.328125 58.90625 \r\nQ 16.5 51.421875 16.5 36.375 \r\nQ 16.5 21.390625 20.328125 13.890625 \r\nQ 24.171875 6.390625 31.78125 6.390625 \r\nQ 39.453125 6.390625 43.28125 13.890625 \r\nQ 47.125 21.390625 47.125 36.375 \r\nQ 47.125 51.421875 43.28125 58.90625 \r\nQ 39.453125 66.40625 31.78125 66.40625 \r\nz\r\nM 31.78125 74.21875 \r\nQ 44.046875 74.21875 50.515625 64.515625 \r\nQ 56.984375 54.828125 56.984375 36.375 \r\nQ 56.984375 17.96875 50.515625 8.265625 \r\nQ 44.046875 -1.421875 31.78125 -1.421875 \r\nQ 19.53125 -1.421875 13.0625 8.265625 \r\nQ 6.59375 17.96875 6.59375 36.375 \r\nQ 6.59375 54.828125 13.0625 64.515625 \r\nQ 19.53125 74.21875 31.78125 74.21875 \r\nz\r\n\" id=\"DejaVuSans-48\"/>\r\n      </defs>\r\n      <g transform=\"translate(27.626607 239.238437)scale(0.1 -0.1)\">\r\n       <use xlink:href=\"#DejaVuSans-48\"/>\r\n      </g>\r\n     </g>\r\n    </g>\r\n    <g id=\"xtick_2\">\r\n     <g id=\"line2d_2\">\r\n      <g>\r\n       <use style=\"stroke:#000000;stroke-width:0.8;\" x=\"69.636429\" xlink:href=\"#m6071250e8e\" y=\"224.64\"/>\r\n      </g>\r\n     </g>\r\n     <g id=\"text_2\">\r\n      <!-- 5 -->\r\n      <defs>\r\n       <path d=\"M 10.796875 72.90625 \r\nL 49.515625 72.90625 \r\nL 49.515625 64.59375 \r\nL 19.828125 64.59375 \r\nL 19.828125 46.734375 \r\nQ 21.96875 47.46875 24.109375 47.828125 \r\nQ 26.265625 48.1875 28.421875 48.1875 \r\nQ 40.625 48.1875 47.75 41.5 \r\nQ 54.890625 34.8125 54.890625 23.390625 \r\nQ 54.890625 11.625 47.5625 5.09375 \r\nQ 40.234375 -1.421875 26.90625 -1.421875 \r\nQ 22.3125 -1.421875 17.546875 -0.640625 \r\nQ 12.796875 0.140625 7.71875 1.703125 \r\nL 7.71875 11.625 \r\nQ 12.109375 9.234375 16.796875 8.0625 \r\nQ 21.484375 6.890625 26.703125 6.890625 \r\nQ 35.15625 6.890625 40.078125 11.328125 \r\nQ 45.015625 15.765625 45.015625 23.390625 \r\nQ 45.015625 31 40.078125 35.4375 \r\nQ 35.15625 39.890625 26.703125 39.890625 \r\nQ 22.75 39.890625 18.8125 39.015625 \r\nQ 14.890625 38.140625 10.796875 36.28125 \r\nz\r\n\" id=\"DejaVuSans-53\"/>\r\n      </defs>\r\n      <g transform=\"translate(66.455179 239.238437)scale(0.1 -0.1)\">\r\n       <use xlink:href=\"#DejaVuSans-53\"/>\r\n      </g>\r\n     </g>\r\n    </g>\r\n    <g id=\"xtick_3\">\r\n     <g id=\"line2d_3\">\r\n      <g>\r\n       <use style=\"stroke:#000000;stroke-width:0.8;\" x=\"108.465\" xlink:href=\"#m6071250e8e\" y=\"224.64\"/>\r\n      </g>\r\n     </g>\r\n     <g id=\"text_3\">\r\n      <!-- 10 -->\r\n      <defs>\r\n       <path d=\"M 12.40625 8.296875 \r\nL 28.515625 8.296875 \r\nL 28.515625 63.921875 \r\nL 10.984375 60.40625 \r\nL 10.984375 69.390625 \r\nL 28.421875 72.90625 \r\nL 38.28125 72.90625 \r\nL 38.28125 8.296875 \r\nL 54.390625 8.296875 \r\nL 54.390625 0 \r\nL 12.40625 0 \r\nz\r\n\" id=\"DejaVuSans-49\"/>\r\n      </defs>\r\n      <g transform=\"translate(102.1025 239.238437)scale(0.1 -0.1)\">\r\n       <use xlink:href=\"#DejaVuSans-49\"/>\r\n       <use x=\"63.623047\" xlink:href=\"#DejaVuSans-48\"/>\r\n      </g>\r\n     </g>\r\n    </g>\r\n    <g id=\"xtick_4\">\r\n     <g id=\"line2d_4\">\r\n      <g>\r\n       <use style=\"stroke:#000000;stroke-width:0.8;\" x=\"147.293571\" xlink:href=\"#m6071250e8e\" y=\"224.64\"/>\r\n      </g>\r\n     </g>\r\n     <g id=\"text_4\">\r\n      <!-- 15 -->\r\n      <g transform=\"translate(140.931071 239.238437)scale(0.1 -0.1)\">\r\n       <use xlink:href=\"#DejaVuSans-49\"/>\r\n       <use x=\"63.623047\" xlink:href=\"#DejaVuSans-53\"/>\r\n      </g>\r\n     </g>\r\n    </g>\r\n    <g id=\"xtick_5\">\r\n     <g id=\"line2d_5\">\r\n      <g>\r\n       <use style=\"stroke:#000000;stroke-width:0.8;\" x=\"186.122143\" xlink:href=\"#m6071250e8e\" y=\"224.64\"/>\r\n      </g>\r\n     </g>\r\n     <g id=\"text_5\">\r\n      <!-- 20 -->\r\n      <defs>\r\n       <path d=\"M 19.1875 8.296875 \r\nL 53.609375 8.296875 \r\nL 53.609375 0 \r\nL 7.328125 0 \r\nL 7.328125 8.296875 \r\nQ 12.9375 14.109375 22.625 23.890625 \r\nQ 32.328125 33.6875 34.8125 36.53125 \r\nQ 39.546875 41.84375 41.421875 45.53125 \r\nQ 43.3125 49.21875 43.3125 52.78125 \r\nQ 43.3125 58.59375 39.234375 62.25 \r\nQ 35.15625 65.921875 28.609375 65.921875 \r\nQ 23.96875 65.921875 18.8125 64.3125 \r\nQ 13.671875 62.703125 7.8125 59.421875 \r\nL 7.8125 69.390625 \r\nQ 13.765625 71.78125 18.9375 73 \r\nQ 24.125 74.21875 28.421875 74.21875 \r\nQ 39.75 74.21875 46.484375 68.546875 \r\nQ 53.21875 62.890625 53.21875 53.421875 \r\nQ 53.21875 48.921875 51.53125 44.890625 \r\nQ 49.859375 40.875 45.40625 35.40625 \r\nQ 44.1875 33.984375 37.640625 27.21875 \r\nQ 31.109375 20.453125 19.1875 8.296875 \r\nz\r\n\" id=\"DejaVuSans-50\"/>\r\n      </defs>\r\n      <g transform=\"translate(179.759643 239.238437)scale(0.1 -0.1)\">\r\n       <use xlink:href=\"#DejaVuSans-50\"/>\r\n       <use x=\"63.623047\" xlink:href=\"#DejaVuSans-48\"/>\r\n      </g>\r\n     </g>\r\n    </g>\r\n    <g id=\"xtick_6\">\r\n     <g id=\"line2d_6\">\r\n      <g>\r\n       <use style=\"stroke:#000000;stroke-width:0.8;\" x=\"224.950714\" xlink:href=\"#m6071250e8e\" y=\"224.64\"/>\r\n      </g>\r\n     </g>\r\n     <g id=\"text_6\">\r\n      <!-- 25 -->\r\n      <g transform=\"translate(218.588214 239.238437)scale(0.1 -0.1)\">\r\n       <use xlink:href=\"#DejaVuSans-50\"/>\r\n       <use x=\"63.623047\" xlink:href=\"#DejaVuSans-53\"/>\r\n      </g>\r\n     </g>\r\n    </g>\r\n   </g>\r\n   <g id=\"matplotlib.axis_2\">\r\n    <g id=\"ytick_1\">\r\n     <g id=\"line2d_7\">\r\n      <defs>\r\n       <path d=\"M 0 0 \r\nL -3.5 0 \r\n\" id=\"mac3dcf50c7\" style=\"stroke:#000000;stroke-width:0.8;\"/>\r\n      </defs>\r\n      <g>\r\n       <use style=\"stroke:#000000;stroke-width:0.8;\" x=\"26.925\" xlink:href=\"#mac3dcf50c7\" y=\"11.082857\"/>\r\n      </g>\r\n     </g>\r\n     <g id=\"text_7\">\r\n      <!-- 0 -->\r\n      <g transform=\"translate(13.5625 14.882076)scale(0.1 -0.1)\">\r\n       <use xlink:href=\"#DejaVuSans-48\"/>\r\n      </g>\r\n     </g>\r\n    </g>\r\n    <g id=\"ytick_2\">\r\n     <g id=\"line2d_8\">\r\n      <g>\r\n       <use style=\"stroke:#000000;stroke-width:0.8;\" x=\"26.925\" xlink:href=\"#mac3dcf50c7\" y=\"49.911429\"/>\r\n      </g>\r\n     </g>\r\n     <g id=\"text_8\">\r\n      <!-- 5 -->\r\n      <g transform=\"translate(13.5625 53.710647)scale(0.1 -0.1)\">\r\n       <use xlink:href=\"#DejaVuSans-53\"/>\r\n      </g>\r\n     </g>\r\n    </g>\r\n    <g id=\"ytick_3\">\r\n     <g id=\"line2d_9\">\r\n      <g>\r\n       <use style=\"stroke:#000000;stroke-width:0.8;\" x=\"26.925\" xlink:href=\"#mac3dcf50c7\" y=\"88.74\"/>\r\n      </g>\r\n     </g>\r\n     <g id=\"text_9\">\r\n      <!-- 10 -->\r\n      <g transform=\"translate(7.2 92.539219)scale(0.1 -0.1)\">\r\n       <use xlink:href=\"#DejaVuSans-49\"/>\r\n       <use x=\"63.623047\" xlink:href=\"#DejaVuSans-48\"/>\r\n      </g>\r\n     </g>\r\n    </g>\r\n    <g id=\"ytick_4\">\r\n     <g id=\"line2d_10\">\r\n      <g>\r\n       <use style=\"stroke:#000000;stroke-width:0.8;\" x=\"26.925\" xlink:href=\"#mac3dcf50c7\" y=\"127.568571\"/>\r\n      </g>\r\n     </g>\r\n     <g id=\"text_10\">\r\n      <!-- 15 -->\r\n      <g transform=\"translate(7.2 131.36779)scale(0.1 -0.1)\">\r\n       <use xlink:href=\"#DejaVuSans-49\"/>\r\n       <use x=\"63.623047\" xlink:href=\"#DejaVuSans-53\"/>\r\n      </g>\r\n     </g>\r\n    </g>\r\n    <g id=\"ytick_5\">\r\n     <g id=\"line2d_11\">\r\n      <g>\r\n       <use style=\"stroke:#000000;stroke-width:0.8;\" x=\"26.925\" xlink:href=\"#mac3dcf50c7\" y=\"166.397143\"/>\r\n      </g>\r\n     </g>\r\n     <g id=\"text_11\">\r\n      <!-- 20 -->\r\n      <g transform=\"translate(7.2 170.196362)scale(0.1 -0.1)\">\r\n       <use xlink:href=\"#DejaVuSans-50\"/>\r\n       <use x=\"63.623047\" xlink:href=\"#DejaVuSans-48\"/>\r\n      </g>\r\n     </g>\r\n    </g>\r\n    <g id=\"ytick_6\">\r\n     <g id=\"line2d_12\">\r\n      <g>\r\n       <use style=\"stroke:#000000;stroke-width:0.8;\" x=\"26.925\" xlink:href=\"#mac3dcf50c7\" y=\"205.225714\"/>\r\n      </g>\r\n     </g>\r\n     <g id=\"text_12\">\r\n      <!-- 25 -->\r\n      <g transform=\"translate(7.2 209.024933)scale(0.1 -0.1)\">\r\n       <use xlink:href=\"#DejaVuSans-50\"/>\r\n       <use x=\"63.623047\" xlink:href=\"#DejaVuSans-53\"/>\r\n      </g>\r\n     </g>\r\n    </g>\r\n   </g>\r\n   <g id=\"patch_3\">\r\n    <path d=\"M 26.925 224.64 \r\nL 26.925 7.2 \r\n\" style=\"fill:none;stroke:#000000;stroke-linecap:square;stroke-linejoin:miter;stroke-width:0.8;\"/>\r\n   </g>\r\n   <g id=\"patch_4\">\r\n    <path d=\"M 244.365 224.64 \r\nL 244.365 7.2 \r\n\" style=\"fill:none;stroke:#000000;stroke-linecap:square;stroke-linejoin:miter;stroke-width:0.8;\"/>\r\n   </g>\r\n   <g id=\"patch_5\">\r\n    <path d=\"M 26.925 224.64 \r\nL 244.365 224.64 \r\n\" style=\"fill:none;stroke:#000000;stroke-linecap:square;stroke-linejoin:miter;stroke-width:0.8;\"/>\r\n   </g>\r\n   <g id=\"patch_6\">\r\n    <path d=\"M 26.925 7.2 \r\nL 244.365 7.2 \r\n\" style=\"fill:none;stroke:#000000;stroke-linecap:square;stroke-linejoin:miter;stroke-width:0.8;\"/>\r\n   </g>\r\n  </g>\r\n </g>\r\n <defs>\r\n  <clipPath id=\"p76e589e40f\">\r\n   <rect height=\"217.44\" width=\"217.44\" x=\"26.925\" y=\"7.2\"/>\r\n  </clipPath>\r\n </defs>\r\n</svg>\r\n",
      "image/png": "[encoded data removed]"
     },
     "metadata": {
      "needs_background": "light"
     }
    }
   ],
   "source": [
    "plt.imshow((X_train[0].reshape(28, 28)), cmap='gray');"
   ]
  },
  {
   "cell_type": "code",
   "execution_count": 41,
   "metadata": {},
   "outputs": [],
   "source": [
    "weights = 0.01 * np.random.randn(4, 3)"
   ]
  },
  {
   "cell_type": "code",
   "execution_count": 42,
   "metadata": {},
   "outputs": [
    {
     "output_type": "execute_result",
     "data": {
      "text/plain": [
       "0.0"
      ]
     },
     "metadata": {},
     "execution_count": 42
    }
   ],
   "source": [
    "np.round(np.var(weights))"
   ]
  },
  {
   "cell_type": "code",
   "execution_count": 126,
   "metadata": {},
   "outputs": [],
   "source": [
    "X = np.load(\"other_data/X.npy\")         # Testing FC_layer class with data found online\n",
    "y = np.load(\"other_data/y.npy\")"
   ]
  },
  {
   "cell_type": "code",
   "execution_count": 129,
   "metadata": {},
   "outputs": [],
   "source": [
    "class FC_Layer:     #Relu or Sigmoid activation\n",
    "    '''A class to represent a fully-connected layer with random initialisation of weights.'''\n",
    "    def __init__(self, num_inputs, num_neurons):\n",
    "        self.weights = 0.01 * np.random.randn(num_inputs, num_neurons)                                      # random initialisation of weights with biases set to 0 MAYBE CHANGE 0.01\n",
    "        print('Weights initialised at mean: %.3f, variance: %.3f, and dimensions: %.0d, %.0d' \\\n",
    "            % (np.mean(self.weights), np.var(self.weights), num_inputs, num_neurons))\n",
    "        self.biases = np.zeros((1, num_neurons))                                                            \n",
    "\n",
    "    def forward_pass(self, inputs):\n",
    "        self.output = np.dot(inputs, self.weights) + self.biases                                            # output of this layer will be inputs*w+b"
   ]
  },
  {
   "cell_type": "code",
   "execution_count": 130,
   "metadata": {},
   "outputs": [],
   "source": [
    "class ReLU:\n",
    "   def forward_pass(self, input):\n",
    "      self.output = np.maximum(0, input) "
   ]
  },
  {
   "cell_type": "code",
   "execution_count": 131,
   "metadata": {},
   "outputs": [
    {
     "output_type": "stream",
     "name": "stdout",
     "text": [
      "Weights initialised at mean: 0.004, variance: 0.000, and dimensions: 2, 3\n"
     ]
    }
   ],
   "source": [
    "fc_layer = FC_Layer(2,3)"
   ]
  },
  {
   "cell_type": "code",
   "execution_count": 132,
   "metadata": {},
   "outputs": [],
   "source": [
    "activation = ReLU()"
   ]
  },
  {
   "cell_type": "code",
   "execution_count": 133,
   "metadata": {},
   "outputs": [],
   "source": [
    "fc_layer.forward_pass(X)"
   ]
  },
  {
   "cell_type": "code",
   "execution_count": 134,
   "metadata": {},
   "outputs": [],
   "source": [
    "activation.forward_pass(fc_layer.output)"
   ]
  },
  {
   "cell_type": "code",
   "execution_count": 135,
   "metadata": {},
   "outputs": [
    {
     "output_type": "stream",
     "name": "stdout",
     "text": [
      "[[0.00000000e+00 0.00000000e+00 0.00000000e+00]\n [0.00000000e+00 0.00000000e+00 1.65350665e-04]\n [1.93687309e-05 0.00000000e+00 3.82271775e-04]\n [1.77332977e-04 0.00000000e+00 4.86630818e-04]\n [2.18026215e-04 0.00000000e+00 6.82549217e-04]]\n"
     ]
    }
   ],
   "source": [
    "print(activation.output[:5])              # output has 5 rows and 3 values each as expected"
   ]
  },
  {
   "cell_type": "code",
   "execution_count": null,
   "metadata": {},
   "outputs": [],
   "source": [
    "class Softmax:\n",
    "   def forward_pass(self):\n",
    "       "
   ]
  },
  {
   "cell_type": "code",
   "execution_count": null,
   "metadata": {},
   "outputs": [],
   "source": []
  },
  {
   "cell_type": "code",
   "execution_count": null,
   "metadata": {},
   "outputs": [],
   "source": [
    "class NeuralNetwork:\n",
    "    def __init__(self):\n",
    "        self.layers = [] #will pass through the different layer objects\n",
    "    \n",
    "    def add(self, layer): # adds a layer to the network\n",
    "        self.layers.append(layer)\n",
    "\n",
    "    def set_params(self, loss=False, optimiser=False, accuracy=False):\n",
    "        if loss == True:\n",
    "            self.loss = loss\n",
    "        \n",
    "        if optimiser == True:\n",
    "            self.optimiser = optimiser \n",
    "\n",
    "        if accuracy == True:\n",
    "            self.accuracy = accuracy"
   ]
  },
  {
   "cell_type": "code",
   "execution_count": null,
   "metadata": {},
   "outputs": [],
   "source": [
    "class Input_Layer:\n",
    "    def forward_pass()"
   ]
  },
  {
   "cell_type": "code",
   "execution_count": null,
   "metadata": {},
   "outputs": [],
   "source": [
    "class Output_Layer: # Softmax\n",
    "    def __init__(self):"
   ]
  },
  {
   "cell_type": "code",
   "execution_count": null,
   "metadata": {},
   "outputs": [],
   "source": [
    "class Sigmoid:\n",
    "   def __init__(self):"
   ]
  },
  {
   "cell_type": "code",
   "execution_count": null,
   "metadata": {},
   "outputs": [],
   "source": [
    "class Adam: #or SGD\n",
    "   def __init__(self):"
   ]
  },
  {
   "cell_type": "code",
   "execution_count": null,
   "metadata": {},
   "outputs": [],
   "source": [
    "class Loss:\n",
    "    def __init__(self):"
   ]
  },
  {
   "cell_type": "code",
   "execution_count": null,
   "metadata": {},
   "outputs": [],
   "source": [
    "class Accuracy:\n",
    "    def __init__(self):"
   ]
  },
  {
   "cell_type": "code",
   "execution_count": null,
   "metadata": {},
   "outputs": [],
   "source": [
    "#When we run the NN we want to add layers of different types to it, be able to set the optimiser of choice and evaluate the NN"
   ]
  }
 ]
}