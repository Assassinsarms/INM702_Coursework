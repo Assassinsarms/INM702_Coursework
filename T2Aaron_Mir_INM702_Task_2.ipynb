{
 "metadata": {
  "language_info": {
   "codemirror_mode": {
    "name": "ipython",
    "version": 3
   },
   "file_extension": ".py",
   "mimetype": "text/x-python",
   "name": "python",
   "nbconvert_exporter": "python",
   "pygments_lexer": "ipython3",
   "version": "3.8.1-final"
  },
  "orig_nbformat": 2,
  "kernelspec": {
   "name": "python3",
   "display_name": "Python 3.8.1 64-bit",
   "metadata": {
    "interpreter": {
     "hash": "2db524e06e9f5f4ffedc911c917cb75e12dbc923643829bf417064a77eb14d37"
    }
   }
  }
 },
 "nbformat": 4,
 "nbformat_minor": 2,
 "cells": [
  {
   "source": [
    "# INM702 Coursework Task 2\n",
    "### Aaron Mir (Student Number: 160001207)"
   ],
   "cell_type": "markdown",
   "metadata": {}
  },
  {
   "source": [
    "The second task is about classifying handwritten digits. We will use the MNIST dataset for training and testing. The point of this task is to develop a multi-layer neural network for classification using mostly Numpy:\n",
    "\n",
    "\n",
    "    • Implement sigmoid and relu layers (with forward and backward pass) hidden layers\n",
    "\n",
    "    • Implement a softmax output classification layer \n",
    "    \n",
    "    • Implement a fully parameterizable neural network (number and types of layers, number of units)\n",
    "\n",
    "    • Implement an optimizer(e.g. SGD or Adam)and a stopping criterion of your choosing\n",
    "\n",
    "    • Train your Neural Network using backpropagation\n",
    "\n",
    "    • Keep track of your statistics i.e. different means/variance\n",
    "\n",
    "Evaluate different neural network architectures and compare your different results. e.g. fully relu vs fully sigmoid, number of layers etc.\n",
    "\n",
    "You can also compare withthe results presented in http://yann.lecun.com/exdb/mnist/"
   ],
   "cell_type": "markdown",
   "metadata": {}
  },
  {
   "cell_type": "code",
   "execution_count": 1,
   "metadata": {},
   "outputs": [],
   "source": [
    "import numpy as np\n",
    "import matplotlib.pyplot as plt\n",
    "import torch\n",
    "from torchvision import datasets, transforms\n",
    "np.set_printoptions(linewidth=200)\n",
    "np.random.seed(1)"
   ]
  },
  {
   "cell_type": "code",
   "execution_count": 2,
   "metadata": {},
   "outputs": [],
   "source": [
    "def MNIST_load():\n",
    "    train_set = datasets.MNIST(root='./data', train=True, download=True, transform=None)\n",
    "    test_set = datasets.MNIST(root='./data', train=False, download=True, transform=None)\n",
    "    #train_set =torch.utils.data.DataLoader(train,train_set =  batch_size=len(train), shuffle=True)\n",
    "    #test_set = torch.utils.data.DataLoader(test, batch_size=len(test), shuffle=True)\n",
    "    X_train = train_set.data.numpy()                    # Transforms tensors to np array\n",
    "    y_train = train_set.targets.numpy()\n",
    "    X_test = test_set.data.numpy()\n",
    "    y_test = test_set.targets.numpy()\n",
    "    return train_set, test_set, X_train, y_train, X_test, y_test"
   ]
  },
  {
   "source": [
    "train_set, test_set, X_train_raw, y_train_raw, X_test_raw, y_test_raw = MNIST_load()"
   ],
   "cell_type": "code",
   "metadata": {},
   "execution_count": 3,
   "outputs": []
  },
  {
   "cell_type": "code",
   "execution_count": 4,
   "metadata": {},
   "outputs": [],
   "source": [
    "def MNIST_preprocessing(MNIST_train, MNIST_train_label, MNIST_test, MNIST_test_label): # normalise, center, standardise, flatten and shuffle\n",
    "    print('Data type of MNIST_train: %s' % MNIST_train.dtype)\n",
    "    #print('Min: %.3f, Max: %.3f' % (MNIST_train.min(), MNIST_train.max()))\n",
    "    MNIST_train = MNIST_train.astype('float32')\n",
    "    MNIST_test = MNIST_test.astype('float32')\n",
    "    print('New data type of MNIST_train: %s' % MNIST_train.dtype)\n",
    "    MNIST_train /= 255.0\n",
    "    MNIST_test /= 255.0\n",
    "    print('New Min: %.3f, New Max: %.3f' % (MNIST_train.min(), MNIST_train.max()))\n",
    "    print('Data has been normalised')\n",
    "    \n",
    "    mean_train = MNIST_train.mean()\n",
    "    mean_test = MNIST_train.mean()\n",
    "    print('Mean of training set: %.3f' % mean_train)\n",
    "    #print('Min: %.3f, Max: %.3f' % (MNIST_train.min(), MNIST_train.max()))\n",
    "    MNIST_train = MNIST_train - mean_train\n",
    "    MNIST_test = MNIST_test - mean_test\n",
    "    mean_train = MNIST_train.mean()\n",
    "    mean_test = MNIST_test.mean()\n",
    "    print('New mean of training set: %.3f' % mean_train)\n",
    "    #print('New Min: %.3f, New Max: %.3f' % (MNIST_train.min(), MNIST_train.max()))\n",
    "    print('Data has been centered')\n",
    "\n",
    "    mean_train, std_train = MNIST_train.mean(), MNIST_train.std()\n",
    "    mean_test, std_test = MNIST_test.mean(), MNIST_test.std()\n",
    "    print('Standard deviation of training set: %.3f' % std_train)\n",
    "    MNIST_train = (MNIST_train - mean_train) / std_train\n",
    "    MNIST_test = (MNIST_test - mean_test) / std_test\n",
    "    # confirm it had the desired effect\n",
    "    mean_train, std_train = MNIST_train.mean(), MNIST_train.std()\n",
    "    mean_test, std_test = MNIST_test.mean(), MNIST_test.std()\n",
    "    print('New mean of training set: %.3f, New standard deviation of training set: %.3f' % (mean_train, std_train))\n",
    "    print('Data has been standardised')\n",
    "\n",
    "    MNIST_train = MNIST_train.reshape(MNIST_train.shape[0], -1)\n",
    "    MNIST_test = MNIST_test.reshape(MNIST_test.shape[0], -1)\n",
    "    MNIST_train_keys = np.array(range(MNIST_train.shape[0]))\n",
    "    MNIST_test_keys = np.array(range(MNIST_test.shape[0]))\n",
    "    np.random.shuffle(MNIST_train_keys)\n",
    "    np.random.shuffle(MNIST_test_keys)\n",
    "    MNIST_train = MNIST_train[MNIST_train_keys]\n",
    "    MNIST_train_label = MNIST_train_label[MNIST_train_keys]\n",
    "    MNIST_test = MNIST_test[MNIST_test_keys]\n",
    "    MNIST_test_label = MNIST_test_label[MNIST_test_keys]\n",
    "    print(\"Data has been flattened and shuffled\")\n",
    "    return MNIST_train, MNIST_train_label, MNIST_test, MNIST_test_label"
   ]
  },
  {
   "cell_type": "code",
   "execution_count": 5,
   "metadata": {},
   "outputs": [
    {
     "output_type": "stream",
     "name": "stdout",
     "text": [
      "Data type of MNIST_train: uint8\n",
      "New data type of MNIST_train: float32\n",
      "New Min: 0.000, New Max: 1.000\n",
      "Data has been normalised\n",
      "Mean of training set: 0.131\n",
      "New mean of training set: -0.000\n",
      "Data has been centered\n",
      "Standard deviation of training set: 0.308\n",
      "New mean of training set: 0.000, New standard deviation of training set: 1.000\n",
      "Data has been standardised\n",
      "Data has been flattened and shuffled\n"
     ]
    }
   ],
   "source": [
    "X_train, y_train, X_test, y_test = MNIST_preprocessing(X_train_raw, y_train_raw, X_test_raw, y_test_raw)"
   ]
  },
  {
   "cell_type": "code",
   "execution_count": 112,
   "metadata": {},
   "outputs": [
    {
     "output_type": "stream",
     "name": "stdout",
     "text": [
      "(60000, 784) (10000, 784)\n"
     ]
    }
   ],
   "source": [
    "print(X_train.shape, X_test.shape) # 6000 per classification for X_train and 1000 for X_test - balanced - 785 features for each image"
   ]
  },
  {
   "cell_type": "code",
   "execution_count": 7,
   "metadata": {},
   "outputs": [
    {
     "output_type": "execute_result",
     "data": {
      "text/plain": [
       "3"
      ]
     },
     "metadata": {},
     "execution_count": 7
    }
   ],
   "source": [
    "y_train[0]"
   ]
  },
  {
   "cell_type": "code",
   "execution_count": 8,
   "metadata": {},
   "outputs": [
    {
     "output_type": "display_data",
     "data": {
      "text/plain": "<Figure size 432x288 with 1 Axes>",
      "image/svg+xml": "<?xml version=\"1.0\" encoding=\"utf-8\" standalone=\"no\"?>\r\n<!DOCTYPE svg PUBLIC \"-//W3C//DTD SVG 1.1//EN\"\r\n  \"http://www.w3.org/Graphics/SVG/1.1/DTD/svg11.dtd\">\r\n<!-- Created with matplotlib (https://matplotlib.org/) -->\r\n<svg height=\"248.518125pt\" version=\"1.1\" viewBox=\"0 0 251.565 248.518125\" width=\"251.565pt\" xmlns=\"http://www.w3.org/2000/svg\" xmlns:xlink=\"http://www.w3.org/1999/xlink\">\r\n <defs>\r\n  <style type=\"text/css\">\r\n*{stroke-linecap:butt;stroke-linejoin:round;}\r\n  </style>\r\n </defs>\r\n <g id=\"figure_1\">\r\n  <g id=\"patch_1\">\r\n   <path d=\"M 0 248.518125 \r\nL 251.565 248.518125 \r\nL 251.565 0 \r\nL 0 0 \r\nz\r\n\" style=\"fill:none;\"/>\r\n  </g>\r\n  <g id=\"axes_1\">\r\n   <g id=\"patch_2\">\r\n    <path d=\"M 26.925 224.64 \r\nL 244.365 224.64 \r\nL 244.365 7.2 \r\nL 26.925 7.2 \r\nz\r\n\" style=\"fill:#ffffff;\"/>\r\n   </g>\r\n   <g clip-path=\"url(#pb565e1a9a7)\">\r\n    <image height=\"218\" id=\"image30c8ddf1da\" transform=\"scale(1 -1)translate(0 -218)\" width=\"218\" x=\"26.925\" xlink:href=\"data:image/png;base64,\r\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\" y=\"-6.64\"/>\r\n   </g>\r\n   <g id=\"matplotlib.axis_1\">\r\n    <g id=\"xtick_1\">\r\n     <g id=\"line2d_1\">\r\n      <defs>\r\n       <path d=\"M 0 0 \r\nL 0 3.5 \r\n\" id=\"m2246fb3738\" style=\"stroke:#000000;stroke-width:0.8;\"/>\r\n      </defs>\r\n      <g>\r\n       <use style=\"stroke:#000000;stroke-width:0.8;\" x=\"30.807857\" xlink:href=\"#m2246fb3738\" y=\"224.64\"/>\r\n      </g>\r\n     </g>\r\n     <g id=\"text_1\">\r\n      <!-- 0 -->\r\n      <defs>\r\n       <path d=\"M 31.78125 66.40625 \r\nQ 24.171875 66.40625 20.328125 58.90625 \r\nQ 16.5 51.421875 16.5 36.375 \r\nQ 16.5 21.390625 20.328125 13.890625 \r\nQ 24.171875 6.390625 31.78125 6.390625 \r\nQ 39.453125 6.390625 43.28125 13.890625 \r\nQ 47.125 21.390625 47.125 36.375 \r\nQ 47.125 51.421875 43.28125 58.90625 \r\nQ 39.453125 66.40625 31.78125 66.40625 \r\nz\r\nM 31.78125 74.21875 \r\nQ 44.046875 74.21875 50.515625 64.515625 \r\nQ 56.984375 54.828125 56.984375 36.375 \r\nQ 56.984375 17.96875 50.515625 8.265625 \r\nQ 44.046875 -1.421875 31.78125 -1.421875 \r\nQ 19.53125 -1.421875 13.0625 8.265625 \r\nQ 6.59375 17.96875 6.59375 36.375 \r\nQ 6.59375 54.828125 13.0625 64.515625 \r\nQ 19.53125 74.21875 31.78125 74.21875 \r\nz\r\n\" id=\"DejaVuSans-48\"/>\r\n      </defs>\r\n      <g transform=\"translate(27.626607 239.238437)scale(0.1 -0.1)\">\r\n       <use xlink:href=\"#DejaVuSans-48\"/>\r\n      </g>\r\n     </g>\r\n    </g>\r\n    <g id=\"xtick_2\">\r\n     <g id=\"line2d_2\">\r\n      <g>\r\n       <use style=\"stroke:#000000;stroke-width:0.8;\" x=\"69.636429\" xlink:href=\"#m2246fb3738\" y=\"224.64\"/>\r\n      </g>\r\n     </g>\r\n     <g id=\"text_2\">\r\n      <!-- 5 -->\r\n      <defs>\r\n       <path d=\"M 10.796875 72.90625 \r\nL 49.515625 72.90625 \r\nL 49.515625 64.59375 \r\nL 19.828125 64.59375 \r\nL 19.828125 46.734375 \r\nQ 21.96875 47.46875 24.109375 47.828125 \r\nQ 26.265625 48.1875 28.421875 48.1875 \r\nQ 40.625 48.1875 47.75 41.5 \r\nQ 54.890625 34.8125 54.890625 23.390625 \r\nQ 54.890625 11.625 47.5625 5.09375 \r\nQ 40.234375 -1.421875 26.90625 -1.421875 \r\nQ 22.3125 -1.421875 17.546875 -0.640625 \r\nQ 12.796875 0.140625 7.71875 1.703125 \r\nL 7.71875 11.625 \r\nQ 12.109375 9.234375 16.796875 8.0625 \r\nQ 21.484375 6.890625 26.703125 6.890625 \r\nQ 35.15625 6.890625 40.078125 11.328125 \r\nQ 45.015625 15.765625 45.015625 23.390625 \r\nQ 45.015625 31 40.078125 35.4375 \r\nQ 35.15625 39.890625 26.703125 39.890625 \r\nQ 22.75 39.890625 18.8125 39.015625 \r\nQ 14.890625 38.140625 10.796875 36.28125 \r\nz\r\n\" id=\"DejaVuSans-53\"/>\r\n      </defs>\r\n      <g transform=\"translate(66.455179 239.238437)scale(0.1 -0.1)\">\r\n       <use xlink:href=\"#DejaVuSans-53\"/>\r\n      </g>\r\n     </g>\r\n    </g>\r\n    <g id=\"xtick_3\">\r\n     <g id=\"line2d_3\">\r\n      <g>\r\n       <use style=\"stroke:#000000;stroke-width:0.8;\" x=\"108.465\" xlink:href=\"#m2246fb3738\" y=\"224.64\"/>\r\n      </g>\r\n     </g>\r\n     <g id=\"text_3\">\r\n      <!-- 10 -->\r\n      <defs>\r\n       <path d=\"M 12.40625 8.296875 \r\nL 28.515625 8.296875 \r\nL 28.515625 63.921875 \r\nL 10.984375 60.40625 \r\nL 10.984375 69.390625 \r\nL 28.421875 72.90625 \r\nL 38.28125 72.90625 \r\nL 38.28125 8.296875 \r\nL 54.390625 8.296875 \r\nL 54.390625 0 \r\nL 12.40625 0 \r\nz\r\n\" id=\"DejaVuSans-49\"/>\r\n      </defs>\r\n      <g transform=\"translate(102.1025 239.238437)scale(0.1 -0.1)\">\r\n       <use xlink:href=\"#DejaVuSans-49\"/>\r\n       <use x=\"63.623047\" xlink:href=\"#DejaVuSans-48\"/>\r\n      </g>\r\n     </g>\r\n    </g>\r\n    <g id=\"xtick_4\">\r\n     <g id=\"line2d_4\">\r\n      <g>\r\n       <use style=\"stroke:#000000;stroke-width:0.8;\" x=\"147.293571\" xlink:href=\"#m2246fb3738\" y=\"224.64\"/>\r\n      </g>\r\n     </g>\r\n     <g id=\"text_4\">\r\n      <!-- 15 -->\r\n      <g transform=\"translate(140.931071 239.238437)scale(0.1 -0.1)\">\r\n       <use xlink:href=\"#DejaVuSans-49\"/>\r\n       <use x=\"63.623047\" xlink:href=\"#DejaVuSans-53\"/>\r\n      </g>\r\n     </g>\r\n    </g>\r\n    <g id=\"xtick_5\">\r\n     <g id=\"line2d_5\">\r\n      <g>\r\n       <use style=\"stroke:#000000;stroke-width:0.8;\" x=\"186.122143\" xlink:href=\"#m2246fb3738\" y=\"224.64\"/>\r\n      </g>\r\n     </g>\r\n     <g id=\"text_5\">\r\n      <!-- 20 -->\r\n      <defs>\r\n       <path d=\"M 19.1875 8.296875 \r\nL 53.609375 8.296875 \r\nL 53.609375 0 \r\nL 7.328125 0 \r\nL 7.328125 8.296875 \r\nQ 12.9375 14.109375 22.625 23.890625 \r\nQ 32.328125 33.6875 34.8125 36.53125 \r\nQ 39.546875 41.84375 41.421875 45.53125 \r\nQ 43.3125 49.21875 43.3125 52.78125 \r\nQ 43.3125 58.59375 39.234375 62.25 \r\nQ 35.15625 65.921875 28.609375 65.921875 \r\nQ 23.96875 65.921875 18.8125 64.3125 \r\nQ 13.671875 62.703125 7.8125 59.421875 \r\nL 7.8125 69.390625 \r\nQ 13.765625 71.78125 18.9375 73 \r\nQ 24.125 74.21875 28.421875 74.21875 \r\nQ 39.75 74.21875 46.484375 68.546875 \r\nQ 53.21875 62.890625 53.21875 53.421875 \r\nQ 53.21875 48.921875 51.53125 44.890625 \r\nQ 49.859375 40.875 45.40625 35.40625 \r\nQ 44.1875 33.984375 37.640625 27.21875 \r\nQ 31.109375 20.453125 19.1875 8.296875 \r\nz\r\n\" id=\"DejaVuSans-50\"/>\r\n      </defs>\r\n      <g transform=\"translate(179.759643 239.238437)scale(0.1 -0.1)\">\r\n       <use xlink:href=\"#DejaVuSans-50\"/>\r\n       <use x=\"63.623047\" xlink:href=\"#DejaVuSans-48\"/>\r\n      </g>\r\n     </g>\r\n    </g>\r\n    <g id=\"xtick_6\">\r\n     <g id=\"line2d_6\">\r\n      <g>\r\n       <use style=\"stroke:#000000;stroke-width:0.8;\" x=\"224.950714\" xlink:href=\"#m2246fb3738\" y=\"224.64\"/>\r\n      </g>\r\n     </g>\r\n     <g id=\"text_6\">\r\n      <!-- 25 -->\r\n      <g transform=\"translate(218.588214 239.238437)scale(0.1 -0.1)\">\r\n       <use xlink:href=\"#DejaVuSans-50\"/>\r\n       <use x=\"63.623047\" xlink:href=\"#DejaVuSans-53\"/>\r\n      </g>\r\n     </g>\r\n    </g>\r\n   </g>\r\n   <g id=\"matplotlib.axis_2\">\r\n    <g id=\"ytick_1\">\r\n     <g id=\"line2d_7\">\r\n      <defs>\r\n       <path d=\"M 0 0 \r\nL -3.5 0 \r\n\" id=\"m82a4678347\" style=\"stroke:#000000;stroke-width:0.8;\"/>\r\n      </defs>\r\n      <g>\r\n       <use style=\"stroke:#000000;stroke-width:0.8;\" x=\"26.925\" xlink:href=\"#m82a4678347\" y=\"11.082857\"/>\r\n      </g>\r\n     </g>\r\n     <g id=\"text_7\">\r\n      <!-- 0 -->\r\n      <g transform=\"translate(13.5625 14.882076)scale(0.1 -0.1)\">\r\n       <use xlink:href=\"#DejaVuSans-48\"/>\r\n      </g>\r\n     </g>\r\n    </g>\r\n    <g id=\"ytick_2\">\r\n     <g id=\"line2d_8\">\r\n      <g>\r\n       <use style=\"stroke:#000000;stroke-width:0.8;\" x=\"26.925\" xlink:href=\"#m82a4678347\" y=\"49.911429\"/>\r\n      </g>\r\n     </g>\r\n     <g id=\"text_8\">\r\n      <!-- 5 -->\r\n      <g transform=\"translate(13.5625 53.710647)scale(0.1 -0.1)\">\r\n       <use xlink:href=\"#DejaVuSans-53\"/>\r\n      </g>\r\n     </g>\r\n    </g>\r\n    <g id=\"ytick_3\">\r\n     <g id=\"line2d_9\">\r\n      <g>\r\n       <use style=\"stroke:#000000;stroke-width:0.8;\" x=\"26.925\" xlink:href=\"#m82a4678347\" y=\"88.74\"/>\r\n      </g>\r\n     </g>\r\n     <g id=\"text_9\">\r\n      <!-- 10 -->\r\n      <g transform=\"translate(7.2 92.539219)scale(0.1 -0.1)\">\r\n       <use xlink:href=\"#DejaVuSans-49\"/>\r\n       <use x=\"63.623047\" xlink:href=\"#DejaVuSans-48\"/>\r\n      </g>\r\n     </g>\r\n    </g>\r\n    <g id=\"ytick_4\">\r\n     <g id=\"line2d_10\">\r\n      <g>\r\n       <use style=\"stroke:#000000;stroke-width:0.8;\" x=\"26.925\" xlink:href=\"#m82a4678347\" y=\"127.568571\"/>\r\n      </g>\r\n     </g>\r\n     <g id=\"text_10\">\r\n      <!-- 15 -->\r\n      <g transform=\"translate(7.2 131.36779)scale(0.1 -0.1)\">\r\n       <use xlink:href=\"#DejaVuSans-49\"/>\r\n       <use x=\"63.623047\" xlink:href=\"#DejaVuSans-53\"/>\r\n      </g>\r\n     </g>\r\n    </g>\r\n    <g id=\"ytick_5\">\r\n     <g id=\"line2d_11\">\r\n      <g>\r\n       <use style=\"stroke:#000000;stroke-width:0.8;\" x=\"26.925\" xlink:href=\"#m82a4678347\" y=\"166.397143\"/>\r\n      </g>\r\n     </g>\r\n     <g id=\"text_11\">\r\n      <!-- 20 -->\r\n      <g transform=\"translate(7.2 170.196362)scale(0.1 -0.1)\">\r\n       <use xlink:href=\"#DejaVuSans-50\"/>\r\n       <use x=\"63.623047\" xlink:href=\"#DejaVuSans-48\"/>\r\n      </g>\r\n     </g>\r\n    </g>\r\n    <g id=\"ytick_6\">\r\n     <g id=\"line2d_12\">\r\n      <g>\r\n       <use style=\"stroke:#000000;stroke-width:0.8;\" x=\"26.925\" xlink:href=\"#m82a4678347\" y=\"205.225714\"/>\r\n      </g>\r\n     </g>\r\n     <g id=\"text_12\">\r\n      <!-- 25 -->\r\n      <g transform=\"translate(7.2 209.024933)scale(0.1 -0.1)\">\r\n       <use xlink:href=\"#DejaVuSans-50\"/>\r\n       <use x=\"63.623047\" xlink:href=\"#DejaVuSans-53\"/>\r\n      </g>\r\n     </g>\r\n    </g>\r\n   </g>\r\n   <g id=\"patch_3\">\r\n    <path d=\"M 26.925 224.64 \r\nL 26.925 7.2 \r\n\" style=\"fill:none;stroke:#000000;stroke-linecap:square;stroke-linejoin:miter;stroke-width:0.8;\"/>\r\n   </g>\r\n   <g id=\"patch_4\">\r\n    <path d=\"M 244.365 224.64 \r\nL 244.365 7.2 \r\n\" style=\"fill:none;stroke:#000000;stroke-linecap:square;stroke-linejoin:miter;stroke-width:0.8;\"/>\r\n   </g>\r\n   <g id=\"patch_5\">\r\n    <path d=\"M 26.925 224.64 \r\nL 244.365 224.64 \r\n\" style=\"fill:none;stroke:#000000;stroke-linecap:square;stroke-linejoin:miter;stroke-width:0.8;\"/>\r\n   </g>\r\n   <g id=\"patch_6\">\r\n    <path d=\"M 26.925 7.2 \r\nL 244.365 7.2 \r\n\" style=\"fill:none;stroke:#000000;stroke-linecap:square;stroke-linejoin:miter;stroke-width:0.8;\"/>\r\n   </g>\r\n  </g>\r\n </g>\r\n <defs>\r\n  <clipPath id=\"pb565e1a9a7\">\r\n   <rect height=\"217.44\" width=\"217.44\" x=\"26.925\" y=\"7.2\"/>\r\n  </clipPath>\r\n </defs>\r\n</svg>\r\n",
      "image/png": "[encoded data removed]"
     },
     "metadata": {
      "needs_background": "light"
     }
    }
   ],
   "source": [
    "plt.imshow((X_train[0].reshape(28, 28)), cmap='gray');"
   ]
  },
  {
   "cell_type": "code",
   "execution_count": 41,
   "metadata": {},
   "outputs": [],
   "source": [
    "weights = 0.01 * np.random.randn(4, 3)"
   ]
  },
  {
   "cell_type": "code",
   "execution_count": 42,
   "metadata": {},
   "outputs": [
    {
     "output_type": "execute_result",
     "data": {
      "text/plain": [
       "0.0"
      ]
     },
     "metadata": {},
     "execution_count": 42
    }
   ],
   "source": [
    "np.round(np.var(weights))"
   ]
  },
  {
   "source": [
    "## Class Testing Area - using random data to train and test base model"
   ],
   "cell_type": "markdown",
   "metadata": {}
  },
  {
   "cell_type": "code",
   "execution_count": 102,
   "metadata": {},
   "outputs": [],
   "source": [
    "X = np.load(\"other_data/X.npy\")         # Testing classes with simple data found online\n",
    "y = np.load(\"other_data/y.npy\")"
   ]
  },
  {
   "cell_type": "code",
   "execution_count": 10,
   "metadata": {},
   "outputs": [],
   "source": [
    "class FC_Layer:     #Relu or Sigmoid activation\n",
    "    '''A class to represent a fully-connected layer with random initialisation of weights.'''\n",
    "    def __init__(self, num_inputs, num_neurons):\n",
    "        self.weights = 0.01 * np.random.randn(num_inputs, num_neurons)                                      # random initialisation of weights with biases set to 0 MAYBE CHANGE 0.01\n",
    "        print('Weights initialised at mean: %.3f, variance: %.3f, and dimensions: %.0d, %.0d' \\\n",
    "            % (np.mean(self.weights), np.var(self.weights), num_inputs, num_neurons))\n",
    "        self.biases = np.zeros((1, num_neurons))                                                            \n",
    "\n",
    "    def forward_pass(self, inputs):\n",
    "        self.output = np.dot(inputs, self.weights) + self.biases                                            # output of this layer will be inputs*w+b"
   ]
  },
  {
   "cell_type": "code",
   "execution_count": 11,
   "metadata": {},
   "outputs": [],
   "source": [
    "class ReLU:\n",
    "   def forward_pass(self, inputs):\n",
    "      self.output = np.maximum(0, inputs) "
   ]
  },
  {
   "cell_type": "code",
   "execution_count": 12,
   "metadata": {},
   "outputs": [
    {
     "output_type": "stream",
     "name": "stdout",
     "text": [
      "Weights initialised at mean: 0.003, variance: 0.000, and dimensions: 2, 3\n"
     ]
    }
   ],
   "source": [
    "fc_layer = FC_Layer(2,3)                                            # fc_layer with 2 input features and 3 output values"
   ]
  },
  {
   "cell_type": "code",
   "execution_count": 13,
   "metadata": {},
   "outputs": [],
   "source": [
    "activation = ReLU()"
   ]
  },
  {
   "cell_type": "code",
   "execution_count": 14,
   "metadata": {},
   "outputs": [],
   "source": [
    "fc_layer.forward_pass(X)"
   ]
  },
  {
   "cell_type": "code",
   "execution_count": 15,
   "metadata": {},
   "outputs": [],
   "source": [
    "activation.forward_pass(fc_layer.output)"
   ]
  },
  {
   "cell_type": "code",
   "execution_count": 16,
   "metadata": {},
   "outputs": [
    {
     "output_type": "stream",
     "name": "stdout",
     "text": [
      "[[0.00000000e+00 0.00000000e+00 0.00000000e+00]\n [0.00000000e+00 1.50285430e-04 1.77786582e-05]\n [0.00000000e+00 3.65705285e-04 0.00000000e+00]\n [1.83272261e-04 5.07176229e-04 0.00000000e+00]\n [2.19133263e-04 7.02994079e-04 0.00000000e+00]]\n"
     ]
    }
   ],
   "source": [
    "print(activation.output[:5])              # output has 5 rows and 3 values each as expected - negative values have been clipped"
   ]
  },
  {
   "cell_type": "code",
   "execution_count": 17,
   "metadata": {},
   "outputs": [],
   "source": [
    "class Softmax:              # meant for classification problems \n",
    "   def forward_pass(self, inputs):\n",
    "       exponents = np.exp(inputs - np.max(inputs, axis=1, keepdims=True))                                     # get unnormalised confidence scores\n",
    "       confidence_scores = exponents / np.sum(exponents, axis=1, keepdims=True)                               # normalise\n",
    "       self.output = confidence_scores                              "
   ]
  },
  {
   "cell_type": "code",
   "execution_count": 18,
   "metadata": {},
   "outputs": [],
   "source": [
    "softmax = Softmax()"
   ]
  },
  {
   "cell_type": "code",
   "execution_count": 19,
   "metadata": {},
   "outputs": [
    {
     "output_type": "stream",
     "name": "stdout",
     "text": [
      "[[0.09003057 0.24472847 0.66524096]]\n"
     ]
    }
   ],
   "source": [
    "softmax.forward_pass([[1, 2, 3]])\n",
    "print(softmax.output)"
   ]
  },
  {
   "cell_type": "code",
   "execution_count": 20,
   "metadata": {},
   "outputs": [
    {
     "output_type": "stream",
     "name": "stdout",
     "text": [
      "[[0.09003057 0.24472847 0.66524096]]\n"
     ]
    }
   ],
   "source": [
    "softmax.forward_pass([[-2, -1, 0]])\n",
    "print(softmax.output)"
   ]
  },
  {
   "cell_type": "code",
   "execution_count": 21,
   "metadata": {},
   "outputs": [
    {
     "output_type": "stream",
     "name": "stdout",
     "text": [
      "Weights initialised at mean: -0.003, variance: 0.000, and dimensions: 2, 3\nWeights initialised at mean: 0.000, variance: 0.000, and dimensions: 3, 3\n[[0.33333333 0.33333333 0.33333333]\n [0.33333432 0.3333325  0.33333318]\n [0.33333513 0.33333182 0.33333305]\n [0.33333451 0.33333234 0.33333315]\n [0.3333352  0.33333176 0.33333304]]\n"
     ]
    }
   ],
   "source": [
    "fc_layer1 = FC_Layer(2, 3)                          # fc1 with 2 input features and 3 output values\n",
    "activation1 = ReLU()                                # Relu activation for fc1\n",
    "fc_layer2 = FC_Layer(3, 3)                          # fc2 with 3 input features and 3 output values\n",
    "activation2 = Softmax()                             # Softmax activation for fc2\n",
    "fc_layer1.forward_pass(X)                                # forward pass of our training data through this layer\n",
    "activation1.forward_pass(fc_layer1.output)             # forward pass through activation function  takes the output of first fc layer\n",
    "fc_layer2.forward_pass(activation1.output)              # forward pass through fc2 takes outputs of activation function of first fc layer as inputs\n",
    "activation2.forward_pass(fc_layer2.output)             # forward pass through activation function takes the output of fc2 as inputs\n",
    "print(activation2.output[:5])"
   ]
  },
  {
   "cell_type": "code",
   "execution_count": 22,
   "metadata": {},
   "outputs": [],
   "source": [
    "class CategoricalCrossEntropyLoss:\n",
    "    ''' Categorical cross-entropy is explicitly used to compare a 'ground-truth' probability (y) and some predicted distribution (y_pred).'''\n",
    "    def forward_pass(self, y_pred, y):\n",
    "        samples = len(y_pred)                                           # Number of samples in a batch\n",
    "        y_pred_clipped = np.clip(y_pred, 1e-7, 1-1e-7)                  # Prevent division by 0 and prevent dragging mean towards any value\n",
    "        if len(y.shape) == 1:                                           # Probabilities for target values only if categorical labels\n",
    "            correct_conf = y_pred_clipped[range(samples), y]\n",
    "        elif len(y.shape) == 2:\n",
    "            correct_conf = np.sum(y_pred_clipped*y, axis=1)\n",
    "        neg_log_likelihoods = -np.log(correct_conf)         \n",
    "        return neg_log_likelihoods\n",
    "    \n",
    "    def loss(self, output, y):                                  # calculates the data and regularisation losses given model output and ground truth values\n",
    "        sample_losses = self.forward_pass(output, y)            # calculate sample losses\n",
    "        data_loss = np.mean(sample_losses)                      # calculate mean loss\n",
    "        return data_loss"
   ]
  },
  {
   "cell_type": "code",
   "execution_count": 23,
   "metadata": {},
   "outputs": [
    {
     "output_type": "stream",
     "name": "stdout",
     "text": [
      "Weights initialised at mean: 0.000, variance: 0.000, and dimensions: 2, 3\nWeights initialised at mean: 0.003, variance: 0.000, and dimensions: 3, 3\n[[0.33333333 0.33333333 0.33333333]\n [0.33333328 0.33333366 0.33333306]\n [0.33333315 0.33333449 0.33333236]\n [0.33333295 0.3333357  0.33333135]\n [0.33333283 0.33333647 0.3333307 ]]\nloss: 1.0986105999068059\n"
     ]
    }
   ],
   "source": [
    "fc_layer1 = FC_Layer(2, 3)                              # fc1 with 2 input features and 3 output values\n",
    "activation1 = ReLU()                                    # Relu activation for fc1\n",
    "fc_layer2 = FC_Layer(3, 3)                              # fc2 with 3 input features and 3 output values\n",
    "activation2 = Softmax()                                 # Softmax activation for fc2\n",
    "loss_func = CategoricalCrossEntropyLoss()\n",
    "fc_layer1.forward_pass(X)                                # forward pass of our training data through this layer\n",
    "activation1.forward_pass(fc_layer1.output)             # forward pass through activation function  takes the output of first fc layer\n",
    "fc_layer2.forward_pass(activation1.output)              # forward pass through fc2 takes outputs of activation function of first fc layer as inputs\n",
    "activation2.forward_pass(fc_layer2.output)             # forward pass through activation function takes the output of fc2 as inputs\n",
    "print(activation2.output[:5])\n",
    "loss = loss_func.loss(activation2.output, y)\n",
    "print('loss:', loss)"
   ]
  },
  {
   "cell_type": "code",
   "execution_count": 25,
   "metadata": {},
   "outputs": [],
   "source": [
    "class FC_Layer:     #ADDING BACKPROP\n",
    "    '''A class to represent a fully-connected layer with random initialisation of weights.'''\n",
    "    def __init__(self, num_inputs, num_neurons):\n",
    "        self.weights = 0.01 * np.random.randn(num_inputs, num_neurons)                                      # random initialisation of weights with biases set to 0 MAYBE CHANGE 0.01\n",
    "        print('Weights initialised at mean: %.3f, variance: %.3f, and dimensions: %.0d, %.0d' \\\n",
    "            % (np.mean(self.weights), np.var(self.weights), num_inputs, num_neurons))\n",
    "        self.biases = np.zeros((1, num_neurons))                                                            \n",
    "\n",
    "    def forward_pass(self, inputs):\n",
    "        self.inputs = inputs                                                                                # keep track of inputs for backprop\n",
    "        self.output = np.dot(inputs, self.weights) + self.biases                                            # output of this layer will be inputs*w+b\n",
    "    \n",
    "    def backward_pass(self, tbd):                                                                        # tbd refers to 'To be derived'\n",
    "        self.deriv_weights = np.dot(self.inputs.T, tbd)                                                  # calculate gradients \n",
    "        self.deriv_biases = np.sum(tbd, axis=0, keepdims=True)\n",
    "        self.deriv_inputs = np.dot(tbd, self.weights.T)"
   ]
  },
  {
   "cell_type": "code",
   "execution_count": 26,
   "metadata": {},
   "outputs": [],
   "source": [
    "class ReLU:     # ADDING BACKPROP\n",
    "    def forward_pass(self, inputs):\n",
    "        self.inputs = inputs\n",
    "        self.output = np.maximum(0, inputs) \n",
    "    \n",
    "    def backward_pass(self, tbd):\n",
    "        self.deriv_inputs = tbd.copy()                                                           # keep track of inputs for backprop\n",
    "        self.deriv_inputs[self.inputs <= 0] = 0                                                          # 0 gradient for negative input values"
   ]
  },
  {
   "cell_type": "code",
   "execution_count": 111,
   "metadata": {},
   "outputs": [],
   "source": [
    "class Sigmoid:\n",
    "   def __init__(self):\n",
    "      def forward(self, inputs):\n",
    "         self.inputs = inputs\n",
    "         self.output = 1 / (1 + np.exp(-inputs))\n",
    "      \n",
    "      def backward(self, tbd):\n",
    "         self.deriv_inputs = tbd * (1 - self.output) * self.output"
   ]
  },
  {
   "cell_type": "code",
   "execution_count": 27,
   "metadata": {},
   "outputs": [],
   "source": [
    "class CategoricalCrossEntropyLoss:         #ADDING BACKPROP\n",
    "    ''' Categorical cross-entropy is explicitly used to compare a 'ground-truth' probability (y) and some predicted distribution (y_pred).'''\n",
    "    def forward_pass(self, y_pred, y):\n",
    "        samples = len(y_pred)                                           # Number of samples in a batch\n",
    "        y_pred_clipped = np.clip(y_pred, 1e-7, 1-1e-7)                  # Prevent division by 0 and prevent dragging mean towards any value\n",
    "        if len(y.shape) == 1:                                           # Probabilities for target values only if categorical labels\n",
    "            correct_conf = y_pred_clipped[range(samples), y]\n",
    "        elif len(y.shape) == 2:\n",
    "            correct_conf = np.sum(y_pred_clipped*y, axis=1)\n",
    "        neg_log_likelihoods = -np.log(correct_conf)         \n",
    "        return neg_log_likelihoods\n",
    "    \n",
    "    def backward_pass(self, tbd, y):                                    # tbd refers to 'To be derived'\n",
    "        samples = len(tbd)\n",
    "        labels = len(tbd[0])                                            # number of labels in each sample\n",
    "        if len(y.shape) == 1:                                           # converted to a list of one-hot encoded vectors if not array   \n",
    "            y = np.eye(labels)[y]\n",
    "        self.deriv_inputs = -y / tbd                                    # calculate gradients\n",
    "        self.deriv_inputs = self.deriv_inputs/samples                   # normalise\n",
    "\n",
    "    def loss(self, output, y):                                  # calculates the data and regularisation losses given model output and ground truth values\n",
    "        sample_losses = self.forward_pass(output, y)            # calculate sample losses\n",
    "        data_loss = np.mean(sample_losses)                      # calculate mean loss\n",
    "        return data_loss"
   ]
  },
  {
   "cell_type": "code",
   "execution_count": 33,
   "metadata": {},
   "outputs": [],
   "source": [
    "class Softmax:              #ADDING BACKPROP \n",
    "    def forward_pass(self, inputs):\n",
    "       exponents = np.exp(inputs - np.max(inputs, axis=1, keepdims=True))                                     # get unnormalised confidence scores\n",
    "       confidence_scores = exponents / np.sum(exponents, axis=1, keepdims=True)                               # normalise\n",
    "       self.output = confidence_scores \n",
    "       self.inputs = inputs\n",
    "\n",
    "    def backward_pass(self, tbd):\n",
    "        self.deriv_inputs = np.empty_like(tbd)                                                                # will become the resulting gradient array\n",
    "        for i, (one_output, one_tbd) in enumerate(zip(self.output, tbd)):                                     # iterating over pairs of outputs and tbds and calculating the derivatives                  \n",
    "            one_output = one_output.reshape(-1, 1)\n",
    "            p_deriv_matrix = np.diagflat(one_output) - np.dot(one_output, one_output.T)\n",
    "            self.deriv_inputs[i] = np.dot(p_deriv_matrix, one_tbd)"
   ]
  },
  {
   "cell_type": "code",
   "execution_count": 44,
   "metadata": {},
   "outputs": [],
   "source": [
    "class Softmax_Classifier_Loss_CategoricalCrossEntropy(): # combining softmax output classifier and Categorical Cross Entropy loss into one class for faster backprop\n",
    "    def __init__(self):\n",
    "        self.activation = Softmax()\n",
    "        self.loss = CategoricalCrossEntropyLoss()\n",
    "\n",
    "    def forward_pass(self, inputs, y):\n",
    "        self.activation.forward_pass(inputs)\n",
    "        self.output = self.activation.output\n",
    "        return self.loss.loss(self.output, y)\n",
    "\n",
    "    def backward_pass(self, tbd, y):\n",
    "        samples = len(tbd)\n",
    "        if len(y.shape) == 2:                                                                   # if not one-hot then turn into disrete values\n",
    "            y = np.argmax(y, axis=1)\n",
    "        self.deriv_inputs = tbd.copy()\n",
    "        self.deriv_inputs[range(samples), y] -= 1                                               # calculate gradient and normalise\n",
    "        self.deriv_inputs = self.deriv_inputs/samples"
   ]
  },
  {
   "cell_type": "code",
   "execution_count": 46,
   "metadata": {},
   "outputs": [
    {
     "output_type": "stream",
     "name": "stdout",
     "text": [
      "Weights initialised at mean: -0.001, variance: 0.000, and dimensions: 2, 3\nWeights initialised at mean: 0.005, variance: 0.000, and dimensions: 3, 3\n[[0.33333333 0.33333333 0.33333333]\n [0.33333332 0.33333333 0.33333335]\n [0.33333288 0.33333315 0.33333396]\n [0.33333154 0.33333266 0.3333358 ]\n [0.33333106 0.33333248 0.33333646]]\nloss: 1.0986107183331533\nacc: 0.31666666666666665\n[[-8.58409420e-06  6.83150294e-05  1.21639315e-04]\n [ 2.48170756e-04 -1.02857426e-04 -5.22625911e-07]]\n[[-0.00012621  0.00044465  0.00026259]]\n[[-1.83148598e-04  2.78856565e-04 -9.57079672e-05]\n [-5.43075437e-05  2.49428802e-05  2.93646635e-05]\n [-6.15175805e-05  8.19248234e-06  5.33250981e-05]]\n[[ 8.12969412e-07 -1.02291297e-05  9.41616032e-06]]\n"
     ]
    }
   ],
   "source": [
    "# TESTING BACKPROP\n",
    "fc_layer1 = FC_Layer(2, 3)\n",
    "activation1 = ReLU()\n",
    "fc_layer2 = FC_Layer(3, 3)\n",
    "loss_and_activation = Softmax_Classifier_Loss_CategoricalCrossEntropy()\n",
    "\n",
    "fc_layer1.forward_pass(X)\n",
    "activation1.forward_pass(fc_layer1.output)\n",
    "fc_layer2.forward_pass(activation1.output)\n",
    "loss = loss_and_activation.forward_pass(fc_layer2.output, y)\n",
    "\n",
    "print(loss_and_activation.output[:5])\n",
    "print('loss:', loss)\n",
    "predictions = np.argmax(loss_and_activation.output, axis=1)\n",
    "if len(y.shape) == 2:\n",
    "    y = np.argmax(y, axis=1)\n",
    "accuracy = np.mean(predictions == y)\n",
    "print('acc:', accuracy)\n",
    "\n",
    "loss_and_activation.backward_pass(loss_and_activation.output, y)\n",
    "fc_layer2.backward_pass(loss_and_activation.deriv_inputs)\n",
    "activation1.backward_pass(fc_layer2.deriv_inputs)\n",
    "fc_layer1.backward_pass(activation1.deriv_inputs)\n",
    "\n",
    "print(fc_layer1.deriv_weights)\n",
    "print(fc_layer1.deriv_biases)\n",
    "print(fc_layer2.deriv_weights)\n",
    "print(fc_layer2.deriv_biases)"
   ]
  },
  {
   "cell_type": "code",
   "execution_count": 78,
   "metadata": {},
   "outputs": [],
   "source": [
    "class SGD:\n",
    "    def __init__(self, lr=1.0):\n",
    "        self.lr = lr\n",
    "    \n",
    "    def update_after_backpass(self, layer):                                             # the layer object contains its parameters (weights and biases) \n",
    "        layer.weights += -self.lr * layer.deriv_weights\n",
    "        layer.biases += -self.lr * layer.deriv_biases"
   ]
  },
  {
   "cell_type": "code",
   "execution_count": 59,
   "metadata": {},
   "outputs": [
    {
     "output_type": "stream",
     "name": "stdout",
     "text": [
      "Weights initialised at mean: 0.000, variance: 0.000, and dimensions: 2, 64\n",
      "Weights initialised at mean: 0.000, variance: 0.000, and dimensions: 64, 3\n",
      "epoch: 0, acc: 0.333, loss: 1.099\n",
      "epoch: 100, acc: 0.400, loss: 1.093\n",
      "epoch: 200, acc: 0.410, loss: 1.079\n",
      "epoch: 300, acc: 0.407, loss: 1.077\n",
      "epoch: 400, acc: 0.430, loss: 1.076\n",
      "epoch: 500, acc: 0.413, loss: 1.074\n",
      "epoch: 600, acc: 0.413, loss: 1.072\n",
      "epoch: 700, acc: 0.413, loss: 1.069\n",
      "epoch: 800, acc: 0.423, loss: 1.064\n",
      "epoch: 900, acc: 0.437, loss: 1.058\n",
      "epoch: 1000, acc: 0.463, loss: 1.049\n",
      "epoch: 1100, acc: 0.423, loss: 1.057\n",
      "epoch: 1200, acc: 0.413, loss: 1.055\n",
      "epoch: 1300, acc: 0.423, loss: 1.053\n",
      "epoch: 1400, acc: 0.410, loss: 1.052\n",
      "epoch: 1500, acc: 0.403, loss: 1.049\n",
      "epoch: 1600, acc: 0.410, loss: 1.046\n",
      "epoch: 1700, acc: 0.407, loss: 1.045\n",
      "epoch: 1800, acc: 0.407, loss: 1.047\n",
      "epoch: 1900, acc: 0.403, loss: 1.048\n",
      "epoch: 2000, acc: 0.407, loss: 1.033\n",
      "epoch: 2100, acc: 0.400, loss: 1.033\n",
      "epoch: 2200, acc: 0.413, loss: 1.018\n",
      "epoch: 2300, acc: 0.417, loss: 1.017\n",
      "epoch: 2400, acc: 0.433, loss: 0.994\n",
      "epoch: 2500, acc: 0.447, loss: 0.981\n",
      "epoch: 2600, acc: 0.473, loss: 0.958\n",
      "epoch: 2700, acc: 0.503, loss: 0.945\n",
      "epoch: 2800, acc: 0.523, loss: 0.910\n",
      "epoch: 2900, acc: 0.560, loss: 0.897\n",
      "epoch: 3000, acc: 0.603, loss: 0.860\n",
      "epoch: 3100, acc: 0.597, loss: 0.858\n",
      "epoch: 3200, acc: 0.553, loss: 0.870\n",
      "epoch: 3300, acc: 0.553, loss: 0.873\n",
      "epoch: 3400, acc: 0.587, loss: 0.844\n",
      "epoch: 3500, acc: 0.583, loss: 0.830\n",
      "epoch: 3600, acc: 0.577, loss: 0.833\n",
      "epoch: 3700, acc: 0.580, loss: 0.837\n",
      "epoch: 3800, acc: 0.603, loss: 0.803\n",
      "epoch: 3900, acc: 0.670, loss: 0.806\n",
      "epoch: 4000, acc: 0.640, loss: 0.780\n",
      "epoch: 4100, acc: 0.647, loss: 0.806\n",
      "epoch: 4200, acc: 0.673, loss: 0.763\n",
      "epoch: 4300, acc: 0.667, loss: 0.798\n",
      "epoch: 4400, acc: 0.670, loss: 0.765\n",
      "epoch: 4500, acc: 0.677, loss: 0.826\n",
      "epoch: 4600, acc: 0.623, loss: 0.781\n",
      "epoch: 4700, acc: 0.673, loss: 0.760\n",
      "epoch: 4800, acc: 0.687, loss: 0.815\n",
      "epoch: 4900, acc: 0.683, loss: 0.719\n",
      "epoch: 5000, acc: 0.633, loss: 0.789\n",
      "epoch: 5100, acc: 0.697, loss: 0.713\n",
      "epoch: 5200, acc: 0.690, loss: 0.825\n",
      "epoch: 5300, acc: 0.710, loss: 0.698\n",
      "epoch: 5400, acc: 0.697, loss: 0.753\n",
      "epoch: 5500, acc: 0.717, loss: 0.693\n",
      "epoch: 5600, acc: 0.717, loss: 0.686\n",
      "epoch: 5700, acc: 0.627, loss: 0.826\n",
      "epoch: 5800, acc: 0.720, loss: 0.681\n",
      "epoch: 5900, acc: 0.713, loss: 0.678\n",
      "epoch: 6000, acc: 0.693, loss: 0.706\n",
      "epoch: 6100, acc: 0.563, loss: 1.080\n",
      "epoch: 6200, acc: 0.707, loss: 0.677\n",
      "epoch: 6300, acc: 0.713, loss: 0.677\n",
      "epoch: 6400, acc: 0.733, loss: 0.673\n",
      "epoch: 6500, acc: 0.573, loss: 0.965\n",
      "epoch: 6600, acc: 0.727, loss: 0.646\n",
      "epoch: 6700, acc: 0.713, loss: 0.668\n",
      "epoch: 6800, acc: 0.700, loss: 0.683\n",
      "epoch: 6900, acc: 0.720, loss: 0.658\n",
      "epoch: 7000, acc: 0.720, loss: 0.659\n",
      "epoch: 7100, acc: 0.730, loss: 0.705\n",
      "epoch: 7200, acc: 0.570, loss: 1.085\n",
      "epoch: 7300, acc: 0.707, loss: 0.678\n",
      "epoch: 7400, acc: 0.730, loss: 0.652\n",
      "epoch: 7500, acc: 0.713, loss: 0.665\n",
      "epoch: 7600, acc: 0.730, loss: 0.651\n",
      "epoch: 7700, acc: 0.720, loss: 0.662\n",
      "epoch: 7800, acc: 0.730, loss: 0.646\n",
      "epoch: 7900, acc: 0.740, loss: 0.659\n",
      "epoch: 8000, acc: 0.690, loss: 0.690\n",
      "epoch: 8100, acc: 0.737, loss: 0.691\n",
      "epoch: 8200, acc: 0.690, loss: 0.679\n",
      "epoch: 8300, acc: 0.577, loss: 1.015\n",
      "epoch: 8400, acc: 0.793, loss: 0.574\n",
      "epoch: 8500, acc: 0.690, loss: 0.647\n",
      "epoch: 8600, acc: 0.747, loss: 0.671\n",
      "epoch: 8700, acc: 0.707, loss: 0.636\n",
      "epoch: 8800, acc: 0.743, loss: 0.656\n",
      "epoch: 8900, acc: 0.707, loss: 0.632\n",
      "epoch: 9000, acc: 0.743, loss: 0.651\n",
      "epoch: 9100, acc: 0.710, loss: 0.631\n",
      "epoch: 9200, acc: 0.747, loss: 0.644\n",
      "epoch: 9300, acc: 0.720, loss: 0.624\n",
      "epoch: 9400, acc: 0.753, loss: 0.636\n",
      "epoch: 9500, acc: 0.717, loss: 0.610\n",
      "epoch: 9600, acc: 0.757, loss: 0.628\n",
      "epoch: 9700, acc: 0.713, loss: 0.614\n",
      "epoch: 9800, acc: 0.650, loss: 0.773\n",
      "epoch: 9900, acc: 0.657, loss: 0.731\n",
      "epoch: 10000, acc: 0.593, loss: 1.019\n"
     ]
    }
   ],
   "source": [
    "# TESTING SGD and USING EPOCHS for training\n",
    "fc_layer1 = FC_Layer(2, 64)\n",
    "activation1 = ReLU()\n",
    "fc_layer2 = FC_Layer(64, 3)\n",
    "loss_and_activation = Softmax_Classifier_Loss_CategoricalCrossEntropy()\n",
    "optimizer = SGD()\n",
    "\n",
    "for epoch in range(10001):\n",
    "    fc_layer1.forward_pass(X)\n",
    "    activation1.forward_pass(fc_layer1.output)\n",
    "    fc_layer2.forward_pass(activation1.output)\n",
    "    loss = loss_and_activation.forward_pass(fc_layer2.output, y)\n",
    "\n",
    "    predictions = np.argmax(loss_and_activation.output, axis=1)\n",
    "    if len(y.shape) == 2:\n",
    "        y = np.argmax(y, axis=1)\n",
    "    accuracy = np.mean(predictions == y)\n",
    "    if not epoch % 100:\n",
    "        print(f'epoch: {epoch}, ' + f'acc: {accuracy:.3f}, ' + f'loss: {loss:.3f}')\n",
    "\n",
    "    loss_and_activation.backward_pass(loss_and_activation.output, y)\n",
    "    fc_layer2.backward_pass(loss_and_activation.deriv_inputs)\n",
    "    activation1.backward_pass(fc_layer2.deriv_inputs)\n",
    "    fc_layer1.backward_pass(activation1.deriv_inputs)\n",
    "    optimizer.update_after_backpass(fc_layer1)\n",
    "    optimizer.update_after_backpass(fc_layer2)"
   ]
  },
  {
   "cell_type": "code",
   "execution_count": 79,
   "metadata": {},
   "outputs": [],
   "source": [
    "class SGD: #Updating SGD class to add decay\n",
    "    def __init__(self, lr=1.0, decay=0.):\n",
    "        self.lr = lr                                                          # initial learning rate\n",
    "        self.current_lr = lr\n",
    "        self.decay = decay\n",
    "        self.iterations = 0                                                   # no. of iterations the optimiser has gone through\n",
    "    \n",
    "    def pre_update(self):\n",
    "        if self.decay:                                                              # if decay rate is non-0 then update the current learning rate\n",
    "            self.current_lr = self.lr * (1.0/(1.0 + self.decay*self.iterations))\n",
    "    \n",
    "    def update(self, layer):                                             # the layer object contains its parameters (weights and biases) \n",
    "        layer.weights += -self.lr * layer.deriv_weights\n",
    "        layer.biases += -self.lr * layer.deriv_biases\n",
    "\n",
    "    def post_update(self):\n",
    "        self.iterations += 1    "
   ]
  },
  {
   "cell_type": "code",
   "execution_count": 81,
   "metadata": {},
   "outputs": [
    {
     "output_type": "stream",
     "name": "stdout",
     "text": [
      "Weights initialised at mean: 0.002, variance: 0.000, and dimensions: 2, 64\n",
      "Weights initialised at mean: -0.001, variance: 0.000, and dimensions: 64, 3\n",
      "epoch: 0, acc: 0.383, loss: 1.099 lr: 1.0 \n",
      "epoch: 100, acc: 0.407, loss: 1.088 lr: 0.9099181073703367 \n",
      "epoch: 200, acc: 0.430, loss: 1.078 lr: 0.8340283569641367 \n",
      "epoch: 300, acc: 0.430, loss: 1.076 lr: 0.7698229407236336 \n",
      "epoch: 400, acc: 0.407, loss: 1.073 lr: 0.7147962830593281 \n",
      "epoch: 500, acc: 0.410, loss: 1.069 lr: 0.66711140760507 \n",
      "epoch: 600, acc: 0.413, loss: 1.063 lr: 0.6253908692933083 \n",
      "epoch: 700, acc: 0.423, loss: 1.055 lr: 0.5885815185403178 \n",
      "epoch: 800, acc: 0.410, loss: 1.060 lr: 0.5558643690939411 \n",
      "epoch: 900, acc: 0.400, loss: 1.054 lr: 0.526592943654555 \n",
      "epoch: 1000, acc: 0.410, loss: 1.052 lr: 0.5002501250625312 \n",
      "epoch: 1100, acc: 0.410, loss: 1.050 lr: 0.4764173415912339 \n",
      "epoch: 1200, acc: 0.413, loss: 1.047 lr: 0.45475216007276037 \n",
      "epoch: 1300, acc: 0.427, loss: 1.060 lr: 0.43497172683775553 \n",
      "epoch: 1400, acc: 0.403, loss: 1.044 lr: 0.4168403501458941 \n",
      "epoch: 1500, acc: 0.420, loss: 1.039 lr: 0.4001600640256102 \n",
      "epoch: 1600, acc: 0.467, loss: 1.037 lr: 0.3847633705271258 \n",
      "epoch: 1700, acc: 0.440, loss: 1.030 lr: 0.3705075954057058 \n",
      "epoch: 1800, acc: 0.480, loss: 1.026 lr: 0.35727045373347627 \n",
      "epoch: 1900, acc: 0.483, loss: 1.019 lr: 0.3449465332873405 \n",
      "epoch: 2000, acc: 0.497, loss: 1.031 lr: 0.33344448149383127 \n",
      "epoch: 2100, acc: 0.507, loss: 1.002 lr: 0.32268473701193934 \n",
      "epoch: 2200, acc: 0.523, loss: 1.011 lr: 0.31259768677711786 \n",
      "epoch: 2300, acc: 0.483, loss: 1.035 lr: 0.3031221582297666 \n",
      "epoch: 2400, acc: 0.487, loss: 0.977 lr: 0.29420417769932333 \n",
      "epoch: 2500, acc: 0.520, loss: 0.972 lr: 0.2857959416976279 \n",
      "epoch: 2600, acc: 0.510, loss: 0.969 lr: 0.2778549597110308 \n",
      "epoch: 2700, acc: 0.537, loss: 0.968 lr: 0.2703433360367667 \n",
      "epoch: 2800, acc: 0.533, loss: 0.964 lr: 0.26322716504343247 \n",
      "epoch: 2900, acc: 0.537, loss: 0.958 lr: 0.25647601949217746 \n",
      "epoch: 3000, acc: 0.567, loss: 0.938 lr: 0.25006251562890724 \n",
      "epoch: 3100, acc: 0.537, loss: 0.951 lr: 0.2439619419370578 \n",
      "epoch: 3200, acc: 0.513, loss: 0.944 lr: 0.23815194093831865 \n",
      "epoch: 3300, acc: 0.540, loss: 0.980 lr: 0.23261223540358225 \n",
      "epoch: 3400, acc: 0.520, loss: 0.955 lr: 0.22732439190725165 \n",
      "epoch: 3500, acc: 0.563, loss: 0.924 lr: 0.22227161591464767 \n",
      "epoch: 3600, acc: 0.547, loss: 0.957 lr: 0.21743857360295715 \n",
      "epoch: 3700, acc: 0.527, loss: 0.951 lr: 0.21281123643328367 \n",
      "epoch: 3800, acc: 0.577, loss: 0.929 lr: 0.20837674515524068 \n",
      "epoch: 3900, acc: 0.557, loss: 0.919 lr: 0.20412329046744235 \n",
      "epoch: 4000, acc: 0.570, loss: 0.933 lr: 0.2000400080016003 \n",
      "epoch: 4100, acc: 0.587, loss: 0.908 lr: 0.19611688566385566 \n",
      "epoch: 4200, acc: 0.610, loss: 0.868 lr: 0.19234468166955185 \n",
      "epoch: 4300, acc: 0.597, loss: 0.875 lr: 0.18871485185884126 \n",
      "epoch: 4400, acc: 0.583, loss: 0.913 lr: 0.18521948508983144 \n",
      "epoch: 4500, acc: 0.587, loss: 0.856 lr: 0.18185124568103292 \n",
      "epoch: 4600, acc: 0.603, loss: 0.872 lr: 0.1786033220217896 \n",
      "epoch: 4700, acc: 0.583, loss: 0.880 lr: 0.1754693805930865 \n",
      "epoch: 4800, acc: 0.600, loss: 0.875 lr: 0.17244352474564578 \n",
      "epoch: 4900, acc: 0.597, loss: 0.873 lr: 0.16952025767079165 \n",
      "epoch: 5000, acc: 0.603, loss: 0.850 lr: 0.16669444907484582 \n",
      "epoch: 5100, acc: 0.610, loss: 0.865 lr: 0.16396130513198884 \n",
      "epoch: 5200, acc: 0.587, loss: 0.854 lr: 0.16131634134537828 \n",
      "epoch: 5300, acc: 0.613, loss: 0.842 lr: 0.15875535799333226 \n",
      "epoch: 5400, acc: 0.660, loss: 0.795 lr: 0.1562744178777934 \n",
      "epoch: 5500, acc: 0.610, loss: 0.803 lr: 0.15386982612709646 \n",
      "epoch: 5600, acc: 0.583, loss: 0.855 lr: 0.15153811183512653 \n",
      "epoch: 5700, acc: 0.637, loss: 0.782 lr: 0.14927601134497687 \n",
      "epoch: 5800, acc: 0.593, loss: 0.817 lr: 0.14708045300779526 \n",
      "epoch: 5900, acc: 0.687, loss: 0.760 lr: 0.14494854326714016 \n",
      "epoch: 6000, acc: 0.573, loss: 0.978 lr: 0.1428775539362766 \n",
      "epoch: 6100, acc: 0.593, loss: 0.771 lr: 0.1408649105507818 \n",
      "epoch: 6200, acc: 0.633, loss: 0.755 lr: 0.13890818169190167 \n",
      "epoch: 6300, acc: 0.667, loss: 0.726 lr: 0.13700506918755992 \n",
      "epoch: 6400, acc: 0.603, loss: 0.881 lr: 0.13515339910798757 \n",
      "epoch: 6500, acc: 0.667, loss: 0.714 lr: 0.13335111348179757 \n",
      "epoch: 6600, acc: 0.657, loss: 0.722 lr: 0.13159626266614027 \n",
      "epoch: 6700, acc: 0.663, loss: 0.730 lr: 0.12988699831146902 \n",
      "epoch: 6800, acc: 0.650, loss: 0.713 lr: 0.12822156686754713 \n",
      "epoch: 6900, acc: 0.673, loss: 0.685 lr: 0.126598303582732 \n",
      "epoch: 7000, acc: 0.667, loss: 0.702 lr: 0.12501562695336915 \n",
      "epoch: 7100, acc: 0.663, loss: 0.729 lr: 0.12347203358439313 \n",
      "epoch: 7200, acc: 0.650, loss: 0.717 lr: 0.12196609342602757 \n",
      "epoch: 7300, acc: 0.653, loss: 0.712 lr: 0.12049644535486204 \n",
      "epoch: 7400, acc: 0.690, loss: 0.686 lr: 0.11906179307060363 \n",
      "epoch: 7500, acc: 0.653, loss: 0.712 lr: 0.11766090128250381 \n",
      "epoch: 7600, acc: 0.667, loss: 0.709 lr: 0.11629259216187929 \n",
      "epoch: 7700, acc: 0.663, loss: 0.688 lr: 0.11495574203931487 \n",
      "epoch: 7800, acc: 0.673, loss: 0.681 lr: 0.11364927832708263 \n",
      "epoch: 7900, acc: 0.670, loss: 0.662 lr: 0.11237217664906168 \n",
      "epoch: 8000, acc: 0.670, loss: 0.692 lr: 0.11112345816201799 \n",
      "epoch: 8100, acc: 0.547, loss: 1.198 lr: 0.10990218705352237 \n",
      "epoch: 8200, acc: 0.663, loss: 0.702 lr: 0.10870746820306555 \n",
      "epoch: 8300, acc: 0.663, loss: 0.713 lr: 0.1075384449940854 \n",
      "epoch: 8400, acc: 0.663, loss: 0.711 lr: 0.10639429726566654 \n",
      "epoch: 8500, acc: 0.670, loss: 0.691 lr: 0.10527423939362038 \n",
      "epoch: 8600, acc: 0.670, loss: 0.704 lr: 0.10417751849150952 \n",
      "epoch: 8700, acc: 0.713, loss: 0.625 lr: 0.10310341272296113 \n",
      "epoch: 8800, acc: 0.677, loss: 0.685 lr: 0.1020512297173181 \n",
      "epoch: 8900, acc: 0.690, loss: 0.698 lr: 0.10102030508132134 \n",
      "epoch: 9000, acc: 0.723, loss: 0.638 lr: 0.1000100010001 \n",
      "epoch: 9100, acc: 0.673, loss: 0.689 lr: 0.09901970492127933 \n",
      "epoch: 9200, acc: 0.697, loss: 0.679 lr: 0.09804882831650162 \n",
      "epoch: 9300, acc: 0.683, loss: 0.713 lr: 0.09709680551509856 \n",
      "epoch: 9400, acc: 0.703, loss: 0.650 lr: 0.09616309260505818 \n",
      "epoch: 9500, acc: 0.673, loss: 0.699 lr: 0.09524716639679968 \n",
      "epoch: 9600, acc: 0.703, loss: 0.686 lr: 0.09434852344560807 \n",
      "epoch: 9700, acc: 0.693, loss: 0.679 lr: 0.09346667912889055 \n",
      "epoch: 9800, acc: 0.697, loss: 0.664 lr: 0.09260116677470137 \n",
      "epoch: 9900, acc: 0.690, loss: 0.659 lr: 0.09175153683824203 \n",
      "epoch: 10000, acc: 0.697, loss: 0.672 lr: 0.09091735612328393 \n"
     ]
    }
   ],
   "source": [
    "# TESTING SGD with decay\n",
    "fc_layer1 = FC_Layer(2, 64)\n",
    "activation1 = ReLU()\n",
    "fc_layer2 = FC_Layer(64, 3)\n",
    "loss_and_activation = Softmax_Classifier_Loss_CategoricalCrossEntropy()\n",
    "optimiser = SGD(decay=0.001)\n",
    "num_iterations = 100001\n",
    "for epoch in range(num_iterations):\n",
    "    fc_layer1.forward_pass(X)\n",
    "    activation1.forward_pass(fc_layer1.output)\n",
    "    fc_layer2.forward_pass(activation1.output)\n",
    "    loss = loss_and_activation.forward_pass(fc_layer2.output, y)\n",
    "\n",
    "    predictions = np.argmax(loss_and_activation.output, axis=1)\n",
    "    if len(y.shape) == 2:\n",
    "        y = np.argmax(y, axis=1)\n",
    "    accuracy = np.mean(predictions == y)\n",
    "    if not epoch % 100:\n",
    "        print(f'epoch: {epoch}, ' + f'acc: {accuracy:.3f}, ' + f'loss: {loss:.3f} ' \\\n",
    "        + f'lr: {optimiser.current_lr} ')\n",
    "\n",
    "    loss_and_activation.backward_pass(loss_and_activation.output, y)\n",
    "    fc_layer2.backward_pass(loss_and_activation.deriv_inputs)\n",
    "    activation1.backward_pass(fc_layer2.deriv_inputs)\n",
    "    fc_layer1.backward_pass(activation1.deriv_inputs)\n",
    "    optimiser.pre_update()\n",
    "    optimiser.update_after_backpass(fc_layer1)\n",
    "    optimiser.update_after_backpass(fc_layer2)\n",
    "    optimiser.post_update()"
   ]
  },
  {
   "cell_type": "code",
   "execution_count": 98,
   "metadata": {},
   "outputs": [],
   "source": [
    "class SGD: #Updating SGD class to add momentum\n",
    "    def __init__(self, lr=1.0, decay=0.0, momentum=0.0):\n",
    "        self.lr = lr                                                                    # initial learning rate\n",
    "        self.current_lr = lr\n",
    "        self.decay = decay\n",
    "        self.momentum = momentum\n",
    "        self.iterations = 0                                                             # no. of iterations the optimiser has gone through\n",
    "    \n",
    "    def pre_update(self):\n",
    "        if self.decay:                                                                  # if decay rate is non-0 then update the current learning rate\n",
    "            self.current_lr = self.lr * (1.0/(1.0 + self.decay*self.iterations))\n",
    "    \n",
    "    def update(self, layer):                                                            # the layer object contains its parameters (weights and biases) \n",
    "        if self.momentum:\n",
    "            if not hasattr(layer, 'w_momentums'):                                                   # If layer does not contain momentum arrays, create them filled with zeros\n",
    "                layer.w_momentums = np.zeros_like(layer.weights)\n",
    "                layer.b_momentums = np.zeros_like(layer.biases)\n",
    "            w_updates = self.momentum * layer.w_momentums - self.current_lr * layer.deriv_weights   # Build weight updates with momentum - take previous updates multiplied by retain factor and update with current gradients\n",
    "            layer.w_momentums = w_updates\n",
    "            b_updates = self.momentum * layer.b_momentums - self.current_lr * layer.deriv_biases\n",
    "            layer.b_momentums = b_updates\n",
    "        else:\n",
    "            w_updates = -self.current_lr * layer.deriv_weights                                  # do normal SGD\n",
    "            b_updates = -self.current_lr * layer.deriv_biases\n",
    "        layer.weights += w_updates\n",
    "        layer.biases += b_updates\n",
    "\n",
    "    def post_update(self):\n",
    "        self.iterations += 1    "
   ]
  },
  {
   "cell_type": "code",
   "execution_count": 99,
   "metadata": {},
   "outputs": [
    {
     "output_type": "stream",
     "name": "stdout",
     "text": [
      "Weights initialised at mean: -0.001, variance: 0.000, and dimensions: 2, 64\n",
      "Weights initialised at mean: 0.001, variance: 0.000, and dimensions: 64, 3\n",
      "epoch: 0, acc: 0.337, loss: 1.099 lr: 1.0 \n",
      "epoch: 100, acc: 0.437, loss: 1.067 lr: 0.9099181073703367 \n",
      "epoch: 200, acc: 0.440, loss: 1.016 lr: 0.8340283569641367 \n",
      "epoch: 300, acc: 0.610, loss: 0.815 lr: 0.7698229407236336 \n",
      "epoch: 400, acc: 0.710, loss: 0.659 lr: 0.7147962830593281 \n",
      "epoch: 500, acc: 0.807, loss: 0.585 lr: 0.66711140760507 \n",
      "epoch: 600, acc: 0.830, loss: 0.435 lr: 0.6253908692933083 \n",
      "epoch: 700, acc: 0.840, loss: 0.386 lr: 0.5885815185403178 \n",
      "epoch: 800, acc: 0.840, loss: 0.367 lr: 0.5558643690939411 \n",
      "epoch: 900, acc: 0.887, loss: 0.307 lr: 0.526592943654555 \n",
      "epoch: 1000, acc: 0.840, loss: 0.375 lr: 0.5002501250625312 \n",
      "epoch: 1100, acc: 0.867, loss: 0.330 lr: 0.4764173415912339 \n",
      "epoch: 1200, acc: 0.870, loss: 0.314 lr: 0.45475216007276037 \n",
      "epoch: 1300, acc: 0.870, loss: 0.305 lr: 0.43497172683775553 \n",
      "epoch: 1400, acc: 0.870, loss: 0.299 lr: 0.4168403501458941 \n",
      "epoch: 1500, acc: 0.860, loss: 0.294 lr: 0.4001600640256102 \n",
      "epoch: 1600, acc: 0.870, loss: 0.290 lr: 0.3847633705271258 \n",
      "epoch: 1700, acc: 0.870, loss: 0.287 lr: 0.3705075954057058 \n",
      "epoch: 1800, acc: 0.867, loss: 0.284 lr: 0.35727045373347627 \n",
      "epoch: 1900, acc: 0.867, loss: 0.281 lr: 0.3449465332873405 \n",
      "epoch: 2000, acc: 0.863, loss: 0.279 lr: 0.33344448149383127 \n",
      "epoch: 2100, acc: 0.867, loss: 0.277 lr: 0.32268473701193934 \n",
      "epoch: 2200, acc: 0.867, loss: 0.275 lr: 0.31259768677711786 \n",
      "epoch: 2300, acc: 0.870, loss: 0.273 lr: 0.3031221582297666 \n",
      "epoch: 2400, acc: 0.870, loss: 0.272 lr: 0.29420417769932333 \n",
      "epoch: 2500, acc: 0.873, loss: 0.270 lr: 0.2857959416976279 \n",
      "epoch: 2600, acc: 0.873, loss: 0.269 lr: 0.2778549597110308 \n",
      "epoch: 2700, acc: 0.873, loss: 0.267 lr: 0.2703433360367667 \n",
      "epoch: 2800, acc: 0.873, loss: 0.266 lr: 0.26322716504343247 \n",
      "epoch: 2900, acc: 0.877, loss: 0.262 lr: 0.25647601949217746 \n",
      "epoch: 3000, acc: 0.880, loss: 0.257 lr: 0.25006251562890724 \n",
      "epoch: 3100, acc: 0.883, loss: 0.255 lr: 0.2439619419370578 \n",
      "epoch: 3200, acc: 0.883, loss: 0.254 lr: 0.23815194093831865 \n",
      "epoch: 3300, acc: 0.880, loss: 0.253 lr: 0.23261223540358225 \n",
      "epoch: 3400, acc: 0.880, loss: 0.252 lr: 0.22732439190725165 \n",
      "epoch: 3500, acc: 0.883, loss: 0.250 lr: 0.22227161591464767 \n",
      "epoch: 3600, acc: 0.883, loss: 0.249 lr: 0.21743857360295715 \n",
      "epoch: 3700, acc: 0.887, loss: 0.248 lr: 0.21281123643328367 \n",
      "epoch: 3800, acc: 0.887, loss: 0.247 lr: 0.20837674515524068 \n",
      "epoch: 3900, acc: 0.887, loss: 0.246 lr: 0.20412329046744235 \n",
      "epoch: 4000, acc: 0.887, loss: 0.245 lr: 0.2000400080016003 \n",
      "epoch: 4100, acc: 0.887, loss: 0.244 lr: 0.19611688566385566 \n",
      "epoch: 4200, acc: 0.887, loss: 0.243 lr: 0.19234468166955185 \n",
      "epoch: 4300, acc: 0.890, loss: 0.242 lr: 0.18871485185884126 \n",
      "epoch: 4400, acc: 0.890, loss: 0.242 lr: 0.18521948508983144 \n",
      "epoch: 4500, acc: 0.890, loss: 0.241 lr: 0.18185124568103292 \n",
      "epoch: 4600, acc: 0.890, loss: 0.240 lr: 0.1786033220217896 \n",
      "epoch: 4700, acc: 0.890, loss: 0.239 lr: 0.1754693805930865 \n",
      "epoch: 4800, acc: 0.890, loss: 0.239 lr: 0.17244352474564578 \n",
      "epoch: 4900, acc: 0.890, loss: 0.238 lr: 0.16952025767079165 \n",
      "epoch: 5000, acc: 0.890, loss: 0.238 lr: 0.16669444907484582 \n",
      "epoch: 5100, acc: 0.890, loss: 0.237 lr: 0.16396130513198884 \n",
      "epoch: 5200, acc: 0.890, loss: 0.237 lr: 0.16131634134537828 \n",
      "epoch: 5300, acc: 0.890, loss: 0.236 lr: 0.15875535799333226 \n",
      "epoch: 5400, acc: 0.890, loss: 0.236 lr: 0.1562744178777934 \n",
      "epoch: 5500, acc: 0.890, loss: 0.235 lr: 0.15386982612709646 \n",
      "epoch: 5600, acc: 0.890, loss: 0.235 lr: 0.15153811183512653 \n",
      "epoch: 5700, acc: 0.890, loss: 0.234 lr: 0.14927601134497687 \n",
      "epoch: 5800, acc: 0.887, loss: 0.234 lr: 0.14708045300779526 \n",
      "epoch: 5900, acc: 0.890, loss: 0.233 lr: 0.14494854326714016 \n",
      "epoch: 6000, acc: 0.890, loss: 0.233 lr: 0.1428775539362766 \n",
      "epoch: 6100, acc: 0.890, loss: 0.233 lr: 0.1408649105507818 \n",
      "epoch: 6200, acc: 0.893, loss: 0.232 lr: 0.13890818169190167 \n",
      "epoch: 6300, acc: 0.890, loss: 0.232 lr: 0.13700506918755992 \n",
      "epoch: 6400, acc: 0.890, loss: 0.231 lr: 0.13515339910798757 \n",
      "epoch: 6500, acc: 0.890, loss: 0.231 lr: 0.13335111348179757 \n",
      "epoch: 6600, acc: 0.893, loss: 0.231 lr: 0.13159626266614027 \n",
      "epoch: 6700, acc: 0.890, loss: 0.231 lr: 0.12988699831146902 \n",
      "epoch: 6800, acc: 0.893, loss: 0.230 lr: 0.12822156686754713 \n",
      "epoch: 6900, acc: 0.890, loss: 0.230 lr: 0.126598303582732 \n",
      "epoch: 7000, acc: 0.890, loss: 0.230 lr: 0.12501562695336915 \n",
      "epoch: 7100, acc: 0.893, loss: 0.229 lr: 0.12347203358439313 \n",
      "epoch: 7200, acc: 0.893, loss: 0.229 lr: 0.12196609342602757 \n",
      "epoch: 7300, acc: 0.890, loss: 0.229 lr: 0.12049644535486204 \n",
      "epoch: 7400, acc: 0.890, loss: 0.229 lr: 0.11906179307060363 \n",
      "epoch: 7500, acc: 0.890, loss: 0.228 lr: 0.11766090128250381 \n",
      "epoch: 7600, acc: 0.890, loss: 0.228 lr: 0.11629259216187929 \n",
      "epoch: 7700, acc: 0.890, loss: 0.228 lr: 0.11495574203931487 \n",
      "epoch: 7800, acc: 0.890, loss: 0.228 lr: 0.11364927832708263 \n",
      "epoch: 7900, acc: 0.890, loss: 0.227 lr: 0.11237217664906168 \n",
      "epoch: 8000, acc: 0.890, loss: 0.227 lr: 0.11112345816201799 \n",
      "epoch: 8100, acc: 0.890, loss: 0.227 lr: 0.10990218705352237 \n",
      "epoch: 8200, acc: 0.890, loss: 0.227 lr: 0.10870746820306555 \n",
      "epoch: 8300, acc: 0.890, loss: 0.226 lr: 0.1075384449940854 \n",
      "epoch: 8400, acc: 0.890, loss: 0.226 lr: 0.10639429726566654 \n",
      "epoch: 8500, acc: 0.890, loss: 0.226 lr: 0.10527423939362038 \n",
      "epoch: 8600, acc: 0.893, loss: 0.226 lr: 0.10417751849150952 \n",
      "epoch: 8700, acc: 0.890, loss: 0.226 lr: 0.10310341272296113 \n",
      "epoch: 8800, acc: 0.890, loss: 0.225 lr: 0.1020512297173181 \n",
      "epoch: 8900, acc: 0.890, loss: 0.225 lr: 0.10102030508132134 \n",
      "epoch: 9000, acc: 0.890, loss: 0.225 lr: 0.1000100010001 \n",
      "epoch: 9100, acc: 0.890, loss: 0.225 lr: 0.09901970492127933 \n",
      "epoch: 9200, acc: 0.890, loss: 0.225 lr: 0.09804882831650162 \n",
      "epoch: 9300, acc: 0.890, loss: 0.224 lr: 0.09709680551509856 \n",
      "epoch: 9400, acc: 0.890, loss: 0.224 lr: 0.09616309260505818 \n",
      "epoch: 9500, acc: 0.893, loss: 0.224 lr: 0.09524716639679968 \n",
      "epoch: 9600, acc: 0.893, loss: 0.224 lr: 0.09434852344560807 \n",
      "epoch: 9700, acc: 0.893, loss: 0.224 lr: 0.09346667912889055 \n",
      "epoch: 9800, acc: 0.890, loss: 0.224 lr: 0.09260116677470137 \n",
      "epoch: 9900, acc: 0.893, loss: 0.223 lr: 0.09175153683824203 \n",
      "epoch: 10000, acc: 0.893, loss: 0.223 lr: 0.09091735612328393 \n"
     ]
    }
   ],
   "source": [
    "# TESTING SGD with momentum\n",
    "fc_layer1 = FC_Layer(2, 64)\n",
    "activation1 = ReLU()\n",
    "fc_layer2 = FC_Layer(64, 3)\n",
    "loss_and_activation = Softmax_Classifier_Loss_CategoricalCrossEntropy()\n",
    "optimiser = SGD(decay=0.001, momentum=0.9)\n",
    "num_iterations = 10001\n",
    "for epoch in range(num_iterations):\n",
    "    fc_layer1.forward_pass(X)\n",
    "    activation1.forward_pass(fc_layer1.output)\n",
    "    fc_layer2.forward_pass(activation1.output)\n",
    "    loss = loss_and_activation.forward_pass(fc_layer2.output, y)\n",
    "\n",
    "    predictions = np.argmax(loss_and_activation.output, axis=1)\n",
    "    if len(y.shape) == 2:\n",
    "        y = np.argmax(y, axis=1)\n",
    "    accuracy = np.mean(predictions == y)\n",
    "    if not epoch % 100:\n",
    "        print(f'epoch: {epoch}, ' + f'acc: {accuracy:.3f}, ' + f'loss: {loss:.3f} ' \\\n",
    "        + f'lr: {optimiser.current_lr} ')\n",
    "\n",
    "    loss_and_activation.backward_pass(loss_and_activation.output, y)\n",
    "    fc_layer2.backward_pass(loss_and_activation.deriv_inputs)\n",
    "    activation1.backward_pass(fc_layer2.deriv_inputs)\n",
    "    fc_layer1.backward_pass(activation1.deriv_inputs)\n",
    "    optimiser.pre_update()\n",
    "    optimiser.update(fc_layer1)\n",
    "    optimiser.update(fc_layer2)\n",
    "    optimiser.post_update()"
   ]
  },
  {
   "cell_type": "code",
   "execution_count": 106,
   "metadata": {},
   "outputs": [],
   "source": [
    "class Adam:\n",
    "    def __init__(self, lr=0.001, decay=0.0, epsilon=0.0000001, beta1=0.9, beta2=0.999):\n",
    "        self.lr = lr\n",
    "        self.current_lr = lr\n",
    "        self.decay = decay\n",
    "        self.iterations = 0\n",
    "        self.epsilon = epsilon\n",
    "        self.beta1 = beta1\n",
    "        self.beta2 = beta2\n",
    "\n",
    "    def pre_update(self):\n",
    "        if self.decay:\n",
    "            self.current_lr = self.lr * (1. / (1. + self.decay * self.iterations))\n",
    "\n",
    "    def update(self, layer):                                                                                    \n",
    "        if not hasattr(layer, 'w_cache'):                                                                                # if layer does not contain cache then fill with zeros\n",
    "            layer.w_momentums = np.zeros_like(layer.weights)\n",
    "            layer.w_cache = np.zeros_like(layer.weights)\n",
    "            layer.b_momentums = np.zeros_like(layer.biases)\n",
    "            layer.b_cache = np.zeros_like(layer.biases)\n",
    "        layer.w_momentums = self.beta1 * layer.w_momentums + (1 - self.beta1) * layer.deriv_weights                     # update momentum using derivatives\n",
    "        layer.b_momentums = self.beta1 * layer.b_momentums + (1 - self.beta1) * layer.deriv_biases\n",
    "        w_momentums_corrected = layer.w_momentums /(1-self.beta1 ** (self.iterations + 1))                              # iteration is 0 at first and we need to start with 1 so we correct\n",
    "        b_momentums_corrected = layer.b_momentums /(1-self.beta1 ** (self.iterations + 1))\n",
    "        layer.w_cache = self.beta2 * layer.w_cache + (1 - self.beta2) * layer.deriv_weights**2\n",
    "        layer.b_cache = self.beta2 * layer.b_cache + (1 - self.beta2) * layer.deriv_biases**2\n",
    "        w_cache_corrected = layer.w_cache / (1-self.beta2 ** (self.iterations + 1))                                     # correct cache too\n",
    "        b_cache_corrected = layer.b_cache / (1-self.beta2 ** (self.iterations + 1))\n",
    "        layer.weights += -self.current_lr * w_momentums_corrected / (np.sqrt(w_cache_corrected) + self.epsilon)           # do SGD\n",
    "        layer.biases += -self.current_lr * b_momentums_corrected / (np.sqrt(b_cache_corrected) + self.epsilon)\n",
    "\n",
    "    def post_update(self):\n",
    "        self.iterations += 1"
   ]
  },
  {
   "cell_type": "code",
   "execution_count": 107,
   "metadata": {},
   "outputs": [
    {
     "output_type": "stream",
     "name": "stdout",
     "text": [
      "Weights initialised at mean: -0.001, variance: 0.000, and dimensions: 2, 64\n",
      "Weights initialised at mean: 0.000, variance: 0.000, and dimensions: 64, 3\n",
      "epoch: 0, acc: 0.343, loss: 1.099 lr: 0.02 \n",
      "epoch: 100, acc: 0.667, loss: 0.848 lr: 0.01998021958261321 \n",
      "epoch: 200, acc: 0.710, loss: 0.670 lr: 0.019960279044701046 \n",
      "epoch: 300, acc: 0.790, loss: 0.548 lr: 0.019940378268975763 \n",
      "epoch: 400, acc: 0.820, loss: 0.479 lr: 0.01992051713662487 \n",
      "epoch: 500, acc: 0.847, loss: 0.425 lr: 0.01990069552930875 \n",
      "epoch: 600, acc: 0.863, loss: 0.396 lr: 0.019880913329158343 \n",
      "epoch: 700, acc: 0.867, loss: 0.370 lr: 0.019861170418772778 \n",
      "epoch: 800, acc: 0.860, loss: 0.351 lr: 0.019841466681217078 \n",
      "epoch: 900, acc: 0.883, loss: 0.330 lr: 0.01982180200001982 \n",
      "epoch: 1000, acc: 0.890, loss: 0.309 lr: 0.019802176259170884 \n",
      "epoch: 1100, acc: 0.897, loss: 0.294 lr: 0.01978258934311912 \n",
      "epoch: 1200, acc: 0.900, loss: 0.281 lr: 0.01976304113677013 \n",
      "epoch: 1300, acc: 0.900, loss: 0.270 lr: 0.019743531525483964 \n",
      "epoch: 1400, acc: 0.897, loss: 0.259 lr: 0.01972406039507293 \n",
      "epoch: 1500, acc: 0.900, loss: 0.251 lr: 0.019704627631799327 \n",
      "epoch: 1600, acc: 0.903, loss: 0.244 lr: 0.019685233122373254 \n",
      "epoch: 1700, acc: 0.907, loss: 0.236 lr: 0.019665876753950384 \n",
      "epoch: 1800, acc: 0.907, loss: 0.228 lr: 0.01964655841412981 \n",
      "epoch: 1900, acc: 0.913, loss: 0.225 lr: 0.019627277990951823 \n",
      "epoch: 2000, acc: 0.913, loss: 0.215 lr: 0.019608035372895814 \n",
      "epoch: 2100, acc: 0.927, loss: 0.207 lr: 0.01958883044887805 \n",
      "epoch: 2200, acc: 0.930, loss: 0.201 lr: 0.019569663108249594 \n",
      "epoch: 2300, acc: 0.923, loss: 0.196 lr: 0.01955053324079414 \n",
      "epoch: 2400, acc: 0.930, loss: 0.192 lr: 0.019531440736725945 \n",
      "epoch: 2500, acc: 0.930, loss: 0.187 lr: 0.019512385486687673 \n",
      "epoch: 2600, acc: 0.937, loss: 0.184 lr: 0.019493367381748363 \n",
      "epoch: 2700, acc: 0.933, loss: 0.181 lr: 0.019474386313401298 \n",
      "epoch: 2800, acc: 0.943, loss: 0.177 lr: 0.019455442173562 \n",
      "epoch: 2900, acc: 0.930, loss: 0.174 lr: 0.019436534854566128 \n",
      "epoch: 3000, acc: 0.927, loss: 0.171 lr: 0.01941766424916747 \n",
      "epoch: 3100, acc: 0.943, loss: 0.166 lr: 0.019398830250535893 \n",
      "epoch: 3200, acc: 0.940, loss: 0.163 lr: 0.019380032752255354 \n",
      "epoch: 3300, acc: 0.943, loss: 0.160 lr: 0.01936127164832186 \n",
      "epoch: 3400, acc: 0.930, loss: 0.158 lr: 0.01934254683314152 \n",
      "epoch: 3500, acc: 0.937, loss: 0.155 lr: 0.019323858201528515 \n",
      "epoch: 3600, acc: 0.947, loss: 0.152 lr: 0.019305205648703173 \n",
      "epoch: 3700, acc: 0.940, loss: 0.150 lr: 0.01928658907028997 \n",
      "epoch: 3800, acc: 0.943, loss: 0.148 lr: 0.01926800836231563 \n",
      "epoch: 3900, acc: 0.947, loss: 0.146 lr: 0.019249463421207133 \n",
      "epoch: 4000, acc: 0.947, loss: 0.146 lr: 0.019230954143789846 \n",
      "epoch: 4100, acc: 0.943, loss: 0.143 lr: 0.019212480427285565 \n",
      "epoch: 4200, acc: 0.943, loss: 0.141 lr: 0.019194042169310647 \n",
      "epoch: 4300, acc: 0.947, loss: 0.140 lr: 0.019175639267874092 \n",
      "epoch: 4400, acc: 0.943, loss: 0.138 lr: 0.019157271621375684 \n",
      "epoch: 4500, acc: 0.947, loss: 0.137 lr: 0.0191389391286041 \n",
      "epoch: 4600, acc: 0.950, loss: 0.136 lr: 0.019120641688735073 \n",
      "epoch: 4700, acc: 0.947, loss: 0.135 lr: 0.019102379201329525 \n",
      "epoch: 4800, acc: 0.950, loss: 0.133 lr: 0.01908415156633174 \n",
      "epoch: 4900, acc: 0.953, loss: 0.132 lr: 0.01906595868406753 \n",
      "epoch: 5000, acc: 0.950, loss: 0.133 lr: 0.01904780045524243 \n",
      "epoch: 5100, acc: 0.953, loss: 0.130 lr: 0.019029676780939874 \n",
      "epoch: 5200, acc: 0.953, loss: 0.129 lr: 0.019011587562619416 \n",
      "epoch: 5300, acc: 0.953, loss: 0.128 lr: 0.01899353270211493 \n",
      "epoch: 5400, acc: 0.950, loss: 0.134 lr: 0.018975512101632844 \n",
      "epoch: 5500, acc: 0.937, loss: 0.138 lr: 0.018957525663750367 \n",
      "epoch: 5600, acc: 0.957, loss: 0.125 lr: 0.018939573291413745 \n",
      "epoch: 5700, acc: 0.957, loss: 0.124 lr: 0.018921654887936498 \n",
      "epoch: 5800, acc: 0.953, loss: 0.125 lr: 0.018903770356997706 \n",
      "epoch: 5900, acc: 0.957, loss: 0.123 lr: 0.018885919602640248 \n",
      "epoch: 6000, acc: 0.957, loss: 0.122 lr: 0.018868102529269144 \n",
      "epoch: 6100, acc: 0.953, loss: 0.121 lr: 0.018850319041649778 \n",
      "epoch: 6200, acc: 0.950, loss: 0.132 lr: 0.018832569044906263 \n",
      "epoch: 6300, acc: 0.960, loss: 0.119 lr: 0.018814852444519702 \n",
      "epoch: 6400, acc: 0.957, loss: 0.119 lr: 0.018797169146326564 \n",
      "epoch: 6500, acc: 0.957, loss: 0.118 lr: 0.01877951905651696 \n",
      "epoch: 6600, acc: 0.960, loss: 0.118 lr: 0.018761902081633034 \n",
      "epoch: 6700, acc: 0.960, loss: 0.117 lr: 0.018744318128567278 \n",
      "epoch: 6800, acc: 0.957, loss: 0.116 lr: 0.018726767104560903 \n",
      "epoch: 6900, acc: 0.953, loss: 0.118 lr: 0.018709248917202218 \n",
      "epoch: 7000, acc: 0.960, loss: 0.115 lr: 0.018691763474424996 \n",
      "epoch: 7100, acc: 0.960, loss: 0.114 lr: 0.018674310684506857 \n",
      "epoch: 7200, acc: 0.957, loss: 0.111 lr: 0.01865689045606769 \n",
      "epoch: 7300, acc: 0.963, loss: 0.111 lr: 0.01863950269806802 \n",
      "epoch: 7400, acc: 0.957, loss: 0.108 lr: 0.018622147319807447 \n",
      "epoch: 7500, acc: 0.953, loss: 0.120 lr: 0.018604824230923075 \n",
      "epoch: 7600, acc: 0.960, loss: 0.107 lr: 0.01858753334138793 \n",
      "epoch: 7700, acc: 0.960, loss: 0.106 lr: 0.018570274561509396 \n",
      "epoch: 7800, acc: 0.960, loss: 0.105 lr: 0.018553047801927663 \n",
      "epoch: 7900, acc: 0.960, loss: 0.105 lr: 0.018535852973614212 \n",
      "epoch: 8000, acc: 0.960, loss: 0.105 lr: 0.01851868998787026 \n",
      "epoch: 8100, acc: 0.960, loss: 0.104 lr: 0.018501558756325222 \n",
      "epoch: 8200, acc: 0.960, loss: 0.104 lr: 0.01848445919093522 \n",
      "epoch: 8300, acc: 0.957, loss: 0.103 lr: 0.018467391203981567 \n",
      "epoch: 8400, acc: 0.960, loss: 0.102 lr: 0.018450354708069265 \n",
      "epoch: 8500, acc: 0.960, loss: 0.102 lr: 0.018433349616125496 \n",
      "epoch: 8600, acc: 0.960, loss: 0.102 lr: 0.018416375841398172 \n",
      "epoch: 8700, acc: 0.960, loss: 0.101 lr: 0.01839943329745444 \n",
      "epoch: 8800, acc: 0.960, loss: 0.101 lr: 0.01838252189817921 \n",
      "epoch: 8900, acc: 0.960, loss: 0.100 lr: 0.018365641557773718 \n",
      "epoch: 9000, acc: 0.960, loss: 0.100 lr: 0.018348792190754044 \n",
      "epoch: 9100, acc: 0.960, loss: 0.100 lr: 0.0183319737119497 \n",
      "epoch: 9200, acc: 0.960, loss: 0.099 lr: 0.018315186036502167 \n",
      "epoch: 9300, acc: 0.960, loss: 0.099 lr: 0.018298429079863496 \n",
      "epoch: 9400, acc: 0.957, loss: 0.099 lr: 0.018281702757794862 \n",
      "epoch: 9500, acc: 0.960, loss: 0.098 lr: 0.018265006986365174 \n",
      "epoch: 9600, acc: 0.960, loss: 0.098 lr: 0.018248341681949654 \n",
      "epoch: 9700, acc: 0.960, loss: 0.104 lr: 0.018231706761228456 \n",
      "epoch: 9800, acc: 0.960, loss: 0.098 lr: 0.018215102141185255 \n",
      "epoch: 9900, acc: 0.960, loss: 0.097 lr: 0.018198527739105907 \n",
      "epoch: 10000, acc: 0.963, loss: 0.098 lr: 0.018181983472577025 \n"
     ]
    }
   ],
   "source": [
    "# TESTING Adam\n",
    "fc_layer1 = FC_Layer(2, 64)\n",
    "activation1 = ReLU()\n",
    "fc_layer2 = FC_Layer(64, 3)\n",
    "loss_and_activation = Softmax_Classifier_Loss_CategoricalCrossEntropy()\n",
    "optimiser = Adam(lr=0.02, decay=0.00001)\n",
    "num_iterations = 10001\n",
    "for epoch in range(num_iterations):\n",
    "    fc_layer1.forward_pass(X)\n",
    "    activation1.forward_pass(fc_layer1.output)\n",
    "    fc_layer2.forward_pass(activation1.output)\n",
    "    loss = loss_and_activation.forward_pass(fc_layer2.output, y)\n",
    "\n",
    "    predictions = np.argmax(loss_and_activation.output, axis=1)\n",
    "    if len(y.shape) == 2:\n",
    "        y = np.argmax(y, axis=1)\n",
    "    accuracy = np.mean(predictions == y)\n",
    "    if not epoch % 100:\n",
    "        print(f'epoch: {epoch}, ' + f'acc: {accuracy:.3f}, ' + f'loss: {loss:.3f} ' \\\n",
    "        + f'lr: {optimiser.current_lr} ')\n",
    "\n",
    "    loss_and_activation.backward_pass(loss_and_activation.output, y)\n",
    "    fc_layer2.backward_pass(loss_and_activation.deriv_inputs)\n",
    "    activation1.backward_pass(fc_layer2.deriv_inputs)\n",
    "    fc_layer1.backward_pass(activation1.deriv_inputs)\n",
    "    optimiser.pre_update()\n",
    "    optimiser.update(fc_layer1)\n",
    "    optimiser.update(fc_layer2)\n",
    "    optimiser.post_update()"
   ]
  },
  {
   "cell_type": "code",
   "execution_count": null,
   "metadata": {},
   "outputs": [],
   "source": [
    "# TESTING Adam Part 2\n",
    "fc_layer1 = FC_Layer(2, 64)\n",
    "activation1 = ReLU()\n",
    "fc_layer2 = FC_Layer(64, 3)\n",
    "loss_and_activation = Softmax_Classifier_Loss_CategoricalCrossEntropy()\n",
    "optimiser = Adam(lr=0.05, decay=0.0000005)\n",
    "num_iterations = 10001\n",
    "for epoch in range(num_iterations):\n",
    "    fc_layer1.forward_pass(X_train)\n",
    "    activation1.forward_pass(fc_layer1.output)\n",
    "    fc_layer2.forward_pass(activation1.output)\n",
    "    loss = loss_and_activation.forward_pass(fc_layer2.output, y)\n",
    "\n",
    "    predictions = np.argmax(loss_and_activation.output, axis=1)\n",
    "    if len(y.shape) == 2:\n",
    "        y = np.argmax(y, axis=1)\n",
    "    accuracy = np.mean(predictions == y)\n",
    "    if not epoch % 100:\n",
    "        print(f'epoch: {epoch}, ' + f'acc: {accuracy:.3f}, ' + f'loss: {loss:.3f} ' \\\n",
    "        + f'lr: {optimiser.current_lr} ')\n",
    "\n",
    "    loss_and_activation.backward_pass(loss_and_activation.output, y_train)\n",
    "    fc_layer2.backward_pass(loss_and_activation.deriv_inputs)\n",
    "    activation1.backward_pass(fc_layer2.deriv_inputs)\n",
    "    fc_layer1.backward_pass(activation1.deriv_inputs)\n",
    "    optimiser.pre_update()\n",
    "    optimiser.update(fc_layer1)\n",
    "    optimiser.update(fc_layer2)\n",
    "    optimiser.post_update()"
   ]
  },
  {
   "cell_type": "code",
   "execution_count": null,
   "metadata": {},
   "outputs": [],
   "source": [
    "class Accuracy:\n",
    "    def __init__(self):"
   ]
  },
  {
   "cell_type": "code",
   "execution_count": null,
   "metadata": {},
   "outputs": [],
   "source": [
    "class NeuralNetwork:\n",
    "    def __init__(self):\n",
    "        self.layers = [] #will pass through the different layer objects\n",
    "    \n",
    "    def add(self, layer): # adds a layer to the network\n",
    "        self.layers.append(layer)\n",
    "\n",
    "    def set_params(self, loss=False, optimiser=False, accuracy=False):\n",
    "        if loss == True:\n",
    "            self.loss = loss\n",
    "        \n",
    "        if optimiser == True:\n",
    "            self.optimiser = optimiser \n",
    "\n",
    "        if accuracy == True:\n",
    "            self.accuracy = accuracy"
   ]
  },
  {
   "cell_type": "code",
   "execution_count": null,
   "metadata": {},
   "outputs": [],
   "source": [
    "#When we run the NN we want to add layers of different types to it, be able to set the optimiser of choice and evaluate the NN"
   ]
  }
 ]
}